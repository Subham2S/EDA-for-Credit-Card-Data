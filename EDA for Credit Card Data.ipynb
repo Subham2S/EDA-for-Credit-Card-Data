{
 "cells": [
  {
   "cell_type": "code",
   "execution_count": null,
   "id": "214286d7",
   "metadata": {},
   "outputs": [],
   "source": []
  },
  {
   "cell_type": "markdown",
   "id": "4735f391",
   "metadata": {},
   "source": [
    "# Importing packages"
   ]
  },
  {
   "cell_type": "code",
   "execution_count": 1,
   "id": "e4f6a334",
   "metadata": {
    "ExecuteTime": {
     "end_time": "2022-09-17T22:39:00.468953Z",
     "start_time": "2022-09-17T22:38:59.225481Z"
    }
   },
   "outputs": [],
   "source": [
    "import pandas as pd\n",
    "import numpy as np\n",
    "import matplotlib.pyplot as plt\n",
    "import matplotlib.patheffects as path_effects\n",
    "import seaborn as sns\n",
    "import warnings\n",
    "\n",
    "%matplotlib inline\n",
    "sns.set(style='ticks', font_scale=1.2)\n",
    "warnings.filterwarnings('ignore')"
   ]
  },
  {
   "cell_type": "markdown",
   "id": "bac929b0",
   "metadata": {},
   "source": [
    "# Data Ingestion"
   ]
  },
  {
   "cell_type": "markdown",
   "id": "4e8128e5",
   "metadata": {},
   "source": [
    "## Loading data "
   ]
  },
  {
   "cell_type": "code",
   "execution_count": 2,
   "id": "c8ef2e91",
   "metadata": {
    "ExecuteTime": {
     "end_time": "2022-09-17T22:39:00.872041Z",
     "start_time": "2022-09-17T22:39:00.470051Z"
    }
   },
   "outputs": [
    {
     "name": "stdout",
     "output_type": "stream",
     "text": [
      "Source : Excel\n"
     ]
    }
   ],
   "source": [
    "try :\n",
    "    ca = pd.read_excel('./Credit Card Data.xlsx', sheet_name='Customer Acqusition')\n",
    "    r = pd.read_excel('./Credit Card Data.xlsx', sheet_name='Repayment')\n",
    "    s = pd.read_excel('./Credit Card Data.xlsx', sheet_name='Spend')\n",
    "    print('Source : Excel')\n",
    "except :\n",
    "    ca = pd.read_csv('./Customer Acqusition.csv')\n",
    "    r = pd.read_csv('./Repayment.csv')\n",
    "    s = pd.read_csv('./spend.csv')\n",
    "    print('Source : CSV')"
   ]
  },
  {
   "cell_type": "markdown",
   "id": "bb85a505",
   "metadata": {},
   "source": [
    "### Customer Acquisition"
   ]
  },
  {
   "cell_type": "code",
   "execution_count": 3,
   "id": "a777e1ac",
   "metadata": {
    "ExecuteTime": {
     "end_time": "2022-09-17T22:39:00.887468Z",
     "start_time": "2022-09-17T22:39:00.873272Z"
    },
    "scrolled": true
   },
   "outputs": [
    {
     "name": "stdout",
     "output_type": "stream",
     "text": [
      "<class 'pandas.core.frame.DataFrame'>\n",
      "RangeIndex: 100 entries, 0 to 99\n",
      "Data columns (total 8 columns):\n",
      " #   Column    Non-Null Count  Dtype  \n",
      "---  ------    --------------  -----  \n",
      " 0   No        100 non-null    int64  \n",
      " 1   Customer  100 non-null    object \n",
      " 2   Age       100 non-null    float64\n",
      " 3   City      100 non-null    object \n",
      " 4   Product   100 non-null    object \n",
      " 5   Limit     100 non-null    int64  \n",
      " 6   Company   100 non-null    object \n",
      " 7   Segment   100 non-null    object \n",
      "dtypes: float64(1), int64(2), object(5)\n",
      "memory usage: 6.4+ KB\n"
     ]
    }
   ],
   "source": [
    "ca.info()"
   ]
  },
  {
   "cell_type": "code",
   "execution_count": 4,
   "id": "1570f673",
   "metadata": {
    "ExecuteTime": {
     "end_time": "2022-09-17T22:39:00.903227Z",
     "start_time": "2022-09-17T22:39:00.889538Z"
    }
   },
   "outputs": [
    {
     "data": {
      "text/html": [
       "<div>\n",
       "<style scoped>\n",
       "    .dataframe tbody tr th:only-of-type {\n",
       "        vertical-align: middle;\n",
       "    }\n",
       "\n",
       "    .dataframe tbody tr th {\n",
       "        vertical-align: top;\n",
       "    }\n",
       "\n",
       "    .dataframe thead th {\n",
       "        text-align: right;\n",
       "    }\n",
       "</style>\n",
       "<table border=\"1\" class=\"dataframe\">\n",
       "  <thead>\n",
       "    <tr style=\"text-align: right;\">\n",
       "      <th></th>\n",
       "      <th>No</th>\n",
       "      <th>Customer</th>\n",
       "      <th>Age</th>\n",
       "      <th>City</th>\n",
       "      <th>Product</th>\n",
       "      <th>Limit</th>\n",
       "      <th>Company</th>\n",
       "      <th>Segment</th>\n",
       "    </tr>\n",
       "  </thead>\n",
       "  <tbody>\n",
       "    <tr>\n",
       "      <th>0</th>\n",
       "      <td>1</td>\n",
       "      <td>A1</td>\n",
       "      <td>19.389224</td>\n",
       "      <td>BANGALORE</td>\n",
       "      <td>Gold</td>\n",
       "      <td>500000</td>\n",
       "      <td>C1</td>\n",
       "      <td>Self Employed</td>\n",
       "    </tr>\n",
       "    <tr>\n",
       "      <th>1</th>\n",
       "      <td>2</td>\n",
       "      <td>A2</td>\n",
       "      <td>27.422016</td>\n",
       "      <td>CALCUTTA</td>\n",
       "      <td>Silver</td>\n",
       "      <td>100000</td>\n",
       "      <td>C2</td>\n",
       "      <td>Salaried_MNC</td>\n",
       "    </tr>\n",
       "    <tr>\n",
       "      <th>2</th>\n",
       "      <td>3</td>\n",
       "      <td>A3</td>\n",
       "      <td>76.317327</td>\n",
       "      <td>COCHIN</td>\n",
       "      <td>Platimum</td>\n",
       "      <td>10000</td>\n",
       "      <td>C3</td>\n",
       "      <td>Salaried_Pvt</td>\n",
       "    </tr>\n",
       "    <tr>\n",
       "      <th>3</th>\n",
       "      <td>4</td>\n",
       "      <td>A4</td>\n",
       "      <td>69.117125</td>\n",
       "      <td>BOMBAY</td>\n",
       "      <td>Platimum</td>\n",
       "      <td>10001</td>\n",
       "      <td>C4</td>\n",
       "      <td>Govt</td>\n",
       "    </tr>\n",
       "    <tr>\n",
       "      <th>4</th>\n",
       "      <td>5</td>\n",
       "      <td>A5</td>\n",
       "      <td>43.681079</td>\n",
       "      <td>BANGALORE</td>\n",
       "      <td>Platimum</td>\n",
       "      <td>10002</td>\n",
       "      <td>C5</td>\n",
       "      <td>Normal Salary</td>\n",
       "    </tr>\n",
       "  </tbody>\n",
       "</table>\n",
       "</div>"
      ],
      "text/plain": [
       "   No Customer        Age       City   Product   Limit Company        Segment\n",
       "0   1       A1  19.389224  BANGALORE      Gold  500000      C1  Self Employed\n",
       "1   2       A2  27.422016   CALCUTTA    Silver  100000      C2   Salaried_MNC\n",
       "2   3       A3  76.317327     COCHIN  Platimum   10000      C3   Salaried_Pvt\n",
       "3   4       A4  69.117125     BOMBAY  Platimum   10001      C4           Govt\n",
       "4   5       A5  43.681079  BANGALORE  Platimum   10002      C5  Normal Salary"
      ]
     },
     "execution_count": 4,
     "metadata": {},
     "output_type": "execute_result"
    }
   ],
   "source": [
    "ca.head()"
   ]
  },
  {
   "cell_type": "code",
   "execution_count": 5,
   "id": "e83fdadf",
   "metadata": {
    "ExecuteTime": {
     "end_time": "2022-09-17T22:39:00.918212Z",
     "start_time": "2022-09-17T22:39:00.904477Z"
    }
   },
   "outputs": [],
   "source": [
    "# Fixing column names\n",
    "ca.columns = ca.columns.str.lower().str.strip()"
   ]
  },
  {
   "cell_type": "code",
   "execution_count": 6,
   "id": "028055ff",
   "metadata": {
    "ExecuteTime": {
     "end_time": "2022-09-17T22:39:00.933398Z",
     "start_time": "2022-09-17T22:39:00.919278Z"
    }
   },
   "outputs": [
    {
     "data": {
      "text/plain": [
       "no          0\n",
       "customer    0\n",
       "age         0\n",
       "city        0\n",
       "product     0\n",
       "limit       0\n",
       "company     0\n",
       "segment     0\n",
       "dtype: int64"
      ]
     },
     "execution_count": 6,
     "metadata": {},
     "output_type": "execute_result"
    }
   ],
   "source": [
    "ca.isnull().sum()"
   ]
  },
  {
   "cell_type": "code",
   "execution_count": 7,
   "id": "f5d8d879",
   "metadata": {
    "ExecuteTime": {
     "end_time": "2022-09-17T22:39:00.949081Z",
     "start_time": "2022-09-17T22:39:00.934598Z"
    }
   },
   "outputs": [
    {
     "name": "stdout",
     "output_type": "stream",
     "text": [
      "(100, 8)\n",
      "(100, 8)\n"
     ]
    }
   ],
   "source": [
    "print(ca.shape)\n",
    "ca.drop_duplicates(inplace=True)\n",
    "print(ca.shape)"
   ]
  },
  {
   "cell_type": "markdown",
   "id": "fe4e5c1d",
   "metadata": {},
   "source": [
    "### Repayment"
   ]
  },
  {
   "cell_type": "code",
   "execution_count": 8,
   "id": "6cbb1a57",
   "metadata": {
    "ExecuteTime": {
     "end_time": "2022-09-17T22:39:00.964337Z",
     "start_time": "2022-09-17T22:39:00.950276Z"
    }
   },
   "outputs": [
    {
     "name": "stdout",
     "output_type": "stream",
     "text": [
      "<class 'pandas.core.frame.DataFrame'>\n",
      "RangeIndex: 1500 entries, 0 to 1499\n",
      "Data columns (total 4 columns):\n",
      " #   Column    Non-Null Count  Dtype         \n",
      "---  ------    --------------  -----         \n",
      " 0   SL No:    1500 non-null   int64         \n",
      " 1   Customer  1500 non-null   object        \n",
      " 2   Month     1500 non-null   datetime64[ns]\n",
      " 3   Amount    1500 non-null   float64       \n",
      "dtypes: datetime64[ns](1), float64(1), int64(1), object(1)\n",
      "memory usage: 47.0+ KB\n"
     ]
    }
   ],
   "source": [
    "r.info()"
   ]
  },
  {
   "cell_type": "code",
   "execution_count": 9,
   "id": "57860256",
   "metadata": {
    "ExecuteTime": {
     "end_time": "2022-09-17T22:39:00.980412Z",
     "start_time": "2022-09-17T22:39:00.965333Z"
    }
   },
   "outputs": [
    {
     "data": {
      "text/html": [
       "<div>\n",
       "<style scoped>\n",
       "    .dataframe tbody tr th:only-of-type {\n",
       "        vertical-align: middle;\n",
       "    }\n",
       "\n",
       "    .dataframe tbody tr th {\n",
       "        vertical-align: top;\n",
       "    }\n",
       "\n",
       "    .dataframe thead th {\n",
       "        text-align: right;\n",
       "    }\n",
       "</style>\n",
       "<table border=\"1\" class=\"dataframe\">\n",
       "  <thead>\n",
       "    <tr style=\"text-align: right;\">\n",
       "      <th></th>\n",
       "      <th>SL No:</th>\n",
       "      <th>Customer</th>\n",
       "      <th>Month</th>\n",
       "      <th>Amount</th>\n",
       "    </tr>\n",
       "  </thead>\n",
       "  <tbody>\n",
       "    <tr>\n",
       "      <th>0</th>\n",
       "      <td>1</td>\n",
       "      <td>A1</td>\n",
       "      <td>2004-01-12</td>\n",
       "      <td>338932.141919</td>\n",
       "    </tr>\n",
       "    <tr>\n",
       "      <th>1</th>\n",
       "      <td>2</td>\n",
       "      <td>A1</td>\n",
       "      <td>2004-01-03</td>\n",
       "      <td>131778.688758</td>\n",
       "    </tr>\n",
       "    <tr>\n",
       "      <th>2</th>\n",
       "      <td>3</td>\n",
       "      <td>A1</td>\n",
       "      <td>2004-01-15</td>\n",
       "      <td>485981.516736</td>\n",
       "    </tr>\n",
       "    <tr>\n",
       "      <th>3</th>\n",
       "      <td>4</td>\n",
       "      <td>A1</td>\n",
       "      <td>2004-01-25</td>\n",
       "      <td>452865.826385</td>\n",
       "    </tr>\n",
       "    <tr>\n",
       "      <th>4</th>\n",
       "      <td>5</td>\n",
       "      <td>A1</td>\n",
       "      <td>2005-01-17</td>\n",
       "      <td>154684.838196</td>\n",
       "    </tr>\n",
       "  </tbody>\n",
       "</table>\n",
       "</div>"
      ],
      "text/plain": [
       "   SL No: Customer      Month         Amount\n",
       "0       1       A1 2004-01-12  338932.141919\n",
       "1       2       A1 2004-01-03  131778.688758\n",
       "2       3       A1 2004-01-15  485981.516736\n",
       "3       4       A1 2004-01-25  452865.826385\n",
       "4       5       A1 2005-01-17  154684.838196"
      ]
     },
     "execution_count": 9,
     "metadata": {},
     "output_type": "execute_result"
    }
   ],
   "source": [
    "r.head()"
   ]
  },
  {
   "cell_type": "code",
   "execution_count": 10,
   "id": "bdeade02",
   "metadata": {
    "ExecuteTime": {
     "end_time": "2022-09-17T22:39:00.996005Z",
     "start_time": "2022-09-17T22:39:00.982929Z"
    }
   },
   "outputs": [],
   "source": [
    "# Fixing column names\n",
    "r.columns = r.columns.str.lower().str.strip().str.replace(' ', '_').str.replace(':', '')\n",
    "r.rename(columns={'month' : 'r_date', 'amount' : 'r_amount'}, inplace=True)"
   ]
  },
  {
   "cell_type": "code",
   "execution_count": 11,
   "id": "75a3e95d",
   "metadata": {
    "ExecuteTime": {
     "end_time": "2022-09-17T22:39:01.011344Z",
     "start_time": "2022-09-17T22:39:00.997463Z"
    }
   },
   "outputs": [
    {
     "data": {
      "text/plain": [
       "sl_no       0\n",
       "customer    0\n",
       "r_date      0\n",
       "r_amount    0\n",
       "dtype: int64"
      ]
     },
     "execution_count": 11,
     "metadata": {},
     "output_type": "execute_result"
    }
   ],
   "source": [
    "r.isnull().sum()"
   ]
  },
  {
   "cell_type": "code",
   "execution_count": 12,
   "id": "fbc5e997",
   "metadata": {
    "ExecuteTime": {
     "end_time": "2022-09-17T22:39:01.026968Z",
     "start_time": "2022-09-17T22:39:01.012901Z"
    }
   },
   "outputs": [
    {
     "name": "stdout",
     "output_type": "stream",
     "text": [
      "(1500, 4)\n",
      "(1500, 4)\n"
     ]
    }
   ],
   "source": [
    "print(r.shape)\n",
    "r.drop_duplicates(inplace=True)\n",
    "print(r.shape)"
   ]
  },
  {
   "cell_type": "markdown",
   "id": "00b2bad2",
   "metadata": {
    "ExecuteTime": {
     "end_time": "2022-09-17T09:28:38.073821Z",
     "start_time": "2022-09-17T09:28:38.026273Z"
    }
   },
   "source": [
    "### Spend"
   ]
  },
  {
   "cell_type": "code",
   "execution_count": 13,
   "id": "a65c7f9c",
   "metadata": {
    "ExecuteTime": {
     "end_time": "2022-09-17T22:39:01.042073Z",
     "start_time": "2022-09-17T22:39:01.027997Z"
    }
   },
   "outputs": [
    {
     "name": "stdout",
     "output_type": "stream",
     "text": [
      "<class 'pandas.core.frame.DataFrame'>\n",
      "RangeIndex: 1500 entries, 0 to 1499\n",
      "Data columns (total 5 columns):\n",
      " #   Column    Non-Null Count  Dtype         \n",
      "---  ------    --------------  -----         \n",
      " 0   Sl No:    1500 non-null   int64         \n",
      " 1   Customer  1500 non-null   object        \n",
      " 2   Month     1500 non-null   datetime64[ns]\n",
      " 3   Type      1500 non-null   object        \n",
      " 4   Amount    1500 non-null   float64       \n",
      "dtypes: datetime64[ns](1), float64(1), int64(1), object(2)\n",
      "memory usage: 58.7+ KB\n"
     ]
    }
   ],
   "source": [
    "s.info()"
   ]
  },
  {
   "cell_type": "code",
   "execution_count": 14,
   "id": "133dc7d9",
   "metadata": {
    "ExecuteTime": {
     "end_time": "2022-09-17T22:39:01.057582Z",
     "start_time": "2022-09-17T22:39:01.043603Z"
    }
   },
   "outputs": [
    {
     "data": {
      "text/html": [
       "<div>\n",
       "<style scoped>\n",
       "    .dataframe tbody tr th:only-of-type {\n",
       "        vertical-align: middle;\n",
       "    }\n",
       "\n",
       "    .dataframe tbody tr th {\n",
       "        vertical-align: top;\n",
       "    }\n",
       "\n",
       "    .dataframe thead th {\n",
       "        text-align: right;\n",
       "    }\n",
       "</style>\n",
       "<table border=\"1\" class=\"dataframe\">\n",
       "  <thead>\n",
       "    <tr style=\"text-align: right;\">\n",
       "      <th></th>\n",
       "      <th>Sl No:</th>\n",
       "      <th>Customer</th>\n",
       "      <th>Month</th>\n",
       "      <th>Type</th>\n",
       "      <th>Amount</th>\n",
       "    </tr>\n",
       "  </thead>\n",
       "  <tbody>\n",
       "    <tr>\n",
       "      <th>0</th>\n",
       "      <td>1</td>\n",
       "      <td>A1</td>\n",
       "      <td>2004-01-12</td>\n",
       "      <td>JEWELLERY</td>\n",
       "      <td>344054.980813</td>\n",
       "    </tr>\n",
       "    <tr>\n",
       "      <th>1</th>\n",
       "      <td>2</td>\n",
       "      <td>A1</td>\n",
       "      <td>2004-01-03</td>\n",
       "      <td>PETRO</td>\n",
       "      <td>467747.601626</td>\n",
       "    </tr>\n",
       "    <tr>\n",
       "      <th>2</th>\n",
       "      <td>3</td>\n",
       "      <td>A1</td>\n",
       "      <td>2004-01-15</td>\n",
       "      <td>CLOTHES</td>\n",
       "      <td>86878.954735</td>\n",
       "    </tr>\n",
       "    <tr>\n",
       "      <th>3</th>\n",
       "      <td>4</td>\n",
       "      <td>A1</td>\n",
       "      <td>2004-01-25</td>\n",
       "      <td>FOOD</td>\n",
       "      <td>269175.011875</td>\n",
       "    </tr>\n",
       "    <tr>\n",
       "      <th>4</th>\n",
       "      <td>5</td>\n",
       "      <td>A1</td>\n",
       "      <td>2005-01-17</td>\n",
       "      <td>CAMERA</td>\n",
       "      <td>3406.639477</td>\n",
       "    </tr>\n",
       "  </tbody>\n",
       "</table>\n",
       "</div>"
      ],
      "text/plain": [
       "   Sl No: Customer      Month       Type         Amount\n",
       "0       1       A1 2004-01-12  JEWELLERY  344054.980813\n",
       "1       2       A1 2004-01-03      PETRO  467747.601626\n",
       "2       3       A1 2004-01-15    CLOTHES   86878.954735\n",
       "3       4       A1 2004-01-25       FOOD  269175.011875\n",
       "4       5       A1 2005-01-17     CAMERA    3406.639477"
      ]
     },
     "execution_count": 14,
     "metadata": {},
     "output_type": "execute_result"
    }
   ],
   "source": [
    "s.head()"
   ]
  },
  {
   "cell_type": "code",
   "execution_count": 15,
   "id": "a0af6d78",
   "metadata": {
    "ExecuteTime": {
     "end_time": "2022-09-17T22:39:01.073158Z",
     "start_time": "2022-09-17T22:39:01.059086Z"
    }
   },
   "outputs": [],
   "source": [
    "# Fixing column names\n",
    "s.columns = s.columns.str.lower().str.strip().str.replace(' ', '_').str.replace(':', '')\n",
    "s.rename(columns={'month' : 's_date', 'amount' : 's_amount'}, inplace=True)"
   ]
  },
  {
   "cell_type": "code",
   "execution_count": 16,
   "id": "9f113699",
   "metadata": {
    "ExecuteTime": {
     "end_time": "2022-09-17T22:39:01.089186Z",
     "start_time": "2022-09-17T22:39:01.074184Z"
    }
   },
   "outputs": [
    {
     "data": {
      "text/plain": [
       "sl_no       0\n",
       "customer    0\n",
       "s_date      0\n",
       "type        0\n",
       "s_amount    0\n",
       "dtype: int64"
      ]
     },
     "execution_count": 16,
     "metadata": {},
     "output_type": "execute_result"
    }
   ],
   "source": [
    "s.isnull().sum()"
   ]
  },
  {
   "cell_type": "code",
   "execution_count": 17,
   "id": "cae0dd73",
   "metadata": {
    "ExecuteTime": {
     "end_time": "2022-09-17T22:39:01.104791Z",
     "start_time": "2022-09-17T22:39:01.090184Z"
    }
   },
   "outputs": [
    {
     "name": "stdout",
     "output_type": "stream",
     "text": [
      "(1500, 5)\n",
      "(1500, 5)\n"
     ]
    }
   ],
   "source": [
    "print(s.shape)\n",
    "s.drop_duplicates(inplace=True)\n",
    "print(s.shape)"
   ]
  },
  {
   "cell_type": "markdown",
   "id": "7d7dff20",
   "metadata": {},
   "source": [
    "## Creating Final Tables"
   ]
  },
  {
   "cell_type": "code",
   "execution_count": 18,
   "id": "28b06678",
   "metadata": {
    "ExecuteTime": {
     "end_time": "2022-09-17T22:39:01.119915Z",
     "start_time": "2022-09-17T22:39:01.106911Z"
    }
   },
   "outputs": [],
   "source": [
    "df_r = pd.merge(r, ca, on='customer', how='left')\n",
    "df_s = pd.merge(s, ca, on='customer', how='left')"
   ]
  },
  {
   "cell_type": "code",
   "execution_count": 19,
   "id": "99a087e9",
   "metadata": {
    "ExecuteTime": {
     "end_time": "2022-09-17T22:39:01.135969Z",
     "start_time": "2022-09-17T22:39:01.120917Z"
    }
   },
   "outputs": [
    {
     "data": {
      "text/plain": [
       "((1500, 11), 100, (1500, 12), 100)"
      ]
     },
     "execution_count": 19,
     "metadata": {},
     "output_type": "execute_result"
    }
   ],
   "source": [
    "df_r.shape, df_r.customer.nunique(), df_s.shape, df_s.customer.nunique()"
   ]
  },
  {
   "cell_type": "markdown",
   "id": "dee0d604",
   "metadata": {},
   "source": [
    "<p style=\"background-color:Blue; color:White; text-align: center; font-size:16px; font-family:Monospace\"><b>\n",
    "##################################<br>\n",
    "## Data Ingestion is completed. ##<br>\n",
    "##################################\n",
    "</p>\n"
   ]
  },
  {
   "cell_type": "markdown",
   "id": "1e374878",
   "metadata": {},
   "source": [
    "# Exploratory Data Analysis"
   ]
  },
  {
   "cell_type": "markdown",
   "id": "d2d41ef1",
   "metadata": {},
   "source": [
    "## Q1\n",
    "> 1. In the above dataset,\n",
    "     - a. In case age is less than 18, replace it with mean of age values. <br>\n",
    "     - b. In case spend amount is more than the limit, replace it with 50% of that customer’s limit. (customer’s limit provided in acquisition table is the per transaction limit on his card)<br>\n",
    "     - c. Incase the repayment amount is more than the limit, replace the repayment with the\n",
    "limit."
   ]
  },
  {
   "cell_type": "markdown",
   "id": "517dd734",
   "metadata": {},
   "source": [
    "### a. In case age is less than 18, replace it with mean of age values. "
   ]
  },
  {
   "cell_type": "code",
   "execution_count": 20,
   "id": "27389009",
   "metadata": {
    "ExecuteTime": {
     "end_time": "2022-09-17T22:39:01.384786Z",
     "start_time": "2022-09-17T22:39:01.137354Z"
    },
    "scrolled": false
   },
   "outputs": [
    {
     "name": "stdout",
     "output_type": "stream",
     "text": [
      "21\n",
      "0\n"
     ]
    }
   ],
   "source": [
    "print(ca.age[ca.age < 18].count())\n",
    "ca.age[ca.age < 18] = ca.age.mean()\n",
    "df_s.age[df_s.age < 18] = ca.age.mean()\n",
    "df_r.age[df_r.age < 18] = ca.age.mean()\n",
    "print(ca.age[ca.age < 18].count())"
   ]
  },
  {
   "cell_type": "markdown",
   "id": "2f6d500e",
   "metadata": {},
   "source": [
    "### b. In case spend amount is more than the limit, replace it with 50% of that customer’s limit."
   ]
  },
  {
   "cell_type": "code",
   "execution_count": 21,
   "id": "c9fe8271",
   "metadata": {
    "ExecuteTime": {
     "end_time": "2022-09-17T22:39:01.430561Z",
     "start_time": "2022-09-17T22:39:01.386788Z"
    },
    "scrolled": false
   },
   "outputs": [
    {
     "data": {
      "text/html": [
       "<div>\n",
       "<style scoped>\n",
       "    .dataframe tbody tr th:only-of-type {\n",
       "        vertical-align: middle;\n",
       "    }\n",
       "\n",
       "    .dataframe tbody tr th {\n",
       "        vertical-align: top;\n",
       "    }\n",
       "\n",
       "    .dataframe thead th {\n",
       "        text-align: right;\n",
       "    }\n",
       "</style>\n",
       "<table border=\"1\" class=\"dataframe\">\n",
       "  <thead>\n",
       "    <tr style=\"text-align: right;\">\n",
       "      <th></th>\n",
       "      <th>sl_no</th>\n",
       "      <th>customer</th>\n",
       "      <th>s_date</th>\n",
       "      <th>type</th>\n",
       "      <th>s_amount</th>\n",
       "      <th>no</th>\n",
       "      <th>age</th>\n",
       "      <th>city</th>\n",
       "      <th>product</th>\n",
       "      <th>limit</th>\n",
       "      <th>company</th>\n",
       "      <th>segment</th>\n",
       "    </tr>\n",
       "  </thead>\n",
       "  <tbody>\n",
       "    <tr>\n",
       "      <th>7</th>\n",
       "      <td>8</td>\n",
       "      <td>A8</td>\n",
       "      <td>2004-02-05</td>\n",
       "      <td>BIKE</td>\n",
       "      <td>50001.0</td>\n",
       "      <td>8</td>\n",
       "      <td>59.680951</td>\n",
       "      <td>PATNA</td>\n",
       "      <td>Silver</td>\n",
       "      <td>100002</td>\n",
       "      <td>C8</td>\n",
       "      <td>Salaried_Pvt</td>\n",
       "    </tr>\n",
       "    <tr>\n",
       "      <th>8</th>\n",
       "      <td>9</td>\n",
       "      <td>A9</td>\n",
       "      <td>2005-02-28</td>\n",
       "      <td>AUTO</td>\n",
       "      <td>50001.5</td>\n",
       "      <td>9</td>\n",
       "      <td>62.643850</td>\n",
       "      <td>CHENNAI</td>\n",
       "      <td>Silver</td>\n",
       "      <td>100003</td>\n",
       "      <td>C9</td>\n",
       "      <td>Govt</td>\n",
       "    </tr>\n",
       "    <tr>\n",
       "      <th>17</th>\n",
       "      <td>18</td>\n",
       "      <td>A18</td>\n",
       "      <td>2006-03-05</td>\n",
       "      <td>CLOTHES</td>\n",
       "      <td>50000.0</td>\n",
       "      <td>18</td>\n",
       "      <td>34.569904</td>\n",
       "      <td>BANGALORE</td>\n",
       "      <td>Silver</td>\n",
       "      <td>100000</td>\n",
       "      <td>C18</td>\n",
       "      <td>Salaried_MNC</td>\n",
       "    </tr>\n",
       "    <tr>\n",
       "      <th>18</th>\n",
       "      <td>19</td>\n",
       "      <td>A19</td>\n",
       "      <td>2005-04-04</td>\n",
       "      <td>FOOD</td>\n",
       "      <td>5000.0</td>\n",
       "      <td>19</td>\n",
       "      <td>46.898875</td>\n",
       "      <td>BANGALORE</td>\n",
       "      <td>Platimum</td>\n",
       "      <td>10000</td>\n",
       "      <td>C19</td>\n",
       "      <td>Salaried_Pvt</td>\n",
       "    </tr>\n",
       "    <tr>\n",
       "      <th>19</th>\n",
       "      <td>20</td>\n",
       "      <td>A20</td>\n",
       "      <td>2006-04-30</td>\n",
       "      <td>JEWELLERY</td>\n",
       "      <td>5000.5</td>\n",
       "      <td>20</td>\n",
       "      <td>58.209974</td>\n",
       "      <td>CALCUTTA</td>\n",
       "      <td>Platimum</td>\n",
       "      <td>10001</td>\n",
       "      <td>C20</td>\n",
       "      <td>Govt</td>\n",
       "    </tr>\n",
       "  </tbody>\n",
       "</table>\n",
       "</div>"
      ],
      "text/plain": [
       "    sl_no customer     s_date       type  s_amount  no        age       city  \\\n",
       "7       8       A8 2004-02-05       BIKE   50001.0   8  59.680951      PATNA   \n",
       "8       9       A9 2005-02-28       AUTO   50001.5   9  62.643850    CHENNAI   \n",
       "17     18      A18 2006-03-05    CLOTHES   50000.0  18  34.569904  BANGALORE   \n",
       "18     19      A19 2005-04-04       FOOD    5000.0  19  46.898875  BANGALORE   \n",
       "19     20      A20 2006-04-30  JEWELLERY    5000.5  20  58.209974   CALCUTTA   \n",
       "\n",
       "     product   limit company       segment  \n",
       "7     Silver  100002      C8  Salaried_Pvt  \n",
       "8     Silver  100003      C9          Govt  \n",
       "17    Silver  100000     C18  Salaried_MNC  \n",
       "18  Platimum   10000     C19  Salaried_Pvt  \n",
       "19  Platimum   10001     C20          Govt  "
      ]
     },
     "execution_count": 21,
     "metadata": {},
     "output_type": "execute_result"
    }
   ],
   "source": [
    "df_s.s_amount = df_s.apply(lambda x: x.limit * 0.5\n",
    "                       if x.s_amount > x.limit \n",
    "                       else x.s_amount,\n",
    "                       axis=1)\n",
    "df_s[df_s.s_amount == df_s.limit / 2].head()"
   ]
  },
  {
   "cell_type": "markdown",
   "id": "e93835b8",
   "metadata": {},
   "source": [
    "### c. In case the repayment amount is more than the limit, replace the repayment with the limit."
   ]
  },
  {
   "cell_type": "code",
   "execution_count": 22,
   "id": "cf63ee16",
   "metadata": {
    "ExecuteTime": {
     "end_time": "2022-09-17T22:39:01.477211Z",
     "start_time": "2022-09-17T22:39:01.432071Z"
    }
   },
   "outputs": [
    {
     "data": {
      "text/html": [
       "<div>\n",
       "<style scoped>\n",
       "    .dataframe tbody tr th:only-of-type {\n",
       "        vertical-align: middle;\n",
       "    }\n",
       "\n",
       "    .dataframe tbody tr th {\n",
       "        vertical-align: top;\n",
       "    }\n",
       "\n",
       "    .dataframe thead th {\n",
       "        text-align: right;\n",
       "    }\n",
       "</style>\n",
       "<table border=\"1\" class=\"dataframe\">\n",
       "  <thead>\n",
       "    <tr style=\"text-align: right;\">\n",
       "      <th></th>\n",
       "      <th>sl_no</th>\n",
       "      <th>customer</th>\n",
       "      <th>r_date</th>\n",
       "      <th>r_amount</th>\n",
       "      <th>no</th>\n",
       "      <th>age</th>\n",
       "      <th>city</th>\n",
       "      <th>product</th>\n",
       "      <th>limit</th>\n",
       "      <th>company</th>\n",
       "      <th>segment</th>\n",
       "    </tr>\n",
       "  </thead>\n",
       "  <tbody>\n",
       "    <tr>\n",
       "      <th>7</th>\n",
       "      <td>8</td>\n",
       "      <td>A8</td>\n",
       "      <td>2004-02-05</td>\n",
       "      <td>100002.0</td>\n",
       "      <td>8</td>\n",
       "      <td>59.680951</td>\n",
       "      <td>PATNA</td>\n",
       "      <td>Silver</td>\n",
       "      <td>100002</td>\n",
       "      <td>C8</td>\n",
       "      <td>Salaried_Pvt</td>\n",
       "    </tr>\n",
       "    <tr>\n",
       "      <th>8</th>\n",
       "      <td>9</td>\n",
       "      <td>A9</td>\n",
       "      <td>2005-02-28</td>\n",
       "      <td>100003.0</td>\n",
       "      <td>9</td>\n",
       "      <td>62.643850</td>\n",
       "      <td>CHENNAI</td>\n",
       "      <td>Silver</td>\n",
       "      <td>100003</td>\n",
       "      <td>C9</td>\n",
       "      <td>Govt</td>\n",
       "    </tr>\n",
       "    <tr>\n",
       "      <th>17</th>\n",
       "      <td>18</td>\n",
       "      <td>A18</td>\n",
       "      <td>2006-03-05</td>\n",
       "      <td>100000.0</td>\n",
       "      <td>18</td>\n",
       "      <td>34.569904</td>\n",
       "      <td>BANGALORE</td>\n",
       "      <td>Silver</td>\n",
       "      <td>100000</td>\n",
       "      <td>C18</td>\n",
       "      <td>Salaried_MNC</td>\n",
       "    </tr>\n",
       "    <tr>\n",
       "      <th>18</th>\n",
       "      <td>19</td>\n",
       "      <td>A19</td>\n",
       "      <td>2005-04-04</td>\n",
       "      <td>10000.0</td>\n",
       "      <td>19</td>\n",
       "      <td>46.898875</td>\n",
       "      <td>BANGALORE</td>\n",
       "      <td>Platimum</td>\n",
       "      <td>10000</td>\n",
       "      <td>C19</td>\n",
       "      <td>Salaried_Pvt</td>\n",
       "    </tr>\n",
       "    <tr>\n",
       "      <th>19</th>\n",
       "      <td>20</td>\n",
       "      <td>A20</td>\n",
       "      <td>2006-04-30</td>\n",
       "      <td>10001.0</td>\n",
       "      <td>20</td>\n",
       "      <td>58.209974</td>\n",
       "      <td>CALCUTTA</td>\n",
       "      <td>Platimum</td>\n",
       "      <td>10001</td>\n",
       "      <td>C20</td>\n",
       "      <td>Govt</td>\n",
       "    </tr>\n",
       "  </tbody>\n",
       "</table>\n",
       "</div>"
      ],
      "text/plain": [
       "    sl_no customer     r_date  r_amount  no        age       city   product  \\\n",
       "7       8       A8 2004-02-05  100002.0   8  59.680951      PATNA    Silver   \n",
       "8       9       A9 2005-02-28  100003.0   9  62.643850    CHENNAI    Silver   \n",
       "17     18      A18 2006-03-05  100000.0  18  34.569904  BANGALORE    Silver   \n",
       "18     19      A19 2005-04-04   10000.0  19  46.898875  BANGALORE  Platimum   \n",
       "19     20      A20 2006-04-30   10001.0  20  58.209974   CALCUTTA  Platimum   \n",
       "\n",
       "     limit company       segment  \n",
       "7   100002      C8  Salaried_Pvt  \n",
       "8   100003      C9          Govt  \n",
       "17  100000     C18  Salaried_MNC  \n",
       "18   10000     C19  Salaried_Pvt  \n",
       "19   10001     C20          Govt  "
      ]
     },
     "execution_count": 22,
     "metadata": {},
     "output_type": "execute_result"
    }
   ],
   "source": [
    "df_r.r_amount = df_r.apply(lambda x: x.limit\n",
    "                       if x.r_amount > x.limit \n",
    "                       else x.r_amount,\n",
    "                       axis=1)\n",
    "df_r[df_r.r_amount == df_r.limit].head()"
   ]
  },
  {
   "cell_type": "markdown",
   "id": "d83e2561",
   "metadata": {},
   "source": [
    "## Q2"
   ]
  },
  {
   "cell_type": "markdown",
   "id": "33def206",
   "metadata": {
    "ExecuteTime": {
     "end_time": "2022-09-17T10:48:23.654200Z",
     "start_time": "2022-09-17T10:48:23.643559Z"
    }
   },
   "source": [
    "> 2. From the above dataset create the following summaries:\n",
    "    - a. How many distinct customers exist?\n",
    "    - b. How many distinct categories exist?\n",
    "    - c. What is the average monthly spend by customers?\n",
    "    - d. What is the average monthly repayment by customers?\n",
    "    - e. If the monthly rate of interest is 2.9%, what is the profit for the bank for each month? (Profit is defined as interest earned on Monthly Profit. **Monthly Profit = Monthly repayment – Monthly spend**. Interest is earned only on positive profits and not on negative amounts)\n",
    "    - f. What are the top 5 product types?\n",
    "    - g. Which city is having maximum spend?\n",
    "    - h. Which age group is spending more money?\n",
    "    - i. Who are the top 10 customers in terms of repayment?"
   ]
  },
  {
   "cell_type": "markdown",
   "id": "ba742589",
   "metadata": {},
   "source": [
    "### a. How many distinct customers exist?"
   ]
  },
  {
   "cell_type": "code",
   "execution_count": 23,
   "id": "a12ea311",
   "metadata": {
    "ExecuteTime": {
     "end_time": "2022-09-17T22:39:01.492844Z",
     "start_time": "2022-09-17T22:39:01.478244Z"
    }
   },
   "outputs": [
    {
     "data": {
      "text/plain": [
       "100"
      ]
     },
     "execution_count": 23,
     "metadata": {},
     "output_type": "execute_result"
    }
   ],
   "source": [
    "ca['customer'].nunique()"
   ]
  },
  {
   "cell_type": "markdown",
   "id": "7548a40f",
   "metadata": {},
   "source": [
    "### b. How many distinct categories exist?"
   ]
  },
  {
   "cell_type": "code",
   "execution_count": 24,
   "id": "0f978e69",
   "metadata": {
    "ExecuteTime": {
     "end_time": "2022-09-17T22:39:01.508907Z",
     "start_time": "2022-09-17T22:39:01.495170Z"
    }
   },
   "outputs": [
    {
     "data": {
      "text/plain": [
       "product     3\n",
       "company    41\n",
       "segment     5\n",
       "type       15\n",
       "dtype: int64"
      ]
     },
     "execution_count": 24,
     "metadata": {},
     "output_type": "execute_result"
    }
   ],
   "source": [
    "df_s.loc[:,['product','company','segment','type']].nunique()"
   ]
  },
  {
   "cell_type": "markdown",
   "id": "033ab051",
   "metadata": {},
   "source": [
    "### c. What is the average monthly spend by customers?"
   ]
  },
  {
   "cell_type": "code",
   "execution_count": 25,
   "id": "d88f3a6b",
   "metadata": {
    "ExecuteTime": {
     "end_time": "2022-09-17T22:39:01.524210Z",
     "start_time": "2022-09-17T22:39:01.510410Z"
    }
   },
   "outputs": [],
   "source": [
    "pd.options.display.float_format = '{:,.2f}'.format"
   ]
  },
  {
   "cell_type": "markdown",
   "id": "4cc073e6",
   "metadata": {},
   "source": [
    "#### Average Spends [Each Month]"
   ]
  },
  {
   "cell_type": "code",
   "execution_count": 26,
   "id": "f993172e",
   "metadata": {
    "ExecuteTime": {
     "end_time": "2022-09-17T22:39:01.540153Z",
     "start_time": "2022-09-17T22:39:01.525427Z"
    },
    "scrolled": false
   },
   "outputs": [
    {
     "data": {
      "text/html": [
       "<div>\n",
       "<style scoped>\n",
       "    .dataframe tbody tr th:only-of-type {\n",
       "        vertical-align: middle;\n",
       "    }\n",
       "\n",
       "    .dataframe tbody tr th {\n",
       "        vertical-align: top;\n",
       "    }\n",
       "\n",
       "    .dataframe thead th {\n",
       "        text-align: right;\n",
       "    }\n",
       "</style>\n",
       "<table border=\"1\" class=\"dataframe\">\n",
       "  <thead>\n",
       "    <tr style=\"text-align: right;\">\n",
       "      <th></th>\n",
       "      <th>year</th>\n",
       "      <th>2004</th>\n",
       "      <th>2005</th>\n",
       "      <th>2006</th>\n",
       "    </tr>\n",
       "    <tr>\n",
       "      <th></th>\n",
       "      <th>month</th>\n",
       "      <th></th>\n",
       "      <th></th>\n",
       "      <th></th>\n",
       "    </tr>\n",
       "  </thead>\n",
       "  <tbody>\n",
       "    <tr>\n",
       "      <th rowspan=\"12\" valign=\"top\">avg_spend</th>\n",
       "      <th>1</th>\n",
       "      <td>151,335.10</td>\n",
       "      <td>162,992.85</td>\n",
       "      <td>171,369.10</td>\n",
       "    </tr>\n",
       "    <tr>\n",
       "      <th>2</th>\n",
       "      <td>147,645.90</td>\n",
       "      <td>168,094.03</td>\n",
       "      <td>144,864.17</td>\n",
       "    </tr>\n",
       "    <tr>\n",
       "      <th>3</th>\n",
       "      <td>89,640.11</td>\n",
       "      <td>NaN</td>\n",
       "      <td>147,846.94</td>\n",
       "    </tr>\n",
       "    <tr>\n",
       "      <th>4</th>\n",
       "      <td>136,895.00</td>\n",
       "      <td>144,046.89</td>\n",
       "      <td>148,152.47</td>\n",
       "    </tr>\n",
       "    <tr>\n",
       "      <th>5</th>\n",
       "      <td>169,490.98</td>\n",
       "      <td>149,370.70</td>\n",
       "      <td>144,698.05</td>\n",
       "    </tr>\n",
       "    <tr>\n",
       "      <th>6</th>\n",
       "      <td>NaN</td>\n",
       "      <td>171,706.70</td>\n",
       "      <td>150,069.89</td>\n",
       "    </tr>\n",
       "    <tr>\n",
       "      <th>7</th>\n",
       "      <td>NaN</td>\n",
       "      <td>199,402.74</td>\n",
       "      <td>168,994.13</td>\n",
       "    </tr>\n",
       "    <tr>\n",
       "      <th>8</th>\n",
       "      <td>NaN</td>\n",
       "      <td>175,220.30</td>\n",
       "      <td>190,490.12</td>\n",
       "    </tr>\n",
       "    <tr>\n",
       "      <th>9</th>\n",
       "      <td>134,486.00</td>\n",
       "      <td>174,361.48</td>\n",
       "      <td>143,003.26</td>\n",
       "    </tr>\n",
       "    <tr>\n",
       "      <th>10</th>\n",
       "      <td>NaN</td>\n",
       "      <td>69,063.43</td>\n",
       "      <td>152,621.86</td>\n",
       "    </tr>\n",
       "    <tr>\n",
       "      <th>11</th>\n",
       "      <td>140,515.37</td>\n",
       "      <td>153,809.49</td>\n",
       "      <td>179,837.31</td>\n",
       "    </tr>\n",
       "    <tr>\n",
       "      <th>12</th>\n",
       "      <td>NaN</td>\n",
       "      <td>97,522.66</td>\n",
       "      <td>118,758.53</td>\n",
       "    </tr>\n",
       "  </tbody>\n",
       "</table>\n",
       "</div>"
      ],
      "text/plain": [
       "year                  2004       2005       2006\n",
       "          month                                 \n",
       "avg_spend 1     151,335.10 162,992.85 171,369.10\n",
       "          2     147,645.90 168,094.03 144,864.17\n",
       "          3      89,640.11        NaN 147,846.94\n",
       "          4     136,895.00 144,046.89 148,152.47\n",
       "          5     169,490.98 149,370.70 144,698.05\n",
       "          6            NaN 171,706.70 150,069.89\n",
       "          7            NaN 199,402.74 168,994.13\n",
       "          8            NaN 175,220.30 190,490.12\n",
       "          9     134,486.00 174,361.48 143,003.26\n",
       "          10           NaN  69,063.43 152,621.86\n",
       "          11    140,515.37 153,809.49 179,837.31\n",
       "          12           NaN  97,522.66 118,758.53"
      ]
     },
     "execution_count": 26,
     "metadata": {},
     "output_type": "execute_result"
    }
   ],
   "source": [
    "a2c = (df_s.groupby([df_s.s_date.dt.year, df_s.s_date.dt.month])\n",
    "       .s_amount.mean().to_frame()\n",
    "       .rename(columns={'s_amount': 'avg_spend'}))\n",
    "a2c.index.names = ['year', 'month']\n",
    "a2c.unstack().T"
   ]
  },
  {
   "cell_type": "markdown",
   "id": "669b513d",
   "metadata": {},
   "source": [
    "#### Average Spend [Overall]"
   ]
  },
  {
   "cell_type": "code",
   "execution_count": 27,
   "id": "57894b74",
   "metadata": {
    "ExecuteTime": {
     "end_time": "2022-09-17T22:39:01.555450Z",
     "start_time": "2022-09-17T22:39:01.542498Z"
    }
   },
   "outputs": [
    {
     "name": "stdout",
     "output_type": "stream",
     "text": [
      "Overall average monthly spend by customers : 149876.85\n"
     ]
    }
   ],
   "source": [
    "a2cm = df_s.groupby([df_s.s_date.dt.year, df_s.s_date.dt.month]).s_amount.mean().mean()\n",
    "print(f'Overall average monthly spend by customers : {a2cm :.2f}')"
   ]
  },
  {
   "cell_type": "markdown",
   "id": "cf971436",
   "metadata": {},
   "source": [
    "#### Average Spends [Trend]"
   ]
  },
  {
   "cell_type": "code",
   "execution_count": 28,
   "id": "ff788fd0",
   "metadata": {
    "ExecuteTime": {
     "end_time": "2022-09-17T22:39:01.788946Z",
     "start_time": "2022-09-17T22:39:01.558767Z"
    }
   },
   "outputs": [
    {
     "data": {
      "image/png": "[encoded data removed]",
      "text/plain": [
       "<Figure size 1080x360 with 1 Axes>"
      ]
     },
     "metadata": {},
     "output_type": "display_data"
    }
   ],
   "source": [
    "plt.rcParams['figure.figsize'] = (15, 5)\n",
    "a2c1 = (df_s.groupby([pd.Grouper(key='s_date', freq='M')]).s_amount.mean()\n",
    "        .fillna(value=a2cm))\n",
    "a2c1.index.name = 'Months'\n",
    "a2c1.plot(kind='line', marker='o', linewidth=2, color='#0066ff')\n",
    "plt.grid(True, axis='y', linewidth=0.75, linestyle='-')\n",
    "plt.hlines(y=a2c['avg_spend'].mean(),\n",
    "           xmin='2004-1',\n",
    "           xmax='2006-12',\n",
    "           colors='g')\n",
    "plt.ylabel('Average Spends')\n",
    "plt.show()"
   ]
  },
  {
   "cell_type": "markdown",
   "id": "3096e02f",
   "metadata": {},
   "source": [
    "### d. What is the average monthly repayment by customers?"
   ]
  },
  {
   "cell_type": "markdown",
   "id": "e34471c7",
   "metadata": {},
   "source": [
    "#### Average Repayments [Each Month]"
   ]
  },
  {
   "cell_type": "code",
   "execution_count": 29,
   "id": "661b3c82",
   "metadata": {
    "ExecuteTime": {
     "end_time": "2022-09-17T22:39:01.804020Z",
     "start_time": "2022-09-17T22:39:01.790285Z"
    },
    "scrolled": false
   },
   "outputs": [
    {
     "data": {
      "text/html": [
       "<div>\n",
       "<style scoped>\n",
       "    .dataframe tbody tr th:only-of-type {\n",
       "        vertical-align: middle;\n",
       "    }\n",
       "\n",
       "    .dataframe tbody tr th {\n",
       "        vertical-align: top;\n",
       "    }\n",
       "\n",
       "    .dataframe thead th {\n",
       "        text-align: right;\n",
       "    }\n",
       "</style>\n",
       "<table border=\"1\" class=\"dataframe\">\n",
       "  <thead>\n",
       "    <tr style=\"text-align: right;\">\n",
       "      <th></th>\n",
       "      <th>year</th>\n",
       "      <th>2004</th>\n",
       "      <th>2005</th>\n",
       "      <th>2006</th>\n",
       "    </tr>\n",
       "    <tr>\n",
       "      <th></th>\n",
       "      <th>month</th>\n",
       "      <th></th>\n",
       "      <th></th>\n",
       "      <th></th>\n",
       "    </tr>\n",
       "  </thead>\n",
       "  <tbody>\n",
       "    <tr>\n",
       "      <th rowspan=\"12\" valign=\"top\">avg_repayment</th>\n",
       "      <th>1</th>\n",
       "      <td>161,292.57</td>\n",
       "      <td>193,485.08</td>\n",
       "      <td>211,479.50</td>\n",
       "    </tr>\n",
       "    <tr>\n",
       "      <th>2</th>\n",
       "      <td>175,497.69</td>\n",
       "      <td>149,261.54</td>\n",
       "      <td>199,340.39</td>\n",
       "    </tr>\n",
       "    <tr>\n",
       "      <th>3</th>\n",
       "      <td>187,433.06</td>\n",
       "      <td>NaN</td>\n",
       "      <td>170,909.83</td>\n",
       "    </tr>\n",
       "    <tr>\n",
       "      <th>4</th>\n",
       "      <td>140,886.46</td>\n",
       "      <td>103,288.33</td>\n",
       "      <td>161,473.11</td>\n",
       "    </tr>\n",
       "    <tr>\n",
       "      <th>5</th>\n",
       "      <td>154,569.09</td>\n",
       "      <td>190,352.35</td>\n",
       "      <td>176,926.36</td>\n",
       "    </tr>\n",
       "    <tr>\n",
       "      <th>6</th>\n",
       "      <td>NaN</td>\n",
       "      <td>134,566.87</td>\n",
       "      <td>234,089.02</td>\n",
       "    </tr>\n",
       "    <tr>\n",
       "      <th>7</th>\n",
       "      <td>NaN</td>\n",
       "      <td>132,130.21</td>\n",
       "      <td>149,893.63</td>\n",
       "    </tr>\n",
       "    <tr>\n",
       "      <th>8</th>\n",
       "      <td>NaN</td>\n",
       "      <td>170,601.60</td>\n",
       "      <td>189,565.18</td>\n",
       "    </tr>\n",
       "    <tr>\n",
       "      <th>9</th>\n",
       "      <td>126,505.72</td>\n",
       "      <td>66,406.94</td>\n",
       "      <td>161,374.02</td>\n",
       "    </tr>\n",
       "    <tr>\n",
       "      <th>10</th>\n",
       "      <td>NaN</td>\n",
       "      <td>115,778.90</td>\n",
       "      <td>230,972.41</td>\n",
       "    </tr>\n",
       "    <tr>\n",
       "      <th>11</th>\n",
       "      <td>151,737.53</td>\n",
       "      <td>181,593.30</td>\n",
       "      <td>192,231.78</td>\n",
       "    </tr>\n",
       "    <tr>\n",
       "      <th>12</th>\n",
       "      <td>NaN</td>\n",
       "      <td>169,920.64</td>\n",
       "      <td>105,149.33</td>\n",
       "    </tr>\n",
       "  </tbody>\n",
       "</table>\n",
       "</div>"
      ],
      "text/plain": [
       "year                      2004       2005       2006\n",
       "              month                                 \n",
       "avg_repayment 1     161,292.57 193,485.08 211,479.50\n",
       "              2     175,497.69 149,261.54 199,340.39\n",
       "              3     187,433.06        NaN 170,909.83\n",
       "              4     140,886.46 103,288.33 161,473.11\n",
       "              5     154,569.09 190,352.35 176,926.36\n",
       "              6            NaN 134,566.87 234,089.02\n",
       "              7            NaN 132,130.21 149,893.63\n",
       "              8            NaN 170,601.60 189,565.18\n",
       "              9     126,505.72  66,406.94 161,374.02\n",
       "              10           NaN 115,778.90 230,972.41\n",
       "              11    151,737.53 181,593.30 192,231.78\n",
       "              12           NaN 169,920.64 105,149.33"
      ]
     },
     "execution_count": 29,
     "metadata": {},
     "output_type": "execute_result"
    }
   ],
   "source": [
    "a2d = (df_r.groupby([df_r.r_date.dt.year, df_r.r_date.dt.month])\n",
    "       .r_amount.mean().to_frame()\n",
    "       .rename(columns={'r_amount': 'avg_repayment'}))\n",
    "a2d.index.names = ['year', 'month']\n",
    "a2d.unstack().T"
   ]
  },
  {
   "cell_type": "markdown",
   "id": "eb58b812",
   "metadata": {},
   "source": [
    "#### Average Repayment [Overall]"
   ]
  },
  {
   "cell_type": "code",
   "execution_count": 30,
   "id": "093adaa6",
   "metadata": {
    "ExecuteTime": {
     "end_time": "2022-09-17T22:39:01.820244Z",
     "start_time": "2022-09-17T22:39:01.805013Z"
    }
   },
   "outputs": [
    {
     "name": "stdout",
     "output_type": "stream",
     "text": [
      "Overall average monthly repayment by customers : 162957.08\n"
     ]
    }
   ],
   "source": [
    "a2dm = df_r.groupby([df_r.r_date.dt.year, df_r.r_date.dt.month]).r_amount.mean().mean()\n",
    "print(f'Overall average monthly repayment by customers : {a2dm :.2f}')"
   ]
  },
  {
   "cell_type": "markdown",
   "id": "e3047af8",
   "metadata": {},
   "source": [
    "#### Average Repayments [Trend]"
   ]
  },
  {
   "cell_type": "code",
   "execution_count": 31,
   "id": "bf2d90f2",
   "metadata": {
    "ExecuteTime": {
     "end_time": "2022-09-17T22:39:01.961648Z",
     "start_time": "2022-09-17T22:39:01.821793Z"
    }
   },
   "outputs": [
    {
     "data": {
      "image/png": "[encoded data removed]",
      "text/plain": [
       "<Figure size 1080x360 with 1 Axes>"
      ]
     },
     "metadata": {},
     "output_type": "display_data"
    }
   ],
   "source": [
    "plt.rcParams['figure.figsize'] = (15, 5)\n",
    "a2d1 = (df_r.groupby([pd.Grouper(key='r_date', freq='M')]).r_amount.mean()\n",
    "        .fillna(value=a2dm))\n",
    "a2d1.index.name = 'Months'\n",
    "a2d1.plot(kind='line', marker='o', linewidth=2, color='#68217a')\n",
    "plt.grid(True, axis='y', linewidth=0.75, linestyle='-')\n",
    "plt.hlines(y=a2d['avg_repayment'].mean(),\n",
    "           xmin='2004-1',\n",
    "           xmax='2006-12',\n",
    "           colors='r')\n",
    "plt.ylabel('Average Repayments')\n",
    "plt.show()"
   ]
  },
  {
   "cell_type": "markdown",
   "id": "88e8720c",
   "metadata": {},
   "source": [
    "### e. If the monthly rate of interest is 2.9%, what is the profit for the bank for each month?"
   ]
  },
  {
   "cell_type": "code",
   "execution_count": 32,
   "id": "c9a1e51e",
   "metadata": {
    "ExecuteTime": {
     "end_time": "2022-09-17T22:39:01.992882Z",
     "start_time": "2022-09-17T22:39:01.963019Z"
    }
   },
   "outputs": [
    {
     "data": {
      "text/html": [
       "<div>\n",
       "<style scoped>\n",
       "    .dataframe tbody tr th:only-of-type {\n",
       "        vertical-align: middle;\n",
       "    }\n",
       "\n",
       "    .dataframe tbody tr th {\n",
       "        vertical-align: top;\n",
       "    }\n",
       "\n",
       "    .dataframe thead th {\n",
       "        text-align: right;\n",
       "    }\n",
       "</style>\n",
       "<table border=\"1\" class=\"dataframe\">\n",
       "  <thead>\n",
       "    <tr style=\"text-align: right;\">\n",
       "      <th></th>\n",
       "      <th>monthly_profit</th>\n",
       "      <th>profit</th>\n",
       "    </tr>\n",
       "    <tr>\n",
       "      <th>Year-Month</th>\n",
       "      <th></th>\n",
       "      <th></th>\n",
       "    </tr>\n",
       "  </thead>\n",
       "  <tbody>\n",
       "    <tr>\n",
       "      <th>2004-02</th>\n",
       "      <td>604,352.36</td>\n",
       "      <td>17,526.22</td>\n",
       "    </tr>\n",
       "    <tr>\n",
       "      <th>2004-03</th>\n",
       "      <td>1,556,534.28</td>\n",
       "      <td>45,139.49</td>\n",
       "    </tr>\n",
       "    <tr>\n",
       "      <th>2004-04</th>\n",
       "      <td>393,533.87</td>\n",
       "      <td>11,412.48</td>\n",
       "    </tr>\n",
       "    <tr>\n",
       "      <th>2004-05</th>\n",
       "      <td>1,491,353.54</td>\n",
       "      <td>43,249.25</td>\n",
       "    </tr>\n",
       "    <tr>\n",
       "      <th>2004-09</th>\n",
       "      <td>141,287.46</td>\n",
       "      <td>4,097.34</td>\n",
       "    </tr>\n",
       "    <tr>\n",
       "      <th>2004-11</th>\n",
       "      <td>308,847.87</td>\n",
       "      <td>8,956.59</td>\n",
       "    </tr>\n",
       "    <tr>\n",
       "      <th>2005-01</th>\n",
       "      <td>660,297.38</td>\n",
       "      <td>19,148.62</td>\n",
       "    </tr>\n",
       "    <tr>\n",
       "      <th>2005-05</th>\n",
       "      <td>8,402,363.49</td>\n",
       "      <td>243,668.54</td>\n",
       "    </tr>\n",
       "    <tr>\n",
       "      <th>2005-08</th>\n",
       "      <td>1,406,090.98</td>\n",
       "      <td>40,776.64</td>\n",
       "    </tr>\n",
       "    <tr>\n",
       "      <th>2005-10</th>\n",
       "      <td>422,458.74</td>\n",
       "      <td>12,251.30</td>\n",
       "    </tr>\n",
       "    <tr>\n",
       "      <th>2005-11</th>\n",
       "      <td>1,166,919.89</td>\n",
       "      <td>33,840.68</td>\n",
       "    </tr>\n",
       "    <tr>\n",
       "      <th>2005-12</th>\n",
       "      <td>673,730.44</td>\n",
       "      <td>19,538.18</td>\n",
       "    </tr>\n",
       "    <tr>\n",
       "      <th>2006-01</th>\n",
       "      <td>138,586.65</td>\n",
       "      <td>4,019.01</td>\n",
       "    </tr>\n",
       "    <tr>\n",
       "      <th>2006-02</th>\n",
       "      <td>1,689,979.94</td>\n",
       "      <td>49,009.42</td>\n",
       "    </tr>\n",
       "    <tr>\n",
       "      <th>2006-03</th>\n",
       "      <td>2,782,818.02</td>\n",
       "      <td>80,701.72</td>\n",
       "    </tr>\n",
       "    <tr>\n",
       "      <th>2006-04</th>\n",
       "      <td>606,248.04</td>\n",
       "      <td>17,581.19</td>\n",
       "    </tr>\n",
       "    <tr>\n",
       "      <th>2006-05</th>\n",
       "      <td>7,289,502.27</td>\n",
       "      <td>211,395.57</td>\n",
       "    </tr>\n",
       "    <tr>\n",
       "      <th>2006-06</th>\n",
       "      <td>708,089.80</td>\n",
       "      <td>20,534.60</td>\n",
       "    </tr>\n",
       "    <tr>\n",
       "      <th>2006-07</th>\n",
       "      <td>814,228.50</td>\n",
       "      <td>23,612.63</td>\n",
       "    </tr>\n",
       "    <tr>\n",
       "      <th>2006-10</th>\n",
       "      <td>634,962.80</td>\n",
       "      <td>18,413.92</td>\n",
       "    </tr>\n",
       "    <tr>\n",
       "      <th>2006-11</th>\n",
       "      <td>154,813.57</td>\n",
       "      <td>4,489.59</td>\n",
       "    </tr>\n",
       "  </tbody>\n",
       "</table>\n",
       "</div>"
      ],
      "text/plain": [
       "            monthly_profit     profit\n",
       "Year-Month                           \n",
       "2004-02         604,352.36  17,526.22\n",
       "2004-03       1,556,534.28  45,139.49\n",
       "2004-04         393,533.87  11,412.48\n",
       "2004-05       1,491,353.54  43,249.25\n",
       "2004-09         141,287.46   4,097.34\n",
       "2004-11         308,847.87   8,956.59\n",
       "2005-01         660,297.38  19,148.62\n",
       "2005-05       8,402,363.49 243,668.54\n",
       "2005-08       1,406,090.98  40,776.64\n",
       "2005-10         422,458.74  12,251.30\n",
       "2005-11       1,166,919.89  33,840.68\n",
       "2005-12         673,730.44  19,538.18\n",
       "2006-01         138,586.65   4,019.01\n",
       "2006-02       1,689,979.94  49,009.42\n",
       "2006-03       2,782,818.02  80,701.72\n",
       "2006-04         606,248.04  17,581.19\n",
       "2006-05       7,289,502.27 211,395.57\n",
       "2006-06         708,089.80  20,534.60\n",
       "2006-07         814,228.50  23,612.63\n",
       "2006-10         634,962.80  18,413.92\n",
       "2006-11         154,813.57   4,489.59"
      ]
     },
     "execution_count": 32,
     "metadata": {},
     "output_type": "execute_result"
    }
   ],
   "source": [
    "df_p = pd.DataFrame()\n",
    "df_p['monthly_profit'] = (df_r.groupby([pd.Grouper(key='r_date', freq='M')])\n",
    "                              .r_amount.sum() - \n",
    "                          df_s.groupby([pd.Grouper(key='s_date', freq='M')])\n",
    "                              .s_amount.sum())\n",
    "df_p['profit'] = df_p['monthly_profit'].apply(lambda x: x*0.029 \n",
    "                                              if x > 0 else 0)\n",
    "df_p.index.name = 'Months'\n",
    "a2e = df_p.loc[df_p.profit > 0, :]\n",
    "a2e.index = a2e.index.format(date_format='%Y-%m')\n",
    "a2e.index.name = 'Year-Month'\n",
    "a2e\n",
    "#pd.reset_option('^display.', silent=True)"
   ]
  },
  {
   "cell_type": "markdown",
   "id": "43ce6c13",
   "metadata": {},
   "source": [
    "#### Profits [Trend]"
   ]
  },
  {
   "cell_type": "code",
   "execution_count": 33,
   "id": "392484f5",
   "metadata": {
    "ExecuteTime": {
     "end_time": "2022-09-17T22:39:02.115918Z",
     "start_time": "2022-09-17T22:39:01.993922Z"
    },
    "scrolled": false
   },
   "outputs": [
    {
     "data": {
      "image/png": "[encoded data removed]",
      "text/plain": [
       "<Figure size 1080x360 with 1 Axes>"
      ]
     },
     "metadata": {},
     "output_type": "display_data"
    }
   ],
   "source": [
    "plt.rcParams['figure.figsize'] = (15, 5)\n",
    "plt.grid(True, axis='y', linewidth=0.75, linestyle='-')\n",
    "df_p.profit.plot(kind='line', marker='o', linewidth=2, color='#005a37')\n",
    "plt.grid(True, axis='y', linewidth=0.75, linestyle='-')\n",
    "plt.hlines(y=df_p.profit.mean(),\n",
    "           xmin='2004-1',\n",
    "           xmax='2006-12',\n",
    "           colors='#00c880')\n",
    "plt.ylabel('Profit')\n",
    "plt.show()"
   ]
  },
  {
   "cell_type": "markdown",
   "id": "d2b9565e",
   "metadata": {},
   "source": [
    "### f. What are the top 5 product types?"
   ]
  },
  {
   "cell_type": "code",
   "execution_count": 34,
   "id": "223b8245",
   "metadata": {
    "ExecuteTime": {
     "end_time": "2022-09-17T22:39:02.131037Z",
     "start_time": "2022-09-17T22:39:02.117952Z"
    }
   },
   "outputs": [
    {
     "data": {
      "text/html": [
       "<div>\n",
       "<style scoped>\n",
       "    .dataframe tbody tr th:only-of-type {\n",
       "        vertical-align: middle;\n",
       "    }\n",
       "\n",
       "    .dataframe tbody tr th {\n",
       "        vertical-align: top;\n",
       "    }\n",
       "\n",
       "    .dataframe thead th {\n",
       "        text-align: right;\n",
       "    }\n",
       "</style>\n",
       "<table border=\"1\" class=\"dataframe\">\n",
       "  <thead>\n",
       "    <tr style=\"text-align: right;\">\n",
       "      <th></th>\n",
       "      <th>Total_Spends</th>\n",
       "      <th>Freq</th>\n",
       "    </tr>\n",
       "    <tr>\n",
       "      <th>type</th>\n",
       "      <th></th>\n",
       "      <th></th>\n",
       "    </tr>\n",
       "  </thead>\n",
       "  <tbody>\n",
       "    <tr>\n",
       "      <th>PETRO</th>\n",
       "      <td>31,067,654.25</td>\n",
       "      <td>200</td>\n",
       "    </tr>\n",
       "    <tr>\n",
       "      <th>CAMERA</th>\n",
       "      <td>28,648,003.90</td>\n",
       "      <td>160</td>\n",
       "    </tr>\n",
       "    <tr>\n",
       "      <th>FOOD</th>\n",
       "      <td>24,404,427.66</td>\n",
       "      <td>160</td>\n",
       "    </tr>\n",
       "    <tr>\n",
       "      <th>AIR TICKET</th>\n",
       "      <td>23,780,680.62</td>\n",
       "      <td>147</td>\n",
       "    </tr>\n",
       "    <tr>\n",
       "      <th>TRAIN TICKET</th>\n",
       "      <td>19,610,407.82</td>\n",
       "      <td>132</td>\n",
       "    </tr>\n",
       "  </tbody>\n",
       "</table>\n",
       "</div>"
      ],
      "text/plain": [
       "              Total_Spends  Freq\n",
       "type                            \n",
       "PETRO        31,067,654.25   200\n",
       "CAMERA       28,648,003.90   160\n",
       "FOOD         24,404,427.66   160\n",
       "AIR TICKET   23,780,680.62   147\n",
       "TRAIN TICKET 19,610,407.82   132"
      ]
     },
     "execution_count": 34,
     "metadata": {},
     "output_type": "execute_result"
    }
   ],
   "source": [
    "a2f = (df_s.groupby('type')\n",
    "           .agg(Total_Spends=pd.NamedAgg('s_amount', 'sum'),\n",
    "                Freq=pd.NamedAgg('s_amount', 'count'))\n",
    "           .sort_values(by='Total_Spends', ascending=False))\n",
    "a2f.iloc[0:5]"
   ]
  },
  {
   "cell_type": "markdown",
   "id": "acba183d",
   "metadata": {},
   "source": [
    "### g. Which city is having maximum spend?"
   ]
  },
  {
   "cell_type": "code",
   "execution_count": 35,
   "id": "2a888995",
   "metadata": {
    "ExecuteTime": {
     "end_time": "2022-09-17T22:39:02.146632Z",
     "start_time": "2022-09-17T22:39:02.132539Z"
    }
   },
   "outputs": [
    {
     "data": {
      "text/html": [
       "<div>\n",
       "<style scoped>\n",
       "    .dataframe tbody tr th:only-of-type {\n",
       "        vertical-align: middle;\n",
       "    }\n",
       "\n",
       "    .dataframe tbody tr th {\n",
       "        vertical-align: top;\n",
       "    }\n",
       "\n",
       "    .dataframe thead th {\n",
       "        text-align: right;\n",
       "    }\n",
       "</style>\n",
       "<table border=\"1\" class=\"dataframe\">\n",
       "  <thead>\n",
       "    <tr style=\"text-align: right;\">\n",
       "      <th></th>\n",
       "      <th>Total_Spends</th>\n",
       "    </tr>\n",
       "    <tr>\n",
       "      <th>city</th>\n",
       "      <th></th>\n",
       "    </tr>\n",
       "  </thead>\n",
       "  <tbody>\n",
       "    <tr>\n",
       "      <th>COCHIN</th>\n",
       "      <td>48,574,542.86</td>\n",
       "    </tr>\n",
       "  </tbody>\n",
       "</table>\n",
       "</div>"
      ],
      "text/plain": [
       "        Total_Spends\n",
       "city                \n",
       "COCHIN 48,574,542.86"
      ]
     },
     "execution_count": 35,
     "metadata": {},
     "output_type": "execute_result"
    }
   ],
   "source": [
    "a2g = (df_s.groupby('city')\n",
    "           .agg(Total_Spends=pd.NamedAgg('s_amount', 'sum'))\n",
    "           .sort_values(by='Total_Spends', ascending=False))\n",
    "a2g.iloc[0:1]"
   ]
  },
  {
   "cell_type": "markdown",
   "id": "3ca6ada0",
   "metadata": {},
   "source": [
    "### h. Which age group is spending more money?"
   ]
  },
  {
   "cell_type": "code",
   "execution_count": 36,
   "id": "235035e6",
   "metadata": {
    "ExecuteTime": {
     "end_time": "2022-09-17T22:39:02.161999Z",
     "start_time": "2022-09-17T22:39:02.147818Z"
    }
   },
   "outputs": [
    {
     "data": {
      "text/html": [
       "<div>\n",
       "<style scoped>\n",
       "    .dataframe tbody tr th:only-of-type {\n",
       "        vertical-align: middle;\n",
       "    }\n",
       "\n",
       "    .dataframe tbody tr th {\n",
       "        vertical-align: top;\n",
       "    }\n",
       "\n",
       "    .dataframe thead th {\n",
       "        text-align: right;\n",
       "    }\n",
       "</style>\n",
       "<table border=\"1\" class=\"dataframe\">\n",
       "  <thead>\n",
       "    <tr style=\"text-align: right;\">\n",
       "      <th></th>\n",
       "      <th>Total_Spends</th>\n",
       "    </tr>\n",
       "    <tr>\n",
       "      <th>Age_Group</th>\n",
       "      <th></th>\n",
       "    </tr>\n",
       "  </thead>\n",
       "  <tbody>\n",
       "    <tr>\n",
       "      <th>(43.0, 55.0]</th>\n",
       "      <td>95,408,857.30</td>\n",
       "    </tr>\n",
       "    <tr>\n",
       "      <th>(19.0, 31.0]</th>\n",
       "      <td>51,795,705.12</td>\n",
       "    </tr>\n",
       "    <tr>\n",
       "      <th>(31.0, 43.0]</th>\n",
       "      <td>33,651,792.17</td>\n",
       "    </tr>\n",
       "    <tr>\n",
       "      <th>(67.0, 79.0]</th>\n",
       "      <td>28,920,105.34</td>\n",
       "    </tr>\n",
       "    <tr>\n",
       "      <th>(55.0, 67.0]</th>\n",
       "      <td>18,952,138.05</td>\n",
       "    </tr>\n",
       "  </tbody>\n",
       "</table>\n",
       "</div>"
      ],
      "text/plain": [
       "              Total_Spends\n",
       "Age_Group                 \n",
       "(43.0, 55.0] 95,408,857.30\n",
       "(19.0, 31.0] 51,795,705.12\n",
       "(31.0, 43.0] 33,651,792.17\n",
       "(67.0, 79.0] 28,920,105.34\n",
       "(55.0, 67.0] 18,952,138.05"
      ]
     },
     "execution_count": 36,
     "metadata": {},
     "output_type": "execute_result"
    }
   ],
   "source": [
    "# Creating bins as different Age Groups \n",
    "a2h = (df_s.groupby(pd.cut(df_s['age'], bins=5, precision=0))\n",
    "           .agg(Total_Spends=pd.NamedAgg('s_amount', 'sum'))\n",
    "           .sort_values(by='Total_Spends', ascending=False))\n",
    "a2h.index.name = 'Age_Group'\n",
    "a2h"
   ]
  },
  {
   "cell_type": "markdown",
   "id": "9803c8c8",
   "metadata": {},
   "source": [
    "Clearly, the customers belonging to the age group of **(43 - 55]** are spending maximum. "
   ]
  },
  {
   "cell_type": "markdown",
   "id": "3dc07350",
   "metadata": {},
   "source": [
    "### i. Who are the top 10 customers in terms of repayment?"
   ]
  },
  {
   "cell_type": "code",
   "execution_count": 37,
   "id": "a746e2f0",
   "metadata": {
    "ExecuteTime": {
     "end_time": "2022-09-17T22:39:02.176879Z",
     "start_time": "2022-09-17T22:39:02.163501Z"
    }
   },
   "outputs": [
    {
     "data": {
      "text/html": [
       "<div>\n",
       "<style scoped>\n",
       "    .dataframe tbody tr th:only-of-type {\n",
       "        vertical-align: middle;\n",
       "    }\n",
       "\n",
       "    .dataframe tbody tr th {\n",
       "        vertical-align: top;\n",
       "    }\n",
       "\n",
       "    .dataframe thead th {\n",
       "        text-align: right;\n",
       "    }\n",
       "</style>\n",
       "<table border=\"1\" class=\"dataframe\">\n",
       "  <thead>\n",
       "    <tr style=\"text-align: right;\">\n",
       "      <th></th>\n",
       "      <th>Total_Repayments</th>\n",
       "    </tr>\n",
       "    <tr>\n",
       "      <th>customer</th>\n",
       "      <th></th>\n",
       "    </tr>\n",
       "  </thead>\n",
       "  <tbody>\n",
       "    <tr>\n",
       "      <th>A61</th>\n",
       "      <td>9,672,793.52</td>\n",
       "    </tr>\n",
       "    <tr>\n",
       "      <th>A60</th>\n",
       "      <td>9,168,149.95</td>\n",
       "    </tr>\n",
       "    <tr>\n",
       "      <th>A42</th>\n",
       "      <td>8,928,473.48</td>\n",
       "    </tr>\n",
       "    <tr>\n",
       "      <th>A13</th>\n",
       "      <td>8,496,395.78</td>\n",
       "    </tr>\n",
       "    <tr>\n",
       "      <th>A38</th>\n",
       "      <td>8,205,336.50</td>\n",
       "    </tr>\n",
       "    <tr>\n",
       "      <th>A43</th>\n",
       "      <td>7,976,031.15</td>\n",
       "    </tr>\n",
       "    <tr>\n",
       "      <th>A40</th>\n",
       "      <td>7,671,795.78</td>\n",
       "    </tr>\n",
       "    <tr>\n",
       "      <th>A14</th>\n",
       "      <td>7,655,254.89</td>\n",
       "    </tr>\n",
       "    <tr>\n",
       "      <th>A44</th>\n",
       "      <td>7,637,481.58</td>\n",
       "    </tr>\n",
       "    <tr>\n",
       "      <th>A26</th>\n",
       "      <td>7,472,188.59</td>\n",
       "    </tr>\n",
       "  </tbody>\n",
       "</table>\n",
       "</div>"
      ],
      "text/plain": [
       "          Total_Repayments\n",
       "customer                  \n",
       "A61           9,672,793.52\n",
       "A60           9,168,149.95\n",
       "A42           8,928,473.48\n",
       "A13           8,496,395.78\n",
       "A38           8,205,336.50\n",
       "A43           7,976,031.15\n",
       "A40           7,671,795.78\n",
       "A14           7,655,254.89\n",
       "A44           7,637,481.58\n",
       "A26           7,472,188.59"
      ]
     },
     "execution_count": 37,
     "metadata": {},
     "output_type": "execute_result"
    }
   ],
   "source": [
    "a2i = (df_r.groupby('customer')\n",
    "           .agg(Total_Repayments=pd.NamedAgg('r_amount', 'sum'))\n",
    "           .sort_values(by='Total_Repayments', ascending=False))\n",
    "a2i.iloc[0:10]"
   ]
  },
  {
   "cell_type": "markdown",
   "id": "f71ae173",
   "metadata": {},
   "source": [
    "## Q3"
   ]
  },
  {
   "cell_type": "markdown",
   "id": "99b4f1c9",
   "metadata": {},
   "source": [
    "> 3. Calculate the city wise spend on each product on yearly basis. Also include a graphical\n",
    "representation for the same."
   ]
  },
  {
   "cell_type": "markdown",
   "id": "96173811",
   "metadata": {},
   "source": [
    "### Preparing the dataframe"
   ]
  },
  {
   "cell_type": "code",
   "execution_count": 38,
   "id": "a7f5fc1e",
   "metadata": {
    "ExecuteTime": {
     "end_time": "2022-09-17T22:39:02.208389Z",
     "start_time": "2022-09-17T22:39:02.177889Z"
    }
   },
   "outputs": [
    {
     "data": {
      "text/html": [
       "<div>\n",
       "<style scoped>\n",
       "    .dataframe tbody tr th:only-of-type {\n",
       "        vertical-align: middle;\n",
       "    }\n",
       "\n",
       "    .dataframe tbody tr th {\n",
       "        vertical-align: top;\n",
       "    }\n",
       "\n",
       "    .dataframe thead th {\n",
       "        text-align: right;\n",
       "    }\n",
       "</style>\n",
       "<table border=\"1\" class=\"dataframe\">\n",
       "  <thead>\n",
       "    <tr style=\"text-align: right;\">\n",
       "      <th></th>\n",
       "      <th>product</th>\n",
       "      <th>city</th>\n",
       "      <th>Total_Spend_per_Year</th>\n",
       "      <th>year</th>\n",
       "    </tr>\n",
       "  </thead>\n",
       "  <tbody>\n",
       "    <tr>\n",
       "      <th>0</th>\n",
       "      <td>Gold</td>\n",
       "      <td>BANGALORE</td>\n",
       "      <td>9,870,697.48</td>\n",
       "      <td>2004</td>\n",
       "    </tr>\n",
       "    <tr>\n",
       "      <th>1</th>\n",
       "      <td>Gold</td>\n",
       "      <td>BOMBAY</td>\n",
       "      <td>6,221,750.00</td>\n",
       "      <td>2004</td>\n",
       "    </tr>\n",
       "    <tr>\n",
       "      <th>2</th>\n",
       "      <td>Gold</td>\n",
       "      <td>CALCUTTA</td>\n",
       "      <td>8,643,979.18</td>\n",
       "      <td>2004</td>\n",
       "    </tr>\n",
       "    <tr>\n",
       "      <th>3</th>\n",
       "      <td>Gold</td>\n",
       "      <td>CHENNAI</td>\n",
       "      <td>1,415,072.88</td>\n",
       "      <td>2004</td>\n",
       "    </tr>\n",
       "    <tr>\n",
       "      <th>4</th>\n",
       "      <td>Gold</td>\n",
       "      <td>COCHIN</td>\n",
       "      <td>9,730,434.55</td>\n",
       "      <td>2004</td>\n",
       "    </tr>\n",
       "  </tbody>\n",
       "</table>\n",
       "</div>"
      ],
      "text/plain": [
       "  product       city  Total_Spend_per_Year  year\n",
       "0    Gold  BANGALORE          9,870,697.48  2004\n",
       "1    Gold     BOMBAY          6,221,750.00  2004\n",
       "2    Gold   CALCUTTA          8,643,979.18  2004\n",
       "3    Gold    CHENNAI          1,415,072.88  2004\n",
       "4    Gold     COCHIN          9,730,434.55  2004"
      ]
     },
     "execution_count": 38,
     "metadata": {},
     "output_type": "execute_result"
    }
   ],
   "source": [
    "df_sy = (df_s.groupby([pd.Grouper(key='s_date', freq='Y'), 'product', 'city'])\n",
    "         .agg(Total_Spend_per_Year=pd.NamedAgg('s_amount', 'sum'))).reset_index()\n",
    "df_sy['year'] = df_sy.s_date.dt.year\n",
    "df_sy.drop(columns='s_date', inplace=True)\n",
    "df_sy.head()"
   ]
  },
  {
   "cell_type": "markdown",
   "id": "54a39034",
   "metadata": {},
   "source": [
    "### Plotting the data"
   ]
  },
  {
   "cell_type": "code",
   "execution_count": 39,
   "id": "334febdc",
   "metadata": {
    "ExecuteTime": {
     "end_time": "2022-09-17T22:39:03.046030Z",
     "start_time": "2022-09-17T22:39:02.209404Z"
    },
    "scrolled": false
   },
   "outputs": [
    {
     "data": {
      "image/png": "[encoded data removed]",
      "text/plain": [
       "<Figure size 998x594 with 9 Axes>"
      ]
     },
     "metadata": {},
     "output_type": "display_data"
    }
   ],
   "source": [
    "sns.set(style='ticks', font_scale=1.25)\n",
    "g = sns.FacetGrid(\n",
    "    data=df_sy,\n",
    "    col='year',\n",
    "    palette=['#c29b0c','#cbcac8','#5e7e95'],\n",
    "    row='product',\n",
    "    hue='product',\n",
    "    size=2.75,\n",
    "    margin_titles=True,\n",
    "    aspect=1.5).map(\n",
    "        sns.barplot,\n",
    "        'Total_Spend_per_Year', 'city').add_legend()\n",
    "g.set_titles(col_template=\"{col_name}\", row_template=\"\")\n",
    "g.set_xlabels('Total Spends / Year')\n",
    "g.set_ylabels('Cities')\n",
    "plt.show()"
   ]
  },
  {
   "cell_type": "markdown",
   "id": "ea6f8958",
   "metadata": {},
   "source": [
    "## Q4"
   ]
  },
  {
   "cell_type": "markdown",
   "id": "114c7e7c",
   "metadata": {},
   "source": [
    "> 4. Create graphs for\n",
    "    - a. Monthly comparison of total spends, city wise\n",
    "    - b. Comparison of yearly spend on air tickets\n",
    "    - c. Comparison of monthly spend for each product (look for any seasonality that exists in terms of spend)"
   ]
  },
  {
   "cell_type": "markdown",
   "id": "0801abf4",
   "metadata": {},
   "source": [
    "###  a. Monthly comparison of total spends, city wise"
   ]
  },
  {
   "cell_type": "markdown",
   "id": "e1b3e05e",
   "metadata": {},
   "source": [
    "#### Preparing the dataframe"
   ]
  },
  {
   "cell_type": "code",
   "execution_count": 40,
   "id": "a72d04ec",
   "metadata": {
    "ExecuteTime": {
     "end_time": "2022-09-17T22:39:03.076980Z",
     "start_time": "2022-09-17T22:39:03.047160Z"
    }
   },
   "outputs": [
    {
     "data": {
      "text/html": [
       "<div>\n",
       "<style scoped>\n",
       "    .dataframe tbody tr th:only-of-type {\n",
       "        vertical-align: middle;\n",
       "    }\n",
       "\n",
       "    .dataframe tbody tr th {\n",
       "        vertical-align: top;\n",
       "    }\n",
       "\n",
       "    .dataframe thead th {\n",
       "        text-align: right;\n",
       "    }\n",
       "</style>\n",
       "<table border=\"1\" class=\"dataframe\">\n",
       "  <thead>\n",
       "    <tr style=\"text-align: right;\">\n",
       "      <th></th>\n",
       "      <th>city</th>\n",
       "      <th>Total_Spend_per_Month</th>\n",
       "      <th>Months</th>\n",
       "    </tr>\n",
       "  </thead>\n",
       "  <tbody>\n",
       "    <tr>\n",
       "      <th>0</th>\n",
       "      <td>BANGALORE</td>\n",
       "      <td>8,684,706.32</td>\n",
       "      <td>2004-01</td>\n",
       "    </tr>\n",
       "    <tr>\n",
       "      <th>1</th>\n",
       "      <td>BOMBAY</td>\n",
       "      <td>5,204,207.72</td>\n",
       "      <td>2004-01</td>\n",
       "    </tr>\n",
       "    <tr>\n",
       "      <th>2</th>\n",
       "      <td>CALCUTTA</td>\n",
       "      <td>8,754,931.39</td>\n",
       "      <td>2004-01</td>\n",
       "    </tr>\n",
       "    <tr>\n",
       "      <th>3</th>\n",
       "      <td>CHENNAI</td>\n",
       "      <td>4,381,240.20</td>\n",
       "      <td>2004-01</td>\n",
       "    </tr>\n",
       "    <tr>\n",
       "      <th>4</th>\n",
       "      <td>COCHIN</td>\n",
       "      <td>10,481,875.06</td>\n",
       "      <td>2004-01</td>\n",
       "    </tr>\n",
       "  </tbody>\n",
       "</table>\n",
       "</div>"
      ],
      "text/plain": [
       "        city  Total_Spend_per_Month   Months\n",
       "0  BANGALORE           8,684,706.32  2004-01\n",
       "1     BOMBAY           5,204,207.72  2004-01\n",
       "2   CALCUTTA           8,754,931.39  2004-01\n",
       "3    CHENNAI           4,381,240.20  2004-01\n",
       "4     COCHIN          10,481,875.06  2004-01"
      ]
     },
     "execution_count": 40,
     "metadata": {},
     "output_type": "execute_result"
    }
   ],
   "source": [
    "df_sm = (df_s.groupby([pd.Grouper(key='s_date', freq='M'), 'city'])\n",
    "         .agg(Total_Spend_per_Month=pd.NamedAgg('s_amount', 'sum'))\n",
    "         .reset_index())\n",
    "df_sm['Months'] = df_sm.s_date.dt.strftime('%Y-%m')\n",
    "df_sm.drop(columns='s_date', inplace=True)\n",
    "df_sm.head()"
   ]
  },
  {
   "cell_type": "markdown",
   "id": "6c5729fd",
   "metadata": {},
   "source": [
    "#### Plotting the data"
   ]
  },
  {
   "cell_type": "code",
   "execution_count": 41,
   "id": "283792a1",
   "metadata": {
    "ExecuteTime": {
     "end_time": "2022-09-17T22:39:03.389665Z",
     "start_time": "2022-09-17T22:39:03.078013Z"
    },
    "scrolled": false
   },
   "outputs": [
    {
     "data": {
      "image/png": "[encoded data removed]",
      "text/plain": [
       "<Figure size 1152x576 with 1 Axes>"
      ]
     },
     "metadata": {},
     "output_type": "display_data"
    }
   ],
   "source": [
    "plt.rcParams['figure.figsize'] = (16, 8)\n",
    "sns.set(style='ticks', font_scale=1.25)\n",
    "g = sns.lineplot(x='Months',\n",
    "                 y='Total_Spend_per_Month',\n",
    "                 hue='city',\n",
    "                 palette='Set1',\n",
    "                 marker='o',\n",
    "                 data=df_sm)\n",
    "plt.ylabel('Total Spends / Months')\n",
    "plt.xlabel('Months')\n",
    "plt.xticks(rotation=45)\n",
    "plt.grid(True, linewidth=0.5, linestyle='-')\n",
    "plt.show()"
   ]
  },
  {
   "cell_type": "markdown",
   "id": "c02245ce",
   "metadata": {},
   "source": [
    "### b. Comparison of yearly spend on air tickets"
   ]
  },
  {
   "cell_type": "code",
   "execution_count": null,
   "id": "e77241b7",
   "metadata": {},
   "outputs": [],
   "source": []
  },
  {
   "cell_type": "markdown",
   "id": "d38afe32",
   "metadata": {},
   "source": [
    "### c. Comparison of monthly spend for each product (look for any seasonality that exists in terms of spend)"
   ]
  },
  {
   "cell_type": "code",
   "execution_count": null,
   "id": "eb1e37e9",
   "metadata": {},
   "outputs": [],
   "source": []
  },
  {
   "cell_type": "markdown",
   "id": "0b414d90",
   "metadata": {},
   "source": [
    "## Q5"
   ]
  },
  {
   "cell_type": "markdown",
   "id": "6f28d005",
   "metadata": {},
   "source": [
    "> 5. Write user defined PYTHON function to perform the following analysis:\n",
    "You need to find top 10 customers for each city in terms of their repayment amount by\n",
    "different products and by different time periods i.e. year or month. The user should be able\n",
    "to specify the product (Gold/Silver/Platinum) and time period (yearly or monthly) and the\n",
    "function should automatically take these inputs while identifying the top 10 customers."
   ]
  },
  {
   "cell_type": "code",
   "execution_count": null,
   "id": "fe3637d6",
   "metadata": {},
   "outputs": [],
   "source": []
  }
 ],
 "metadata": {
  "kernelspec": {
   "display_name": "Python 3 (ipykernel)",
   "language": "python",
   "name": "python3"
  },
  "language_info": {
   "codemirror_mode": {
    "name": "ipython",
    "version": 3
   },
   "file_extension": ".py",
   "mimetype": "text/x-python",
   "name": "python",
   "nbconvert_exporter": "python",
   "pygments_lexer": "ipython3",
   "version": "3.9.12"
  },
  "latex_envs": {
   "LaTeX_envs_menu_present": true,
   "autoclose": false,
   "autocomplete": true,
   "bibliofile": "biblio.bib",
   "cite_by": "apalike",
   "current_citInitial": 1,
   "eqLabelWithNumbers": true,
   "eqNumInitial": 1,
   "hotkeys": {
    "equation": "Ctrl-E",
    "itemize": "Ctrl-I"
   },
   "labels_anchors": false,
   "latex_user_defs": false,
   "report_style_numbering": false,
   "user_envs_cfg": false
  },
  "toc": {
   "base_numbering": 1,
   "nav_menu": {},
   "number_sections": true,
   "sideBar": true,
   "skip_h1_title": false,
   "title_cell": "Table of Contents",
   "title_sidebar": "Contents",
   "toc_cell": false,
   "toc_position": {},
   "toc_section_display": true,
   "toc_window_display": false
  },
  "varInspector": {
   "cols": {
    "lenName": 16,
    "lenType": 16,
    "lenVar": 40
   },
   "kernels_config": {
    "python": {
     "delete_cmd_postfix": "",
     "delete_cmd_prefix": "del ",
     "library": "var_list.py",
     "varRefreshCmd": "print(var_dic_list())"
    },
    "r": {
     "delete_cmd_postfix": ") ",
     "delete_cmd_prefix": "rm(",
     "library": "var_list.r",
     "varRefreshCmd": "cat(var_dic_list()) "
    }
   },
   "types_to_exclude": [
    "module",
    "function",
    "builtin_function_or_method",
    "instance",
    "_Feature"
   ],
   "window_display": false
  }
 },
 "nbformat": 4,
 "nbformat_minor": 5
}
