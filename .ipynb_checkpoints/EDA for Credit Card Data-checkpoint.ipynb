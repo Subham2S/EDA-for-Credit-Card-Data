{
 "cells": [
  {
   "cell_type": "code",
   "execution_count": null,
   "id": "df6c4296",
   "metadata": {},
   "outputs": [],
   "source": []
  },
  {
   "cell_type": "markdown",
   "id": "2d9bead9",
   "metadata": {},
   "source": [
    "# Importing packages"
   ]
  },
  {
   "cell_type": "code",
   "execution_count": 1,
   "id": "e4f6a334",
   "metadata": {
    "ExecuteTime": {
     "end_time": "2022-09-17T10:05:59.409223Z",
     "start_time": "2022-09-17T10:05:58.226637Z"
    }
   },
   "outputs": [],
   "source": [
    "import pandas as pd\n",
    "import numpy as np\n",
    "import matplotlib.pyplot as plt\n",
    "import matplotlib.patheffects as path_effects\n",
    "import seaborn as sns\n",
    "import warnings\n",
    "\n",
    "%matplotlib inline\n",
    "sns.set(style='ticks', font_scale=1.2)\n",
    "warnings.filterwarnings('ignore')"
   ]
  },
  {
   "cell_type": "markdown",
   "id": "4d9fabbf",
   "metadata": {},
   "source": [
    "# Data Ingestion"
   ]
  },
  {
   "cell_type": "markdown",
   "id": "6bf3b84f",
   "metadata": {},
   "source": [
    "## Loading data "
   ]
  },
  {
   "cell_type": "code",
   "execution_count": 2,
   "id": "c8ef2e91",
   "metadata": {
    "ExecuteTime": {
     "end_time": "2022-09-17T10:05:59.796858Z",
     "start_time": "2022-09-17T10:05:59.410268Z"
    }
   },
   "outputs": [],
   "source": [
    "try :\n",
    "    ca = pd.read_excel('./Credit Card Data.xlsx', sheet_name='Customer Acqusition')\n",
    "    r = pd.read_excel('./Credit Card Data.xlsx', sheet_name='Repayment')\n",
    "    s = pd.read_excel('./Credit Card Data.xlsx', sheet_name='Spend')\n",
    "except :\n",
    "    ca = pd.read_csv('./Customer Acqusition.csv')\n",
    "    r = pd.read_csv('./Repayment.csv')\n",
    "    s = pd.read_csv('./spend.csv')"
   ]
  },
  {
   "cell_type": "markdown",
   "id": "00ae2f70",
   "metadata": {},
   "source": [
    "### Customer Acquisition"
   ]
  },
  {
   "cell_type": "code",
   "execution_count": 3,
   "id": "a777e1ac",
   "metadata": {
    "ExecuteTime": {
     "end_time": "2022-09-17T10:05:59.812325Z",
     "start_time": "2022-09-17T10:05:59.797194Z"
    },
    "scrolled": true
   },
   "outputs": [
    {
     "name": "stdout",
     "output_type": "stream",
     "text": [
      "<class 'pandas.core.frame.DataFrame'>\n",
      "RangeIndex: 100 entries, 0 to 99\n",
      "Data columns (total 8 columns):\n",
      " #   Column    Non-Null Count  Dtype  \n",
      "---  ------    --------------  -----  \n",
      " 0   No        100 non-null    int64  \n",
      " 1   Customer  100 non-null    object \n",
      " 2   Age       100 non-null    float64\n",
      " 3   City      100 non-null    object \n",
      " 4   Product   100 non-null    object \n",
      " 5   Limit     100 non-null    int64  \n",
      " 6   Company   100 non-null    object \n",
      " 7   Segment   100 non-null    object \n",
      "dtypes: float64(1), int64(2), object(5)\n",
      "memory usage: 6.4+ KB\n"
     ]
    }
   ],
   "source": [
    "ca.info()"
   ]
  },
  {
   "cell_type": "code",
   "execution_count": 4,
   "id": "5a44b253",
   "metadata": {
    "ExecuteTime": {
     "end_time": "2022-09-17T10:05:59.828272Z",
     "start_time": "2022-09-17T10:05:59.813268Z"
    }
   },
   "outputs": [
    {
     "data": {
      "text/html": [
       "<div>\n",
       "<style scoped>\n",
       "    .dataframe tbody tr th:only-of-type {\n",
       "        vertical-align: middle;\n",
       "    }\n",
       "\n",
       "    .dataframe tbody tr th {\n",
       "        vertical-align: top;\n",
       "    }\n",
       "\n",
       "    .dataframe thead th {\n",
       "        text-align: right;\n",
       "    }\n",
       "</style>\n",
       "<table border=\"1\" class=\"dataframe\">\n",
       "  <thead>\n",
       "    <tr style=\"text-align: right;\">\n",
       "      <th></th>\n",
       "      <th>No</th>\n",
       "      <th>Customer</th>\n",
       "      <th>Age</th>\n",
       "      <th>City</th>\n",
       "      <th>Product</th>\n",
       "      <th>Limit</th>\n",
       "      <th>Company</th>\n",
       "      <th>Segment</th>\n",
       "    </tr>\n",
       "  </thead>\n",
       "  <tbody>\n",
       "    <tr>\n",
       "      <th>0</th>\n",
       "      <td>1</td>\n",
       "      <td>A1</td>\n",
       "      <td>19.389224</td>\n",
       "      <td>BANGALORE</td>\n",
       "      <td>Gold</td>\n",
       "      <td>500000</td>\n",
       "      <td>C1</td>\n",
       "      <td>Self Employed</td>\n",
       "    </tr>\n",
       "    <tr>\n",
       "      <th>1</th>\n",
       "      <td>2</td>\n",
       "      <td>A2</td>\n",
       "      <td>27.422016</td>\n",
       "      <td>CALCUTTA</td>\n",
       "      <td>Silver</td>\n",
       "      <td>100000</td>\n",
       "      <td>C2</td>\n",
       "      <td>Salaried_MNC</td>\n",
       "    </tr>\n",
       "    <tr>\n",
       "      <th>2</th>\n",
       "      <td>3</td>\n",
       "      <td>A3</td>\n",
       "      <td>76.317327</td>\n",
       "      <td>COCHIN</td>\n",
       "      <td>Platimum</td>\n",
       "      <td>10000</td>\n",
       "      <td>C3</td>\n",
       "      <td>Salaried_Pvt</td>\n",
       "    </tr>\n",
       "    <tr>\n",
       "      <th>3</th>\n",
       "      <td>4</td>\n",
       "      <td>A4</td>\n",
       "      <td>69.117125</td>\n",
       "      <td>BOMBAY</td>\n",
       "      <td>Platimum</td>\n",
       "      <td>10001</td>\n",
       "      <td>C4</td>\n",
       "      <td>Govt</td>\n",
       "    </tr>\n",
       "    <tr>\n",
       "      <th>4</th>\n",
       "      <td>5</td>\n",
       "      <td>A5</td>\n",
       "      <td>43.681079</td>\n",
       "      <td>BANGALORE</td>\n",
       "      <td>Platimum</td>\n",
       "      <td>10002</td>\n",
       "      <td>C5</td>\n",
       "      <td>Normal Salary</td>\n",
       "    </tr>\n",
       "  </tbody>\n",
       "</table>\n",
       "</div>"
      ],
      "text/plain": [
       "   No Customer        Age       City   Product   Limit Company        Segment\n",
       "0   1       A1  19.389224  BANGALORE      Gold  500000      C1  Self Employed\n",
       "1   2       A2  27.422016   CALCUTTA    Silver  100000      C2   Salaried_MNC\n",
       "2   3       A3  76.317327     COCHIN  Platimum   10000      C3   Salaried_Pvt\n",
       "3   4       A4  69.117125     BOMBAY  Platimum   10001      C4           Govt\n",
       "4   5       A5  43.681079  BANGALORE  Platimum   10002      C5  Normal Salary"
      ]
     },
     "execution_count": 4,
     "metadata": {},
     "output_type": "execute_result"
    }
   ],
   "source": [
    "ca.head()"
   ]
  },
  {
   "cell_type": "code",
   "execution_count": 5,
   "id": "d363b1ae",
   "metadata": {
    "ExecuteTime": {
     "end_time": "2022-09-17T10:05:59.844378Z",
     "start_time": "2022-09-17T10:05:59.829268Z"
    }
   },
   "outputs": [],
   "source": [
    "# Fixing column names\n",
    "ca.columns = ca.columns.str.lower().str.strip()"
   ]
  },
  {
   "cell_type": "code",
   "execution_count": 6,
   "id": "0d9e633e",
   "metadata": {
    "ExecuteTime": {
     "end_time": "2022-09-17T10:05:59.860159Z",
     "start_time": "2022-09-17T10:05:59.845419Z"
    }
   },
   "outputs": [
    {
     "data": {
      "text/plain": [
       "no          0\n",
       "customer    0\n",
       "age         0\n",
       "city        0\n",
       "product     0\n",
       "limit       0\n",
       "company     0\n",
       "segment     0\n",
       "dtype: int64"
      ]
     },
     "execution_count": 6,
     "metadata": {},
     "output_type": "execute_result"
    }
   ],
   "source": [
    "ca.isnull().sum()"
   ]
  },
  {
   "cell_type": "code",
   "execution_count": 7,
   "id": "fc5c5e46",
   "metadata": {
    "ExecuteTime": {
     "end_time": "2022-09-17T10:05:59.875644Z",
     "start_time": "2022-09-17T10:05:59.861219Z"
    }
   },
   "outputs": [
    {
     "name": "stdout",
     "output_type": "stream",
     "text": [
      "(100, 8)\n",
      "(100, 8)\n"
     ]
    }
   ],
   "source": [
    "print(ca.shape)\n",
    "ca.drop_duplicates(inplace=True)\n",
    "print(ca.shape)"
   ]
  },
  {
   "cell_type": "markdown",
   "id": "adcad674",
   "metadata": {},
   "source": [
    "### Repayment"
   ]
  },
  {
   "cell_type": "code",
   "execution_count": 8,
   "id": "ecb2d0f8",
   "metadata": {
    "ExecuteTime": {
     "end_time": "2022-09-17T10:05:59.890930Z",
     "start_time": "2022-09-17T10:05:59.876766Z"
    }
   },
   "outputs": [
    {
     "name": "stdout",
     "output_type": "stream",
     "text": [
      "<class 'pandas.core.frame.DataFrame'>\n",
      "RangeIndex: 1500 entries, 0 to 1499\n",
      "Data columns (total 4 columns):\n",
      " #   Column    Non-Null Count  Dtype         \n",
      "---  ------    --------------  -----         \n",
      " 0   SL No:    1500 non-null   int64         \n",
      " 1   Customer  1500 non-null   object        \n",
      " 2   Month     1500 non-null   datetime64[ns]\n",
      " 3   Amount    1500 non-null   float64       \n",
      "dtypes: datetime64[ns](1), float64(1), int64(1), object(1)\n",
      "memory usage: 47.0+ KB\n"
     ]
    }
   ],
   "source": [
    "r.info()"
   ]
  },
  {
   "cell_type": "code",
   "execution_count": 9,
   "id": "c0859885",
   "metadata": {
    "ExecuteTime": {
     "end_time": "2022-09-17T10:05:59.906510Z",
     "start_time": "2022-09-17T10:05:59.892429Z"
    }
   },
   "outputs": [
    {
     "data": {
      "text/html": [
       "<div>\n",
       "<style scoped>\n",
       "    .dataframe tbody tr th:only-of-type {\n",
       "        vertical-align: middle;\n",
       "    }\n",
       "\n",
       "    .dataframe tbody tr th {\n",
       "        vertical-align: top;\n",
       "    }\n",
       "\n",
       "    .dataframe thead th {\n",
       "        text-align: right;\n",
       "    }\n",
       "</style>\n",
       "<table border=\"1\" class=\"dataframe\">\n",
       "  <thead>\n",
       "    <tr style=\"text-align: right;\">\n",
       "      <th></th>\n",
       "      <th>SL No:</th>\n",
       "      <th>Customer</th>\n",
       "      <th>Month</th>\n",
       "      <th>Amount</th>\n",
       "    </tr>\n",
       "  </thead>\n",
       "  <tbody>\n",
       "    <tr>\n",
       "      <th>0</th>\n",
       "      <td>1</td>\n",
       "      <td>A1</td>\n",
       "      <td>2004-01-12</td>\n",
       "      <td>338932.141919</td>\n",
       "    </tr>\n",
       "    <tr>\n",
       "      <th>1</th>\n",
       "      <td>2</td>\n",
       "      <td>A1</td>\n",
       "      <td>2004-01-03</td>\n",
       "      <td>131778.688758</td>\n",
       "    </tr>\n",
       "    <tr>\n",
       "      <th>2</th>\n",
       "      <td>3</td>\n",
       "      <td>A1</td>\n",
       "      <td>2004-01-15</td>\n",
       "      <td>485981.516736</td>\n",
       "    </tr>\n",
       "    <tr>\n",
       "      <th>3</th>\n",
       "      <td>4</td>\n",
       "      <td>A1</td>\n",
       "      <td>2004-01-25</td>\n",
       "      <td>452865.826385</td>\n",
       "    </tr>\n",
       "    <tr>\n",
       "      <th>4</th>\n",
       "      <td>5</td>\n",
       "      <td>A1</td>\n",
       "      <td>2005-01-17</td>\n",
       "      <td>154684.838196</td>\n",
       "    </tr>\n",
       "  </tbody>\n",
       "</table>\n",
       "</div>"
      ],
      "text/plain": [
       "   SL No: Customer      Month         Amount\n",
       "0       1       A1 2004-01-12  338932.141919\n",
       "1       2       A1 2004-01-03  131778.688758\n",
       "2       3       A1 2004-01-15  485981.516736\n",
       "3       4       A1 2004-01-25  452865.826385\n",
       "4       5       A1 2005-01-17  154684.838196"
      ]
     },
     "execution_count": 9,
     "metadata": {},
     "output_type": "execute_result"
    }
   ],
   "source": [
    "r.head()"
   ]
  },
  {
   "cell_type": "code",
   "execution_count": 10,
   "id": "317dd33d",
   "metadata": {
    "ExecuteTime": {
     "end_time": "2022-09-17T10:05:59.922012Z",
     "start_time": "2022-09-17T10:05:59.908015Z"
    }
   },
   "outputs": [],
   "source": [
    "# Fixing column names\n",
    "r.columns = r.columns.str.lower().str.strip().str.replace(' ', '_').str.replace(':', '')\n",
    "r.rename(columns={'month' : 'r_date', 'amount' : 'r_amount'}, inplace=True)"
   ]
  },
  {
   "cell_type": "code",
   "execution_count": 11,
   "id": "8c493559",
   "metadata": {
    "ExecuteTime": {
     "end_time": "2022-09-17T10:05:59.937522Z",
     "start_time": "2022-09-17T10:05:59.923009Z"
    }
   },
   "outputs": [
    {
     "data": {
      "text/plain": [
       "sl_no       0\n",
       "customer    0\n",
       "r_date      0\n",
       "r_amount    0\n",
       "dtype: int64"
      ]
     },
     "execution_count": 11,
     "metadata": {},
     "output_type": "execute_result"
    }
   ],
   "source": [
    "r.isnull().sum()"
   ]
  },
  {
   "cell_type": "code",
   "execution_count": 12,
   "id": "f7f7955a",
   "metadata": {
    "ExecuteTime": {
     "end_time": "2022-09-17T10:05:59.952455Z",
     "start_time": "2022-09-17T10:05:59.938564Z"
    }
   },
   "outputs": [
    {
     "name": "stdout",
     "output_type": "stream",
     "text": [
      "(1500, 4)\n",
      "(1500, 4)\n"
     ]
    }
   ],
   "source": [
    "print(r.shape)\n",
    "r.drop_duplicates(inplace=True)\n",
    "print(r.shape)"
   ]
  },
  {
   "cell_type": "markdown",
   "id": "132c03fd",
   "metadata": {
    "ExecuteTime": {
     "end_time": "2022-09-17T09:28:38.073821Z",
     "start_time": "2022-09-17T09:28:38.026273Z"
    }
   },
   "source": [
    "### Spend"
   ]
  },
  {
   "cell_type": "code",
   "execution_count": 13,
   "id": "360b9325",
   "metadata": {
    "ExecuteTime": {
     "end_time": "2022-09-17T10:05:59.967564Z",
     "start_time": "2022-09-17T10:05:59.953500Z"
    }
   },
   "outputs": [
    {
     "name": "stdout",
     "output_type": "stream",
     "text": [
      "<class 'pandas.core.frame.DataFrame'>\n",
      "RangeIndex: 1500 entries, 0 to 1499\n",
      "Data columns (total 5 columns):\n",
      " #   Column    Non-Null Count  Dtype         \n",
      "---  ------    --------------  -----         \n",
      " 0   Sl No:    1500 non-null   int64         \n",
      " 1   Customer  1500 non-null   object        \n",
      " 2   Month     1500 non-null   datetime64[ns]\n",
      " 3   Type      1500 non-null   object        \n",
      " 4   Amount    1500 non-null   float64       \n",
      "dtypes: datetime64[ns](1), float64(1), int64(1), object(2)\n",
      "memory usage: 58.7+ KB\n"
     ]
    }
   ],
   "source": [
    "s.info()"
   ]
  },
  {
   "cell_type": "code",
   "execution_count": 14,
   "id": "f30032e2",
   "metadata": {
    "ExecuteTime": {
     "end_time": "2022-09-17T10:05:59.983171Z",
     "start_time": "2022-09-17T10:05:59.969034Z"
    }
   },
   "outputs": [
    {
     "data": {
      "text/html": [
       "<div>\n",
       "<style scoped>\n",
       "    .dataframe tbody tr th:only-of-type {\n",
       "        vertical-align: middle;\n",
       "    }\n",
       "\n",
       "    .dataframe tbody tr th {\n",
       "        vertical-align: top;\n",
       "    }\n",
       "\n",
       "    .dataframe thead th {\n",
       "        text-align: right;\n",
       "    }\n",
       "</style>\n",
       "<table border=\"1\" class=\"dataframe\">\n",
       "  <thead>\n",
       "    <tr style=\"text-align: right;\">\n",
       "      <th></th>\n",
       "      <th>Sl No:</th>\n",
       "      <th>Customer</th>\n",
       "      <th>Month</th>\n",
       "      <th>Type</th>\n",
       "      <th>Amount</th>\n",
       "    </tr>\n",
       "  </thead>\n",
       "  <tbody>\n",
       "    <tr>\n",
       "      <th>0</th>\n",
       "      <td>1</td>\n",
       "      <td>A1</td>\n",
       "      <td>2004-01-12</td>\n",
       "      <td>JEWELLERY</td>\n",
       "      <td>344054.980813</td>\n",
       "    </tr>\n",
       "    <tr>\n",
       "      <th>1</th>\n",
       "      <td>2</td>\n",
       "      <td>A1</td>\n",
       "      <td>2004-01-03</td>\n",
       "      <td>PETRO</td>\n",
       "      <td>467747.601626</td>\n",
       "    </tr>\n",
       "    <tr>\n",
       "      <th>2</th>\n",
       "      <td>3</td>\n",
       "      <td>A1</td>\n",
       "      <td>2004-01-15</td>\n",
       "      <td>CLOTHES</td>\n",
       "      <td>86878.954735</td>\n",
       "    </tr>\n",
       "    <tr>\n",
       "      <th>3</th>\n",
       "      <td>4</td>\n",
       "      <td>A1</td>\n",
       "      <td>2004-01-25</td>\n",
       "      <td>FOOD</td>\n",
       "      <td>269175.011875</td>\n",
       "    </tr>\n",
       "    <tr>\n",
       "      <th>4</th>\n",
       "      <td>5</td>\n",
       "      <td>A1</td>\n",
       "      <td>2005-01-17</td>\n",
       "      <td>CAMERA</td>\n",
       "      <td>3406.639477</td>\n",
       "    </tr>\n",
       "  </tbody>\n",
       "</table>\n",
       "</div>"
      ],
      "text/plain": [
       "   Sl No: Customer      Month       Type         Amount\n",
       "0       1       A1 2004-01-12  JEWELLERY  344054.980813\n",
       "1       2       A1 2004-01-03      PETRO  467747.601626\n",
       "2       3       A1 2004-01-15    CLOTHES   86878.954735\n",
       "3       4       A1 2004-01-25       FOOD  269175.011875\n",
       "4       5       A1 2005-01-17     CAMERA    3406.639477"
      ]
     },
     "execution_count": 14,
     "metadata": {},
     "output_type": "execute_result"
    }
   ],
   "source": [
    "s.head()"
   ]
  },
  {
   "cell_type": "code",
   "execution_count": 15,
   "id": "d0113856",
   "metadata": {
    "ExecuteTime": {
     "end_time": "2022-09-17T10:05:59.998265Z",
     "start_time": "2022-09-17T10:05:59.984187Z"
    }
   },
   "outputs": [],
   "source": [
    "# Fixing column names\n",
    "s.columns = s.columns.str.lower().str.strip().str.replace(' ', '_').str.replace(':', '')\n",
    "s.rename(columns={'month' : 's_date', 'amount' : 's_amount'}, inplace=True)"
   ]
  },
  {
   "cell_type": "code",
   "execution_count": 16,
   "id": "686331a6",
   "metadata": {
    "ExecuteTime": {
     "end_time": "2022-09-17T10:06:00.013384Z",
     "start_time": "2022-09-17T10:05:59.999782Z"
    }
   },
   "outputs": [
    {
     "data": {
      "text/plain": [
       "sl_no       0\n",
       "customer    0\n",
       "s_date      0\n",
       "type        0\n",
       "s_amount    0\n",
       "dtype: int64"
      ]
     },
     "execution_count": 16,
     "metadata": {},
     "output_type": "execute_result"
    }
   ],
   "source": [
    "s.isnull().sum()"
   ]
  },
  {
   "cell_type": "code",
   "execution_count": 17,
   "id": "f21cc5a4",
   "metadata": {
    "ExecuteTime": {
     "end_time": "2022-09-17T10:06:00.029162Z",
     "start_time": "2022-09-17T10:06:00.015528Z"
    }
   },
   "outputs": [
    {
     "name": "stdout",
     "output_type": "stream",
     "text": [
      "(1500, 5)\n",
      "(1500, 5)\n"
     ]
    }
   ],
   "source": [
    "print(s.shape)\n",
    "s.drop_duplicates(inplace=True)\n",
    "print(s.shape)"
   ]
  },
  {
   "cell_type": "markdown",
   "id": "c593dd0b",
   "metadata": {},
   "source": [
    "## Creating Final Table"
   ]
  },
  {
   "cell_type": "code",
   "execution_count": 18,
   "id": "13982b2d",
   "metadata": {
    "ExecuteTime": {
     "end_time": "2022-09-17T10:06:00.060128Z",
     "start_time": "2022-09-17T10:06:00.030203Z"
    }
   },
   "outputs": [
    {
     "data": {
      "text/html": [
       "<div>\n",
       "<style scoped>\n",
       "    .dataframe tbody tr th:only-of-type {\n",
       "        vertical-align: middle;\n",
       "    }\n",
       "\n",
       "    .dataframe tbody tr th {\n",
       "        vertical-align: top;\n",
       "    }\n",
       "\n",
       "    .dataframe thead th {\n",
       "        text-align: right;\n",
       "    }\n",
       "</style>\n",
       "<table border=\"1\" class=\"dataframe\">\n",
       "  <thead>\n",
       "    <tr style=\"text-align: right;\">\n",
       "      <th></th>\n",
       "      <th>no</th>\n",
       "      <th>customer</th>\n",
       "      <th>age</th>\n",
       "      <th>city</th>\n",
       "      <th>product</th>\n",
       "      <th>limit</th>\n",
       "      <th>company</th>\n",
       "      <th>segment</th>\n",
       "      <th>sl_no_x</th>\n",
       "      <th>r_date</th>\n",
       "      <th>r_amount</th>\n",
       "      <th>sl_no_y</th>\n",
       "      <th>s_date</th>\n",
       "      <th>type</th>\n",
       "      <th>s_amount</th>\n",
       "    </tr>\n",
       "  </thead>\n",
       "  <tbody>\n",
       "    <tr>\n",
       "      <th>0</th>\n",
       "      <td>1</td>\n",
       "      <td>A1</td>\n",
       "      <td>19.389224</td>\n",
       "      <td>BANGALORE</td>\n",
       "      <td>Gold</td>\n",
       "      <td>500000</td>\n",
       "      <td>C1</td>\n",
       "      <td>Self Employed</td>\n",
       "      <td>1</td>\n",
       "      <td>2004-01-12</td>\n",
       "      <td>338932.141919</td>\n",
       "      <td>1</td>\n",
       "      <td>2004-01-12</td>\n",
       "      <td>JEWELLERY</td>\n",
       "      <td>344054.980813</td>\n",
       "    </tr>\n",
       "    <tr>\n",
       "      <th>1</th>\n",
       "      <td>1</td>\n",
       "      <td>A1</td>\n",
       "      <td>19.389224</td>\n",
       "      <td>BANGALORE</td>\n",
       "      <td>Gold</td>\n",
       "      <td>500000</td>\n",
       "      <td>C1</td>\n",
       "      <td>Self Employed</td>\n",
       "      <td>1</td>\n",
       "      <td>2004-01-12</td>\n",
       "      <td>338932.141919</td>\n",
       "      <td>2</td>\n",
       "      <td>2004-01-03</td>\n",
       "      <td>PETRO</td>\n",
       "      <td>467747.601626</td>\n",
       "    </tr>\n",
       "    <tr>\n",
       "      <th>2</th>\n",
       "      <td>1</td>\n",
       "      <td>A1</td>\n",
       "      <td>19.389224</td>\n",
       "      <td>BANGALORE</td>\n",
       "      <td>Gold</td>\n",
       "      <td>500000</td>\n",
       "      <td>C1</td>\n",
       "      <td>Self Employed</td>\n",
       "      <td>1</td>\n",
       "      <td>2004-01-12</td>\n",
       "      <td>338932.141919</td>\n",
       "      <td>3</td>\n",
       "      <td>2004-01-15</td>\n",
       "      <td>CLOTHES</td>\n",
       "      <td>86878.954735</td>\n",
       "    </tr>\n",
       "    <tr>\n",
       "      <th>3</th>\n",
       "      <td>1</td>\n",
       "      <td>A1</td>\n",
       "      <td>19.389224</td>\n",
       "      <td>BANGALORE</td>\n",
       "      <td>Gold</td>\n",
       "      <td>500000</td>\n",
       "      <td>C1</td>\n",
       "      <td>Self Employed</td>\n",
       "      <td>1</td>\n",
       "      <td>2004-01-12</td>\n",
       "      <td>338932.141919</td>\n",
       "      <td>4</td>\n",
       "      <td>2004-01-25</td>\n",
       "      <td>FOOD</td>\n",
       "      <td>269175.011875</td>\n",
       "    </tr>\n",
       "    <tr>\n",
       "      <th>4</th>\n",
       "      <td>1</td>\n",
       "      <td>A1</td>\n",
       "      <td>19.389224</td>\n",
       "      <td>BANGALORE</td>\n",
       "      <td>Gold</td>\n",
       "      <td>500000</td>\n",
       "      <td>C1</td>\n",
       "      <td>Self Employed</td>\n",
       "      <td>1</td>\n",
       "      <td>2004-01-12</td>\n",
       "      <td>338932.141919</td>\n",
       "      <td>5</td>\n",
       "      <td>2005-01-17</td>\n",
       "      <td>CAMERA</td>\n",
       "      <td>3406.639477</td>\n",
       "    </tr>\n",
       "  </tbody>\n",
       "</table>\n",
       "</div>"
      ],
      "text/plain": [
       "   no customer        age       city product   limit company        segment  \\\n",
       "0   1       A1  19.389224  BANGALORE    Gold  500000      C1  Self Employed   \n",
       "1   1       A1  19.389224  BANGALORE    Gold  500000      C1  Self Employed   \n",
       "2   1       A1  19.389224  BANGALORE    Gold  500000      C1  Self Employed   \n",
       "3   1       A1  19.389224  BANGALORE    Gold  500000      C1  Self Employed   \n",
       "4   1       A1  19.389224  BANGALORE    Gold  500000      C1  Self Employed   \n",
       "\n",
       "   sl_no_x     r_date       r_amount  sl_no_y     s_date       type  \\\n",
       "0        1 2004-01-12  338932.141919        1 2004-01-12  JEWELLERY   \n",
       "1        1 2004-01-12  338932.141919        2 2004-01-03      PETRO   \n",
       "2        1 2004-01-12  338932.141919        3 2004-01-15    CLOTHES   \n",
       "3        1 2004-01-12  338932.141919        4 2004-01-25       FOOD   \n",
       "4        1 2004-01-12  338932.141919        5 2005-01-17     CAMERA   \n",
       "\n",
       "        s_amount  \n",
       "0  344054.980813  \n",
       "1  467747.601626  \n",
       "2   86878.954735  \n",
       "3  269175.011875  \n",
       "4    3406.639477  "
      ]
     },
     "execution_count": 18,
     "metadata": {},
     "output_type": "execute_result"
    }
   ],
   "source": [
    "df = pd.merge(pd.merge(ca, r, on='customer'), s, on='customer')\n",
    "df.head()"
   ]
  },
  {
   "cell_type": "code",
   "execution_count": 19,
   "id": "4f34dd4a",
   "metadata": {
    "ExecuteTime": {
     "end_time": "2022-09-17T10:06:00.075950Z",
     "start_time": "2022-09-17T10:06:00.061165Z"
    }
   },
   "outputs": [
    {
     "data": {
      "text/plain": [
       "(37284, 15)"
      ]
     },
     "execution_count": 19,
     "metadata": {},
     "output_type": "execute_result"
    }
   ],
   "source": [
    "df.shape"
   ]
  },
  {
   "cell_type": "markdown",
   "id": "1dd445d4",
   "metadata": {},
   "source": [
    "<p style=\"background-color:Blue; color:White; text-align: center; font-size:16px; font-family:Monospace\"><b>\n",
    "##################################<br>\n",
    "## Data Ingestion is completed. ##<br>\n",
    "##################################\n",
    "</p>\n"
   ]
  },
  {
   "cell_type": "markdown",
   "id": "c0d41257",
   "metadata": {},
   "source": [
    "# Exploratory Data Analysis"
   ]
  },
  {
   "cell_type": "markdown",
   "id": "66472aa4",
   "metadata": {},
   "source": [
    "## Q1\n",
    "> 1. In the above dataset,\n",
    "     - a. In case age is less than 18, replace it with mean of age values. <br>\n",
    "     - b. In case spend amount is more than the limit, replace it with 50% of that customer’s limit. (customer’s limit provided in acquisition table is the per transaction limit on his card)<br>\n",
    "     - c. Incase the repayment amount is more than the limit, replace the repayment with the\n",
    "limit."
   ]
  },
  {
   "cell_type": "markdown",
   "id": "16ee577c",
   "metadata": {},
   "source": [
    "### a. In case age is less than 18, replace it with mean of age values. "
   ]
  },
  {
   "cell_type": "code",
   "execution_count": 20,
   "id": "bf162803",
   "metadata": {
    "ExecuteTime": {
     "end_time": "2022-09-17T10:06:00.307577Z",
     "start_time": "2022-09-17T10:06:00.076954Z"
    }
   },
   "outputs": [
    {
     "name": "stdout",
     "output_type": "stream",
     "text": [
      "7110\n",
      "0\n"
     ]
    }
   ],
   "source": [
    "print(df.age[df.age < 18].count())\n",
    "df.age[df.age < 18] = ca.age.mean()\n",
    "print(df.age[df.age < 18].count())"
   ]
  },
  {
   "cell_type": "markdown",
   "id": "9338f796",
   "metadata": {},
   "source": [
    "### b. In case spend amount is more than the limit, replace it with 50% of that customer’s limit."
   ]
  },
  {
   "cell_type": "code",
   "execution_count": 37,
   "id": "4f59055c",
   "metadata": {
    "ExecuteTime": {
     "end_time": "2022-09-17T10:19:21.254637Z",
     "start_time": "2022-09-17T10:19:20.674930Z"
    },
    "scrolled": false
   },
   "outputs": [
    {
     "data": {
      "text/html": [
       "<div>\n",
       "<style scoped>\n",
       "    .dataframe tbody tr th:only-of-type {\n",
       "        vertical-align: middle;\n",
       "    }\n",
       "\n",
       "    .dataframe tbody tr th {\n",
       "        vertical-align: top;\n",
       "    }\n",
       "\n",
       "    .dataframe thead th {\n",
       "        text-align: right;\n",
       "    }\n",
       "</style>\n",
       "<table border=\"1\" class=\"dataframe\">\n",
       "  <thead>\n",
       "    <tr style=\"text-align: right;\">\n",
       "      <th></th>\n",
       "      <th>no</th>\n",
       "      <th>customer</th>\n",
       "      <th>age</th>\n",
       "      <th>city</th>\n",
       "      <th>product</th>\n",
       "      <th>limit</th>\n",
       "      <th>company</th>\n",
       "      <th>segment</th>\n",
       "      <th>sl_no_x</th>\n",
       "      <th>r_date</th>\n",
       "      <th>r_amount</th>\n",
       "      <th>sl_no_y</th>\n",
       "      <th>s_date</th>\n",
       "      <th>type</th>\n",
       "      <th>s_amount</th>\n",
       "    </tr>\n",
       "  </thead>\n",
       "  <tbody>\n",
       "    <tr>\n",
       "      <th>325</th>\n",
       "      <td>2</td>\n",
       "      <td>A2</td>\n",
       "      <td>27.422016</td>\n",
       "      <td>CALCUTTA</td>\n",
       "      <td>Silver</td>\n",
       "      <td>100000</td>\n",
       "      <td>C2</td>\n",
       "      <td>Salaried_MNC</td>\n",
       "      <td>104</td>\n",
       "      <td>2004-01-03</td>\n",
       "      <td>447693.67793</td>\n",
       "      <td>118</td>\n",
       "      <td>2005-02-28</td>\n",
       "      <td>TRAIN TICKET</td>\n",
       "      <td>50000.0</td>\n",
       "    </tr>\n",
       "    <tr>\n",
       "      <th>327</th>\n",
       "      <td>2</td>\n",
       "      <td>A2</td>\n",
       "      <td>27.422016</td>\n",
       "      <td>CALCUTTA</td>\n",
       "      <td>Silver</td>\n",
       "      <td>100000</td>\n",
       "      <td>C2</td>\n",
       "      <td>Salaried_MNC</td>\n",
       "      <td>104</td>\n",
       "      <td>2004-01-03</td>\n",
       "      <td>447693.67793</td>\n",
       "      <td>146</td>\n",
       "      <td>2004-11-23</td>\n",
       "      <td>PETRO</td>\n",
       "      <td>50000.0</td>\n",
       "    </tr>\n",
       "    <tr>\n",
       "      <th>328</th>\n",
       "      <td>2</td>\n",
       "      <td>A2</td>\n",
       "      <td>27.422016</td>\n",
       "      <td>CALCUTTA</td>\n",
       "      <td>Silver</td>\n",
       "      <td>100000</td>\n",
       "      <td>C2</td>\n",
       "      <td>Salaried_MNC</td>\n",
       "      <td>104</td>\n",
       "      <td>2004-01-03</td>\n",
       "      <td>447693.67793</td>\n",
       "      <td>160</td>\n",
       "      <td>2005-09-03</td>\n",
       "      <td>JEWELLERY</td>\n",
       "      <td>50000.0</td>\n",
       "    </tr>\n",
       "    <tr>\n",
       "      <th>329</th>\n",
       "      <td>2</td>\n",
       "      <td>A2</td>\n",
       "      <td>27.422016</td>\n",
       "      <td>CALCUTTA</td>\n",
       "      <td>Silver</td>\n",
       "      <td>100000</td>\n",
       "      <td>C2</td>\n",
       "      <td>Salaried_MNC</td>\n",
       "      <td>104</td>\n",
       "      <td>2004-01-03</td>\n",
       "      <td>447693.67793</td>\n",
       "      <td>174</td>\n",
       "      <td>2006-11-03</td>\n",
       "      <td>MOVIE TICKET</td>\n",
       "      <td>50000.0</td>\n",
       "    </tr>\n",
       "    <tr>\n",
       "      <th>330</th>\n",
       "      <td>2</td>\n",
       "      <td>A2</td>\n",
       "      <td>27.422016</td>\n",
       "      <td>CALCUTTA</td>\n",
       "      <td>Silver</td>\n",
       "      <td>100000</td>\n",
       "      <td>C2</td>\n",
       "      <td>Salaried_MNC</td>\n",
       "      <td>104</td>\n",
       "      <td>2004-01-03</td>\n",
       "      <td>447693.67793</td>\n",
       "      <td>188</td>\n",
       "      <td>2006-02-04</td>\n",
       "      <td>FOOD</td>\n",
       "      <td>50000.0</td>\n",
       "    </tr>\n",
       "  </tbody>\n",
       "</table>\n",
       "</div>"
      ],
      "text/plain": [
       "     no customer        age      city product   limit company       segment  \\\n",
       "325   2       A2  27.422016  CALCUTTA  Silver  100000      C2  Salaried_MNC   \n",
       "327   2       A2  27.422016  CALCUTTA  Silver  100000      C2  Salaried_MNC   \n",
       "328   2       A2  27.422016  CALCUTTA  Silver  100000      C2  Salaried_MNC   \n",
       "329   2       A2  27.422016  CALCUTTA  Silver  100000      C2  Salaried_MNC   \n",
       "330   2       A2  27.422016  CALCUTTA  Silver  100000      C2  Salaried_MNC   \n",
       "\n",
       "     sl_no_x     r_date      r_amount  sl_no_y     s_date          type  \\\n",
       "325      104 2004-01-03  447693.67793      118 2005-02-28  TRAIN TICKET   \n",
       "327      104 2004-01-03  447693.67793      146 2004-11-23         PETRO   \n",
       "328      104 2004-01-03  447693.67793      160 2005-09-03     JEWELLERY   \n",
       "329      104 2004-01-03  447693.67793      174 2006-11-03  MOVIE TICKET   \n",
       "330      104 2004-01-03  447693.67793      188 2006-02-04          FOOD   \n",
       "\n",
       "     s_amount  \n",
       "325   50000.0  \n",
       "327   50000.0  \n",
       "328   50000.0  \n",
       "329   50000.0  \n",
       "330   50000.0  "
      ]
     },
     "execution_count": 37,
     "metadata": {},
     "output_type": "execute_result"
    }
   ],
   "source": [
    "df.s_amount = df.apply(lambda x: x.limit * 0.5\n",
    "                       if x.s_amount > x.limit \n",
    "                       else x.s_amount,\n",
    "                       axis=1)\n",
    "df[df.s_amount == df.limit / 2].head()"
   ]
  },
  {
   "cell_type": "markdown",
   "id": "09bdaf29",
   "metadata": {},
   "source": [
    "### c. In case the repayment amount is more than the limit, replace the repayment with the limit."
   ]
  },
  {
   "cell_type": "code",
   "execution_count": 38,
   "id": "a9d41a57",
   "metadata": {
    "ExecuteTime": {
     "end_time": "2022-09-17T10:31:57.419089Z",
     "start_time": "2022-09-17T10:31:56.833872Z"
    }
   },
   "outputs": [
    {
     "data": {
      "text/html": [
       "<div>\n",
       "<style scoped>\n",
       "    .dataframe tbody tr th:only-of-type {\n",
       "        vertical-align: middle;\n",
       "    }\n",
       "\n",
       "    .dataframe tbody tr th {\n",
       "        vertical-align: top;\n",
       "    }\n",
       "\n",
       "    .dataframe thead th {\n",
       "        text-align: right;\n",
       "    }\n",
       "</style>\n",
       "<table border=\"1\" class=\"dataframe\">\n",
       "  <thead>\n",
       "    <tr style=\"text-align: right;\">\n",
       "      <th></th>\n",
       "      <th>no</th>\n",
       "      <th>customer</th>\n",
       "      <th>age</th>\n",
       "      <th>city</th>\n",
       "      <th>product</th>\n",
       "      <th>limit</th>\n",
       "      <th>company</th>\n",
       "      <th>segment</th>\n",
       "      <th>sl_no_x</th>\n",
       "      <th>r_date</th>\n",
       "      <th>r_amount</th>\n",
       "      <th>sl_no_y</th>\n",
       "      <th>s_date</th>\n",
       "      <th>type</th>\n",
       "      <th>s_amount</th>\n",
       "    </tr>\n",
       "  </thead>\n",
       "  <tbody>\n",
       "    <tr>\n",
       "      <th>324</th>\n",
       "      <td>2</td>\n",
       "      <td>A2</td>\n",
       "      <td>27.422016</td>\n",
       "      <td>CALCUTTA</td>\n",
       "      <td>Silver</td>\n",
       "      <td>100000</td>\n",
       "      <td>C2</td>\n",
       "      <td>Salaried_MNC</td>\n",
       "      <td>104</td>\n",
       "      <td>2004-01-03</td>\n",
       "      <td>100000.0</td>\n",
       "      <td>104</td>\n",
       "      <td>2004-01-03</td>\n",
       "      <td>RENTAL</td>\n",
       "      <td>84410.235370</td>\n",
       "    </tr>\n",
       "    <tr>\n",
       "      <th>325</th>\n",
       "      <td>2</td>\n",
       "      <td>A2</td>\n",
       "      <td>27.422016</td>\n",
       "      <td>CALCUTTA</td>\n",
       "      <td>Silver</td>\n",
       "      <td>100000</td>\n",
       "      <td>C2</td>\n",
       "      <td>Salaried_MNC</td>\n",
       "      <td>104</td>\n",
       "      <td>2004-01-03</td>\n",
       "      <td>100000.0</td>\n",
       "      <td>118</td>\n",
       "      <td>2005-02-28</td>\n",
       "      <td>TRAIN TICKET</td>\n",
       "      <td>50000.000000</td>\n",
       "    </tr>\n",
       "    <tr>\n",
       "      <th>326</th>\n",
       "      <td>2</td>\n",
       "      <td>A2</td>\n",
       "      <td>27.422016</td>\n",
       "      <td>CALCUTTA</td>\n",
       "      <td>Silver</td>\n",
       "      <td>100000</td>\n",
       "      <td>C2</td>\n",
       "      <td>Salaried_MNC</td>\n",
       "      <td>104</td>\n",
       "      <td>2004-01-03</td>\n",
       "      <td>100000.0</td>\n",
       "      <td>132</td>\n",
       "      <td>2004-04-06</td>\n",
       "      <td>BUS TICKET</td>\n",
       "      <td>80125.398177</td>\n",
       "    </tr>\n",
       "    <tr>\n",
       "      <th>327</th>\n",
       "      <td>2</td>\n",
       "      <td>A2</td>\n",
       "      <td>27.422016</td>\n",
       "      <td>CALCUTTA</td>\n",
       "      <td>Silver</td>\n",
       "      <td>100000</td>\n",
       "      <td>C2</td>\n",
       "      <td>Salaried_MNC</td>\n",
       "      <td>104</td>\n",
       "      <td>2004-01-03</td>\n",
       "      <td>100000.0</td>\n",
       "      <td>146</td>\n",
       "      <td>2004-11-23</td>\n",
       "      <td>PETRO</td>\n",
       "      <td>50000.000000</td>\n",
       "    </tr>\n",
       "    <tr>\n",
       "      <th>328</th>\n",
       "      <td>2</td>\n",
       "      <td>A2</td>\n",
       "      <td>27.422016</td>\n",
       "      <td>CALCUTTA</td>\n",
       "      <td>Silver</td>\n",
       "      <td>100000</td>\n",
       "      <td>C2</td>\n",
       "      <td>Salaried_MNC</td>\n",
       "      <td>104</td>\n",
       "      <td>2004-01-03</td>\n",
       "      <td>100000.0</td>\n",
       "      <td>160</td>\n",
       "      <td>2005-09-03</td>\n",
       "      <td>JEWELLERY</td>\n",
       "      <td>50000.000000</td>\n",
       "    </tr>\n",
       "  </tbody>\n",
       "</table>\n",
       "</div>"
      ],
      "text/plain": [
       "     no customer        age      city product   limit company       segment  \\\n",
       "324   2       A2  27.422016  CALCUTTA  Silver  100000      C2  Salaried_MNC   \n",
       "325   2       A2  27.422016  CALCUTTA  Silver  100000      C2  Salaried_MNC   \n",
       "326   2       A2  27.422016  CALCUTTA  Silver  100000      C2  Salaried_MNC   \n",
       "327   2       A2  27.422016  CALCUTTA  Silver  100000      C2  Salaried_MNC   \n",
       "328   2       A2  27.422016  CALCUTTA  Silver  100000      C2  Salaried_MNC   \n",
       "\n",
       "     sl_no_x     r_date  r_amount  sl_no_y     s_date          type  \\\n",
       "324      104 2004-01-03  100000.0      104 2004-01-03        RENTAL   \n",
       "325      104 2004-01-03  100000.0      118 2005-02-28  TRAIN TICKET   \n",
       "326      104 2004-01-03  100000.0      132 2004-04-06    BUS TICKET   \n",
       "327      104 2004-01-03  100000.0      146 2004-11-23         PETRO   \n",
       "328      104 2004-01-03  100000.0      160 2005-09-03     JEWELLERY   \n",
       "\n",
       "         s_amount  \n",
       "324  84410.235370  \n",
       "325  50000.000000  \n",
       "326  80125.398177  \n",
       "327  50000.000000  \n",
       "328  50000.000000  "
      ]
     },
     "execution_count": 38,
     "metadata": {},
     "output_type": "execute_result"
    }
   ],
   "source": [
    "df.r_amount = df.apply(lambda x: x.limit\n",
    "                       if x.r_amount > x.limit \n",
    "                       else x.r_amount,\n",
    "                       axis=1)\n",
    "df[df.r_amount == df.limit].head()"
   ]
  },
  {
   "cell_type": "markdown",
   "id": "66be23dc",
   "metadata": {},
   "source": [
    "## Q2"
   ]
  },
  {
   "cell_type": "markdown",
   "id": "eed95b92",
   "metadata": {
    "ExecuteTime": {
     "end_time": "2022-09-17T10:48:23.654200Z",
     "start_time": "2022-09-17T10:48:23.643559Z"
    }
   },
   "source": [
    "> 2. From the above dataset create the following summaries:\n",
    "    - a. How many distinct customers exist?\n",
    "    - b. How many distinct categories exist?\n",
    "    - c. What is the average monthly spend by customers?\n",
    "    - d. What is the average monthly repayment by customers?\n",
    "    - e. If the monthly rate of interest is 2.9%, what is the profit for the bank for each month? (Profit is defined as interest earned on Monthly Profit. **Monthly Profit = Monthly repayment – Monthly spend**. Interest is earned only on positive profits and not on negative amounts)\n",
    "    - f. What are the top 5 product types?\n",
    "    - g. Which city is having maximum spend?\n",
    "    - h. Which age group is spending more money?\n",
    "    - i. Who are the top 10 customers in terms of repayment?"
   ]
  },
  {
   "cell_type": "code",
   "execution_count": null,
   "id": "a12106d1",
   "metadata": {},
   "outputs": [],
   "source": []
  },
  {
   "cell_type": "code",
   "execution_count": null,
   "id": "bc78dd11",
   "metadata": {},
   "outputs": [],
   "source": []
  },
  {
   "cell_type": "code",
   "execution_count": null,
   "id": "fa71d51c",
   "metadata": {},
   "outputs": [],
   "source": []
  },
  {
   "cell_type": "code",
   "execution_count": null,
   "id": "f93d7354",
   "metadata": {},
   "outputs": [],
   "source": []
  },
  {
   "cell_type": "code",
   "execution_count": null,
   "id": "422f261a",
   "metadata": {},
   "outputs": [],
   "source": []
  },
  {
   "cell_type": "code",
   "execution_count": null,
   "id": "67f0fb91",
   "metadata": {},
   "outputs": [],
   "source": []
  },
  {
   "cell_type": "code",
   "execution_count": null,
   "id": "90f4dcef",
   "metadata": {},
   "outputs": [],
   "source": []
  },
  {
   "cell_type": "code",
   "execution_count": null,
   "id": "d0137575",
   "metadata": {},
   "outputs": [],
   "source": []
  },
  {
   "cell_type": "code",
   "execution_count": null,
   "id": "88cd2c1a",
   "metadata": {},
   "outputs": [],
   "source": []
  },
  {
   "cell_type": "code",
   "execution_count": null,
   "id": "8afcebb3",
   "metadata": {},
   "outputs": [],
   "source": []
  },
  {
   "cell_type": "code",
   "execution_count": null,
   "id": "fd54570a",
   "metadata": {},
   "outputs": [],
   "source": []
  },
  {
   "cell_type": "markdown",
   "id": "b6696184",
   "metadata": {},
   "source": [
    "## Q3"
   ]
  },
  {
   "cell_type": "markdown",
   "id": "57fa6625",
   "metadata": {},
   "source": [
    "> 3. Calculate the city wise spend on each product on yearly basis. Also include a graphical\n",
    "representation for the same."
   ]
  },
  {
   "cell_type": "code",
   "execution_count": null,
   "id": "33643f26",
   "metadata": {},
   "outputs": [],
   "source": []
  },
  {
   "cell_type": "markdown",
   "id": "0061c3d7",
   "metadata": {},
   "source": [
    "## Q4"
   ]
  },
  {
   "cell_type": "markdown",
   "id": "81a59297",
   "metadata": {},
   "source": [
    "> 4. Create graphs for\n",
    "    - a. Monthly comparison of total spends, city wise\n",
    "    - b. Comparison of yearly spend on air tickets\n",
    "    - c. Comparison of monthly spend for each product (look for any seasonality that exists in terms of spend)"
   ]
  },
  {
   "cell_type": "code",
   "execution_count": null,
   "id": "df12a74d",
   "metadata": {},
   "outputs": [],
   "source": []
  },
  {
   "cell_type": "markdown",
   "id": "feee7032",
   "metadata": {},
   "source": [
    "## Q5"
   ]
  },
  {
   "cell_type": "markdown",
   "id": "d1cfde53",
   "metadata": {},
   "source": [
    "> 5. Write user defined PYTHON function to perform the following analysis:\n",
    "You need to find top 10 customers for each city in terms of their repayment amount by\n",
    "different products and by different time periods i.e. year or month. The user should be able\n",
    "to specify the product (Gold/Silver/Platinum) and time period (yearly or monthly) and the\n",
    "function should automatically take these inputs while identifying the top 10 customers."
   ]
  },
  {
   "cell_type": "code",
   "execution_count": null,
   "id": "9153023f",
   "metadata": {},
   "outputs": [],
   "source": []
  }
 ],
 "metadata": {
  "kernelspec": {
   "display_name": "Python 3 (ipykernel)",
   "language": "python",
   "name": "python3"
  },
  "language_info": {
   "codemirror_mode": {
    "name": "ipython",
    "version": 3
   },
   "file_extension": ".py",
   "mimetype": "text/x-python",
   "name": "python",
   "nbconvert_exporter": "python",
   "pygments_lexer": "ipython3",
   "version": "3.9.12"
  },
  "latex_envs": {
   "LaTeX_envs_menu_present": true,
   "autoclose": false,
   "autocomplete": true,
   "bibliofile": "biblio.bib",
   "cite_by": "apalike",
   "current_citInitial": 1,
   "eqLabelWithNumbers": true,
   "eqNumInitial": 1,
   "hotkeys": {
    "equation": "Ctrl-E",
    "itemize": "Ctrl-I"
   },
   "labels_anchors": false,
   "latex_user_defs": false,
   "report_style_numbering": false,
   "user_envs_cfg": false
  },
  "toc": {
   "base_numbering": 1,
   "nav_menu": {},
   "number_sections": true,
   "sideBar": true,
   "skip_h1_title": false,
   "title_cell": "Table of Contents",
   "title_sidebar": "Contents",
   "toc_cell": false,
   "toc_position": {},
   "toc_section_display": true,
   "toc_window_display": false
  },
  "varInspector": {
   "cols": {
    "lenName": 16,
    "lenType": 16,
    "lenVar": 40
   },
   "kernels_config": {
    "python": {
     "delete_cmd_postfix": "",
     "delete_cmd_prefix": "del ",
     "library": "var_list.py",
     "varRefreshCmd": "print(var_dic_list())"
    },
    "r": {
     "delete_cmd_postfix": ") ",
     "delete_cmd_prefix": "rm(",
     "library": "var_list.r",
     "varRefreshCmd": "cat(var_dic_list()) "
    }
   },
   "types_to_exclude": [
    "module",
    "function",
    "builtin_function_or_method",
    "instance",
    "_Feature"
   ],
   "window_display": false
  }
 },
 "nbformat": 4,
 "nbformat_minor": 5
}
