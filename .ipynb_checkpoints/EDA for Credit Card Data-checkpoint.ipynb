{
 "cells": [
  {
   "cell_type": "raw",
   "id": "0a944176",
   "metadata": {},
   "source": [
    "'''\n",
    "Objective : Through the use of dynamic datadriven decision-making tools and procedures, \n",
    "information can be gathered to successfully evaluate all aspects of credit card operations.\n",
    "'''"
   ]
  },
  {
   "cell_type": "markdown",
   "id": "4735f391",
   "metadata": {},
   "source": [
    "# Importing packages"
   ]
  },
  {
   "cell_type": "code",
   "execution_count": 1,
   "id": "e4f6a334",
   "metadata": {
    "ExecuteTime": {
     "end_time": "2022-09-19T21:37:02.001334Z",
     "start_time": "2022-09-19T21:37:00.446898Z"
    }
   },
   "outputs": [],
   "source": [
    "import pandas as pd\n",
    "import numpy as np\n",
    "import matplotlib.pyplot as plt\n",
    "import seaborn as sns\n",
    "import warnings\n",
    "\n",
    "%matplotlib inline\n",
    "sns.set(style='ticks', font_scale=1.2)\n",
    "warnings.filterwarnings('ignore')"
   ]
  },
  {
   "cell_type": "markdown",
   "id": "bac929b0",
   "metadata": {},
   "source": [
    "# Data Ingestion"
   ]
  },
  {
   "cell_type": "markdown",
   "id": "4e8128e5",
   "metadata": {},
   "source": [
    "## Loading data "
   ]
  },
  {
   "cell_type": "code",
   "execution_count": 2,
   "id": "c8ef2e91",
   "metadata": {
    "ExecuteTime": {
     "end_time": "2022-09-19T21:37:02.495779Z",
     "start_time": "2022-09-19T21:37:02.003523Z"
    }
   },
   "outputs": [
    {
     "name": "stdout",
     "output_type": "stream",
     "text": [
      "Source : Excel\n"
     ]
    }
   ],
   "source": [
    "try :\n",
    "    ca = pd.read_excel('./Credit Card Data.xlsx', sheet_name='Customer Acqusition')\n",
    "    r = pd.read_excel('./Credit Card Data.xlsx', sheet_name='Repayment')\n",
    "    s = pd.read_excel('./Credit Card Data.xlsx', sheet_name='Spend')\n",
    "    print('Source : Excel')\n",
    "except :\n",
    "    ca = pd.read_csv('./Customer Acqusition.csv')\n",
    "    r = pd.read_csv('./Repayment.csv')\n",
    "    s = pd.read_csv('./spend.csv')\n",
    "    print('Source : CSV')"
   ]
  },
  {
   "cell_type": "markdown",
   "id": "bb85a505",
   "metadata": {},
   "source": [
    "### Customer Acquisition"
   ]
  },
  {
   "cell_type": "code",
   "execution_count": 3,
   "id": "a777e1ac",
   "metadata": {
    "ExecuteTime": {
     "end_time": "2022-09-19T21:37:02.510666Z",
     "start_time": "2022-09-19T21:37:02.496792Z"
    },
    "scrolled": true
   },
   "outputs": [
    {
     "name": "stdout",
     "output_type": "stream",
     "text": [
      "<class 'pandas.core.frame.DataFrame'>\n",
      "RangeIndex: 100 entries, 0 to 99\n",
      "Data columns (total 8 columns):\n",
      " #   Column    Non-Null Count  Dtype \n",
      "---  ------    --------------  ----- \n",
      " 0   No        100 non-null    int64 \n",
      " 1   Customer  100 non-null    object\n",
      " 2   Age       100 non-null    int64 \n",
      " 3   City      100 non-null    object\n",
      " 4   Product   100 non-null    object\n",
      " 5   Limit     100 non-null    int64 \n",
      " 6   Company   100 non-null    object\n",
      " 7   Segment   100 non-null    object\n",
      "dtypes: int64(3), object(5)\n",
      "memory usage: 6.4+ KB\n"
     ]
    }
   ],
   "source": [
    "ca.info()"
   ]
  },
  {
   "cell_type": "code",
   "execution_count": 4,
   "id": "1570f673",
   "metadata": {
    "ExecuteTime": {
     "end_time": "2022-09-19T21:37:02.526403Z",
     "start_time": "2022-09-19T21:37:02.512094Z"
    }
   },
   "outputs": [
    {
     "data": {
      "text/html": [
       "<div>\n",
       "<style scoped>\n",
       "    .dataframe tbody tr th:only-of-type {\n",
       "        vertical-align: middle;\n",
       "    }\n",
       "\n",
       "    .dataframe tbody tr th {\n",
       "        vertical-align: top;\n",
       "    }\n",
       "\n",
       "    .dataframe thead th {\n",
       "        text-align: right;\n",
       "    }\n",
       "</style>\n",
       "<table border=\"1\" class=\"dataframe\">\n",
       "  <thead>\n",
       "    <tr style=\"text-align: right;\">\n",
       "      <th></th>\n",
       "      <th>No</th>\n",
       "      <th>Customer</th>\n",
       "      <th>Age</th>\n",
       "      <th>City</th>\n",
       "      <th>Product</th>\n",
       "      <th>Limit</th>\n",
       "      <th>Company</th>\n",
       "      <th>Segment</th>\n",
       "    </tr>\n",
       "  </thead>\n",
       "  <tbody>\n",
       "    <tr>\n",
       "      <th>0</th>\n",
       "      <td>1</td>\n",
       "      <td>A1</td>\n",
       "      <td>76</td>\n",
       "      <td>BANGALORE</td>\n",
       "      <td>Gold</td>\n",
       "      <td>500000</td>\n",
       "      <td>C1</td>\n",
       "      <td>Self Employed</td>\n",
       "    </tr>\n",
       "    <tr>\n",
       "      <th>1</th>\n",
       "      <td>2</td>\n",
       "      <td>A2</td>\n",
       "      <td>71</td>\n",
       "      <td>CALCUTTA</td>\n",
       "      <td>Silver</td>\n",
       "      <td>100000</td>\n",
       "      <td>C2</td>\n",
       "      <td>Salaried_MNC</td>\n",
       "    </tr>\n",
       "    <tr>\n",
       "      <th>2</th>\n",
       "      <td>3</td>\n",
       "      <td>A3</td>\n",
       "      <td>34</td>\n",
       "      <td>COCHIN</td>\n",
       "      <td>Platimum</td>\n",
       "      <td>10000</td>\n",
       "      <td>C3</td>\n",
       "      <td>Salaried_Pvt</td>\n",
       "    </tr>\n",
       "    <tr>\n",
       "      <th>3</th>\n",
       "      <td>4</td>\n",
       "      <td>A4</td>\n",
       "      <td>47</td>\n",
       "      <td>BOMBAY</td>\n",
       "      <td>Platimum</td>\n",
       "      <td>10001</td>\n",
       "      <td>C4</td>\n",
       "      <td>Govt</td>\n",
       "    </tr>\n",
       "    <tr>\n",
       "      <th>4</th>\n",
       "      <td>5</td>\n",
       "      <td>A5</td>\n",
       "      <td>56</td>\n",
       "      <td>BANGALORE</td>\n",
       "      <td>Platimum</td>\n",
       "      <td>10002</td>\n",
       "      <td>C5</td>\n",
       "      <td>Normal Salary</td>\n",
       "    </tr>\n",
       "  </tbody>\n",
       "</table>\n",
       "</div>"
      ],
      "text/plain": [
       "   No Customer  Age       City   Product   Limit Company        Segment\n",
       "0   1       A1   76  BANGALORE      Gold  500000      C1  Self Employed\n",
       "1   2       A2   71   CALCUTTA    Silver  100000      C2   Salaried_MNC\n",
       "2   3       A3   34     COCHIN  Platimum   10000      C3   Salaried_Pvt\n",
       "3   4       A4   47     BOMBAY  Platimum   10001      C4           Govt\n",
       "4   5       A5   56  BANGALORE  Platimum   10002      C5  Normal Salary"
      ]
     },
     "execution_count": 4,
     "metadata": {},
     "output_type": "execute_result"
    }
   ],
   "source": [
    "ca.head()"
   ]
  },
  {
   "cell_type": "code",
   "execution_count": 5,
   "id": "f19e9bcd",
   "metadata": {
    "ExecuteTime": {
     "end_time": "2022-09-19T21:37:02.542002Z",
     "start_time": "2022-09-19T21:37:02.527952Z"
    }
   },
   "outputs": [
    {
     "data": {
      "text/plain": [
       "Gold        38\n",
       "Platimum    32\n",
       "Silver      30\n",
       "Name: Product, dtype: int64"
      ]
     },
     "execution_count": 5,
     "metadata": {},
     "output_type": "execute_result"
    }
   ],
   "source": [
    "# Correcting the Value in Product column :\n",
    "ca['Product'].value_counts()"
   ]
  },
  {
   "cell_type": "code",
   "execution_count": 6,
   "id": "41722fa3",
   "metadata": {
    "ExecuteTime": {
     "end_time": "2022-09-19T21:37:02.557317Z",
     "start_time": "2022-09-19T21:37:02.543255Z"
    }
   },
   "outputs": [
    {
     "data": {
      "text/plain": [
       "Gold        38\n",
       "Platinum    32\n",
       "Silver      30\n",
       "Name: Product, dtype: int64"
      ]
     },
     "execution_count": 6,
     "metadata": {},
     "output_type": "execute_result"
    }
   ],
   "source": [
    "ca['Product'] = ca['Product'].apply(lambda x: 'Platinum' if x=='Platimum' else x)\n",
    "ca['Product'].value_counts()"
   ]
  },
  {
   "cell_type": "code",
   "execution_count": 7,
   "id": "e83fdadf",
   "metadata": {
    "ExecuteTime": {
     "end_time": "2022-09-19T21:37:02.572498Z",
     "start_time": "2022-09-19T21:37:02.558405Z"
    }
   },
   "outputs": [],
   "source": [
    "# Fixing column names\n",
    "ca.columns = ca.columns.str.lower().str.strip()"
   ]
  },
  {
   "cell_type": "code",
   "execution_count": 8,
   "id": "028055ff",
   "metadata": {
    "ExecuteTime": {
     "end_time": "2022-09-19T21:37:02.587221Z",
     "start_time": "2022-09-19T21:37:02.573538Z"
    }
   },
   "outputs": [
    {
     "data": {
      "text/plain": [
       "no          0\n",
       "customer    0\n",
       "age         0\n",
       "city        0\n",
       "product     0\n",
       "limit       0\n",
       "company     0\n",
       "segment     0\n",
       "dtype: int64"
      ]
     },
     "execution_count": 8,
     "metadata": {},
     "output_type": "execute_result"
    }
   ],
   "source": [
    "ca.isnull().sum()"
   ]
  },
  {
   "cell_type": "code",
   "execution_count": 9,
   "id": "f5d8d879",
   "metadata": {
    "ExecuteTime": {
     "end_time": "2022-09-19T21:37:02.602470Z",
     "start_time": "2022-09-19T21:37:02.588534Z"
    }
   },
   "outputs": [
    {
     "name": "stdout",
     "output_type": "stream",
     "text": [
      "(100, 8)\n",
      "(100, 8)\n"
     ]
    }
   ],
   "source": [
    "print(ca.shape)\n",
    "ca.drop_duplicates(inplace=True)\n",
    "print(ca.shape)"
   ]
  },
  {
   "cell_type": "markdown",
   "id": "fe4e5c1d",
   "metadata": {},
   "source": [
    "### Repayment"
   ]
  },
  {
   "cell_type": "code",
   "execution_count": 10,
   "id": "6cbb1a57",
   "metadata": {
    "ExecuteTime": {
     "end_time": "2022-09-19T21:37:02.618469Z",
     "start_time": "2022-09-19T21:37:02.604414Z"
    }
   },
   "outputs": [
    {
     "name": "stdout",
     "output_type": "stream",
     "text": [
      "<class 'pandas.core.frame.DataFrame'>\n",
      "RangeIndex: 1500 entries, 0 to 1499\n",
      "Data columns (total 4 columns):\n",
      " #   Column    Non-Null Count  Dtype         \n",
      "---  ------    --------------  -----         \n",
      " 0   SL No:    1500 non-null   int64         \n",
      " 1   Customer  1500 non-null   object        \n",
      " 2   Month     1500 non-null   datetime64[ns]\n",
      " 3   Amount    1500 non-null   float64       \n",
      "dtypes: datetime64[ns](1), float64(1), int64(1), object(1)\n",
      "memory usage: 47.0+ KB\n"
     ]
    }
   ],
   "source": [
    "r.info()"
   ]
  },
  {
   "cell_type": "code",
   "execution_count": 11,
   "id": "57860256",
   "metadata": {
    "ExecuteTime": {
     "end_time": "2022-09-19T21:37:02.634112Z",
     "start_time": "2022-09-19T21:37:02.620306Z"
    }
   },
   "outputs": [
    {
     "data": {
      "text/html": [
       "<div>\n",
       "<style scoped>\n",
       "    .dataframe tbody tr th:only-of-type {\n",
       "        vertical-align: middle;\n",
       "    }\n",
       "\n",
       "    .dataframe tbody tr th {\n",
       "        vertical-align: top;\n",
       "    }\n",
       "\n",
       "    .dataframe thead th {\n",
       "        text-align: right;\n",
       "    }\n",
       "</style>\n",
       "<table border=\"1\" class=\"dataframe\">\n",
       "  <thead>\n",
       "    <tr style=\"text-align: right;\">\n",
       "      <th></th>\n",
       "      <th>SL No:</th>\n",
       "      <th>Customer</th>\n",
       "      <th>Month</th>\n",
       "      <th>Amount</th>\n",
       "    </tr>\n",
       "  </thead>\n",
       "  <tbody>\n",
       "    <tr>\n",
       "      <th>0</th>\n",
       "      <td>1</td>\n",
       "      <td>A1</td>\n",
       "      <td>2004-01-12</td>\n",
       "      <td>338932.141919</td>\n",
       "    </tr>\n",
       "    <tr>\n",
       "      <th>1</th>\n",
       "      <td>2</td>\n",
       "      <td>A1</td>\n",
       "      <td>2004-01-03</td>\n",
       "      <td>131778.688758</td>\n",
       "    </tr>\n",
       "    <tr>\n",
       "      <th>2</th>\n",
       "      <td>3</td>\n",
       "      <td>A1</td>\n",
       "      <td>2004-01-15</td>\n",
       "      <td>485981.516736</td>\n",
       "    </tr>\n",
       "    <tr>\n",
       "      <th>3</th>\n",
       "      <td>4</td>\n",
       "      <td>A1</td>\n",
       "      <td>2004-01-25</td>\n",
       "      <td>452865.826385</td>\n",
       "    </tr>\n",
       "    <tr>\n",
       "      <th>4</th>\n",
       "      <td>5</td>\n",
       "      <td>A1</td>\n",
       "      <td>2005-01-17</td>\n",
       "      <td>154684.838196</td>\n",
       "    </tr>\n",
       "  </tbody>\n",
       "</table>\n",
       "</div>"
      ],
      "text/plain": [
       "   SL No: Customer      Month         Amount\n",
       "0       1       A1 2004-01-12  338932.141919\n",
       "1       2       A1 2004-01-03  131778.688758\n",
       "2       3       A1 2004-01-15  485981.516736\n",
       "3       4       A1 2004-01-25  452865.826385\n",
       "4       5       A1 2005-01-17  154684.838196"
      ]
     },
     "execution_count": 11,
     "metadata": {},
     "output_type": "execute_result"
    }
   ],
   "source": [
    "r.head()"
   ]
  },
  {
   "cell_type": "code",
   "execution_count": 12,
   "id": "bdeade02",
   "metadata": {
    "ExecuteTime": {
     "end_time": "2022-09-19T21:37:02.649604Z",
     "start_time": "2022-09-19T21:37:02.635651Z"
    }
   },
   "outputs": [],
   "source": [
    "# Fixing column names\n",
    "r.columns = r.columns.str.lower().str.strip().str.replace(' ', '_').str.replace(':', '')\n",
    "r.rename(columns={'month' : 'r_date', 'amount' : 'r_amount'}, inplace=True)"
   ]
  },
  {
   "cell_type": "code",
   "execution_count": 13,
   "id": "75a3e95d",
   "metadata": {
    "ExecuteTime": {
     "end_time": "2022-09-19T21:37:02.665348Z",
     "start_time": "2022-09-19T21:37:02.652675Z"
    }
   },
   "outputs": [
    {
     "data": {
      "text/plain": [
       "sl_no       0\n",
       "customer    0\n",
       "r_date      0\n",
       "r_amount    0\n",
       "dtype: int64"
      ]
     },
     "execution_count": 13,
     "metadata": {},
     "output_type": "execute_result"
    }
   ],
   "source": [
    "r.isnull().sum()"
   ]
  },
  {
   "cell_type": "code",
   "execution_count": 14,
   "id": "fbc5e997",
   "metadata": {
    "ExecuteTime": {
     "end_time": "2022-09-19T21:37:02.681424Z",
     "start_time": "2022-09-19T21:37:02.667065Z"
    }
   },
   "outputs": [
    {
     "name": "stdout",
     "output_type": "stream",
     "text": [
      "(1500, 4)\n",
      "(1500, 4)\n"
     ]
    }
   ],
   "source": [
    "print(r.shape)\n",
    "r.drop_duplicates(inplace=True)\n",
    "print(r.shape)"
   ]
  },
  {
   "cell_type": "markdown",
   "id": "00b2bad2",
   "metadata": {
    "ExecuteTime": {
     "end_time": "2022-09-17T09:28:38.073821Z",
     "start_time": "2022-09-17T09:28:38.026273Z"
    }
   },
   "source": [
    "### Spend"
   ]
  },
  {
   "cell_type": "code",
   "execution_count": 15,
   "id": "a65c7f9c",
   "metadata": {
    "ExecuteTime": {
     "end_time": "2022-09-19T21:37:02.696804Z",
     "start_time": "2022-09-19T21:37:02.682631Z"
    }
   },
   "outputs": [
    {
     "name": "stdout",
     "output_type": "stream",
     "text": [
      "<class 'pandas.core.frame.DataFrame'>\n",
      "RangeIndex: 1500 entries, 0 to 1499\n",
      "Data columns (total 5 columns):\n",
      " #   Column    Non-Null Count  Dtype         \n",
      "---  ------    --------------  -----         \n",
      " 0   Sl No:    1500 non-null   int64         \n",
      " 1   Customer  1500 non-null   object        \n",
      " 2   Month     1500 non-null   datetime64[ns]\n",
      " 3   Type      1500 non-null   object        \n",
      " 4   Amount    1500 non-null   float64       \n",
      "dtypes: datetime64[ns](1), float64(1), int64(1), object(2)\n",
      "memory usage: 58.7+ KB\n"
     ]
    }
   ],
   "source": [
    "s.info()"
   ]
  },
  {
   "cell_type": "code",
   "execution_count": 16,
   "id": "133dc7d9",
   "metadata": {
    "ExecuteTime": {
     "end_time": "2022-09-19T21:37:02.712339Z",
     "start_time": "2022-09-19T21:37:02.698215Z"
    }
   },
   "outputs": [
    {
     "data": {
      "text/html": [
       "<div>\n",
       "<style scoped>\n",
       "    .dataframe tbody tr th:only-of-type {\n",
       "        vertical-align: middle;\n",
       "    }\n",
       "\n",
       "    .dataframe tbody tr th {\n",
       "        vertical-align: top;\n",
       "    }\n",
       "\n",
       "    .dataframe thead th {\n",
       "        text-align: right;\n",
       "    }\n",
       "</style>\n",
       "<table border=\"1\" class=\"dataframe\">\n",
       "  <thead>\n",
       "    <tr style=\"text-align: right;\">\n",
       "      <th></th>\n",
       "      <th>Sl No:</th>\n",
       "      <th>Customer</th>\n",
       "      <th>Month</th>\n",
       "      <th>Type</th>\n",
       "      <th>Amount</th>\n",
       "    </tr>\n",
       "  </thead>\n",
       "  <tbody>\n",
       "    <tr>\n",
       "      <th>0</th>\n",
       "      <td>1</td>\n",
       "      <td>A1</td>\n",
       "      <td>2004-01-12</td>\n",
       "      <td>JEWELLERY</td>\n",
       "      <td>344054.980813</td>\n",
       "    </tr>\n",
       "    <tr>\n",
       "      <th>1</th>\n",
       "      <td>2</td>\n",
       "      <td>A1</td>\n",
       "      <td>2004-01-03</td>\n",
       "      <td>PETRO</td>\n",
       "      <td>467747.601626</td>\n",
       "    </tr>\n",
       "    <tr>\n",
       "      <th>2</th>\n",
       "      <td>3</td>\n",
       "      <td>A1</td>\n",
       "      <td>2004-01-15</td>\n",
       "      <td>CLOTHES</td>\n",
       "      <td>86878.954735</td>\n",
       "    </tr>\n",
       "    <tr>\n",
       "      <th>3</th>\n",
       "      <td>4</td>\n",
       "      <td>A1</td>\n",
       "      <td>2004-01-25</td>\n",
       "      <td>FOOD</td>\n",
       "      <td>269175.011875</td>\n",
       "    </tr>\n",
       "    <tr>\n",
       "      <th>4</th>\n",
       "      <td>5</td>\n",
       "      <td>A1</td>\n",
       "      <td>2005-01-17</td>\n",
       "      <td>CAMERA</td>\n",
       "      <td>3406.639477</td>\n",
       "    </tr>\n",
       "  </tbody>\n",
       "</table>\n",
       "</div>"
      ],
      "text/plain": [
       "   Sl No: Customer      Month       Type         Amount\n",
       "0       1       A1 2004-01-12  JEWELLERY  344054.980813\n",
       "1       2       A1 2004-01-03      PETRO  467747.601626\n",
       "2       3       A1 2004-01-15    CLOTHES   86878.954735\n",
       "3       4       A1 2004-01-25       FOOD  269175.011875\n",
       "4       5       A1 2005-01-17     CAMERA    3406.639477"
      ]
     },
     "execution_count": 16,
     "metadata": {},
     "output_type": "execute_result"
    }
   ],
   "source": [
    "s.head()"
   ]
  },
  {
   "cell_type": "code",
   "execution_count": 17,
   "id": "a0af6d78",
   "metadata": {
    "ExecuteTime": {
     "end_time": "2022-09-19T21:37:02.727928Z",
     "start_time": "2022-09-19T21:37:02.714347Z"
    }
   },
   "outputs": [],
   "source": [
    "# Fixing column names\n",
    "s.columns = s.columns.str.lower().str.strip().str.replace(' ', '_').str.replace(':', '')\n",
    "s.rename(columns={'month' : 's_date', 'amount' : 's_amount'}, inplace=True)"
   ]
  },
  {
   "cell_type": "code",
   "execution_count": 18,
   "id": "9f113699",
   "metadata": {
    "ExecuteTime": {
     "end_time": "2022-09-19T21:37:02.742688Z",
     "start_time": "2022-09-19T21:37:02.729851Z"
    }
   },
   "outputs": [
    {
     "data": {
      "text/plain": [
       "sl_no       0\n",
       "customer    0\n",
       "s_date      0\n",
       "type        0\n",
       "s_amount    0\n",
       "dtype: int64"
      ]
     },
     "execution_count": 18,
     "metadata": {},
     "output_type": "execute_result"
    }
   ],
   "source": [
    "s.isnull().sum()"
   ]
  },
  {
   "cell_type": "code",
   "execution_count": 19,
   "id": "cae0dd73",
   "metadata": {
    "ExecuteTime": {
     "end_time": "2022-09-19T21:37:02.758610Z",
     "start_time": "2022-09-19T21:37:02.744414Z"
    }
   },
   "outputs": [
    {
     "name": "stdout",
     "output_type": "stream",
     "text": [
      "(1500, 5)\n",
      "(1500, 5)\n"
     ]
    }
   ],
   "source": [
    "print(s.shape)\n",
    "s.drop_duplicates(inplace=True)\n",
    "print(s.shape)"
   ]
  },
  {
   "cell_type": "markdown",
   "id": "7d7dff20",
   "metadata": {},
   "source": [
    "## Creating Final Tables"
   ]
  },
  {
   "cell_type": "code",
   "execution_count": 20,
   "id": "28b06678",
   "metadata": {
    "ExecuteTime": {
     "end_time": "2022-09-19T21:37:02.789472Z",
     "start_time": "2022-09-19T21:37:02.759782Z"
    }
   },
   "outputs": [],
   "source": [
    "df_r = pd.merge(r, ca, on='customer', how='left')\n",
    "df_s = pd.merge(s, ca, on='customer', how='left')"
   ]
  },
  {
   "cell_type": "markdown",
   "id": "d0349ad6",
   "metadata": {},
   "source": [
    "### Checking Shapes & Records"
   ]
  },
  {
   "cell_type": "code",
   "execution_count": 21,
   "id": "99a087e9",
   "metadata": {
    "ExecuteTime": {
     "end_time": "2022-09-19T21:37:02.804365Z",
     "start_time": "2022-09-19T21:37:02.789838Z"
    }
   },
   "outputs": [
    {
     "data": {
      "text/plain": [
       "((1500, 11), 100, (1500, 12), 100)"
      ]
     },
     "execution_count": 21,
     "metadata": {},
     "output_type": "execute_result"
    }
   ],
   "source": [
    "df_r.shape, df_r.customer.nunique(), df_s.shape, df_s.customer.nunique()"
   ]
  },
  {
   "cell_type": "markdown",
   "id": "dee0d604",
   "metadata": {},
   "source": [
    "<p style=\"background-color:Blue; color:White; text-align: center; font-size:16px; font-family:Monospace\"><b>\n",
    "##################################<br>\n",
    "## Data Ingestion is completed. ##<br>\n",
    "##################################\n",
    "</p>\n"
   ]
  },
  {
   "cell_type": "markdown",
   "id": "1e374878",
   "metadata": {},
   "source": [
    "# Exploratory Data Analysis"
   ]
  },
  {
   "cell_type": "markdown",
   "id": "d2d41ef1",
   "metadata": {},
   "source": [
    "## Q1\n",
    "> 1. In the above dataset,\n",
    "     - a. In case age is less than 18, replace it with mean of age values. <br>\n",
    "     - b. In case spend amount is more than the limit, replace it with 50% of that customer’s limit. (customer’s limit provided in acquisition table is the per transaction limit on his card)<br>\n",
    "     - c. Incase the repayment amount is more than the limit, replace the repayment with the\n",
    "limit."
   ]
  },
  {
   "cell_type": "markdown",
   "id": "517dd734",
   "metadata": {},
   "source": [
    "### a. In case age is less than 18, replace it with mean of age values. "
   ]
  },
  {
   "cell_type": "code",
   "execution_count": 22,
   "id": "376225a0",
   "metadata": {
    "ExecuteTime": {
     "end_time": "2022-09-19T21:37:02.819556Z",
     "start_time": "2022-09-19T21:37:02.805869Z"
    }
   },
   "outputs": [
    {
     "data": {
      "text/plain": [
       "46.49"
      ]
     },
     "execution_count": 22,
     "metadata": {},
     "output_type": "execute_result"
    }
   ],
   "source": [
    "New_age = ca.age.mean()\n",
    "round(New_age, 2)"
   ]
  },
  {
   "cell_type": "code",
   "execution_count": 23,
   "id": "27389009",
   "metadata": {
    "ExecuteTime": {
     "end_time": "2022-09-19T21:37:03.114662Z",
     "start_time": "2022-09-19T21:37:02.820663Z"
    },
    "scrolled": false
   },
   "outputs": [
    {
     "name": "stdout",
     "output_type": "stream",
     "text": [
      "6\n",
      "0\n"
     ]
    }
   ],
   "source": [
    "print(ca.age[ca.age < 18].count())\n",
    "ca.age[ca.age < 18] = New_age\n",
    "df_s.age[df_s.age < 18] = New_age\n",
    "df_r.age[df_r.age < 18] = New_age\n",
    "print(ca.age[ca.age < 18].count())"
   ]
  },
  {
   "cell_type": "markdown",
   "id": "2f6d500e",
   "metadata": {},
   "source": [
    "### b. In case spend amount is more than the limit, replace it with 50% of that customer’s limit."
   ]
  },
  {
   "cell_type": "code",
   "execution_count": 24,
   "id": "c9fe8271",
   "metadata": {
    "ExecuteTime": {
     "end_time": "2022-09-19T21:37:03.177579Z",
     "start_time": "2022-09-19T21:37:03.117492Z"
    },
    "scrolled": false
   },
   "outputs": [
    {
     "data": {
      "text/html": [
       "<div>\n",
       "<style scoped>\n",
       "    .dataframe tbody tr th:only-of-type {\n",
       "        vertical-align: middle;\n",
       "    }\n",
       "\n",
       "    .dataframe tbody tr th {\n",
       "        vertical-align: top;\n",
       "    }\n",
       "\n",
       "    .dataframe thead th {\n",
       "        text-align: right;\n",
       "    }\n",
       "</style>\n",
       "<table border=\"1\" class=\"dataframe\">\n",
       "  <thead>\n",
       "    <tr style=\"text-align: right;\">\n",
       "      <th></th>\n",
       "      <th>sl_no</th>\n",
       "      <th>customer</th>\n",
       "      <th>s_date</th>\n",
       "      <th>type</th>\n",
       "      <th>s_amount</th>\n",
       "      <th>no</th>\n",
       "      <th>age</th>\n",
       "      <th>city</th>\n",
       "      <th>product</th>\n",
       "      <th>limit</th>\n",
       "      <th>company</th>\n",
       "      <th>segment</th>\n",
       "    </tr>\n",
       "  </thead>\n",
       "  <tbody>\n",
       "    <tr>\n",
       "      <th>7</th>\n",
       "      <td>8</td>\n",
       "      <td>A8</td>\n",
       "      <td>2004-02-05</td>\n",
       "      <td>BIKE</td>\n",
       "      <td>50001.0</td>\n",
       "      <td>8</td>\n",
       "      <td>67.0</td>\n",
       "      <td>PATNA</td>\n",
       "      <td>Silver</td>\n",
       "      <td>100002</td>\n",
       "      <td>C8</td>\n",
       "      <td>Salaried_Pvt</td>\n",
       "    </tr>\n",
       "    <tr>\n",
       "      <th>8</th>\n",
       "      <td>9</td>\n",
       "      <td>A9</td>\n",
       "      <td>2005-02-28</td>\n",
       "      <td>AUTO</td>\n",
       "      <td>50001.5</td>\n",
       "      <td>9</td>\n",
       "      <td>79.0</td>\n",
       "      <td>CHENNAI</td>\n",
       "      <td>Silver</td>\n",
       "      <td>100003</td>\n",
       "      <td>C9</td>\n",
       "      <td>Govt</td>\n",
       "    </tr>\n",
       "    <tr>\n",
       "      <th>17</th>\n",
       "      <td>18</td>\n",
       "      <td>A18</td>\n",
       "      <td>2006-03-05</td>\n",
       "      <td>CLOTHES</td>\n",
       "      <td>50000.0</td>\n",
       "      <td>18</td>\n",
       "      <td>34.0</td>\n",
       "      <td>BANGALORE</td>\n",
       "      <td>Silver</td>\n",
       "      <td>100000</td>\n",
       "      <td>C18</td>\n",
       "      <td>Salaried_MNC</td>\n",
       "    </tr>\n",
       "    <tr>\n",
       "      <th>18</th>\n",
       "      <td>19</td>\n",
       "      <td>A19</td>\n",
       "      <td>2005-04-04</td>\n",
       "      <td>FOOD</td>\n",
       "      <td>5000.0</td>\n",
       "      <td>19</td>\n",
       "      <td>27.0</td>\n",
       "      <td>BANGALORE</td>\n",
       "      <td>Platinum</td>\n",
       "      <td>10000</td>\n",
       "      <td>C19</td>\n",
       "      <td>Salaried_Pvt</td>\n",
       "    </tr>\n",
       "    <tr>\n",
       "      <th>19</th>\n",
       "      <td>20</td>\n",
       "      <td>A20</td>\n",
       "      <td>2006-04-30</td>\n",
       "      <td>JEWELLERY</td>\n",
       "      <td>5000.5</td>\n",
       "      <td>20</td>\n",
       "      <td>27.0</td>\n",
       "      <td>CALCUTTA</td>\n",
       "      <td>Platinum</td>\n",
       "      <td>10001</td>\n",
       "      <td>C20</td>\n",
       "      <td>Govt</td>\n",
       "    </tr>\n",
       "  </tbody>\n",
       "</table>\n",
       "</div>"
      ],
      "text/plain": [
       "    sl_no customer     s_date       type  s_amount  no   age       city  \\\n",
       "7       8       A8 2004-02-05       BIKE   50001.0   8  67.0      PATNA   \n",
       "8       9       A9 2005-02-28       AUTO   50001.5   9  79.0    CHENNAI   \n",
       "17     18      A18 2006-03-05    CLOTHES   50000.0  18  34.0  BANGALORE   \n",
       "18     19      A19 2005-04-04       FOOD    5000.0  19  27.0  BANGALORE   \n",
       "19     20      A20 2006-04-30  JEWELLERY    5000.5  20  27.0   CALCUTTA   \n",
       "\n",
       "     product   limit company       segment  \n",
       "7     Silver  100002      C8  Salaried_Pvt  \n",
       "8     Silver  100003      C9          Govt  \n",
       "17    Silver  100000     C18  Salaried_MNC  \n",
       "18  Platinum   10000     C19  Salaried_Pvt  \n",
       "19  Platinum   10001     C20          Govt  "
      ]
     },
     "execution_count": 24,
     "metadata": {},
     "output_type": "execute_result"
    }
   ],
   "source": [
    "df_s.s_amount = df_s.apply(lambda x: x.limit * 0.5\n",
    "                       if x.s_amount > x.limit \n",
    "                       else x.s_amount,\n",
    "                       axis=1)\n",
    "df_s[df_s.s_amount == df_s.limit / 2].head()"
   ]
  },
  {
   "cell_type": "markdown",
   "id": "e93835b8",
   "metadata": {},
   "source": [
    "### c. In case the repayment amount is more than the limit, replace the repayment with the limit."
   ]
  },
  {
   "cell_type": "code",
   "execution_count": 25,
   "id": "cf63ee16",
   "metadata": {
    "ExecuteTime": {
     "end_time": "2022-09-19T21:37:03.240608Z",
     "start_time": "2022-09-19T21:37:03.179084Z"
    }
   },
   "outputs": [
    {
     "data": {
      "text/html": [
       "<div>\n",
       "<style scoped>\n",
       "    .dataframe tbody tr th:only-of-type {\n",
       "        vertical-align: middle;\n",
       "    }\n",
       "\n",
       "    .dataframe tbody tr th {\n",
       "        vertical-align: top;\n",
       "    }\n",
       "\n",
       "    .dataframe thead th {\n",
       "        text-align: right;\n",
       "    }\n",
       "</style>\n",
       "<table border=\"1\" class=\"dataframe\">\n",
       "  <thead>\n",
       "    <tr style=\"text-align: right;\">\n",
       "      <th></th>\n",
       "      <th>sl_no</th>\n",
       "      <th>customer</th>\n",
       "      <th>r_date</th>\n",
       "      <th>r_amount</th>\n",
       "      <th>no</th>\n",
       "      <th>age</th>\n",
       "      <th>city</th>\n",
       "      <th>product</th>\n",
       "      <th>limit</th>\n",
       "      <th>company</th>\n",
       "      <th>segment</th>\n",
       "    </tr>\n",
       "  </thead>\n",
       "  <tbody>\n",
       "    <tr>\n",
       "      <th>7</th>\n",
       "      <td>8</td>\n",
       "      <td>A8</td>\n",
       "      <td>2004-02-05</td>\n",
       "      <td>100002.0</td>\n",
       "      <td>8</td>\n",
       "      <td>67.0</td>\n",
       "      <td>PATNA</td>\n",
       "      <td>Silver</td>\n",
       "      <td>100002</td>\n",
       "      <td>C8</td>\n",
       "      <td>Salaried_Pvt</td>\n",
       "    </tr>\n",
       "    <tr>\n",
       "      <th>8</th>\n",
       "      <td>9</td>\n",
       "      <td>A9</td>\n",
       "      <td>2005-02-28</td>\n",
       "      <td>100003.0</td>\n",
       "      <td>9</td>\n",
       "      <td>79.0</td>\n",
       "      <td>CHENNAI</td>\n",
       "      <td>Silver</td>\n",
       "      <td>100003</td>\n",
       "      <td>C9</td>\n",
       "      <td>Govt</td>\n",
       "    </tr>\n",
       "    <tr>\n",
       "      <th>17</th>\n",
       "      <td>18</td>\n",
       "      <td>A18</td>\n",
       "      <td>2006-03-05</td>\n",
       "      <td>100000.0</td>\n",
       "      <td>18</td>\n",
       "      <td>34.0</td>\n",
       "      <td>BANGALORE</td>\n",
       "      <td>Silver</td>\n",
       "      <td>100000</td>\n",
       "      <td>C18</td>\n",
       "      <td>Salaried_MNC</td>\n",
       "    </tr>\n",
       "    <tr>\n",
       "      <th>18</th>\n",
       "      <td>19</td>\n",
       "      <td>A19</td>\n",
       "      <td>2005-04-04</td>\n",
       "      <td>10000.0</td>\n",
       "      <td>19</td>\n",
       "      <td>27.0</td>\n",
       "      <td>BANGALORE</td>\n",
       "      <td>Platinum</td>\n",
       "      <td>10000</td>\n",
       "      <td>C19</td>\n",
       "      <td>Salaried_Pvt</td>\n",
       "    </tr>\n",
       "    <tr>\n",
       "      <th>19</th>\n",
       "      <td>20</td>\n",
       "      <td>A20</td>\n",
       "      <td>2006-04-30</td>\n",
       "      <td>10001.0</td>\n",
       "      <td>20</td>\n",
       "      <td>27.0</td>\n",
       "      <td>CALCUTTA</td>\n",
       "      <td>Platinum</td>\n",
       "      <td>10001</td>\n",
       "      <td>C20</td>\n",
       "      <td>Govt</td>\n",
       "    </tr>\n",
       "  </tbody>\n",
       "</table>\n",
       "</div>"
      ],
      "text/plain": [
       "    sl_no customer     r_date  r_amount  no   age       city   product  \\\n",
       "7       8       A8 2004-02-05  100002.0   8  67.0      PATNA    Silver   \n",
       "8       9       A9 2005-02-28  100003.0   9  79.0    CHENNAI    Silver   \n",
       "17     18      A18 2006-03-05  100000.0  18  34.0  BANGALORE    Silver   \n",
       "18     19      A19 2005-04-04   10000.0  19  27.0  BANGALORE  Platinum   \n",
       "19     20      A20 2006-04-30   10001.0  20  27.0   CALCUTTA  Platinum   \n",
       "\n",
       "     limit company       segment  \n",
       "7   100002      C8  Salaried_Pvt  \n",
       "8   100003      C9          Govt  \n",
       "17  100000     C18  Salaried_MNC  \n",
       "18   10000     C19  Salaried_Pvt  \n",
       "19   10001     C20          Govt  "
      ]
     },
     "execution_count": 25,
     "metadata": {},
     "output_type": "execute_result"
    }
   ],
   "source": [
    "df_r.r_amount = df_r.apply(lambda x: x.limit\n",
    "                       if x.r_amount > x.limit \n",
    "                       else x.r_amount,\n",
    "                       axis=1)\n",
    "df_r[df_r.r_amount == df_r.limit].head()"
   ]
  },
  {
   "cell_type": "markdown",
   "id": "d83e2561",
   "metadata": {},
   "source": [
    "## Q2"
   ]
  },
  {
   "cell_type": "markdown",
   "id": "33def206",
   "metadata": {
    "ExecuteTime": {
     "end_time": "2022-09-17T10:48:23.654200Z",
     "start_time": "2022-09-17T10:48:23.643559Z"
    }
   },
   "source": [
    "> 2. From the above dataset create the following summaries:\n",
    "    - a. How many distinct customers exist?\n",
    "    - b. How many distinct categories exist?\n",
    "    - c. What is the average monthly spend by customers?\n",
    "    - d. What is the average monthly repayment by customers?\n",
    "    - e. If the monthly rate of interest is 2.9%, what is the profit for the bank for each month? (Profit is defined as interest earned on Monthly Profit. **Monthly Profit = Monthly repayment – Monthly spend**. Interest is earned only on positive profits and not on negative amounts)\n",
    "    - f. What are the top 5 product types?\n",
    "    - g. Which city is having maximum spend?\n",
    "    - h. Which age group is spending more money?\n",
    "    - i. Who are the top 10 customers in terms of repayment?"
   ]
  },
  {
   "cell_type": "markdown",
   "id": "ba742589",
   "metadata": {},
   "source": [
    "### a. How many distinct customers exist?"
   ]
  },
  {
   "cell_type": "code",
   "execution_count": 26,
   "id": "a12ea311",
   "metadata": {
    "ExecuteTime": {
     "end_time": "2022-09-19T21:37:03.255707Z",
     "start_time": "2022-09-19T21:37:03.241108Z"
    }
   },
   "outputs": [
    {
     "data": {
      "text/plain": [
       "100"
      ]
     },
     "execution_count": 26,
     "metadata": {},
     "output_type": "execute_result"
    }
   ],
   "source": [
    "ca['customer'].nunique()"
   ]
  },
  {
   "cell_type": "markdown",
   "id": "7548a40f",
   "metadata": {},
   "source": [
    "### b. How many distinct categories exist?"
   ]
  },
  {
   "cell_type": "code",
   "execution_count": 27,
   "id": "0f978e69",
   "metadata": {
    "ExecuteTime": {
     "end_time": "2022-09-19T21:37:03.271088Z",
     "start_time": "2022-09-19T21:37:03.257242Z"
    }
   },
   "outputs": [
    {
     "data": {
      "text/plain": [
       "product     3\n",
       "company    41\n",
       "segment     5\n",
       "type       15\n",
       "dtype: int64"
      ]
     },
     "execution_count": 27,
     "metadata": {},
     "output_type": "execute_result"
    }
   ],
   "source": [
    "df_s.loc[:,['product','company','segment','type']].nunique()"
   ]
  },
  {
   "cell_type": "markdown",
   "id": "033ab051",
   "metadata": {},
   "source": [
    "### c. What is the average monthly spend by customers?"
   ]
  },
  {
   "cell_type": "code",
   "execution_count": 28,
   "id": "d88f3a6b",
   "metadata": {
    "ExecuteTime": {
     "end_time": "2022-09-19T21:37:03.286795Z",
     "start_time": "2022-09-19T21:37:03.273592Z"
    }
   },
   "outputs": [],
   "source": [
    "pd.options.display.float_format = '{:,.2f}'.format"
   ]
  },
  {
   "cell_type": "markdown",
   "id": "4cc073e6",
   "metadata": {},
   "source": [
    "#### Average Spends [Each Month]"
   ]
  },
  {
   "cell_type": "code",
   "execution_count": 29,
   "id": "f993172e",
   "metadata": {
    "ExecuteTime": {
     "end_time": "2022-09-19T21:37:03.302767Z",
     "start_time": "2022-09-19T21:37:03.288172Z"
    },
    "scrolled": false
   },
   "outputs": [
    {
     "data": {
      "text/html": [
       "<div>\n",
       "<style scoped>\n",
       "    .dataframe tbody tr th:only-of-type {\n",
       "        vertical-align: middle;\n",
       "    }\n",
       "\n",
       "    .dataframe tbody tr th {\n",
       "        vertical-align: top;\n",
       "    }\n",
       "\n",
       "    .dataframe thead tr th {\n",
       "        text-align: left;\n",
       "    }\n",
       "\n",
       "    .dataframe thead tr:last-of-type th {\n",
       "        text-align: right;\n",
       "    }\n",
       "</style>\n",
       "<table border=\"1\" class=\"dataframe\">\n",
       "  <thead>\n",
       "    <tr>\n",
       "      <th></th>\n",
       "      <th colspan=\"12\" halign=\"left\">avg_spend</th>\n",
       "    </tr>\n",
       "    <tr>\n",
       "      <th>month</th>\n",
       "      <th>1</th>\n",
       "      <th>2</th>\n",
       "      <th>3</th>\n",
       "      <th>4</th>\n",
       "      <th>5</th>\n",
       "      <th>6</th>\n",
       "      <th>7</th>\n",
       "      <th>8</th>\n",
       "      <th>9</th>\n",
       "      <th>10</th>\n",
       "      <th>11</th>\n",
       "      <th>12</th>\n",
       "    </tr>\n",
       "    <tr>\n",
       "      <th>year</th>\n",
       "      <th></th>\n",
       "      <th></th>\n",
       "      <th></th>\n",
       "      <th></th>\n",
       "      <th></th>\n",
       "      <th></th>\n",
       "      <th></th>\n",
       "      <th></th>\n",
       "      <th></th>\n",
       "      <th></th>\n",
       "      <th></th>\n",
       "      <th></th>\n",
       "    </tr>\n",
       "  </thead>\n",
       "  <tbody>\n",
       "    <tr>\n",
       "      <th>2004</th>\n",
       "      <td>151,335.10</td>\n",
       "      <td>147,645.90</td>\n",
       "      <td>89,640.11</td>\n",
       "      <td>136,895.00</td>\n",
       "      <td>169,490.98</td>\n",
       "      <td>NaN</td>\n",
       "      <td>NaN</td>\n",
       "      <td>NaN</td>\n",
       "      <td>134,486.00</td>\n",
       "      <td>NaN</td>\n",
       "      <td>140,515.37</td>\n",
       "      <td>NaN</td>\n",
       "    </tr>\n",
       "    <tr>\n",
       "      <th>2005</th>\n",
       "      <td>162,992.85</td>\n",
       "      <td>168,094.03</td>\n",
       "      <td>NaN</td>\n",
       "      <td>144,046.89</td>\n",
       "      <td>149,370.70</td>\n",
       "      <td>171,706.70</td>\n",
       "      <td>199,402.74</td>\n",
       "      <td>175,220.30</td>\n",
       "      <td>174,361.48</td>\n",
       "      <td>69,063.43</td>\n",
       "      <td>153,809.49</td>\n",
       "      <td>97,522.66</td>\n",
       "    </tr>\n",
       "    <tr>\n",
       "      <th>2006</th>\n",
       "      <td>171,369.10</td>\n",
       "      <td>144,864.17</td>\n",
       "      <td>147,846.94</td>\n",
       "      <td>148,152.47</td>\n",
       "      <td>144,698.05</td>\n",
       "      <td>150,069.89</td>\n",
       "      <td>168,994.13</td>\n",
       "      <td>190,490.12</td>\n",
       "      <td>143,003.26</td>\n",
       "      <td>152,621.86</td>\n",
       "      <td>179,837.31</td>\n",
       "      <td>118,758.53</td>\n",
       "    </tr>\n",
       "  </tbody>\n",
       "</table>\n",
       "</div>"
      ],
      "text/plain": [
       "       avg_spend                                                         \\\n",
       "month         1          2          3          4          5          6    \n",
       "year                                                                      \n",
       "2004  151,335.10 147,645.90  89,640.11 136,895.00 169,490.98        NaN   \n",
       "2005  162,992.85 168,094.03        NaN 144,046.89 149,370.70 171,706.70   \n",
       "2006  171,369.10 144,864.17 147,846.94 148,152.47 144,698.05 150,069.89   \n",
       "\n",
       "                                                                         \n",
       "month         7          8          9          10         11         12  \n",
       "year                                                                     \n",
       "2004         NaN        NaN 134,486.00        NaN 140,515.37        NaN  \n",
       "2005  199,402.74 175,220.30 174,361.48  69,063.43 153,809.49  97,522.66  \n",
       "2006  168,994.13 190,490.12 143,003.26 152,621.86 179,837.31 118,758.53  "
      ]
     },
     "execution_count": 29,
     "metadata": {},
     "output_type": "execute_result"
    }
   ],
   "source": [
    "a2c = (df_s.groupby([df_s.s_date.dt.year, df_s.s_date.dt.month])\n",
    "       .s_amount.mean().to_frame()\n",
    "       .rename(columns={'s_amount': 'avg_spend'}))\n",
    "a2c.index.names = ['year', 'month']\n",
    "a2c.unstack()"
   ]
  },
  {
   "cell_type": "markdown",
   "id": "669b513d",
   "metadata": {},
   "source": [
    "#### Average Spend [Overall]"
   ]
  },
  {
   "cell_type": "code",
   "execution_count": 30,
   "id": "57894b74",
   "metadata": {
    "ExecuteTime": {
     "end_time": "2022-09-19T21:37:03.318502Z",
     "start_time": "2022-09-19T21:37:03.303921Z"
    }
   },
   "outputs": [
    {
     "name": "stdout",
     "output_type": "stream",
     "text": [
      "Overall average monthly spend by customers : 149876.85\n"
     ]
    }
   ],
   "source": [
    "a2cm = df_s.groupby([df_s.s_date.dt.year, df_s.s_date.dt.month]).s_amount.mean().mean()\n",
    "print(f'Overall average monthly spend by customers : {a2cm :.2f}')"
   ]
  },
  {
   "cell_type": "markdown",
   "id": "cf971436",
   "metadata": {},
   "source": [
    "#### Average Spends [Trend]"
   ]
  },
  {
   "cell_type": "code",
   "execution_count": 31,
   "id": "ff788fd0",
   "metadata": {
    "ExecuteTime": {
     "end_time": "2022-09-19T21:37:03.642594Z",
     "start_time": "2022-09-19T21:37:03.320007Z"
    }
   },
   "outputs": [
    {
     "data": {
      "image/png": "[encoded data removed]",
      "text/plain": [
       "<Figure size 1080x360 with 1 Axes>"
      ]
     },
     "metadata": {},
     "output_type": "display_data"
    }
   ],
   "source": [
    "plt.rcParams['figure.figsize'] = (15, 5)\n",
    "a2c1 = (df_s.groupby([pd.Grouper(key='s_date', freq='M')]).s_amount.mean()\n",
    "        .fillna(value=0))\n",
    "a2c1.index.name = 'Months'\n",
    "a2c1.plot(kind='line', marker='o', linewidth=2, color='#0066ff')\n",
    "plt.grid(True, axis='y', linewidth=0.75, linestyle='-')\n",
    "plt.hlines(y=a2c['avg_spend'].mean(),\n",
    "           xmin='2004-1',\n",
    "           xmax='2006-12',\n",
    "           colors='g')\n",
    "plt.ylabel('Average Spends')\n",
    "plt.show()"
   ]
  },
  {
   "cell_type": "markdown",
   "id": "3096e02f",
   "metadata": {},
   "source": [
    "### d. What is the average monthly repayment by customers?"
   ]
  },
  {
   "cell_type": "markdown",
   "id": "e34471c7",
   "metadata": {},
   "source": [
    "#### Average Repayments [Each Month]"
   ]
  },
  {
   "cell_type": "code",
   "execution_count": 32,
   "id": "661b3c82",
   "metadata": {
    "ExecuteTime": {
     "end_time": "2022-09-19T21:37:03.673431Z",
     "start_time": "2022-09-19T21:37:03.644263Z"
    },
    "scrolled": false
   },
   "outputs": [
    {
     "data": {
      "text/html": [
       "<div>\n",
       "<style scoped>\n",
       "    .dataframe tbody tr th:only-of-type {\n",
       "        vertical-align: middle;\n",
       "    }\n",
       "\n",
       "    .dataframe tbody tr th {\n",
       "        vertical-align: top;\n",
       "    }\n",
       "\n",
       "    .dataframe thead tr th {\n",
       "        text-align: left;\n",
       "    }\n",
       "\n",
       "    .dataframe thead tr:last-of-type th {\n",
       "        text-align: right;\n",
       "    }\n",
       "</style>\n",
       "<table border=\"1\" class=\"dataframe\">\n",
       "  <thead>\n",
       "    <tr>\n",
       "      <th></th>\n",
       "      <th colspan=\"12\" halign=\"left\">avg_repayment</th>\n",
       "    </tr>\n",
       "    <tr>\n",
       "      <th>month</th>\n",
       "      <th>1</th>\n",
       "      <th>2</th>\n",
       "      <th>3</th>\n",
       "      <th>4</th>\n",
       "      <th>5</th>\n",
       "      <th>6</th>\n",
       "      <th>7</th>\n",
       "      <th>8</th>\n",
       "      <th>9</th>\n",
       "      <th>10</th>\n",
       "      <th>11</th>\n",
       "      <th>12</th>\n",
       "    </tr>\n",
       "    <tr>\n",
       "      <th>year</th>\n",
       "      <th></th>\n",
       "      <th></th>\n",
       "      <th></th>\n",
       "      <th></th>\n",
       "      <th></th>\n",
       "      <th></th>\n",
       "      <th></th>\n",
       "      <th></th>\n",
       "      <th></th>\n",
       "      <th></th>\n",
       "      <th></th>\n",
       "      <th></th>\n",
       "    </tr>\n",
       "  </thead>\n",
       "  <tbody>\n",
       "    <tr>\n",
       "      <th>2004</th>\n",
       "      <td>161,292.57</td>\n",
       "      <td>175,497.69</td>\n",
       "      <td>187,433.06</td>\n",
       "      <td>140,886.46</td>\n",
       "      <td>154,569.09</td>\n",
       "      <td>NaN</td>\n",
       "      <td>NaN</td>\n",
       "      <td>NaN</td>\n",
       "      <td>126,505.72</td>\n",
       "      <td>NaN</td>\n",
       "      <td>151,737.53</td>\n",
       "      <td>NaN</td>\n",
       "    </tr>\n",
       "    <tr>\n",
       "      <th>2005</th>\n",
       "      <td>193,485.08</td>\n",
       "      <td>149,261.54</td>\n",
       "      <td>NaN</td>\n",
       "      <td>103,288.33</td>\n",
       "      <td>190,352.35</td>\n",
       "      <td>134,566.87</td>\n",
       "      <td>132,130.21</td>\n",
       "      <td>170,601.60</td>\n",
       "      <td>66,406.94</td>\n",
       "      <td>115,778.90</td>\n",
       "      <td>181,593.30</td>\n",
       "      <td>169,920.64</td>\n",
       "    </tr>\n",
       "    <tr>\n",
       "      <th>2006</th>\n",
       "      <td>211,479.50</td>\n",
       "      <td>199,340.39</td>\n",
       "      <td>170,909.83</td>\n",
       "      <td>161,473.11</td>\n",
       "      <td>176,926.36</td>\n",
       "      <td>234,089.02</td>\n",
       "      <td>149,893.63</td>\n",
       "      <td>189,565.18</td>\n",
       "      <td>161,374.02</td>\n",
       "      <td>230,972.41</td>\n",
       "      <td>192,231.78</td>\n",
       "      <td>105,149.33</td>\n",
       "    </tr>\n",
       "  </tbody>\n",
       "</table>\n",
       "</div>"
      ],
      "text/plain": [
       "      avg_repayment                                                         \\\n",
       "month            1          2          3          4          5          6    \n",
       "year                                                                         \n",
       "2004     161,292.57 175,497.69 187,433.06 140,886.46 154,569.09        NaN   \n",
       "2005     193,485.08 149,261.54        NaN 103,288.33 190,352.35 134,566.87   \n",
       "2006     211,479.50 199,340.39 170,909.83 161,473.11 176,926.36 234,089.02   \n",
       "\n",
       "                                                                         \n",
       "month         7          8          9          10         11         12  \n",
       "year                                                                     \n",
       "2004         NaN        NaN 126,505.72        NaN 151,737.53        NaN  \n",
       "2005  132,130.21 170,601.60  66,406.94 115,778.90 181,593.30 169,920.64  \n",
       "2006  149,893.63 189,565.18 161,374.02 230,972.41 192,231.78 105,149.33  "
      ]
     },
     "execution_count": 32,
     "metadata": {},
     "output_type": "execute_result"
    }
   ],
   "source": [
    "a2d = (df_r.groupby([df_r.r_date.dt.year, df_r.r_date.dt.month])\n",
    "       .r_amount.mean().to_frame()\n",
    "       .rename(columns={'r_amount': 'avg_repayment'}))\n",
    "a2d.index.names = ['year', 'month']\n",
    "a2d.unstack()"
   ]
  },
  {
   "cell_type": "markdown",
   "id": "eb58b812",
   "metadata": {},
   "source": [
    "#### Average Repayment [Overall]"
   ]
  },
  {
   "cell_type": "code",
   "execution_count": 33,
   "id": "093adaa6",
   "metadata": {
    "ExecuteTime": {
     "end_time": "2022-09-19T21:37:03.688355Z",
     "start_time": "2022-09-19T21:37:03.674568Z"
    }
   },
   "outputs": [
    {
     "name": "stdout",
     "output_type": "stream",
     "text": [
      "Overall average monthly repayment by customers : 162957.08\n"
     ]
    }
   ],
   "source": [
    "a2dm = df_r.groupby([df_r.r_date.dt.year, df_r.r_date.dt.month]).r_amount.mean().mean()\n",
    "print(f'Overall average monthly repayment by customers : {a2dm :.2f}')"
   ]
  },
  {
   "cell_type": "markdown",
   "id": "e3047af8",
   "metadata": {},
   "source": [
    "#### Average Repayments [Trend]"
   ]
  },
  {
   "cell_type": "code",
   "execution_count": 34,
   "id": "bf2d90f2",
   "metadata": {
    "ExecuteTime": {
     "end_time": "2022-09-19T21:37:03.842095Z",
     "start_time": "2022-09-19T21:37:03.689868Z"
    }
   },
   "outputs": [
    {
     "data": {
      "image/png": "[encoded data removed]",
      "text/plain": [
       "<Figure size 1080x360 with 1 Axes>"
      ]
     },
     "metadata": {},
     "output_type": "display_data"
    }
   ],
   "source": [
    "plt.rcParams['figure.figsize'] = (15, 5)\n",
    "a2d1 = (df_r.groupby([pd.Grouper(key='r_date', freq='M')]).r_amount.mean()\n",
    "        .fillna(value=0))\n",
    "a2d1.index.name = 'Months'\n",
    "a2d1.plot(kind='line', marker='o', linewidth=2, color='#68217a')\n",
    "plt.grid(True, axis='y', linewidth=0.75, linestyle='-')\n",
    "plt.hlines(y=a2d['avg_repayment'].mean(),\n",
    "           xmin='2004-1',\n",
    "           xmax='2006-12',\n",
    "           colors='r')\n",
    "plt.ylabel('Average Repayments')\n",
    "plt.show()"
   ]
  },
  {
   "cell_type": "markdown",
   "id": "88e8720c",
   "metadata": {},
   "source": [
    "### e. If the monthly rate of interest is 2.9%, what is the profit for the bank for each month?"
   ]
  },
  {
   "cell_type": "code",
   "execution_count": 35,
   "id": "c9a1e51e",
   "metadata": {
    "ExecuteTime": {
     "end_time": "2022-09-19T21:37:03.887837Z",
     "start_time": "2022-09-19T21:37:03.843722Z"
    }
   },
   "outputs": [
    {
     "data": {
      "text/html": [
       "<div>\n",
       "<style scoped>\n",
       "    .dataframe tbody tr th:only-of-type {\n",
       "        vertical-align: middle;\n",
       "    }\n",
       "\n",
       "    .dataframe tbody tr th {\n",
       "        vertical-align: top;\n",
       "    }\n",
       "\n",
       "    .dataframe thead tr th {\n",
       "        text-align: left;\n",
       "    }\n",
       "\n",
       "    .dataframe thead tr:last-of-type th {\n",
       "        text-align: right;\n",
       "    }\n",
       "</style>\n",
       "<table border=\"1\" class=\"dataframe\">\n",
       "  <thead>\n",
       "    <tr>\n",
       "      <th></th>\n",
       "      <th colspan=\"12\" halign=\"left\">profit</th>\n",
       "    </tr>\n",
       "    <tr>\n",
       "      <th>Months</th>\n",
       "      <th>1</th>\n",
       "      <th>2</th>\n",
       "      <th>3</th>\n",
       "      <th>4</th>\n",
       "      <th>5</th>\n",
       "      <th>6</th>\n",
       "      <th>7</th>\n",
       "      <th>8</th>\n",
       "      <th>9</th>\n",
       "      <th>10</th>\n",
       "      <th>11</th>\n",
       "      <th>12</th>\n",
       "    </tr>\n",
       "    <tr>\n",
       "      <th>Years</th>\n",
       "      <th></th>\n",
       "      <th></th>\n",
       "      <th></th>\n",
       "      <th></th>\n",
       "      <th></th>\n",
       "      <th></th>\n",
       "      <th></th>\n",
       "      <th></th>\n",
       "      <th></th>\n",
       "      <th></th>\n",
       "      <th></th>\n",
       "      <th></th>\n",
       "    </tr>\n",
       "  </thead>\n",
       "  <tbody>\n",
       "    <tr>\n",
       "      <th>2004</th>\n",
       "      <td>0.00</td>\n",
       "      <td>17,526.22</td>\n",
       "      <td>45,139.49</td>\n",
       "      <td>11,412.48</td>\n",
       "      <td>43,249.25</td>\n",
       "      <td>0.00</td>\n",
       "      <td>0.00</td>\n",
       "      <td>0.00</td>\n",
       "      <td>4,097.34</td>\n",
       "      <td>0.00</td>\n",
       "      <td>8,956.59</td>\n",
       "      <td>0.00</td>\n",
       "    </tr>\n",
       "    <tr>\n",
       "      <th>2005</th>\n",
       "      <td>19,148.62</td>\n",
       "      <td>0.00</td>\n",
       "      <td>0.00</td>\n",
       "      <td>0.00</td>\n",
       "      <td>243,668.54</td>\n",
       "      <td>0.00</td>\n",
       "      <td>0.00</td>\n",
       "      <td>40,776.64</td>\n",
       "      <td>0.00</td>\n",
       "      <td>12,251.30</td>\n",
       "      <td>33,840.68</td>\n",
       "      <td>19,538.18</td>\n",
       "    </tr>\n",
       "    <tr>\n",
       "      <th>2006</th>\n",
       "      <td>4,019.01</td>\n",
       "      <td>49,009.42</td>\n",
       "      <td>80,701.72</td>\n",
       "      <td>17,581.19</td>\n",
       "      <td>211,395.57</td>\n",
       "      <td>20,534.60</td>\n",
       "      <td>23,612.63</td>\n",
       "      <td>0.00</td>\n",
       "      <td>0.00</td>\n",
       "      <td>18,413.92</td>\n",
       "      <td>4,489.59</td>\n",
       "      <td>0.00</td>\n",
       "    </tr>\n",
       "  </tbody>\n",
       "</table>\n",
       "</div>"
      ],
      "text/plain": [
       "          profit                                                               \\\n",
       "Months        1         2         3         4          5         6         7    \n",
       "Years                                                                           \n",
       "2004        0.00 17,526.22 45,139.49 11,412.48  43,249.25      0.00      0.00   \n",
       "2005   19,148.62      0.00      0.00      0.00 243,668.54      0.00      0.00   \n",
       "2006    4,019.01 49,009.42 80,701.72 17,581.19 211,395.57 20,534.60 23,612.63   \n",
       "\n",
       "                                                         \n",
       "Months        8        9         10        11        12  \n",
       "Years                                                    \n",
       "2004        0.00 4,097.34      0.00  8,956.59      0.00  \n",
       "2005   40,776.64     0.00 12,251.30 33,840.68 19,538.18  \n",
       "2006        0.00     0.00 18,413.92  4,489.59      0.00  "
      ]
     },
     "execution_count": 35,
     "metadata": {},
     "output_type": "execute_result"
    }
   ],
   "source": [
    "df_p = pd.DataFrame()\n",
    "df_p['monthly_profit'] = (df_r.groupby([pd.Grouper(key='r_date', freq='M')])\n",
    "                              .r_amount.sum() - \n",
    "                          df_s.groupby([pd.Grouper(key='s_date', freq='M')])\n",
    "                              .s_amount.sum())\n",
    "df_p['profit'] = df_p['monthly_profit'].apply(lambda x: x*0.029 \n",
    "                                              if x > 0 else 0)\n",
    "df_p.index.name = 'Months'\n",
    "a2e = df_p.loc[:,'profit'].reset_index()\n",
    "a2e['Years'] = a2e.Months.dt.year\n",
    "a2e['Months'] = a2e.Months.dt.month\n",
    "a2e.set_index(['Years', 'Months'], inplace=True, verify_integrity=True)\n",
    "a2e.unstack()"
   ]
  },
  {
   "cell_type": "markdown",
   "id": "43ce6c13",
   "metadata": {},
   "source": [
    "#### Profits [Trend]"
   ]
  },
  {
   "cell_type": "code",
   "execution_count": 36,
   "id": "392484f5",
   "metadata": {
    "ExecuteTime": {
     "end_time": "2022-09-19T21:37:04.087147Z",
     "start_time": "2022-09-19T21:37:03.889265Z"
    },
    "scrolled": false
   },
   "outputs": [
    {
     "data": {
      "image/png": "[encoded data removed]",
      "text/plain": [
       "<Figure size 1080x360 with 1 Axes>"
      ]
     },
     "metadata": {},
     "output_type": "display_data"
    }
   ],
   "source": [
    "plt.rcParams['figure.figsize'] = (15, 5)\n",
    "plt.grid(True, axis='y', linewidth=0.75, linestyle='-')\n",
    "df_p.profit.plot(kind='line', marker='o', linewidth=2, color='#005a37')\n",
    "plt.grid(True, axis='y', linewidth=0.75, linestyle='-')\n",
    "plt.hlines(y=df_p.profit.mean(),\n",
    "           xmin='2004-1',\n",
    "           xmax='2006-12',\n",
    "           colors='#00c880')\n",
    "plt.ylabel('Profit')\n",
    "plt.show()"
   ]
  },
  {
   "cell_type": "markdown",
   "id": "d2b9565e",
   "metadata": {},
   "source": [
    "### f. What are the top 5 product types?"
   ]
  },
  {
   "cell_type": "code",
   "execution_count": 37,
   "id": "223b8245",
   "metadata": {
    "ExecuteTime": {
     "end_time": "2022-09-19T21:37:04.101870Z",
     "start_time": "2022-09-19T21:37:04.088271Z"
    }
   },
   "outputs": [
    {
     "data": {
      "text/html": [
       "<div>\n",
       "<style scoped>\n",
       "    .dataframe tbody tr th:only-of-type {\n",
       "        vertical-align: middle;\n",
       "    }\n",
       "\n",
       "    .dataframe tbody tr th {\n",
       "        vertical-align: top;\n",
       "    }\n",
       "\n",
       "    .dataframe thead th {\n",
       "        text-align: right;\n",
       "    }\n",
       "</style>\n",
       "<table border=\"1\" class=\"dataframe\">\n",
       "  <thead>\n",
       "    <tr style=\"text-align: right;\">\n",
       "      <th></th>\n",
       "      <th>Total_Spends</th>\n",
       "      <th>Freq</th>\n",
       "    </tr>\n",
       "    <tr>\n",
       "      <th>type</th>\n",
       "      <th></th>\n",
       "      <th></th>\n",
       "    </tr>\n",
       "  </thead>\n",
       "  <tbody>\n",
       "    <tr>\n",
       "      <th>PETRO</th>\n",
       "      <td>31,067,654.25</td>\n",
       "      <td>200</td>\n",
       "    </tr>\n",
       "    <tr>\n",
       "      <th>CAMERA</th>\n",
       "      <td>28,648,003.90</td>\n",
       "      <td>160</td>\n",
       "    </tr>\n",
       "    <tr>\n",
       "      <th>FOOD</th>\n",
       "      <td>24,404,427.66</td>\n",
       "      <td>160</td>\n",
       "    </tr>\n",
       "    <tr>\n",
       "      <th>AIR TICKET</th>\n",
       "      <td>23,780,680.62</td>\n",
       "      <td>147</td>\n",
       "    </tr>\n",
       "    <tr>\n",
       "      <th>TRAIN TICKET</th>\n",
       "      <td>19,610,407.82</td>\n",
       "      <td>132</td>\n",
       "    </tr>\n",
       "  </tbody>\n",
       "</table>\n",
       "</div>"
      ],
      "text/plain": [
       "              Total_Spends  Freq\n",
       "type                            \n",
       "PETRO        31,067,654.25   200\n",
       "CAMERA       28,648,003.90   160\n",
       "FOOD         24,404,427.66   160\n",
       "AIR TICKET   23,780,680.62   147\n",
       "TRAIN TICKET 19,610,407.82   132"
      ]
     },
     "execution_count": 37,
     "metadata": {},
     "output_type": "execute_result"
    }
   ],
   "source": [
    "a2f = (df_s.groupby('type')\n",
    "           .agg(Total_Spends=pd.NamedAgg('s_amount', 'sum'),\n",
    "                Freq=pd.NamedAgg('s_amount', 'count'))\n",
    "           .sort_values(by='Total_Spends', ascending=False))\n",
    "a2f.iloc[0:5]"
   ]
  },
  {
   "cell_type": "markdown",
   "id": "acba183d",
   "metadata": {},
   "source": [
    "### g. Which city is having maximum spend?"
   ]
  },
  {
   "cell_type": "code",
   "execution_count": 38,
   "id": "2a888995",
   "metadata": {
    "ExecuteTime": {
     "end_time": "2022-09-19T21:37:04.116653Z",
     "start_time": "2022-09-19T21:37:04.103375Z"
    }
   },
   "outputs": [
    {
     "data": {
      "text/html": [
       "<div>\n",
       "<style scoped>\n",
       "    .dataframe tbody tr th:only-of-type {\n",
       "        vertical-align: middle;\n",
       "    }\n",
       "\n",
       "    .dataframe tbody tr th {\n",
       "        vertical-align: top;\n",
       "    }\n",
       "\n",
       "    .dataframe thead th {\n",
       "        text-align: right;\n",
       "    }\n",
       "</style>\n",
       "<table border=\"1\" class=\"dataframe\">\n",
       "  <thead>\n",
       "    <tr style=\"text-align: right;\">\n",
       "      <th></th>\n",
       "      <th>Total_Spends</th>\n",
       "    </tr>\n",
       "    <tr>\n",
       "      <th>city</th>\n",
       "      <th></th>\n",
       "    </tr>\n",
       "  </thead>\n",
       "  <tbody>\n",
       "    <tr>\n",
       "      <th>COCHIN</th>\n",
       "      <td>48,574,542.86</td>\n",
       "    </tr>\n",
       "  </tbody>\n",
       "</table>\n",
       "</div>"
      ],
      "text/plain": [
       "        Total_Spends\n",
       "city                \n",
       "COCHIN 48,574,542.86"
      ]
     },
     "execution_count": 38,
     "metadata": {},
     "output_type": "execute_result"
    }
   ],
   "source": [
    "a2g = (df_s.groupby('city')\n",
    "           .agg(Total_Spends=pd.NamedAgg('s_amount', 'sum'))\n",
    "           .sort_values(by='Total_Spends', ascending=False))\n",
    "a2g.iloc[0:1]"
   ]
  },
  {
   "cell_type": "markdown",
   "id": "3ca6ada0",
   "metadata": {},
   "source": [
    "### h. Which age group is spending more money?"
   ]
  },
  {
   "cell_type": "code",
   "execution_count": 39,
   "id": "235035e6",
   "metadata": {
    "ExecuteTime": {
     "end_time": "2022-09-19T21:37:04.147990Z",
     "start_time": "2022-09-19T21:37:04.119165Z"
    }
   },
   "outputs": [
    {
     "data": {
      "text/html": [
       "<div>\n",
       "<style scoped>\n",
       "    .dataframe tbody tr th:only-of-type {\n",
       "        vertical-align: middle;\n",
       "    }\n",
       "\n",
       "    .dataframe tbody tr th {\n",
       "        vertical-align: top;\n",
       "    }\n",
       "\n",
       "    .dataframe thead th {\n",
       "        text-align: right;\n",
       "    }\n",
       "</style>\n",
       "<table border=\"1\" class=\"dataframe\">\n",
       "  <thead>\n",
       "    <tr style=\"text-align: right;\">\n",
       "      <th></th>\n",
       "      <th>Total_Spends</th>\n",
       "    </tr>\n",
       "    <tr>\n",
       "      <th>Age_Group</th>\n",
       "      <th></th>\n",
       "    </tr>\n",
       "  </thead>\n",
       "  <tbody>\n",
       "    <tr>\n",
       "      <th>(43.0, 55.0]</th>\n",
       "      <td>67,694,415.81</td>\n",
       "    </tr>\n",
       "    <tr>\n",
       "      <th>(19.0, 31.0]</th>\n",
       "      <td>58,978,083.02</td>\n",
       "    </tr>\n",
       "    <tr>\n",
       "      <th>(31.0, 43.0]</th>\n",
       "      <td>46,961,731.02</td>\n",
       "    </tr>\n",
       "    <tr>\n",
       "      <th>(67.0, 79.0]</th>\n",
       "      <td>31,107,991.60</td>\n",
       "    </tr>\n",
       "    <tr>\n",
       "      <th>(55.0, 67.0]</th>\n",
       "      <td>23,986,376.53</td>\n",
       "    </tr>\n",
       "  </tbody>\n",
       "</table>\n",
       "</div>"
      ],
      "text/plain": [
       "              Total_Spends\n",
       "Age_Group                 \n",
       "(43.0, 55.0] 67,694,415.81\n",
       "(19.0, 31.0] 58,978,083.02\n",
       "(31.0, 43.0] 46,961,731.02\n",
       "(67.0, 79.0] 31,107,991.60\n",
       "(55.0, 67.0] 23,986,376.53"
      ]
     },
     "execution_count": 39,
     "metadata": {},
     "output_type": "execute_result"
    }
   ],
   "source": [
    "# Creating bins as different Age Groups \n",
    "a2h = (df_s.groupby(pd.cut(df_s['age'], bins=5, precision=0))\n",
    "           .agg(Total_Spends=pd.NamedAgg('s_amount', 'sum'))\n",
    "           .sort_values(by='Total_Spends', ascending=False))\n",
    "a2h.index.name = 'Age_Group'\n",
    "a2h"
   ]
  },
  {
   "cell_type": "markdown",
   "id": "9803c8c8",
   "metadata": {},
   "source": [
    "Clearly, the customers belonging to the age group of **(43 - 55]** are spending maximum. "
   ]
  },
  {
   "cell_type": "markdown",
   "id": "3dc07350",
   "metadata": {},
   "source": [
    "### i. Who are the top 10 customers in terms of repayment?"
   ]
  },
  {
   "cell_type": "code",
   "execution_count": 40,
   "id": "a746e2f0",
   "metadata": {
    "ExecuteTime": {
     "end_time": "2022-09-19T21:37:04.163534Z",
     "start_time": "2022-09-19T21:37:04.150450Z"
    }
   },
   "outputs": [
    {
     "data": {
      "text/html": [
       "<div>\n",
       "<style scoped>\n",
       "    .dataframe tbody tr th:only-of-type {\n",
       "        vertical-align: middle;\n",
       "    }\n",
       "\n",
       "    .dataframe tbody tr th {\n",
       "        vertical-align: top;\n",
       "    }\n",
       "\n",
       "    .dataframe thead th {\n",
       "        text-align: right;\n",
       "    }\n",
       "</style>\n",
       "<table border=\"1\" class=\"dataframe\">\n",
       "  <thead>\n",
       "    <tr style=\"text-align: right;\">\n",
       "      <th></th>\n",
       "      <th>Total_Repayments</th>\n",
       "    </tr>\n",
       "    <tr>\n",
       "      <th>customer</th>\n",
       "      <th></th>\n",
       "    </tr>\n",
       "  </thead>\n",
       "  <tbody>\n",
       "    <tr>\n",
       "      <th>A61</th>\n",
       "      <td>9,672,793.52</td>\n",
       "    </tr>\n",
       "    <tr>\n",
       "      <th>A60</th>\n",
       "      <td>9,168,149.95</td>\n",
       "    </tr>\n",
       "    <tr>\n",
       "      <th>A42</th>\n",
       "      <td>8,928,473.48</td>\n",
       "    </tr>\n",
       "    <tr>\n",
       "      <th>A13</th>\n",
       "      <td>8,496,395.78</td>\n",
       "    </tr>\n",
       "    <tr>\n",
       "      <th>A38</th>\n",
       "      <td>8,205,336.50</td>\n",
       "    </tr>\n",
       "    <tr>\n",
       "      <th>A43</th>\n",
       "      <td>7,976,031.15</td>\n",
       "    </tr>\n",
       "    <tr>\n",
       "      <th>A40</th>\n",
       "      <td>7,671,795.78</td>\n",
       "    </tr>\n",
       "    <tr>\n",
       "      <th>A14</th>\n",
       "      <td>7,655,254.89</td>\n",
       "    </tr>\n",
       "    <tr>\n",
       "      <th>A44</th>\n",
       "      <td>7,637,481.58</td>\n",
       "    </tr>\n",
       "    <tr>\n",
       "      <th>A26</th>\n",
       "      <td>7,472,188.59</td>\n",
       "    </tr>\n",
       "  </tbody>\n",
       "</table>\n",
       "</div>"
      ],
      "text/plain": [
       "          Total_Repayments\n",
       "customer                  \n",
       "A61           9,672,793.52\n",
       "A60           9,168,149.95\n",
       "A42           8,928,473.48\n",
       "A13           8,496,395.78\n",
       "A38           8,205,336.50\n",
       "A43           7,976,031.15\n",
       "A40           7,671,795.78\n",
       "A14           7,655,254.89\n",
       "A44           7,637,481.58\n",
       "A26           7,472,188.59"
      ]
     },
     "execution_count": 40,
     "metadata": {},
     "output_type": "execute_result"
    }
   ],
   "source": [
    "a2i = (df_r.groupby('customer')\n",
    "           .agg(Total_Repayments=pd.NamedAgg('r_amount', 'sum'))\n",
    "           .sort_values(by='Total_Repayments', ascending=False))\n",
    "a2i.iloc[0:10]"
   ]
  },
  {
   "cell_type": "markdown",
   "id": "f71ae173",
   "metadata": {},
   "source": [
    "## Q3"
   ]
  },
  {
   "cell_type": "markdown",
   "id": "99b4f1c9",
   "metadata": {},
   "source": [
    "> 3. Calculate the city wise spend on each product on yearly basis. Also include a graphical\n",
    "representation for the same."
   ]
  },
  {
   "cell_type": "markdown",
   "id": "96173811",
   "metadata": {},
   "source": [
    "### Preparing the dataframe"
   ]
  },
  {
   "cell_type": "code",
   "execution_count": 41,
   "id": "a7f5fc1e",
   "metadata": {
    "ExecuteTime": {
     "end_time": "2022-09-19T21:37:04.225705Z",
     "start_time": "2022-09-19T21:37:04.166294Z"
    }
   },
   "outputs": [
    {
     "data": {
      "text/html": [
       "<div>\n",
       "<style scoped>\n",
       "    .dataframe tbody tr th:only-of-type {\n",
       "        vertical-align: middle;\n",
       "    }\n",
       "\n",
       "    .dataframe tbody tr th {\n",
       "        vertical-align: top;\n",
       "    }\n",
       "\n",
       "    .dataframe thead tr th {\n",
       "        text-align: left;\n",
       "    }\n",
       "\n",
       "    .dataframe thead tr:last-of-type th {\n",
       "        text-align: right;\n",
       "    }\n",
       "</style>\n",
       "<table border=\"1\" class=\"dataframe\">\n",
       "  <thead>\n",
       "    <tr>\n",
       "      <th></th>\n",
       "      <th></th>\n",
       "      <th colspan=\"8\" halign=\"left\">Total_Spends</th>\n",
       "    </tr>\n",
       "    <tr>\n",
       "      <th></th>\n",
       "      <th>City</th>\n",
       "      <th>BANGALORE</th>\n",
       "      <th>BOMBAY</th>\n",
       "      <th>CALCUTTA</th>\n",
       "      <th>CHENNAI</th>\n",
       "      <th>COCHIN</th>\n",
       "      <th>DELHI</th>\n",
       "      <th>PATNA</th>\n",
       "      <th>TRIVANDRUM</th>\n",
       "    </tr>\n",
       "    <tr>\n",
       "      <th>Year</th>\n",
       "      <th>Product</th>\n",
       "      <th></th>\n",
       "      <th></th>\n",
       "      <th></th>\n",
       "      <th></th>\n",
       "      <th></th>\n",
       "      <th></th>\n",
       "      <th></th>\n",
       "      <th></th>\n",
       "    </tr>\n",
       "  </thead>\n",
       "  <tbody>\n",
       "    <tr>\n",
       "      <th rowspan=\"3\" valign=\"top\">2004</th>\n",
       "      <th>Gold</th>\n",
       "      <td>9,870,697.48</td>\n",
       "      <td>6,221,750.00</td>\n",
       "      <td>8,643,979.18</td>\n",
       "      <td>1,415,072.88</td>\n",
       "      <td>9,730,434.55</td>\n",
       "      <td>3,467,979.09</td>\n",
       "      <td>1,915,473.34</td>\n",
       "      <td>2,272,699.66</td>\n",
       "    </tr>\n",
       "    <tr>\n",
       "      <th>Platinum</th>\n",
       "      <td>1,045,045.91</td>\n",
       "      <td>946,976.34</td>\n",
       "      <td>2,178,863.27</td>\n",
       "      <td>2,944,114.92</td>\n",
       "      <td>2,974,235.36</td>\n",
       "      <td>338,842.13</td>\n",
       "      <td>816,637.27</td>\n",
       "      <td>1,770,528.16</td>\n",
       "    </tr>\n",
       "    <tr>\n",
       "      <th>Silver</th>\n",
       "      <td>1,215,574.95</td>\n",
       "      <td>518,676.34</td>\n",
       "      <td>597,488.36</td>\n",
       "      <td>308,774.69</td>\n",
       "      <td>789,194.95</td>\n",
       "      <td>804,097.08</td>\n",
       "      <td>844,829.53</td>\n",
       "      <td>272,908.78</td>\n",
       "    </tr>\n",
       "    <tr>\n",
       "      <th rowspan=\"3\" valign=\"top\">2005</th>\n",
       "      <th>Gold</th>\n",
       "      <td>14,914,471.02</td>\n",
       "      <td>9,533,804.39</td>\n",
       "      <td>11,691,980.02</td>\n",
       "      <td>3,013,080.93</td>\n",
       "      <td>11,025,312.81</td>\n",
       "      <td>2,508,487.43</td>\n",
       "      <td>2,187,692.09</td>\n",
       "      <td>1,984,570.77</td>\n",
       "    </tr>\n",
       "    <tr>\n",
       "      <th>Platinum</th>\n",
       "      <td>885,722.61</td>\n",
       "      <td>836,008.47</td>\n",
       "      <td>4,822,990.05</td>\n",
       "      <td>5,243,051.17</td>\n",
       "      <td>4,151,462.73</td>\n",
       "      <td>443,619.82</td>\n",
       "      <td>2,534,969.17</td>\n",
       "      <td>3,401,178.64</td>\n",
       "    </tr>\n",
       "    <tr>\n",
       "      <th>Silver</th>\n",
       "      <td>909,077.89</td>\n",
       "      <td>572,757.22</td>\n",
       "      <td>343,259.51</td>\n",
       "      <td>428,758.51</td>\n",
       "      <td>643,789.22</td>\n",
       "      <td>493,446.15</td>\n",
       "      <td>949,455.26</td>\n",
       "      <td>372,614.29</td>\n",
       "    </tr>\n",
       "    <tr>\n",
       "      <th rowspan=\"3\" valign=\"top\">2006</th>\n",
       "      <th>Gold</th>\n",
       "      <td>13,121,349.45</td>\n",
       "      <td>10,196,028.75</td>\n",
       "      <td>9,571,088.34</td>\n",
       "      <td>3,057,965.84</td>\n",
       "      <td>12,628,278.51</td>\n",
       "      <td>3,535,699.84</td>\n",
       "      <td>2,424,509.41</td>\n",
       "      <td>2,827,396.99</td>\n",
       "    </tr>\n",
       "    <tr>\n",
       "      <th>Platinum</th>\n",
       "      <td>709,694.49</td>\n",
       "      <td>1,022,213.94</td>\n",
       "      <td>2,456,411.61</td>\n",
       "      <td>6,066,895.56</td>\n",
       "      <td>5,530,968.85</td>\n",
       "      <td>133,365.05</td>\n",
       "      <td>745,381.45</td>\n",
       "      <td>2,122,721.65</td>\n",
       "    </tr>\n",
       "    <tr>\n",
       "      <th>Silver</th>\n",
       "      <td>1,650,718.66</td>\n",
       "      <td>849,474.78</td>\n",
       "      <td>876,154.14</td>\n",
       "      <td>313,388.10</td>\n",
       "      <td>1,100,865.89</td>\n",
       "      <td>760,770.64</td>\n",
       "      <td>697,258.92</td>\n",
       "      <td>533,562.71</td>\n",
       "    </tr>\n",
       "  </tbody>\n",
       "</table>\n",
       "</div>"
      ],
      "text/plain": [
       "               Total_Spends                                           \\\n",
       "City              BANGALORE        BOMBAY      CALCUTTA      CHENNAI   \n",
       "Year Product                                                           \n",
       "2004 Gold      9,870,697.48  6,221,750.00  8,643,979.18 1,415,072.88   \n",
       "     Platinum  1,045,045.91    946,976.34  2,178,863.27 2,944,114.92   \n",
       "     Silver    1,215,574.95    518,676.34    597,488.36   308,774.69   \n",
       "2005 Gold     14,914,471.02  9,533,804.39 11,691,980.02 3,013,080.93   \n",
       "     Platinum    885,722.61    836,008.47  4,822,990.05 5,243,051.17   \n",
       "     Silver      909,077.89    572,757.22    343,259.51   428,758.51   \n",
       "2006 Gold     13,121,349.45 10,196,028.75  9,571,088.34 3,057,965.84   \n",
       "     Platinum    709,694.49  1,022,213.94  2,456,411.61 6,066,895.56   \n",
       "     Silver    1,650,718.66    849,474.78    876,154.14   313,388.10   \n",
       "\n",
       "                                                                    \n",
       "City                 COCHIN        DELHI        PATNA   TRIVANDRUM  \n",
       "Year Product                                                        \n",
       "2004 Gold      9,730,434.55 3,467,979.09 1,915,473.34 2,272,699.66  \n",
       "     Platinum  2,974,235.36   338,842.13   816,637.27 1,770,528.16  \n",
       "     Silver      789,194.95   804,097.08   844,829.53   272,908.78  \n",
       "2005 Gold     11,025,312.81 2,508,487.43 2,187,692.09 1,984,570.77  \n",
       "     Platinum  4,151,462.73   443,619.82 2,534,969.17 3,401,178.64  \n",
       "     Silver      643,789.22   493,446.15   949,455.26   372,614.29  \n",
       "2006 Gold     12,628,278.51 3,535,699.84 2,424,509.41 2,827,396.99  \n",
       "     Platinum  5,530,968.85   133,365.05   745,381.45 2,122,721.65  \n",
       "     Silver    1,100,865.89   760,770.64   697,258.92   533,562.71  "
      ]
     },
     "execution_count": 41,
     "metadata": {},
     "output_type": "execute_result"
    }
   ],
   "source": [
    "df_sy0 = (df_s.groupby([pd.Grouper(key='s_date', freq='Y'), 'product', 'city'])\n",
    "         .agg(Total_Spends=pd.NamedAgg('s_amount', 'sum')))\n",
    "df_sy = df_sy0.reset_index()\n",
    "df_sy['year'] = df_sy.s_date.dt.year\n",
    "df_sy.drop(columns='s_date', inplace=True)\n",
    "df_sy0.index.set_levels([df_sy0.index.levels[0].strftime('%Y'),\n",
    "                         df_sy0.index.levels[1],\n",
    "                         df_sy0.index.levels[2]], inplace=True)\n",
    "df_sy0.index.set_names(['Year', 'Product', 'City'], inplace=True)\n",
    "df_sy0.unstack()"
   ]
  },
  {
   "cell_type": "markdown",
   "id": "54a39034",
   "metadata": {},
   "source": [
    "### Plotting the data"
   ]
  },
  {
   "cell_type": "code",
   "execution_count": 42,
   "id": "334febdc",
   "metadata": {
    "ExecuteTime": {
     "end_time": "2022-09-19T21:37:05.413672Z",
     "start_time": "2022-09-19T21:37:04.227203Z"
    },
    "scrolled": false
   },
   "outputs": [
    {
     "data": {
      "image/png": "[encoded data removed]",
      "text/plain": [
       "<Figure size 994.25x594 with 9 Axes>"
      ]
     },
     "metadata": {},
     "output_type": "display_data"
    }
   ],
   "source": [
    "# Plotting\n",
    "sns.set(style='ticks', font_scale=1.25)\n",
    "g = sns.FacetGrid(data=df_sy,\n",
    "                  col='year',\n",
    "                  palette=['#c29b0c', '#cbcac8', '#5e7e95'],\n",
    "                  row='product',\n",
    "                  hue='product',\n",
    "                  size=2.75,\n",
    "                  margin_titles=True,\n",
    "                  aspect=1.5).map(sns.barplot, 'Total_Spends',\n",
    "                                  'city').add_legend()\n",
    "g.set(xticks=np.arange(0, 20000000, 5000000))\n",
    "g.set_xticklabels(np.arange(0, 20, 5))\n",
    "g.set_titles(col_template=\"{col_name}\", row_template=\"\")\n",
    "g.set_xlabels('')\n",
    "g.set_ylabels('')\n",
    "g.fig.text(0.35,\n",
    "           -0.005,\n",
    "           s='Total Spends / Year (in Millions)',\n",
    "           fontdict={'fontsize': 20})\n",
    "g.fig.text(0.025,\n",
    "           0.5,\n",
    "           s='Cities',\n",
    "           fontdict={'fontsize': 20},\n",
    "           rotation='vertical')\n",
    "\n",
    "# Annotation\n",
    "plt.xlim(0, 20000000)\n",
    "for ax in g.axes.ravel():\n",
    "    for container in ax.containers:\n",
    "        ax.bar_label(container,\n",
    "                     labels=[f'{x.get_width()/10**6:.2f}' for x in container],\n",
    "                     padding=5,\n",
    "                     fontsize=12)\n",
    "plt.show()"
   ]
  },
  {
   "cell_type": "markdown",
   "id": "ea6f8958",
   "metadata": {},
   "source": [
    "## Q4"
   ]
  },
  {
   "cell_type": "markdown",
   "id": "114c7e7c",
   "metadata": {},
   "source": [
    "> 4. Create graphs for\n",
    "    - a. Monthly comparison of total spends, city wise\n",
    "    - b. Comparison of yearly spend on air tickets\n",
    "    - c. Comparison of monthly spend for each product (look for any seasonality that exists in terms of spend)"
   ]
  },
  {
   "cell_type": "markdown",
   "id": "0801abf4",
   "metadata": {},
   "source": [
    "###  a. Monthly comparison of total spends, city wise"
   ]
  },
  {
   "cell_type": "markdown",
   "id": "e1b3e05e",
   "metadata": {},
   "source": [
    "#### Preparing the dataframe"
   ]
  },
  {
   "cell_type": "code",
   "execution_count": 43,
   "id": "a72d04ec",
   "metadata": {
    "ExecuteTime": {
     "end_time": "2022-09-19T21:37:05.444209Z",
     "start_time": "2022-09-19T21:37:05.416228Z"
    }
   },
   "outputs": [
    {
     "data": {
      "text/html": [
       "<div>\n",
       "<style scoped>\n",
       "    .dataframe tbody tr th:only-of-type {\n",
       "        vertical-align: middle;\n",
       "    }\n",
       "\n",
       "    .dataframe tbody tr th {\n",
       "        vertical-align: top;\n",
       "    }\n",
       "\n",
       "    .dataframe thead th {\n",
       "        text-align: right;\n",
       "    }\n",
       "</style>\n",
       "<table border=\"1\" class=\"dataframe\">\n",
       "  <thead>\n",
       "    <tr style=\"text-align: right;\">\n",
       "      <th></th>\n",
       "      <th>city</th>\n",
       "      <th>Total_Spend_per_Month</th>\n",
       "      <th>Months</th>\n",
       "    </tr>\n",
       "  </thead>\n",
       "  <tbody>\n",
       "    <tr>\n",
       "      <th>0</th>\n",
       "      <td>BANGALORE</td>\n",
       "      <td>8,684,706.32</td>\n",
       "      <td>2004-01</td>\n",
       "    </tr>\n",
       "    <tr>\n",
       "      <th>1</th>\n",
       "      <td>BOMBAY</td>\n",
       "      <td>5,204,207.72</td>\n",
       "      <td>2004-01</td>\n",
       "    </tr>\n",
       "    <tr>\n",
       "      <th>2</th>\n",
       "      <td>CALCUTTA</td>\n",
       "      <td>8,754,931.39</td>\n",
       "      <td>2004-01</td>\n",
       "    </tr>\n",
       "    <tr>\n",
       "      <th>3</th>\n",
       "      <td>CHENNAI</td>\n",
       "      <td>4,381,240.20</td>\n",
       "      <td>2004-01</td>\n",
       "    </tr>\n",
       "    <tr>\n",
       "      <th>4</th>\n",
       "      <td>COCHIN</td>\n",
       "      <td>10,481,875.06</td>\n",
       "      <td>2004-01</td>\n",
       "    </tr>\n",
       "    <tr>\n",
       "      <th>...</th>\n",
       "      <td>...</td>\n",
       "      <td>...</td>\n",
       "      <td>...</td>\n",
       "    </tr>\n",
       "    <tr>\n",
       "      <th>207</th>\n",
       "      <td>CALCUTTA</td>\n",
       "      <td>50,001.00</td>\n",
       "      <td>2006-12</td>\n",
       "    </tr>\n",
       "    <tr>\n",
       "      <th>208</th>\n",
       "      <td>CHENNAI</td>\n",
       "      <td>479,115.79</td>\n",
       "      <td>2006-12</td>\n",
       "    </tr>\n",
       "    <tr>\n",
       "      <th>209</th>\n",
       "      <td>COCHIN</td>\n",
       "      <td>94,979.61</td>\n",
       "      <td>2006-12</td>\n",
       "    </tr>\n",
       "    <tr>\n",
       "      <th>210</th>\n",
       "      <td>DELHI</td>\n",
       "      <td>717,858.37</td>\n",
       "      <td>2006-12</td>\n",
       "    </tr>\n",
       "    <tr>\n",
       "      <th>211</th>\n",
       "      <td>TRIVANDRUM</td>\n",
       "      <td>68,833.35</td>\n",
       "      <td>2006-12</td>\n",
       "    </tr>\n",
       "  </tbody>\n",
       "</table>\n",
       "<p>212 rows × 3 columns</p>\n",
       "</div>"
      ],
      "text/plain": [
       "           city  Total_Spend_per_Month   Months\n",
       "0     BANGALORE           8,684,706.32  2004-01\n",
       "1        BOMBAY           5,204,207.72  2004-01\n",
       "2      CALCUTTA           8,754,931.39  2004-01\n",
       "3       CHENNAI           4,381,240.20  2004-01\n",
       "4        COCHIN          10,481,875.06  2004-01\n",
       "..          ...                    ...      ...\n",
       "207    CALCUTTA              50,001.00  2006-12\n",
       "208     CHENNAI             479,115.79  2006-12\n",
       "209      COCHIN              94,979.61  2006-12\n",
       "210       DELHI             717,858.37  2006-12\n",
       "211  TRIVANDRUM              68,833.35  2006-12\n",
       "\n",
       "[212 rows x 3 columns]"
      ]
     },
     "execution_count": 43,
     "metadata": {},
     "output_type": "execute_result"
    }
   ],
   "source": [
    "df_sm = (df_s.groupby([pd.Grouper(key='s_date', freq='M'), 'city'])\n",
    "         .agg(Total_Spend_per_Month=pd.NamedAgg('s_amount', 'sum'))\n",
    "         .reset_index())\n",
    "df_sm['Months'] = df_sm.s_date.dt.strftime('%Y-%m')\n",
    "df_sm.drop(columns='s_date', inplace=True)\n",
    "df_sm"
   ]
  },
  {
   "cell_type": "markdown",
   "id": "6c5729fd",
   "metadata": {},
   "source": [
    "#### Plotting the data [Trend]"
   ]
  },
  {
   "cell_type": "code",
   "execution_count": 44,
   "id": "283792a1",
   "metadata": {
    "ExecuteTime": {
     "end_time": "2022-09-19T21:37:05.693587Z",
     "start_time": "2022-09-19T21:37:05.445653Z"
    },
    "scrolled": false
   },
   "outputs": [
    {
     "data": {
      "image/png": "[encoded data removed]",
      "text/plain": [
       "<Figure size 1152x576 with 1 Axes>"
      ]
     },
     "metadata": {},
     "output_type": "display_data"
    }
   ],
   "source": [
    "plt.rcParams['figure.figsize'] = (16, 8)\n",
    "sns.set(style='ticks', font_scale=1.25)\n",
    "g = sns.lineplot(x='Months',\n",
    "                 y='Total_Spend_per_Month',\n",
    "                 hue='city',\n",
    "                 palette='Set1',\n",
    "                 marker='o',linewidth=1,\n",
    "                 data=df_sm)\n",
    "plt.ylabel('Total Spends / Month')\n",
    "plt.xlabel('Months')\n",
    "plt.xticks(rotation=45)\n",
    "plt.grid(True, linewidth=0.5, linestyle='-')\n",
    "plt.show()"
   ]
  },
  {
   "cell_type": "markdown",
   "id": "1f7c2093",
   "metadata": {},
   "source": [
    "#### Plotting the data [Aggregated to months]"
   ]
  },
  {
   "cell_type": "code",
   "execution_count": 45,
   "id": "e3415a3a",
   "metadata": {
    "ExecuteTime": {
     "end_time": "2022-09-19T21:37:06.124924Z",
     "start_time": "2022-09-19T21:37:05.695657Z"
    },
    "scrolled": false
   },
   "outputs": [
    {
     "data": {
      "image/png": "[encoded data removed]",
      "text/plain": [
       "<Figure size 1152x576 with 1 Axes>"
      ]
     },
     "metadata": {},
     "output_type": "display_data"
    }
   ],
   "source": [
    "df_sma = (df_s.groupby([df_s.s_date.dt.month, 'city']).agg(\n",
    "    Total_Spend_per_Month=pd.NamedAgg('s_amount', 'sum')).reset_index().rename(\n",
    "        columns={'s_date': 'Months'}))\n",
    "plt.rcParams['figure.figsize'] = (16, 8)\n",
    "sns.set(style='ticks', font_scale=1.25)\n",
    "g = sns.barplot(x='Months',\n",
    "                y='Total_Spend_per_Month',\n",
    "                hue='city',\n",
    "                palette=[\n",
    "                    '#7f00ff', '#171717', '#0101f9', '#01cc01', '#ffe22e',\n",
    "                    '#ff8041', '#fe0002', '#e27be2'\n",
    "                ],\n",
    "                saturation=1,\n",
    "                data=df_sma)\n",
    "g.set(xticks=np.arange(0, 12, 1))\n",
    "g.set_xticklabels([\n",
    "    'Jan', 'Feb', 'Mar', 'Apr', 'May', 'Jun', 'Jul', 'Aug', 'Sep', 'Oct',\n",
    "    'Nov', 'Dec'\n",
    "])\n",
    "plt.ylabel('Total Spends / Month')\n",
    "plt.xlabel('Months')\n",
    "plt.grid(True, linewidth=0.5, linestyle='-')\n",
    "plt.show()"
   ]
  },
  {
   "cell_type": "markdown",
   "id": "c02245ce",
   "metadata": {},
   "source": [
    "### b. Comparison of yearly spend on air tickets"
   ]
  },
  {
   "cell_type": "code",
   "execution_count": 46,
   "id": "e77241b7",
   "metadata": {
    "ExecuteTime": {
     "end_time": "2022-09-19T21:37:06.219368Z",
     "start_time": "2022-09-19T21:37:06.125830Z"
    }
   },
   "outputs": [
    {
     "data": {
      "image/png": "[encoded data removed]",
      "text/plain": [
       "<Figure size 432x360 with 1 Axes>"
      ]
     },
     "metadata": {},
     "output_type": "display_data"
    }
   ],
   "source": [
    "# Preparing the data\n",
    "df_sy_at = (df_s.loc[df_s.type == 'AIR TICKET', :].groupby([\n",
    "    df_s.s_date.dt.year\n",
    "]).agg(\n",
    "    Total_Spend_per_Year=pd.NamedAgg('s_amount', 'sum')).reset_index().rename(\n",
    "        columns={'s_date': 'Years'}))\n",
    "\n",
    "# Plotting the data\n",
    "plt.rcParams['figure.figsize'] = (6, 5)\n",
    "sns.set(style='ticks', font_scale=1.5)\n",
    "g = sns.barplot(x='Years',\n",
    "                y='Total_Spend_per_Year',\n",
    "                saturation=1,\n",
    "                data=df_sy_at)\n",
    "g.set_ylabel('Total Spends / Year\\n(in Millions)', labelpad=20)\n",
    "g.set_xlabel('Years', labelpad=20)\n",
    "g.set_title('\\nSpending on Air Tickets',\n",
    "            pad=40,\n",
    "            fontdict={\n",
    "                'fontsize': 20,\n",
    "                'fontweight': 'bold'\n",
    "            })\n",
    "g.set(yticks=np.arange(0, 12000000, 2000000))\n",
    "g.set_yticklabels(np.arange(0, 12, 2))\n",
    "\n",
    "# Annotation\n",
    "for container in g.containers:\n",
    "    g.bar_label(container,\n",
    "                labels=[f'{x.get_height()/10**6:.2f}' for x in container],\n",
    "                padding=5,\n",
    "                fontsize=14)\n",
    "sns.despine()\n",
    "plt.show()"
   ]
  },
  {
   "cell_type": "markdown",
   "id": "d38afe32",
   "metadata": {},
   "source": [
    "### c. Comparison of monthly spend for each product (look for any seasonality that exists in terms of spend)"
   ]
  },
  {
   "cell_type": "code",
   "execution_count": 47,
   "id": "eb1e37e9",
   "metadata": {
    "ExecuteTime": {
     "end_time": "2022-09-19T21:37:06.430934Z",
     "start_time": "2022-09-19T21:37:06.220397Z"
    },
    "scrolled": false
   },
   "outputs": [
    {
     "data": {
      "image/png": "[encoded data removed]",
      "text/plain": [
       "<Figure size 1080x576 with 1 Axes>"
      ]
     },
     "metadata": {},
     "output_type": "display_data"
    }
   ],
   "source": [
    "df_s4c = (df_s.groupby([df_s.s_date.dt.month_name(locale='English'), 'product'])\n",
    "          .agg(Total_Spend_per_Month=pd.NamedAgg('s_amount', 'sum'))\n",
    "          .reset_index().rename(columns={'s_date': 'Months'}))\n",
    "plt.rcParams['figure.figsize'] = (15, 8)\n",
    "sns.set(style='ticks', font_scale=1.35)\n",
    "hue_order = [\n",
    "    'January', 'February', 'March', 'April', 'May', 'June', 'July', 'August',\n",
    "    'September', 'October', 'November', 'December'\n",
    "]\n",
    "g = sns.barplot(x='product',\n",
    "                y='Total_Spend_per_Month',\n",
    "                hue='Months',\n",
    "                saturation=1,\n",
    "                hue_order=hue_order,\n",
    "                data=df_s4c)\n",
    "g.set_xlabel('Products',\n",
    "             fontdict={\n",
    "                 'fontsize': 18,\n",
    "                 'fontweight': 'bold'\n",
    "             },\n",
    "             labelpad=20)\n",
    "plt.grid(True, linewidth=0.5, linestyle='-')\n",
    "g.set(yticks=np.arange(0, 40000000, 5000000))\n",
    "g.set_yticklabels(np.arange(0, 40, 5))\n",
    "g.set_ylabel('Total Spends / Month\\n(in Millions)',\n",
    "             fontdict={\n",
    "                 'fontsize': 18,\n",
    "                 'fontweight': 'bold'\n",
    "             },\n",
    "             labelpad=20)\n",
    "plt.show()"
   ]
  },
  {
   "cell_type": "markdown",
   "id": "454dba34",
   "metadata": {
    "ExecuteTime": {
     "end_time": "2022-09-18T10:53:12.541065Z",
     "start_time": "2022-09-18T10:53:12.533290Z"
    }
   },
   "source": [
    "Yes, there exists seasonality in data. We can see from the above graph that the spends are high for all the\n",
    "Products at the beginning of the year i.e. January being the highest and then gradually decreases. Moreover,\n",
    "there is a local maxima in May as well as in the month of November and these seasonal trends (Jan-May :\n",
    "Higher Spends) are visible for all the products at different scales **(Gold > Platinum > Silver)**."
   ]
  },
  {
   "cell_type": "markdown",
   "id": "0b414d90",
   "metadata": {},
   "source": [
    "## Q5"
   ]
  },
  {
   "cell_type": "markdown",
   "id": "6f28d005",
   "metadata": {},
   "source": [
    "> 5. Write user defined PYTHON function to perform the following analysis:\n",
    "You need to find top 10 customers for each city in terms of their repayment amount by\n",
    "different products and by different time periods i.e. year or month. The user should be able\n",
    "to specify the product (Gold/Silver/Platinum) and time period (yearly or monthly) and the\n",
    "function should automatically take these inputs while identifying the top 10 customers."
   ]
  },
  {
   "cell_type": "markdown",
   "id": "bdf388bd",
   "metadata": {},
   "source": [
    "### Building the function"
   ]
  },
  {
   "cell_type": "code",
   "execution_count": 48,
   "id": "fe3637d6",
   "metadata": {
    "ExecuteTime": {
     "end_time": "2022-09-19T21:37:06.446084Z",
     "start_time": "2022-09-19T21:37:06.432425Z"
    },
    "scrolled": false
   },
   "outputs": [],
   "source": [
    "def top_customers(N):\n",
    "    '''\n",
    "    This fuction is built to find Top 10 customers for each city in terms of \n",
    "    their repayment amounts as per chosen Product Category and Time Period.\n",
    "    '''\n",
    "    # Taking the User Inputs :\n",
    "    pc = input('Enter Product Category [ Gold / Platinum / Silver ] : ').strip().capitalize()\n",
    "    tp = input('Enter Time Period [ Monthly / Yearly ] : ').strip().lower()\n",
    "\n",
    "    # Pre-calculation :\n",
    "    a5 = df_r.iloc[0:, ]\n",
    "    a5['monthly'] = a5.r_date.dt.month\n",
    "    a5['yearly'] = a5.r_date.dt.year    \n",
    "    \n",
    "    # Filtering the data :\n",
    "    a5_result = (a5[a5['product'] == pc]\n",
    "                 .groupby(['product', 'city', tp, 'customer'])\n",
    "                 .agg(Total_Repayment=pd.NamedAgg('r_amount', 'sum')))\n",
    "    \n",
    "    # Organising Data in proper order : \n",
    "    a5_result = a5_result.reset_index().sort_values(['product', 'city', tp, 'Total_Repayment'], \n",
    "                                                    ascending=[True, True, True, False])\n",
    "    \n",
    "    # Calculating Rank :\n",
    "    a5_result['Rank'] = (a5_result\n",
    "                         .groupby(['product', 'city', tp])['Total_Repayment']\n",
    "                         .rank(ascending=False, method='first').astype(int))\n",
    "    \n",
    "    # Reformating `Total_Repayment` column and Merging with `Customer` column :\n",
    "    a5_result['Customer : Repayment (Millions)'] = (\n",
    "        a5_result.customer + ' : '+ (a5_result.Total_Repayment / 10**6).round(2).astype(str))\n",
    "    \n",
    "    # Dropping the unnecessary columns :\n",
    "    a5_result.drop(columns=['customer','Total_Repayment'], inplace=True)\n",
    "    \n",
    "    # Getting only top N customers and setting the Multi-Indices :\n",
    "    a5f = a5_result.loc[a5_result.Rank <= N, :].set_index(['product', 'city', tp, 'Rank']).unstack()\n",
    "    \n",
    "    # Formating Index Names and Filling NaNs:\n",
    "    a5f.index.names = map(lambda x:x.capitalize(), a5f.index.names)\n",
    "    a5f.fillna(value='-', inplace=True)\n",
    "    \n",
    "    return a5f\n"
   ]
  },
  {
   "cell_type": "markdown",
   "id": "08321ee7",
   "metadata": {},
   "source": [
    "### Getting Top 10 Customers"
   ]
  },
  {
   "cell_type": "code",
   "execution_count": 49,
   "id": "78a9e451",
   "metadata": {
    "ExecuteTime": {
     "end_time": "2022-09-19T21:37:19.126739Z",
     "start_time": "2022-09-19T21:37:06.447289Z"
    },
    "scrolled": false
   },
   "outputs": [
    {
     "name": "stdout",
     "output_type": "stream",
     "text": [
      "Enter Product Category [ Gold / Platinum / Silver ] : gold\n",
      "Enter Time Period [ Monthly / Yearly ] : yearly\n"
     ]
    },
    {
     "data": {
      "text/html": [
       "<div>\n",
       "<style scoped>\n",
       "    .dataframe tbody tr th:only-of-type {\n",
       "        vertical-align: middle;\n",
       "    }\n",
       "\n",
       "    .dataframe tbody tr th {\n",
       "        vertical-align: top;\n",
       "    }\n",
       "\n",
       "    .dataframe thead tr th {\n",
       "        text-align: left;\n",
       "    }\n",
       "\n",
       "    .dataframe thead tr:last-of-type th {\n",
       "        text-align: right;\n",
       "    }\n",
       "</style>\n",
       "<table border=\"1\" class=\"dataframe\">\n",
       "  <thead>\n",
       "    <tr>\n",
       "      <th></th>\n",
       "      <th></th>\n",
       "      <th></th>\n",
       "      <th colspan=\"9\" halign=\"left\">Customer : Repayment (Millions)</th>\n",
       "    </tr>\n",
       "    <tr>\n",
       "      <th></th>\n",
       "      <th></th>\n",
       "      <th>Rank</th>\n",
       "      <th>1</th>\n",
       "      <th>2</th>\n",
       "      <th>3</th>\n",
       "      <th>4</th>\n",
       "      <th>5</th>\n",
       "      <th>6</th>\n",
       "      <th>7</th>\n",
       "      <th>8</th>\n",
       "      <th>9</th>\n",
       "    </tr>\n",
       "    <tr>\n",
       "      <th>Product</th>\n",
       "      <th>City</th>\n",
       "      <th>Yearly</th>\n",
       "      <th></th>\n",
       "      <th></th>\n",
       "      <th></th>\n",
       "      <th></th>\n",
       "      <th></th>\n",
       "      <th></th>\n",
       "      <th></th>\n",
       "      <th></th>\n",
       "      <th></th>\n",
       "    </tr>\n",
       "  </thead>\n",
       "  <tbody>\n",
       "    <tr>\n",
       "      <th rowspan=\"24\" valign=\"top\">Gold</th>\n",
       "      <th rowspan=\"3\" valign=\"top\">BANGALORE</th>\n",
       "      <th>2004</th>\n",
       "      <td>A14 : 2.47</td>\n",
       "      <td>A13 : 2.2</td>\n",
       "      <td>A43 : 2.08</td>\n",
       "      <td>A1 : 2.07</td>\n",
       "      <td>A30 : 1.49</td>\n",
       "      <td>A63 : 0.57</td>\n",
       "      <td>-</td>\n",
       "      <td>-</td>\n",
       "      <td>-</td>\n",
       "    </tr>\n",
       "    <tr>\n",
       "      <th>2005</th>\n",
       "      <td>A13 : 4.09</td>\n",
       "      <td>A43 : 2.85</td>\n",
       "      <td>A14 : 1.97</td>\n",
       "      <td>A30 : 1.74</td>\n",
       "      <td>A1 : 1.34</td>\n",
       "      <td>-</td>\n",
       "      <td>-</td>\n",
       "      <td>-</td>\n",
       "      <td>-</td>\n",
       "    </tr>\n",
       "    <tr>\n",
       "      <th>2006</th>\n",
       "      <td>A30 : 4.15</td>\n",
       "      <td>A14 : 3.21</td>\n",
       "      <td>A43 : 3.04</td>\n",
       "      <td>A13 : 2.21</td>\n",
       "      <td>A1 : 1.46</td>\n",
       "      <td>A88 : 0.42</td>\n",
       "      <td>A92 : 0.39</td>\n",
       "      <td>A81 : 0.25</td>\n",
       "      <td>A63 : 0.18</td>\n",
       "    </tr>\n",
       "    <tr>\n",
       "      <th rowspan=\"3\" valign=\"top\">BOMBAY</th>\n",
       "      <th>2004</th>\n",
       "      <td>A42 : 3.91</td>\n",
       "      <td>A12 : 2.11</td>\n",
       "      <td>A17 : 1.72</td>\n",
       "      <td>A62 : 1.2</td>\n",
       "      <td>-</td>\n",
       "      <td>-</td>\n",
       "      <td>-</td>\n",
       "      <td>-</td>\n",
       "      <td>-</td>\n",
       "    </tr>\n",
       "    <tr>\n",
       "      <th>2005</th>\n",
       "      <td>A42 : 3.2</td>\n",
       "      <td>A12 : 2.32</td>\n",
       "      <td>A62 : 1.67</td>\n",
       "      <td>A17 : 1.59</td>\n",
       "      <td>-</td>\n",
       "      <td>-</td>\n",
       "      <td>-</td>\n",
       "      <td>-</td>\n",
       "      <td>-</td>\n",
       "    </tr>\n",
       "    <tr>\n",
       "      <th>2006</th>\n",
       "      <td>A12 : 2.94</td>\n",
       "      <td>A17 : 2.43</td>\n",
       "      <td>A62 : 2.04</td>\n",
       "      <td>A42 : 1.82</td>\n",
       "      <td>A91 : 0.47</td>\n",
       "      <td>-</td>\n",
       "      <td>-</td>\n",
       "      <td>-</td>\n",
       "      <td>-</td>\n",
       "    </tr>\n",
       "    <tr>\n",
       "      <th rowspan=\"3\" valign=\"top\">CALCUTTA</th>\n",
       "      <th>2004</th>\n",
       "      <td>A60 : 2.54</td>\n",
       "      <td>A10 : 1.23</td>\n",
       "      <td>A15 : 0.85</td>\n",
       "      <td>A29 : 0.61</td>\n",
       "      <td>A31 : 0.28</td>\n",
       "      <td>-</td>\n",
       "      <td>-</td>\n",
       "      <td>-</td>\n",
       "      <td>-</td>\n",
       "    </tr>\n",
       "    <tr>\n",
       "      <th>2005</th>\n",
       "      <td>A60 : 3.71</td>\n",
       "      <td>A29 : 2.91</td>\n",
       "      <td>A10 : 2.26</td>\n",
       "      <td>A15 : 2.09</td>\n",
       "      <td>A31 : 0.91</td>\n",
       "      <td>-</td>\n",
       "      <td>-</td>\n",
       "      <td>-</td>\n",
       "      <td>-</td>\n",
       "    </tr>\n",
       "    <tr>\n",
       "      <th>2006</th>\n",
       "      <td>A29 : 2.97</td>\n",
       "      <td>A60 : 2.92</td>\n",
       "      <td>A15 : 2.88</td>\n",
       "      <td>A10 : 1.95</td>\n",
       "      <td>A31 : 1.41</td>\n",
       "      <td>A89 : 0.33</td>\n",
       "      <td>-</td>\n",
       "      <td>-</td>\n",
       "      <td>-</td>\n",
       "    </tr>\n",
       "    <tr>\n",
       "      <th rowspan=\"3\" valign=\"top\">CHENNAI</th>\n",
       "      <th>2004</th>\n",
       "      <td>A27 : 2.06</td>\n",
       "      <td>A67 : 0.05</td>\n",
       "      <td>-</td>\n",
       "      <td>-</td>\n",
       "      <td>-</td>\n",
       "      <td>-</td>\n",
       "      <td>-</td>\n",
       "      <td>-</td>\n",
       "      <td>-</td>\n",
       "    </tr>\n",
       "    <tr>\n",
       "      <th>2005</th>\n",
       "      <td>A27 : 2.4</td>\n",
       "      <td>A67 : 0.46</td>\n",
       "      <td>-</td>\n",
       "      <td>-</td>\n",
       "      <td>-</td>\n",
       "      <td>-</td>\n",
       "      <td>-</td>\n",
       "      <td>-</td>\n",
       "      <td>-</td>\n",
       "    </tr>\n",
       "    <tr>\n",
       "      <th>2006</th>\n",
       "      <td>A27 : 2.9</td>\n",
       "      <td>-</td>\n",
       "      <td>-</td>\n",
       "      <td>-</td>\n",
       "      <td>-</td>\n",
       "      <td>-</td>\n",
       "      <td>-</td>\n",
       "      <td>-</td>\n",
       "      <td>-</td>\n",
       "    </tr>\n",
       "    <tr>\n",
       "      <th rowspan=\"3\" valign=\"top\">COCHIN</th>\n",
       "      <th>2004</th>\n",
       "      <td>A61 : 2.54</td>\n",
       "      <td>A45 : 2.37</td>\n",
       "      <td>A16 : 0.82</td>\n",
       "      <td>A11 : 0.59</td>\n",
       "      <td>A32 : 0.41</td>\n",
       "      <td>A94 : 0.39</td>\n",
       "      <td>A65 : 0.06</td>\n",
       "      <td>-</td>\n",
       "      <td>-</td>\n",
       "    </tr>\n",
       "    <tr>\n",
       "      <th>2005</th>\n",
       "      <td>A61 : 3.82</td>\n",
       "      <td>A45 : 2.32</td>\n",
       "      <td>A16 : 1.8</td>\n",
       "      <td>A11 : 1.68</td>\n",
       "      <td>A32 : 0.77</td>\n",
       "      <td>A65 : 0.46</td>\n",
       "      <td>-</td>\n",
       "      <td>-</td>\n",
       "      <td>-</td>\n",
       "    </tr>\n",
       "    <tr>\n",
       "      <th>2006</th>\n",
       "      <td>A61 : 3.31</td>\n",
       "      <td>A32 : 2.53</td>\n",
       "      <td>A45 : 2.03</td>\n",
       "      <td>A11 : 1.99</td>\n",
       "      <td>A16 : 1.92</td>\n",
       "      <td>A90 : 0.17</td>\n",
       "      <td>-</td>\n",
       "      <td>-</td>\n",
       "      <td>-</td>\n",
       "    </tr>\n",
       "    <tr>\n",
       "      <th rowspan=\"3\" valign=\"top\">DELHI</th>\n",
       "      <th>2004</th>\n",
       "      <td>A44 : 2.04</td>\n",
       "      <td>A93 : 0.49</td>\n",
       "      <td>-</td>\n",
       "      <td>-</td>\n",
       "      <td>-</td>\n",
       "      <td>-</td>\n",
       "      <td>-</td>\n",
       "      <td>-</td>\n",
       "      <td>-</td>\n",
       "    </tr>\n",
       "    <tr>\n",
       "      <th>2005</th>\n",
       "      <td>A44 : 3.06</td>\n",
       "      <td>-</td>\n",
       "      <td>-</td>\n",
       "      <td>-</td>\n",
       "      <td>-</td>\n",
       "      <td>-</td>\n",
       "      <td>-</td>\n",
       "      <td>-</td>\n",
       "      <td>-</td>\n",
       "    </tr>\n",
       "    <tr>\n",
       "      <th>2006</th>\n",
       "      <td>A44 : 2.53</td>\n",
       "      <td>A64 : 0.56</td>\n",
       "      <td>A82 : 0.15</td>\n",
       "      <td>-</td>\n",
       "      <td>-</td>\n",
       "      <td>-</td>\n",
       "      <td>-</td>\n",
       "      <td>-</td>\n",
       "      <td>-</td>\n",
       "    </tr>\n",
       "    <tr>\n",
       "      <th rowspan=\"3\" valign=\"top\">PATNA</th>\n",
       "      <th>2004</th>\n",
       "      <td>A26 : 2.15</td>\n",
       "      <td>A95 : 0.38</td>\n",
       "      <td>A66 : 0.36</td>\n",
       "      <td>-</td>\n",
       "      <td>-</td>\n",
       "      <td>-</td>\n",
       "      <td>-</td>\n",
       "      <td>-</td>\n",
       "      <td>-</td>\n",
       "    </tr>\n",
       "    <tr>\n",
       "      <th>2005</th>\n",
       "      <td>A26 : 2.56</td>\n",
       "      <td>-</td>\n",
       "      <td>-</td>\n",
       "      <td>-</td>\n",
       "      <td>-</td>\n",
       "      <td>-</td>\n",
       "      <td>-</td>\n",
       "      <td>-</td>\n",
       "      <td>-</td>\n",
       "    </tr>\n",
       "    <tr>\n",
       "      <th>2006</th>\n",
       "      <td>A26 : 2.76</td>\n",
       "      <td>A66 : 0.27</td>\n",
       "      <td>-</td>\n",
       "      <td>-</td>\n",
       "      <td>-</td>\n",
       "      <td>-</td>\n",
       "      <td>-</td>\n",
       "      <td>-</td>\n",
       "      <td>-</td>\n",
       "    </tr>\n",
       "    <tr>\n",
       "      <th rowspan=\"3\" valign=\"top\">TRIVANDRUM</th>\n",
       "      <th>2004</th>\n",
       "      <td>A28 : 1.71</td>\n",
       "      <td>-</td>\n",
       "      <td>-</td>\n",
       "      <td>-</td>\n",
       "      <td>-</td>\n",
       "      <td>-</td>\n",
       "      <td>-</td>\n",
       "      <td>-</td>\n",
       "      <td>-</td>\n",
       "    </tr>\n",
       "    <tr>\n",
       "      <th>2005</th>\n",
       "      <td>A28 : 2.27</td>\n",
       "      <td>-</td>\n",
       "      <td>-</td>\n",
       "      <td>-</td>\n",
       "      <td>-</td>\n",
       "      <td>-</td>\n",
       "      <td>-</td>\n",
       "      <td>-</td>\n",
       "      <td>-</td>\n",
       "    </tr>\n",
       "    <tr>\n",
       "      <th>2006</th>\n",
       "      <td>A28 : 3.23</td>\n",
       "      <td>-</td>\n",
       "      <td>-</td>\n",
       "      <td>-</td>\n",
       "      <td>-</td>\n",
       "      <td>-</td>\n",
       "      <td>-</td>\n",
       "      <td>-</td>\n",
       "      <td>-</td>\n",
       "    </tr>\n",
       "  </tbody>\n",
       "</table>\n",
       "</div>"
      ],
      "text/plain": [
       "                          Customer : Repayment (Millions)              \\\n",
       "Rank                                                    1           2   \n",
       "Product City       Yearly                                               \n",
       "Gold    BANGALORE  2004                        A14 : 2.47   A13 : 2.2   \n",
       "                   2005                        A13 : 4.09  A43 : 2.85   \n",
       "                   2006                        A30 : 4.15  A14 : 3.21   \n",
       "        BOMBAY     2004                        A42 : 3.91  A12 : 2.11   \n",
       "                   2005                         A42 : 3.2  A12 : 2.32   \n",
       "                   2006                        A12 : 2.94  A17 : 2.43   \n",
       "        CALCUTTA   2004                        A60 : 2.54  A10 : 1.23   \n",
       "                   2005                        A60 : 3.71  A29 : 2.91   \n",
       "                   2006                        A29 : 2.97  A60 : 2.92   \n",
       "        CHENNAI    2004                        A27 : 2.06  A67 : 0.05   \n",
       "                   2005                         A27 : 2.4  A67 : 0.46   \n",
       "                   2006                         A27 : 2.9           -   \n",
       "        COCHIN     2004                        A61 : 2.54  A45 : 2.37   \n",
       "                   2005                        A61 : 3.82  A45 : 2.32   \n",
       "                   2006                        A61 : 3.31  A32 : 2.53   \n",
       "        DELHI      2004                        A44 : 2.04  A93 : 0.49   \n",
       "                   2005                        A44 : 3.06           -   \n",
       "                   2006                        A44 : 2.53  A64 : 0.56   \n",
       "        PATNA      2004                        A26 : 2.15  A95 : 0.38   \n",
       "                   2005                        A26 : 2.56           -   \n",
       "                   2006                        A26 : 2.76  A66 : 0.27   \n",
       "        TRIVANDRUM 2004                        A28 : 1.71           -   \n",
       "                   2005                        A28 : 2.27           -   \n",
       "                   2006                        A28 : 3.23           -   \n",
       "\n",
       "                                                                           \\\n",
       "Rank                                3           4           5           6   \n",
       "Product City       Yearly                                                   \n",
       "Gold    BANGALORE  2004    A43 : 2.08   A1 : 2.07  A30 : 1.49  A63 : 0.57   \n",
       "                   2005    A14 : 1.97  A30 : 1.74   A1 : 1.34           -   \n",
       "                   2006    A43 : 3.04  A13 : 2.21   A1 : 1.46  A88 : 0.42   \n",
       "        BOMBAY     2004    A17 : 1.72   A62 : 1.2           -           -   \n",
       "                   2005    A62 : 1.67  A17 : 1.59           -           -   \n",
       "                   2006    A62 : 2.04  A42 : 1.82  A91 : 0.47           -   \n",
       "        CALCUTTA   2004    A15 : 0.85  A29 : 0.61  A31 : 0.28           -   \n",
       "                   2005    A10 : 2.26  A15 : 2.09  A31 : 0.91           -   \n",
       "                   2006    A15 : 2.88  A10 : 1.95  A31 : 1.41  A89 : 0.33   \n",
       "        CHENNAI    2004             -           -           -           -   \n",
       "                   2005             -           -           -           -   \n",
       "                   2006             -           -           -           -   \n",
       "        COCHIN     2004    A16 : 0.82  A11 : 0.59  A32 : 0.41  A94 : 0.39   \n",
       "                   2005     A16 : 1.8  A11 : 1.68  A32 : 0.77  A65 : 0.46   \n",
       "                   2006    A45 : 2.03  A11 : 1.99  A16 : 1.92  A90 : 0.17   \n",
       "        DELHI      2004             -           -           -           -   \n",
       "                   2005             -           -           -           -   \n",
       "                   2006    A82 : 0.15           -           -           -   \n",
       "        PATNA      2004    A66 : 0.36           -           -           -   \n",
       "                   2005             -           -           -           -   \n",
       "                   2006             -           -           -           -   \n",
       "        TRIVANDRUM 2004             -           -           -           -   \n",
       "                   2005             -           -           -           -   \n",
       "                   2006             -           -           -           -   \n",
       "\n",
       "                                                               \n",
       "Rank                                7           8           9  \n",
       "Product City       Yearly                                      \n",
       "Gold    BANGALORE  2004             -           -           -  \n",
       "                   2005             -           -           -  \n",
       "                   2006    A92 : 0.39  A81 : 0.25  A63 : 0.18  \n",
       "        BOMBAY     2004             -           -           -  \n",
       "                   2005             -           -           -  \n",
       "                   2006             -           -           -  \n",
       "        CALCUTTA   2004             -           -           -  \n",
       "                   2005             -           -           -  \n",
       "                   2006             -           -           -  \n",
       "        CHENNAI    2004             -           -           -  \n",
       "                   2005             -           -           -  \n",
       "                   2006             -           -           -  \n",
       "        COCHIN     2004    A65 : 0.06           -           -  \n",
       "                   2005             -           -           -  \n",
       "                   2006             -           -           -  \n",
       "        DELHI      2004             -           -           -  \n",
       "                   2005             -           -           -  \n",
       "                   2006             -           -           -  \n",
       "        PATNA      2004             -           -           -  \n",
       "                   2005             -           -           -  \n",
       "                   2006             -           -           -  \n",
       "        TRIVANDRUM 2004             -           -           -  \n",
       "                   2005             -           -           -  \n",
       "                   2006             -           -           -  "
      ]
     },
     "execution_count": 49,
     "metadata": {},
     "output_type": "execute_result"
    }
   ],
   "source": [
    "ans = top_customers(10)\n",
    "pd.set_option('display.max_rows', 100)\n",
    "ans.head(100)"
   ]
  },
  {
   "cell_type": "code",
   "execution_count": null,
   "id": "d5934dc3",
   "metadata": {},
   "outputs": [],
   "source": []
  }
 ],
 "metadata": {
  "kernelspec": {
   "display_name": "Python 3 (ipykernel)",
   "language": "python",
   "name": "python3"
  },
  "language_info": {
   "codemirror_mode": {
    "name": "ipython",
    "version": 3
   },
   "file_extension": ".py",
   "mimetype": "text/x-python",
   "name": "python",
   "nbconvert_exporter": "python",
   "pygments_lexer": "ipython3",
   "version": "3.9.12"
  },
  "latex_envs": {
   "LaTeX_envs_menu_present": true,
   "autoclose": false,
   "autocomplete": true,
   "bibliofile": "biblio.bib",
   "cite_by": "apalike",
   "current_citInitial": 1,
   "eqLabelWithNumbers": true,
   "eqNumInitial": 1,
   "hotkeys": {
    "equation": "Ctrl-E",
    "itemize": "Ctrl-I"
   },
   "labels_anchors": false,
   "latex_user_defs": false,
   "report_style_numbering": false,
   "user_envs_cfg": false
  },
  "toc": {
   "base_numbering": 1,
   "nav_menu": {},
   "number_sections": true,
   "sideBar": true,
   "skip_h1_title": false,
   "title_cell": "Table of Contents",
   "title_sidebar": "Contents",
   "toc_cell": false,
   "toc_position": {
    "height": "calc(100% - 180px)",
    "left": "10px",
    "top": "150px",
    "width": "384px"
   },
   "toc_section_display": true,
   "toc_window_display": true
  },
  "varInspector": {
   "cols": {
    "lenName": 16,
    "lenType": 16,
    "lenVar": 40
   },
   "kernels_config": {
    "python": {
     "delete_cmd_postfix": "",
     "delete_cmd_prefix": "del ",
     "library": "var_list.py",
     "varRefreshCmd": "print(var_dic_list())"
    },
    "r": {
     "delete_cmd_postfix": ") ",
     "delete_cmd_prefix": "rm(",
     "library": "var_list.r",
     "varRefreshCmd": "cat(var_dic_list()) "
    }
   },
   "types_to_exclude": [
    "module",
    "function",
    "builtin_function_or_method",
    "instance",
    "_Feature"
   ],
   "window_display": false
  }
 },
 "nbformat": 4,
 "nbformat_minor": 5
}
