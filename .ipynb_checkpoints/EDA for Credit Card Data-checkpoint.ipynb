{
 "cells": [
  {
   "cell_type": "raw",
   "id": "0a944176",
   "metadata": {},
   "source": [
    "'''\n",
    "\n",
    "Subham Shit\n",
    "subham.besume@gmail.com\n",
    "\n",
    "Objective : Through the use of dynamic datadriven decision-making tools and procedures, \n",
    "information can be gathered to successfully evaluate all aspects of credit card operations.\n",
    "\n",
    "'''"
   ]
  },
  {
   "cell_type": "markdown",
   "id": "4735f391",
   "metadata": {},
   "source": [
    "# Importing packages"
   ]
  },
  {
   "cell_type": "code",
   "execution_count": 1,
   "id": "e4f6a334",
   "metadata": {
    "ExecuteTime": {
     "end_time": "2022-09-21T20:41:32.333641Z",
     "start_time": "2022-09-21T20:41:31.057334Z"
    }
   },
   "outputs": [],
   "source": [
    "import pandas as pd\n",
    "import numpy as np\n",
    "import matplotlib.pyplot as plt\n",
    "import seaborn as sns\n",
    "import warnings\n",
    "\n",
    "%matplotlib inline\n",
    "sns.set(style='ticks', font_scale=1.2)\n",
    "warnings.filterwarnings('ignore')"
   ]
  },
  {
   "cell_type": "markdown",
   "id": "bac929b0",
   "metadata": {},
   "source": [
    "# Data Ingestion"
   ]
  },
  {
   "cell_type": "markdown",
   "id": "4e8128e5",
   "metadata": {},
   "source": [
    "## Loading data "
   ]
  },
  {
   "cell_type": "code",
   "execution_count": 2,
   "id": "c8ef2e91",
   "metadata": {
    "ExecuteTime": {
     "end_time": "2022-09-21T20:41:32.752720Z",
     "start_time": "2022-09-21T20:41:32.334698Z"
    }
   },
   "outputs": [
    {
     "name": "stdout",
     "output_type": "stream",
     "text": [
      "Source : Excel\n"
     ]
    }
   ],
   "source": [
    "try :\n",
    "    ca = pd.read_excel('./Credit Card Data.xlsx', sheet_name='Customer Acqusition')\n",
    "    r = pd.read_excel('./Credit Card Data.xlsx', sheet_name='Repayment')\n",
    "    s = pd.read_excel('./Credit Card Data.xlsx', sheet_name='Spend')\n",
    "    print('Source : Excel')\n",
    "except :\n",
    "    ca = pd.read_csv('./Customer Acqusition.csv')\n",
    "    r = pd.read_csv('./Repayment.csv')\n",
    "    s = pd.read_csv('./spend.csv')\n",
    "    print('Source : CSV')"
   ]
  },
  {
   "cell_type": "markdown",
   "id": "bb85a505",
   "metadata": {},
   "source": [
    "### Customer Acquisition"
   ]
  },
  {
   "cell_type": "code",
   "execution_count": 3,
   "id": "a777e1ac",
   "metadata": {
    "ExecuteTime": {
     "end_time": "2022-09-21T20:41:32.768568Z",
     "start_time": "2022-09-21T20:41:32.753972Z"
    },
    "scrolled": true
   },
   "outputs": [
    {
     "name": "stdout",
     "output_type": "stream",
     "text": [
      "<class 'pandas.core.frame.DataFrame'>\n",
      "RangeIndex: 100 entries, 0 to 99\n",
      "Data columns (total 8 columns):\n",
      " #   Column    Non-Null Count  Dtype \n",
      "---  ------    --------------  ----- \n",
      " 0   No        100 non-null    int64 \n",
      " 1   Customer  100 non-null    object\n",
      " 2   Age       100 non-null    int64 \n",
      " 3   City      100 non-null    object\n",
      " 4   Product   100 non-null    object\n",
      " 5   Limit     100 non-null    int64 \n",
      " 6   Company   100 non-null    object\n",
      " 7   Segment   100 non-null    object\n",
      "dtypes: int64(3), object(5)\n",
      "memory usage: 6.4+ KB\n"
     ]
    }
   ],
   "source": [
    "ca.info()"
   ]
  },
  {
   "cell_type": "code",
   "execution_count": 4,
   "id": "1570f673",
   "metadata": {
    "ExecuteTime": {
     "end_time": "2022-09-21T20:41:32.784064Z",
     "start_time": "2022-09-21T20:41:32.769972Z"
    }
   },
   "outputs": [
    {
     "data": {
      "text/html": [
       "<div>\n",
       "<style scoped>\n",
       "    .dataframe tbody tr th:only-of-type {\n",
       "        vertical-align: middle;\n",
       "    }\n",
       "\n",
       "    .dataframe tbody tr th {\n",
       "        vertical-align: top;\n",
       "    }\n",
       "\n",
       "    .dataframe thead th {\n",
       "        text-align: right;\n",
       "    }\n",
       "</style>\n",
       "<table border=\"1\" class=\"dataframe\">\n",
       "  <thead>\n",
       "    <tr style=\"text-align: right;\">\n",
       "      <th></th>\n",
       "      <th>No</th>\n",
       "      <th>Customer</th>\n",
       "      <th>Age</th>\n",
       "      <th>City</th>\n",
       "      <th>Product</th>\n",
       "      <th>Limit</th>\n",
       "      <th>Company</th>\n",
       "      <th>Segment</th>\n",
       "    </tr>\n",
       "  </thead>\n",
       "  <tbody>\n",
       "    <tr>\n",
       "      <th>0</th>\n",
       "      <td>1</td>\n",
       "      <td>A1</td>\n",
       "      <td>76</td>\n",
       "      <td>BANGALORE</td>\n",
       "      <td>Gold</td>\n",
       "      <td>500000</td>\n",
       "      <td>C1</td>\n",
       "      <td>Self Employed</td>\n",
       "    </tr>\n",
       "    <tr>\n",
       "      <th>1</th>\n",
       "      <td>2</td>\n",
       "      <td>A2</td>\n",
       "      <td>71</td>\n",
       "      <td>CALCUTTA</td>\n",
       "      <td>Silver</td>\n",
       "      <td>100000</td>\n",
       "      <td>C2</td>\n",
       "      <td>Salaried_MNC</td>\n",
       "    </tr>\n",
       "    <tr>\n",
       "      <th>2</th>\n",
       "      <td>3</td>\n",
       "      <td>A3</td>\n",
       "      <td>34</td>\n",
       "      <td>COCHIN</td>\n",
       "      <td>Platimum</td>\n",
       "      <td>10000</td>\n",
       "      <td>C3</td>\n",
       "      <td>Salaried_Pvt</td>\n",
       "    </tr>\n",
       "    <tr>\n",
       "      <th>3</th>\n",
       "      <td>4</td>\n",
       "      <td>A4</td>\n",
       "      <td>47</td>\n",
       "      <td>BOMBAY</td>\n",
       "      <td>Platimum</td>\n",
       "      <td>10001</td>\n",
       "      <td>C4</td>\n",
       "      <td>Govt</td>\n",
       "    </tr>\n",
       "    <tr>\n",
       "      <th>4</th>\n",
       "      <td>5</td>\n",
       "      <td>A5</td>\n",
       "      <td>56</td>\n",
       "      <td>BANGALORE</td>\n",
       "      <td>Platimum</td>\n",
       "      <td>10002</td>\n",
       "      <td>C5</td>\n",
       "      <td>Normal Salary</td>\n",
       "    </tr>\n",
       "  </tbody>\n",
       "</table>\n",
       "</div>"
      ],
      "text/plain": [
       "   No Customer  Age       City   Product   Limit Company        Segment\n",
       "0   1       A1   76  BANGALORE      Gold  500000      C1  Self Employed\n",
       "1   2       A2   71   CALCUTTA    Silver  100000      C2   Salaried_MNC\n",
       "2   3       A3   34     COCHIN  Platimum   10000      C3   Salaried_Pvt\n",
       "3   4       A4   47     BOMBAY  Platimum   10001      C4           Govt\n",
       "4   5       A5   56  BANGALORE  Platimum   10002      C5  Normal Salary"
      ]
     },
     "execution_count": 4,
     "metadata": {},
     "output_type": "execute_result"
    }
   ],
   "source": [
    "ca.head()"
   ]
  },
  {
   "cell_type": "code",
   "execution_count": 5,
   "id": "f19e9bcd",
   "metadata": {
    "ExecuteTime": {
     "end_time": "2022-09-21T20:41:32.799108Z",
     "start_time": "2022-09-21T20:41:32.785093Z"
    }
   },
   "outputs": [
    {
     "data": {
      "text/plain": [
       "Gold        38\n",
       "Platimum    32\n",
       "Silver      30\n",
       "Name: Product, dtype: int64"
      ]
     },
     "execution_count": 5,
     "metadata": {},
     "output_type": "execute_result"
    }
   ],
   "source": [
    "# Correcting the Value in Product column :\n",
    "ca['Product'].value_counts()"
   ]
  },
  {
   "cell_type": "code",
   "execution_count": 6,
   "id": "41722fa3",
   "metadata": {
    "ExecuteTime": {
     "end_time": "2022-09-21T20:41:32.815046Z",
     "start_time": "2022-09-21T20:41:32.799604Z"
    }
   },
   "outputs": [
    {
     "data": {
      "text/plain": [
       "Gold        38\n",
       "Platinum    32\n",
       "Silver      30\n",
       "Name: Product, dtype: int64"
      ]
     },
     "execution_count": 6,
     "metadata": {},
     "output_type": "execute_result"
    }
   ],
   "source": [
    "ca['Product'] = ca['Product'].apply(lambda x: 'Platinum' if x=='Platimum' else x)\n",
    "ca['Product'].value_counts()"
   ]
  },
  {
   "cell_type": "code",
   "execution_count": 7,
   "id": "e83fdadf",
   "metadata": {
    "ExecuteTime": {
     "end_time": "2022-09-21T20:41:32.830409Z",
     "start_time": "2022-09-21T20:41:32.816070Z"
    }
   },
   "outputs": [],
   "source": [
    "# Fixing column names\n",
    "ca.columns = ca.columns.str.lower().str.strip()"
   ]
  },
  {
   "cell_type": "code",
   "execution_count": 8,
   "id": "028055ff",
   "metadata": {
    "ExecuteTime": {
     "end_time": "2022-09-21T20:41:32.846314Z",
     "start_time": "2022-09-21T20:41:32.831466Z"
    }
   },
   "outputs": [
    {
     "data": {
      "text/plain": [
       "no          0\n",
       "customer    0\n",
       "age         0\n",
       "city        0\n",
       "product     0\n",
       "limit       0\n",
       "company     0\n",
       "segment     0\n",
       "dtype: int64"
      ]
     },
     "execution_count": 8,
     "metadata": {},
     "output_type": "execute_result"
    }
   ],
   "source": [
    "ca.isnull().sum()"
   ]
  },
  {
   "cell_type": "code",
   "execution_count": 9,
   "id": "f5d8d879",
   "metadata": {
    "ExecuteTime": {
     "end_time": "2022-09-21T20:41:32.862451Z",
     "start_time": "2022-09-21T20:41:32.847316Z"
    }
   },
   "outputs": [
    {
     "name": "stdout",
     "output_type": "stream",
     "text": [
      "(100, 8)\n",
      "(100, 8)\n"
     ]
    }
   ],
   "source": [
    "print(ca.shape)\n",
    "ca.drop_duplicates(inplace=True)\n",
    "print(ca.shape)"
   ]
  },
  {
   "cell_type": "markdown",
   "id": "fe4e5c1d",
   "metadata": {},
   "source": [
    "### Repayment"
   ]
  },
  {
   "cell_type": "code",
   "execution_count": 10,
   "id": "6cbb1a57",
   "metadata": {
    "ExecuteTime": {
     "end_time": "2022-09-21T20:41:32.878004Z",
     "start_time": "2022-09-21T20:41:32.863944Z"
    }
   },
   "outputs": [
    {
     "name": "stdout",
     "output_type": "stream",
     "text": [
      "<class 'pandas.core.frame.DataFrame'>\n",
      "RangeIndex: 1500 entries, 0 to 1499\n",
      "Data columns (total 4 columns):\n",
      " #   Column    Non-Null Count  Dtype         \n",
      "---  ------    --------------  -----         \n",
      " 0   SL No:    1500 non-null   int64         \n",
      " 1   Customer  1500 non-null   object        \n",
      " 2   Month     1500 non-null   datetime64[ns]\n",
      " 3   Amount    1500 non-null   float64       \n",
      "dtypes: datetime64[ns](1), float64(1), int64(1), object(1)\n",
      "memory usage: 47.0+ KB\n"
     ]
    }
   ],
   "source": [
    "r.info()"
   ]
  },
  {
   "cell_type": "code",
   "execution_count": 11,
   "id": "57860256",
   "metadata": {
    "ExecuteTime": {
     "end_time": "2022-09-21T20:41:32.893884Z",
     "start_time": "2022-09-21T20:41:32.879521Z"
    }
   },
   "outputs": [
    {
     "data": {
      "text/html": [
       "<div>\n",
       "<style scoped>\n",
       "    .dataframe tbody tr th:only-of-type {\n",
       "        vertical-align: middle;\n",
       "    }\n",
       "\n",
       "    .dataframe tbody tr th {\n",
       "        vertical-align: top;\n",
       "    }\n",
       "\n",
       "    .dataframe thead th {\n",
       "        text-align: right;\n",
       "    }\n",
       "</style>\n",
       "<table border=\"1\" class=\"dataframe\">\n",
       "  <thead>\n",
       "    <tr style=\"text-align: right;\">\n",
       "      <th></th>\n",
       "      <th>SL No:</th>\n",
       "      <th>Customer</th>\n",
       "      <th>Month</th>\n",
       "      <th>Amount</th>\n",
       "    </tr>\n",
       "  </thead>\n",
       "  <tbody>\n",
       "    <tr>\n",
       "      <th>0</th>\n",
       "      <td>1</td>\n",
       "      <td>A1</td>\n",
       "      <td>2004-01-12</td>\n",
       "      <td>338932.141919</td>\n",
       "    </tr>\n",
       "    <tr>\n",
       "      <th>1</th>\n",
       "      <td>2</td>\n",
       "      <td>A1</td>\n",
       "      <td>2004-01-03</td>\n",
       "      <td>131778.688758</td>\n",
       "    </tr>\n",
       "    <tr>\n",
       "      <th>2</th>\n",
       "      <td>3</td>\n",
       "      <td>A1</td>\n",
       "      <td>2004-01-15</td>\n",
       "      <td>485981.516736</td>\n",
       "    </tr>\n",
       "    <tr>\n",
       "      <th>3</th>\n",
       "      <td>4</td>\n",
       "      <td>A1</td>\n",
       "      <td>2004-01-25</td>\n",
       "      <td>452865.826385</td>\n",
       "    </tr>\n",
       "    <tr>\n",
       "      <th>4</th>\n",
       "      <td>5</td>\n",
       "      <td>A1</td>\n",
       "      <td>2005-01-17</td>\n",
       "      <td>154684.838196</td>\n",
       "    </tr>\n",
       "  </tbody>\n",
       "</table>\n",
       "</div>"
      ],
      "text/plain": [
       "   SL No: Customer      Month         Amount\n",
       "0       1       A1 2004-01-12  338932.141919\n",
       "1       2       A1 2004-01-03  131778.688758\n",
       "2       3       A1 2004-01-15  485981.516736\n",
       "3       4       A1 2004-01-25  452865.826385\n",
       "4       5       A1 2005-01-17  154684.838196"
      ]
     },
     "execution_count": 11,
     "metadata": {},
     "output_type": "execute_result"
    }
   ],
   "source": [
    "r.head()"
   ]
  },
  {
   "cell_type": "code",
   "execution_count": 12,
   "id": "bdeade02",
   "metadata": {
    "ExecuteTime": {
     "end_time": "2022-09-21T20:41:32.909096Z",
     "start_time": "2022-09-21T20:41:32.895911Z"
    }
   },
   "outputs": [],
   "source": [
    "# Fixing column names\n",
    "r.columns = r.columns.str.lower().str.strip().str.replace(' ', '_').str.replace(':', '')\n",
    "r.rename(columns={'month' : 'r_date', 'amount' : 'r_amount'}, inplace=True)"
   ]
  },
  {
   "cell_type": "code",
   "execution_count": 13,
   "id": "75a3e95d",
   "metadata": {
    "ExecuteTime": {
     "end_time": "2022-09-21T20:41:32.924764Z",
     "start_time": "2022-09-21T20:41:32.910137Z"
    }
   },
   "outputs": [
    {
     "data": {
      "text/plain": [
       "sl_no       0\n",
       "customer    0\n",
       "r_date      0\n",
       "r_amount    0\n",
       "dtype: int64"
      ]
     },
     "execution_count": 13,
     "metadata": {},
     "output_type": "execute_result"
    }
   ],
   "source": [
    "r.isnull().sum()"
   ]
  },
  {
   "cell_type": "code",
   "execution_count": 14,
   "id": "fbc5e997",
   "metadata": {
    "ExecuteTime": {
     "end_time": "2022-09-21T20:41:32.940124Z",
     "start_time": "2022-09-21T20:41:32.925947Z"
    }
   },
   "outputs": [
    {
     "name": "stdout",
     "output_type": "stream",
     "text": [
      "(1500, 4)\n",
      "(1500, 4)\n"
     ]
    }
   ],
   "source": [
    "print(r.shape)\n",
    "r.drop_duplicates(inplace=True)\n",
    "print(r.shape)"
   ]
  },
  {
   "cell_type": "markdown",
   "id": "00b2bad2",
   "metadata": {
    "ExecuteTime": {
     "end_time": "2022-09-17T09:28:38.073821Z",
     "start_time": "2022-09-17T09:28:38.026273Z"
    }
   },
   "source": [
    "### Spend"
   ]
  },
  {
   "cell_type": "code",
   "execution_count": 15,
   "id": "a65c7f9c",
   "metadata": {
    "ExecuteTime": {
     "end_time": "2022-09-21T20:41:32.956218Z",
     "start_time": "2022-09-21T20:41:32.941130Z"
    }
   },
   "outputs": [
    {
     "name": "stdout",
     "output_type": "stream",
     "text": [
      "<class 'pandas.core.frame.DataFrame'>\n",
      "RangeIndex: 1500 entries, 0 to 1499\n",
      "Data columns (total 5 columns):\n",
      " #   Column    Non-Null Count  Dtype         \n",
      "---  ------    --------------  -----         \n",
      " 0   Sl No:    1500 non-null   int64         \n",
      " 1   Customer  1500 non-null   object        \n",
      " 2   Month     1500 non-null   datetime64[ns]\n",
      " 3   Type      1500 non-null   object        \n",
      " 4   Amount    1500 non-null   float64       \n",
      "dtypes: datetime64[ns](1), float64(1), int64(1), object(2)\n",
      "memory usage: 58.7+ KB\n"
     ]
    }
   ],
   "source": [
    "s.info()"
   ]
  },
  {
   "cell_type": "code",
   "execution_count": 16,
   "id": "133dc7d9",
   "metadata": {
    "ExecuteTime": {
     "end_time": "2022-09-21T20:41:32.971912Z",
     "start_time": "2022-09-21T20:41:32.957247Z"
    }
   },
   "outputs": [
    {
     "data": {
      "text/html": [
       "<div>\n",
       "<style scoped>\n",
       "    .dataframe tbody tr th:only-of-type {\n",
       "        vertical-align: middle;\n",
       "    }\n",
       "\n",
       "    .dataframe tbody tr th {\n",
       "        vertical-align: top;\n",
       "    }\n",
       "\n",
       "    .dataframe thead th {\n",
       "        text-align: right;\n",
       "    }\n",
       "</style>\n",
       "<table border=\"1\" class=\"dataframe\">\n",
       "  <thead>\n",
       "    <tr style=\"text-align: right;\">\n",
       "      <th></th>\n",
       "      <th>Sl No:</th>\n",
       "      <th>Customer</th>\n",
       "      <th>Month</th>\n",
       "      <th>Type</th>\n",
       "      <th>Amount</th>\n",
       "    </tr>\n",
       "  </thead>\n",
       "  <tbody>\n",
       "    <tr>\n",
       "      <th>0</th>\n",
       "      <td>1</td>\n",
       "      <td>A1</td>\n",
       "      <td>2004-01-12</td>\n",
       "      <td>JEWELLERY</td>\n",
       "      <td>344054.980813</td>\n",
       "    </tr>\n",
       "    <tr>\n",
       "      <th>1</th>\n",
       "      <td>2</td>\n",
       "      <td>A1</td>\n",
       "      <td>2004-01-03</td>\n",
       "      <td>PETRO</td>\n",
       "      <td>467747.601626</td>\n",
       "    </tr>\n",
       "    <tr>\n",
       "      <th>2</th>\n",
       "      <td>3</td>\n",
       "      <td>A1</td>\n",
       "      <td>2004-01-15</td>\n",
       "      <td>CLOTHES</td>\n",
       "      <td>86878.954735</td>\n",
       "    </tr>\n",
       "    <tr>\n",
       "      <th>3</th>\n",
       "      <td>4</td>\n",
       "      <td>A1</td>\n",
       "      <td>2004-01-25</td>\n",
       "      <td>FOOD</td>\n",
       "      <td>269175.011875</td>\n",
       "    </tr>\n",
       "    <tr>\n",
       "      <th>4</th>\n",
       "      <td>5</td>\n",
       "      <td>A1</td>\n",
       "      <td>2005-01-17</td>\n",
       "      <td>CAMERA</td>\n",
       "      <td>3406.639477</td>\n",
       "    </tr>\n",
       "  </tbody>\n",
       "</table>\n",
       "</div>"
      ],
      "text/plain": [
       "   Sl No: Customer      Month       Type         Amount\n",
       "0       1       A1 2004-01-12  JEWELLERY  344054.980813\n",
       "1       2       A1 2004-01-03      PETRO  467747.601626\n",
       "2       3       A1 2004-01-15    CLOTHES   86878.954735\n",
       "3       4       A1 2004-01-25       FOOD  269175.011875\n",
       "4       5       A1 2005-01-17     CAMERA    3406.639477"
      ]
     },
     "execution_count": 16,
     "metadata": {},
     "output_type": "execute_result"
    }
   ],
   "source": [
    "s.head()"
   ]
  },
  {
   "cell_type": "code",
   "execution_count": 17,
   "id": "a0af6d78",
   "metadata": {
    "ExecuteTime": {
     "end_time": "2022-09-21T20:41:32.987133Z",
     "start_time": "2022-09-21T20:41:32.973051Z"
    }
   },
   "outputs": [],
   "source": [
    "# Fixing column names\n",
    "s.columns = s.columns.str.lower().str.strip().str.replace(' ', '_').str.replace(':', '')\n",
    "s.rename(columns={'month' : 's_date', 'amount' : 's_amount'}, inplace=True)"
   ]
  },
  {
   "cell_type": "code",
   "execution_count": 18,
   "id": "9f113699",
   "metadata": {
    "ExecuteTime": {
     "end_time": "2022-09-21T20:41:33.002222Z",
     "start_time": "2022-09-21T20:41:32.988196Z"
    }
   },
   "outputs": [
    {
     "data": {
      "text/plain": [
       "sl_no       0\n",
       "customer    0\n",
       "s_date      0\n",
       "type        0\n",
       "s_amount    0\n",
       "dtype: int64"
      ]
     },
     "execution_count": 18,
     "metadata": {},
     "output_type": "execute_result"
    }
   ],
   "source": [
    "s.isnull().sum()"
   ]
  },
  {
   "cell_type": "code",
   "execution_count": 19,
   "id": "cae0dd73",
   "metadata": {
    "ExecuteTime": {
     "end_time": "2022-09-21T20:41:33.018233Z",
     "start_time": "2022-09-21T20:41:33.003219Z"
    }
   },
   "outputs": [
    {
     "name": "stdout",
     "output_type": "stream",
     "text": [
      "(1500, 5)\n",
      "(1500, 5)\n"
     ]
    }
   ],
   "source": [
    "print(s.shape)\n",
    "s.drop_duplicates(inplace=True)\n",
    "print(s.shape)"
   ]
  },
  {
   "cell_type": "markdown",
   "id": "7d7dff20",
   "metadata": {},
   "source": [
    "## Creating Final Tables"
   ]
  },
  {
   "cell_type": "code",
   "execution_count": 20,
   "id": "28b06678",
   "metadata": {
    "ExecuteTime": {
     "end_time": "2022-09-21T20:41:33.034316Z",
     "start_time": "2022-09-21T20:41:33.019228Z"
    }
   },
   "outputs": [],
   "source": [
    "# Repayment + Customer Acquisition :\n",
    "df_r = pd.merge(r, ca, on='customer', how='left')\n",
    "\n",
    "# Spend + Customer Acquisition :\n",
    "df_s = pd.merge(s, ca, on='customer', how='left')"
   ]
  },
  {
   "cell_type": "markdown",
   "id": "d0349ad6",
   "metadata": {},
   "source": [
    "### Checking Shapes & Records"
   ]
  },
  {
   "cell_type": "code",
   "execution_count": 21,
   "id": "99a087e9",
   "metadata": {
    "ExecuteTime": {
     "end_time": "2022-09-21T20:41:33.050085Z",
     "start_time": "2022-09-21T20:41:33.035510Z"
    }
   },
   "outputs": [
    {
     "data": {
      "text/plain": [
       "((1500, 11), 100, (1500, 12), 100)"
      ]
     },
     "execution_count": 21,
     "metadata": {},
     "output_type": "execute_result"
    }
   ],
   "source": [
    "df_r.shape, df_r.customer.nunique(), df_s.shape, df_s.customer.nunique()"
   ]
  },
  {
   "cell_type": "markdown",
   "id": "dee0d604",
   "metadata": {},
   "source": [
    "<p style=\"background-color:Blue; color:White; text-align: center; font-size:16px; font-family:Monospace\"><b>\n",
    "##################################<br>\n",
    "## Data Ingestion is completed. ##<br>\n",
    "##################################\n",
    "</p>\n"
   ]
  },
  {
   "cell_type": "markdown",
   "id": "1e374878",
   "metadata": {},
   "source": [
    "# Exploratory Data Analysis"
   ]
  },
  {
   "cell_type": "markdown",
   "id": "d2d41ef1",
   "metadata": {},
   "source": [
    "## Q1\n",
    "> 1. In the above dataset,\n",
    "     - a. In case age is less than 18, replace it with mean of age values. <br>\n",
    "     - b. In case spend amount is more than the limit, replace it with 50% of that customer’s limit. (customer’s limit provided in acquisition table is the per transaction limit on his card)<br>\n",
    "     - c. Incase the repayment amount is more than the limit, replace the repayment with the\n",
    "limit."
   ]
  },
  {
   "cell_type": "markdown",
   "id": "517dd734",
   "metadata": {},
   "source": [
    "### a. In case age is less than 18, replace it with mean of age values. "
   ]
  },
  {
   "cell_type": "code",
   "execution_count": 22,
   "id": "376225a0",
   "metadata": {
    "ExecuteTime": {
     "end_time": "2022-09-21T20:41:33.283962Z",
     "start_time": "2022-09-21T20:41:33.051079Z"
    }
   },
   "outputs": [
    {
     "name": "stdout",
     "output_type": "stream",
     "text": [
      "Average age : 46.49\n",
      "Total ages to be replaced : 6\n",
      "Age < 18 after replacement: 0\n"
     ]
    }
   ],
   "source": [
    "# Calculating the average :\n",
    "New_age = ca.age.mean()\n",
    "print('Average age :', round(New_age, 2))\n",
    "\n",
    "# Replacing the values :\n",
    "print('Total ages to be replaced :', ca.age[ca.age < 18].count())\n",
    "ca.age[ca.age < 18] = New_age\n",
    "df_s.age[df_s.age < 18] = New_age\n",
    "df_r.age[df_r.age < 18] = New_age\n",
    "print('Age < 18 after replacement:', ca.age[ca.age < 18].count())"
   ]
  },
  {
   "cell_type": "markdown",
   "id": "2f6d500e",
   "metadata": {},
   "source": [
    "### b. In case spend amount is more than the limit, replace it with 50% of that customer’s limit."
   ]
  },
  {
   "cell_type": "code",
   "execution_count": 23,
   "id": "c9fe8271",
   "metadata": {
    "ExecuteTime": {
     "end_time": "2022-09-21T20:41:33.330597Z",
     "start_time": "2022-09-21T20:41:33.285160Z"
    },
    "scrolled": false
   },
   "outputs": [
    {
     "data": {
      "text/html": [
       "<div>\n",
       "<style scoped>\n",
       "    .dataframe tbody tr th:only-of-type {\n",
       "        vertical-align: middle;\n",
       "    }\n",
       "\n",
       "    .dataframe tbody tr th {\n",
       "        vertical-align: top;\n",
       "    }\n",
       "\n",
       "    .dataframe thead th {\n",
       "        text-align: right;\n",
       "    }\n",
       "</style>\n",
       "<table border=\"1\" class=\"dataframe\">\n",
       "  <thead>\n",
       "    <tr style=\"text-align: right;\">\n",
       "      <th></th>\n",
       "      <th>sl_no</th>\n",
       "      <th>customer</th>\n",
       "      <th>s_date</th>\n",
       "      <th>type</th>\n",
       "      <th>s_amount</th>\n",
       "      <th>no</th>\n",
       "      <th>age</th>\n",
       "      <th>city</th>\n",
       "      <th>product</th>\n",
       "      <th>limit</th>\n",
       "      <th>company</th>\n",
       "      <th>segment</th>\n",
       "    </tr>\n",
       "  </thead>\n",
       "  <tbody>\n",
       "    <tr>\n",
       "      <th>7</th>\n",
       "      <td>8</td>\n",
       "      <td>A8</td>\n",
       "      <td>2004-02-05</td>\n",
       "      <td>BIKE</td>\n",
       "      <td>50001.0</td>\n",
       "      <td>8</td>\n",
       "      <td>67.0</td>\n",
       "      <td>PATNA</td>\n",
       "      <td>Silver</td>\n",
       "      <td>100002</td>\n",
       "      <td>C8</td>\n",
       "      <td>Salaried_Pvt</td>\n",
       "    </tr>\n",
       "    <tr>\n",
       "      <th>8</th>\n",
       "      <td>9</td>\n",
       "      <td>A9</td>\n",
       "      <td>2005-02-28</td>\n",
       "      <td>AUTO</td>\n",
       "      <td>50001.5</td>\n",
       "      <td>9</td>\n",
       "      <td>79.0</td>\n",
       "      <td>CHENNAI</td>\n",
       "      <td>Silver</td>\n",
       "      <td>100003</td>\n",
       "      <td>C9</td>\n",
       "      <td>Govt</td>\n",
       "    </tr>\n",
       "    <tr>\n",
       "      <th>17</th>\n",
       "      <td>18</td>\n",
       "      <td>A18</td>\n",
       "      <td>2006-03-05</td>\n",
       "      <td>CLOTHES</td>\n",
       "      <td>50000.0</td>\n",
       "      <td>18</td>\n",
       "      <td>34.0</td>\n",
       "      <td>BANGALORE</td>\n",
       "      <td>Silver</td>\n",
       "      <td>100000</td>\n",
       "      <td>C18</td>\n",
       "      <td>Salaried_MNC</td>\n",
       "    </tr>\n",
       "    <tr>\n",
       "      <th>18</th>\n",
       "      <td>19</td>\n",
       "      <td>A19</td>\n",
       "      <td>2005-04-04</td>\n",
       "      <td>FOOD</td>\n",
       "      <td>5000.0</td>\n",
       "      <td>19</td>\n",
       "      <td>27.0</td>\n",
       "      <td>BANGALORE</td>\n",
       "      <td>Platinum</td>\n",
       "      <td>10000</td>\n",
       "      <td>C19</td>\n",
       "      <td>Salaried_Pvt</td>\n",
       "    </tr>\n",
       "    <tr>\n",
       "      <th>19</th>\n",
       "      <td>20</td>\n",
       "      <td>A20</td>\n",
       "      <td>2006-04-30</td>\n",
       "      <td>JEWELLERY</td>\n",
       "      <td>5000.5</td>\n",
       "      <td>20</td>\n",
       "      <td>27.0</td>\n",
       "      <td>CALCUTTA</td>\n",
       "      <td>Platinum</td>\n",
       "      <td>10001</td>\n",
       "      <td>C20</td>\n",
       "      <td>Govt</td>\n",
       "    </tr>\n",
       "  </tbody>\n",
       "</table>\n",
       "</div>"
      ],
      "text/plain": [
       "    sl_no customer     s_date       type  s_amount  no   age       city  \\\n",
       "7       8       A8 2004-02-05       BIKE   50001.0   8  67.0      PATNA   \n",
       "8       9       A9 2005-02-28       AUTO   50001.5   9  79.0    CHENNAI   \n",
       "17     18      A18 2006-03-05    CLOTHES   50000.0  18  34.0  BANGALORE   \n",
       "18     19      A19 2005-04-04       FOOD    5000.0  19  27.0  BANGALORE   \n",
       "19     20      A20 2006-04-30  JEWELLERY    5000.5  20  27.0   CALCUTTA   \n",
       "\n",
       "     product   limit company       segment  \n",
       "7     Silver  100002      C8  Salaried_Pvt  \n",
       "8     Silver  100003      C9          Govt  \n",
       "17    Silver  100000     C18  Salaried_MNC  \n",
       "18  Platinum   10000     C19  Salaried_Pvt  \n",
       "19  Platinum   10001     C20          Govt  "
      ]
     },
     "execution_count": 23,
     "metadata": {},
     "output_type": "execute_result"
    }
   ],
   "source": [
    "# Replacing values :\n",
    "df_s.s_amount = df_s.apply(lambda x: x.limit * 0.5 if x.s_amount > x.limit else x.s_amount, axis=1)\n",
    "\n",
    "# Checking Replacement :\n",
    "df_s[df_s.s_amount == df_s.limit / 2].head()"
   ]
  },
  {
   "cell_type": "markdown",
   "id": "e93835b8",
   "metadata": {},
   "source": [
    "### c. In case the repayment amount is more than the limit, replace the repayment with the limit."
   ]
  },
  {
   "cell_type": "code",
   "execution_count": 24,
   "id": "cf63ee16",
   "metadata": {
    "ExecuteTime": {
     "end_time": "2022-09-21T20:41:33.377402Z",
     "start_time": "2022-09-21T20:41:33.332047Z"
    }
   },
   "outputs": [
    {
     "data": {
      "text/html": [
       "<div>\n",
       "<style scoped>\n",
       "    .dataframe tbody tr th:only-of-type {\n",
       "        vertical-align: middle;\n",
       "    }\n",
       "\n",
       "    .dataframe tbody tr th {\n",
       "        vertical-align: top;\n",
       "    }\n",
       "\n",
       "    .dataframe thead th {\n",
       "        text-align: right;\n",
       "    }\n",
       "</style>\n",
       "<table border=\"1\" class=\"dataframe\">\n",
       "  <thead>\n",
       "    <tr style=\"text-align: right;\">\n",
       "      <th></th>\n",
       "      <th>sl_no</th>\n",
       "      <th>customer</th>\n",
       "      <th>r_date</th>\n",
       "      <th>r_amount</th>\n",
       "      <th>no</th>\n",
       "      <th>age</th>\n",
       "      <th>city</th>\n",
       "      <th>product</th>\n",
       "      <th>limit</th>\n",
       "      <th>company</th>\n",
       "      <th>segment</th>\n",
       "    </tr>\n",
       "  </thead>\n",
       "  <tbody>\n",
       "    <tr>\n",
       "      <th>7</th>\n",
       "      <td>8</td>\n",
       "      <td>A8</td>\n",
       "      <td>2004-02-05</td>\n",
       "      <td>100002.0</td>\n",
       "      <td>8</td>\n",
       "      <td>67.0</td>\n",
       "      <td>PATNA</td>\n",
       "      <td>Silver</td>\n",
       "      <td>100002</td>\n",
       "      <td>C8</td>\n",
       "      <td>Salaried_Pvt</td>\n",
       "    </tr>\n",
       "    <tr>\n",
       "      <th>8</th>\n",
       "      <td>9</td>\n",
       "      <td>A9</td>\n",
       "      <td>2005-02-28</td>\n",
       "      <td>100003.0</td>\n",
       "      <td>9</td>\n",
       "      <td>79.0</td>\n",
       "      <td>CHENNAI</td>\n",
       "      <td>Silver</td>\n",
       "      <td>100003</td>\n",
       "      <td>C9</td>\n",
       "      <td>Govt</td>\n",
       "    </tr>\n",
       "    <tr>\n",
       "      <th>17</th>\n",
       "      <td>18</td>\n",
       "      <td>A18</td>\n",
       "      <td>2006-03-05</td>\n",
       "      <td>100000.0</td>\n",
       "      <td>18</td>\n",
       "      <td>34.0</td>\n",
       "      <td>BANGALORE</td>\n",
       "      <td>Silver</td>\n",
       "      <td>100000</td>\n",
       "      <td>C18</td>\n",
       "      <td>Salaried_MNC</td>\n",
       "    </tr>\n",
       "    <tr>\n",
       "      <th>18</th>\n",
       "      <td>19</td>\n",
       "      <td>A19</td>\n",
       "      <td>2005-04-04</td>\n",
       "      <td>10000.0</td>\n",
       "      <td>19</td>\n",
       "      <td>27.0</td>\n",
       "      <td>BANGALORE</td>\n",
       "      <td>Platinum</td>\n",
       "      <td>10000</td>\n",
       "      <td>C19</td>\n",
       "      <td>Salaried_Pvt</td>\n",
       "    </tr>\n",
       "    <tr>\n",
       "      <th>19</th>\n",
       "      <td>20</td>\n",
       "      <td>A20</td>\n",
       "      <td>2006-04-30</td>\n",
       "      <td>10001.0</td>\n",
       "      <td>20</td>\n",
       "      <td>27.0</td>\n",
       "      <td>CALCUTTA</td>\n",
       "      <td>Platinum</td>\n",
       "      <td>10001</td>\n",
       "      <td>C20</td>\n",
       "      <td>Govt</td>\n",
       "    </tr>\n",
       "  </tbody>\n",
       "</table>\n",
       "</div>"
      ],
      "text/plain": [
       "    sl_no customer     r_date  r_amount  no   age       city   product  \\\n",
       "7       8       A8 2004-02-05  100002.0   8  67.0      PATNA    Silver   \n",
       "8       9       A9 2005-02-28  100003.0   9  79.0    CHENNAI    Silver   \n",
       "17     18      A18 2006-03-05  100000.0  18  34.0  BANGALORE    Silver   \n",
       "18     19      A19 2005-04-04   10000.0  19  27.0  BANGALORE  Platinum   \n",
       "19     20      A20 2006-04-30   10001.0  20  27.0   CALCUTTA  Platinum   \n",
       "\n",
       "     limit company       segment  \n",
       "7   100002      C8  Salaried_Pvt  \n",
       "8   100003      C9          Govt  \n",
       "17  100000     C18  Salaried_MNC  \n",
       "18   10000     C19  Salaried_Pvt  \n",
       "19   10001     C20          Govt  "
      ]
     },
     "execution_count": 24,
     "metadata": {},
     "output_type": "execute_result"
    }
   ],
   "source": [
    "# Replacing values :\n",
    "df_r.r_amount = df_r.apply(lambda x: x.limit if x.r_amount > x.limit else x.r_amount, axis=1)\n",
    "\n",
    "# Checking Replacement :\n",
    "df_r[df_r.r_amount == df_r.limit].head()"
   ]
  },
  {
   "cell_type": "markdown",
   "id": "d83e2561",
   "metadata": {},
   "source": [
    "## Q2"
   ]
  },
  {
   "cell_type": "markdown",
   "id": "33def206",
   "metadata": {
    "ExecuteTime": {
     "end_time": "2022-09-17T10:48:23.654200Z",
     "start_time": "2022-09-17T10:48:23.643559Z"
    }
   },
   "source": [
    "> 2. From the above dataset create the following summaries:\n",
    "    - a. How many distinct customers exist?\n",
    "    - b. How many distinct categories exist?\n",
    "    - c. What is the average monthly spend by customers?\n",
    "    - d. What is the average monthly repayment by customers?\n",
    "    - e. If the monthly rate of interest is 2.9%, what is the profit for the bank for each month? (Profit is defined as interest earned on Monthly Profit. **Monthly Profit = Monthly repayment – Monthly spend**. Interest is earned only on positive profits and not on negative amounts)\n",
    "    - f. What are the top 5 product types?\n",
    "    - g. Which city is having maximum spend?\n",
    "    - h. Which age group is spending more money?\n",
    "    - i. Who are the top 10 customers in terms of repayment?"
   ]
  },
  {
   "cell_type": "markdown",
   "id": "ba742589",
   "metadata": {},
   "source": [
    "### a. How many distinct customers exist?"
   ]
  },
  {
   "cell_type": "code",
   "execution_count": 25,
   "id": "a12ea311",
   "metadata": {
    "ExecuteTime": {
     "end_time": "2022-09-21T20:41:33.392621Z",
     "start_time": "2022-09-21T20:41:33.378408Z"
    }
   },
   "outputs": [
    {
     "name": "stdout",
     "output_type": "stream",
     "text": [
      "Total distinct customers: 100\n"
     ]
    }
   ],
   "source": [
    "print('Total distinct customers:', ca['customer'].nunique())"
   ]
  },
  {
   "cell_type": "markdown",
   "id": "7548a40f",
   "metadata": {},
   "source": [
    "### b. How many distinct categories exist?"
   ]
  },
  {
   "cell_type": "code",
   "execution_count": 26,
   "id": "0f978e69",
   "metadata": {
    "ExecuteTime": {
     "end_time": "2022-09-21T20:41:33.408687Z",
     "start_time": "2022-09-21T20:41:33.393638Z"
    }
   },
   "outputs": [
    {
     "data": {
      "text/plain": [
       "product     3\n",
       "company    41\n",
       "segment     5\n",
       "type       15\n",
       "dtype: int64"
      ]
     },
     "execution_count": 26,
     "metadata": {},
     "output_type": "execute_result"
    }
   ],
   "source": [
    "# Checking distinct categories based on different variables :\n",
    "df_s.loc[:,['product','company','segment','type']].nunique()"
   ]
  },
  {
   "cell_type": "markdown",
   "id": "033ab051",
   "metadata": {},
   "source": [
    "### c. What is the average monthly spend by customers?"
   ]
  },
  {
   "cell_type": "code",
   "execution_count": 27,
   "id": "d88f3a6b",
   "metadata": {
    "ExecuteTime": {
     "end_time": "2022-09-21T20:41:33.424534Z",
     "start_time": "2022-09-21T20:41:33.409725Z"
    }
   },
   "outputs": [],
   "source": [
    "# Setting default formats for floats :\n",
    "pd.options.display.float_format = '{:,.2f}'.format"
   ]
  },
  {
   "cell_type": "markdown",
   "id": "4cc073e6",
   "metadata": {},
   "source": [
    "#### Average Spends [Each Month]"
   ]
  },
  {
   "cell_type": "code",
   "execution_count": 28,
   "id": "f993172e",
   "metadata": {
    "ExecuteTime": {
     "end_time": "2022-09-21T20:41:33.455322Z",
     "start_time": "2022-09-21T20:41:33.427209Z"
    },
    "scrolled": false
   },
   "outputs": [
    {
     "data": {
      "text/html": [
       "<div>\n",
       "<style scoped>\n",
       "    .dataframe tbody tr th:only-of-type {\n",
       "        vertical-align: middle;\n",
       "    }\n",
       "\n",
       "    .dataframe tbody tr th {\n",
       "        vertical-align: top;\n",
       "    }\n",
       "\n",
       "    .dataframe thead tr th {\n",
       "        text-align: left;\n",
       "    }\n",
       "\n",
       "    .dataframe thead tr:last-of-type th {\n",
       "        text-align: right;\n",
       "    }\n",
       "</style>\n",
       "<table border=\"1\" class=\"dataframe\">\n",
       "  <thead>\n",
       "    <tr>\n",
       "      <th></th>\n",
       "      <th colspan=\"12\" halign=\"left\">avg_spend</th>\n",
       "    </tr>\n",
       "    <tr>\n",
       "      <th>Months</th>\n",
       "      <th>1</th>\n",
       "      <th>2</th>\n",
       "      <th>3</th>\n",
       "      <th>4</th>\n",
       "      <th>5</th>\n",
       "      <th>6</th>\n",
       "      <th>7</th>\n",
       "      <th>8</th>\n",
       "      <th>9</th>\n",
       "      <th>10</th>\n",
       "      <th>11</th>\n",
       "      <th>12</th>\n",
       "    </tr>\n",
       "    <tr>\n",
       "      <th>Years</th>\n",
       "      <th></th>\n",
       "      <th></th>\n",
       "      <th></th>\n",
       "      <th></th>\n",
       "      <th></th>\n",
       "      <th></th>\n",
       "      <th></th>\n",
       "      <th></th>\n",
       "      <th></th>\n",
       "      <th></th>\n",
       "      <th></th>\n",
       "      <th></th>\n",
       "    </tr>\n",
       "  </thead>\n",
       "  <tbody>\n",
       "    <tr>\n",
       "      <th>2004</th>\n",
       "      <td>151,335.10</td>\n",
       "      <td>147,645.90</td>\n",
       "      <td>89,640.11</td>\n",
       "      <td>136,895.00</td>\n",
       "      <td>169,490.98</td>\n",
       "      <td>NaN</td>\n",
       "      <td>NaN</td>\n",
       "      <td>NaN</td>\n",
       "      <td>134,486.00</td>\n",
       "      <td>NaN</td>\n",
       "      <td>140,515.37</td>\n",
       "      <td>NaN</td>\n",
       "    </tr>\n",
       "    <tr>\n",
       "      <th>2005</th>\n",
       "      <td>162,992.85</td>\n",
       "      <td>168,094.03</td>\n",
       "      <td>NaN</td>\n",
       "      <td>144,046.89</td>\n",
       "      <td>149,370.70</td>\n",
       "      <td>171,706.70</td>\n",
       "      <td>199,402.74</td>\n",
       "      <td>175,220.30</td>\n",
       "      <td>174,361.48</td>\n",
       "      <td>69,063.43</td>\n",
       "      <td>153,809.49</td>\n",
       "      <td>97,522.66</td>\n",
       "    </tr>\n",
       "    <tr>\n",
       "      <th>2006</th>\n",
       "      <td>171,369.10</td>\n",
       "      <td>144,864.17</td>\n",
       "      <td>147,846.94</td>\n",
       "      <td>148,152.47</td>\n",
       "      <td>144,698.05</td>\n",
       "      <td>150,069.89</td>\n",
       "      <td>168,994.13</td>\n",
       "      <td>190,490.12</td>\n",
       "      <td>143,003.26</td>\n",
       "      <td>152,621.86</td>\n",
       "      <td>179,837.31</td>\n",
       "      <td>118,758.53</td>\n",
       "    </tr>\n",
       "  </tbody>\n",
       "</table>\n",
       "</div>"
      ],
      "text/plain": [
       "        avg_spend                                                         \\\n",
       "Months         1          2          3          4          5          6    \n",
       "Years                                                                      \n",
       "2004   151,335.10 147,645.90  89,640.11 136,895.00 169,490.98        NaN   \n",
       "2005   162,992.85 168,094.03        NaN 144,046.89 149,370.70 171,706.70   \n",
       "2006   171,369.10 144,864.17 147,846.94 148,152.47 144,698.05 150,069.89   \n",
       "\n",
       "                                                                          \n",
       "Months         7          8          9          10         11         12  \n",
       "Years                                                                     \n",
       "2004          NaN        NaN 134,486.00        NaN 140,515.37        NaN  \n",
       "2005   199,402.74 175,220.30 174,361.48  69,063.43 153,809.49  97,522.66  \n",
       "2006   168,994.13 190,490.12 143,003.26 152,621.86 179,837.31 118,758.53  "
      ]
     },
     "execution_count": 28,
     "metadata": {},
     "output_type": "execute_result"
    }
   ],
   "source": [
    "# Creating dataframe after grouping the years-months level :\n",
    "a2c = (df_s.groupby([df_s.s_date.dt.year, df_s.s_date.dt.month])\n",
    "       .s_amount.mean().to_frame()\n",
    "       .rename(columns={'s_amount': 'avg_spend'}))\n",
    "\n",
    "# Setting Index names :\n",
    "a2c.index.names = ['Years', 'Months']\n",
    "\n",
    "# Unstacking the dataframe for better view :\n",
    "a2c.unstack()"
   ]
  },
  {
   "cell_type": "markdown",
   "id": "669b513d",
   "metadata": {},
   "source": [
    "#### Average Spend [Overall]"
   ]
  },
  {
   "cell_type": "code",
   "execution_count": 29,
   "id": "57894b74",
   "metadata": {
    "ExecuteTime": {
     "end_time": "2022-09-21T20:41:33.471308Z",
     "start_time": "2022-09-21T20:41:33.457065Z"
    }
   },
   "outputs": [
    {
     "name": "stdout",
     "output_type": "stream",
     "text": [
      "Overall average monthly spend by customers : 149876.85\n"
     ]
    }
   ],
   "source": [
    "a2cm = df_s.groupby([df_s.s_date.dt.year, df_s.s_date.dt.month]).s_amount.mean().mean()\n",
    "print(f'Overall average monthly spend by customers : {a2cm :.2f}')"
   ]
  },
  {
   "cell_type": "markdown",
   "id": "cf971436",
   "metadata": {},
   "source": [
    "#### Average Spends [Trend]"
   ]
  },
  {
   "cell_type": "code",
   "execution_count": 30,
   "id": "ff788fd0",
   "metadata": {
    "ExecuteTime": {
     "end_time": "2022-09-21T20:41:33.704736Z",
     "start_time": "2022-09-21T20:41:33.472346Z"
    }
   },
   "outputs": [
    {
     "data": {
      "image/png": "[encoded data removed]",
      "text/plain": [
       "<Figure size 1080x360 with 1 Axes>"
      ]
     },
     "metadata": {},
     "output_type": "display_data"
    }
   ],
   "source": [
    "# Setting rcParams :\n",
    "plt.rcParams['figure.figsize'] = (15, 5)\n",
    "\n",
    "# Grouping data :\n",
    "a2c1 = df_s.groupby([pd.Grouper(key='s_date', freq='M')]).s_amount.mean().fillna(value=0)\n",
    "\n",
    "# Setting Index :\n",
    "a2c1.index.name = 'Months'\n",
    "\n",
    "# Plotting data :\n",
    "g = a2c1.plot(kind='line', marker='o', linewidth=2, color='b')\n",
    "plt.grid(True, axis='y', linewidth=0.75, linestyle='-')\n",
    "\n",
    "# Plotting average line :\n",
    "plt.hlines(y=a2c['avg_spend'].mean(), xmin='2004-1', xmax='2006-12', colors='#0066ff')\n",
    "\n",
    "# Setting y-axis and Title:\n",
    "plt.ylabel('Average Spends')\n",
    "g.set_title('\\nAverage Spends Trends', pad=20, fontdict={'fontsize': 18, 'fontweight': 'bold'})\n",
    "\n",
    "plt.show()"
   ]
  },
  {
   "cell_type": "markdown",
   "id": "3096e02f",
   "metadata": {},
   "source": [
    "### d. What is the average monthly repayment by customers?"
   ]
  },
  {
   "cell_type": "markdown",
   "id": "e34471c7",
   "metadata": {},
   "source": [
    "#### Average Repayments [Each Month]"
   ]
  },
  {
   "cell_type": "code",
   "execution_count": 31,
   "id": "661b3c82",
   "metadata": {
    "ExecuteTime": {
     "end_time": "2022-09-21T20:41:33.720746Z",
     "start_time": "2022-09-21T20:41:33.705732Z"
    },
    "scrolled": false
   },
   "outputs": [
    {
     "data": {
      "text/html": [
       "<div>\n",
       "<style scoped>\n",
       "    .dataframe tbody tr th:only-of-type {\n",
       "        vertical-align: middle;\n",
       "    }\n",
       "\n",
       "    .dataframe tbody tr th {\n",
       "        vertical-align: top;\n",
       "    }\n",
       "\n",
       "    .dataframe thead tr th {\n",
       "        text-align: left;\n",
       "    }\n",
       "\n",
       "    .dataframe thead tr:last-of-type th {\n",
       "        text-align: right;\n",
       "    }\n",
       "</style>\n",
       "<table border=\"1\" class=\"dataframe\">\n",
       "  <thead>\n",
       "    <tr>\n",
       "      <th></th>\n",
       "      <th colspan=\"12\" halign=\"left\">avg_repayment</th>\n",
       "    </tr>\n",
       "    <tr>\n",
       "      <th>Months</th>\n",
       "      <th>1</th>\n",
       "      <th>2</th>\n",
       "      <th>3</th>\n",
       "      <th>4</th>\n",
       "      <th>5</th>\n",
       "      <th>6</th>\n",
       "      <th>7</th>\n",
       "      <th>8</th>\n",
       "      <th>9</th>\n",
       "      <th>10</th>\n",
       "      <th>11</th>\n",
       "      <th>12</th>\n",
       "    </tr>\n",
       "    <tr>\n",
       "      <th>Years</th>\n",
       "      <th></th>\n",
       "      <th></th>\n",
       "      <th></th>\n",
       "      <th></th>\n",
       "      <th></th>\n",
       "      <th></th>\n",
       "      <th></th>\n",
       "      <th></th>\n",
       "      <th></th>\n",
       "      <th></th>\n",
       "      <th></th>\n",
       "      <th></th>\n",
       "    </tr>\n",
       "  </thead>\n",
       "  <tbody>\n",
       "    <tr>\n",
       "      <th>2004</th>\n",
       "      <td>161,292.57</td>\n",
       "      <td>175,497.69</td>\n",
       "      <td>187,433.06</td>\n",
       "      <td>140,886.46</td>\n",
       "      <td>154,569.09</td>\n",
       "      <td>NaN</td>\n",
       "      <td>NaN</td>\n",
       "      <td>NaN</td>\n",
       "      <td>126,505.72</td>\n",
       "      <td>NaN</td>\n",
       "      <td>151,737.53</td>\n",
       "      <td>NaN</td>\n",
       "    </tr>\n",
       "    <tr>\n",
       "      <th>2005</th>\n",
       "      <td>193,485.08</td>\n",
       "      <td>149,261.54</td>\n",
       "      <td>NaN</td>\n",
       "      <td>103,288.33</td>\n",
       "      <td>190,352.35</td>\n",
       "      <td>134,566.87</td>\n",
       "      <td>132,130.21</td>\n",
       "      <td>170,601.60</td>\n",
       "      <td>66,406.94</td>\n",
       "      <td>115,778.90</td>\n",
       "      <td>181,593.30</td>\n",
       "      <td>169,920.64</td>\n",
       "    </tr>\n",
       "    <tr>\n",
       "      <th>2006</th>\n",
       "      <td>211,479.50</td>\n",
       "      <td>199,340.39</td>\n",
       "      <td>170,909.83</td>\n",
       "      <td>161,473.11</td>\n",
       "      <td>176,926.36</td>\n",
       "      <td>234,089.02</td>\n",
       "      <td>149,893.63</td>\n",
       "      <td>189,565.18</td>\n",
       "      <td>161,374.02</td>\n",
       "      <td>230,972.41</td>\n",
       "      <td>192,231.78</td>\n",
       "      <td>105,149.33</td>\n",
       "    </tr>\n",
       "  </tbody>\n",
       "</table>\n",
       "</div>"
      ],
      "text/plain": [
       "       avg_repayment                                                         \\\n",
       "Months            1          2          3          4          5          6    \n",
       "Years                                                                         \n",
       "2004      161,292.57 175,497.69 187,433.06 140,886.46 154,569.09        NaN   \n",
       "2005      193,485.08 149,261.54        NaN 103,288.33 190,352.35 134,566.87   \n",
       "2006      211,479.50 199,340.39 170,909.83 161,473.11 176,926.36 234,089.02   \n",
       "\n",
       "                                                                          \n",
       "Months         7          8          9          10         11         12  \n",
       "Years                                                                     \n",
       "2004          NaN        NaN 126,505.72        NaN 151,737.53        NaN  \n",
       "2005   132,130.21 170,601.60  66,406.94 115,778.90 181,593.30 169,920.64  \n",
       "2006   149,893.63 189,565.18 161,374.02 230,972.41 192,231.78 105,149.33  "
      ]
     },
     "execution_count": 31,
     "metadata": {},
     "output_type": "execute_result"
    }
   ],
   "source": [
    "# Creating dataframe after grouping the years-months level :\n",
    "a2d = (df_r.groupby([df_r.r_date.dt.year, df_r.r_date.dt.month])\n",
    "       .r_amount.mean().to_frame()\n",
    "       .rename(columns={'r_amount': 'avg_repayment'}))\n",
    "\n",
    "# Setting Index names :\n",
    "a2d.index.names = ['Years', 'Months']\n",
    "\n",
    "# Unstacking the dataframe for better view :\n",
    "a2d.unstack()"
   ]
  },
  {
   "cell_type": "markdown",
   "id": "eb58b812",
   "metadata": {},
   "source": [
    "#### Average Repayment [Overall]"
   ]
  },
  {
   "cell_type": "code",
   "execution_count": 32,
   "id": "093adaa6",
   "metadata": {
    "ExecuteTime": {
     "end_time": "2022-09-21T20:41:33.736044Z",
     "start_time": "2022-09-21T20:41:33.721744Z"
    }
   },
   "outputs": [
    {
     "name": "stdout",
     "output_type": "stream",
     "text": [
      "Overall average monthly repayment by customers : 162957.08\n"
     ]
    }
   ],
   "source": [
    "a2dm = df_r.groupby([df_r.r_date.dt.year, df_r.r_date.dt.month]).r_amount.mean().mean()\n",
    "print(f'Overall average monthly repayment by customers : {a2dm :.2f}')"
   ]
  },
  {
   "cell_type": "markdown",
   "id": "e3047af8",
   "metadata": {},
   "source": [
    "#### Average Repayments [Trend]"
   ]
  },
  {
   "cell_type": "code",
   "execution_count": 33,
   "id": "bf2d90f2",
   "metadata": {
    "ExecuteTime": {
     "end_time": "2022-09-21T20:41:33.861815Z",
     "start_time": "2022-09-21T20:41:33.737074Z"
    }
   },
   "outputs": [
    {
     "data": {
      "image/png": "[encoded data removed]",
      "text/plain": [
       "<Figure size 1080x360 with 1 Axes>"
      ]
     },
     "metadata": {},
     "output_type": "display_data"
    }
   ],
   "source": [
    "# Setting rcParams :\n",
    "plt.rcParams['figure.figsize'] = (15, 5)\n",
    "\n",
    "# Grouping data :\n",
    "a2d1 = df_r.groupby([pd.Grouper(key='r_date', freq='M')]).r_amount.mean().fillna(value=0)\n",
    "\n",
    "# Setting Index :\n",
    "a2d1.index.name = 'Months'\n",
    "\n",
    "# Plotting data :\n",
    "g = a2d1.plot(kind='line', marker='o', linewidth=2, color='#68217a')\n",
    "plt.grid(True, axis='y', linewidth=0.75, linestyle='-')\n",
    "\n",
    "# Plotting average line :\n",
    "plt.hlines(y=a2d['avg_repayment'].mean(), xmin='2004-1', xmax='2006-12', colors='r')\n",
    "\n",
    "# Setting y-axis and Title:\n",
    "plt.ylabel('Average Repayments')\n",
    "g.set_title('\\nAverage Repayments Trends', pad=20, fontdict={'fontsize': 18, 'fontweight': 'bold'})\n",
    "\n",
    "plt.show()"
   ]
  },
  {
   "cell_type": "markdown",
   "id": "88e8720c",
   "metadata": {},
   "source": [
    "### e. If the monthly rate of interest is 2.9%, what is the profit for the bank for each month?"
   ]
  },
  {
   "cell_type": "code",
   "execution_count": 34,
   "id": "c9a1e51e",
   "metadata": {
    "ExecuteTime": {
     "end_time": "2022-09-21T20:41:33.892876Z",
     "start_time": "2022-09-21T20:41:33.862993Z"
    }
   },
   "outputs": [
    {
     "data": {
      "text/html": [
       "<div>\n",
       "<style scoped>\n",
       "    .dataframe tbody tr th:only-of-type {\n",
       "        vertical-align: middle;\n",
       "    }\n",
       "\n",
       "    .dataframe tbody tr th {\n",
       "        vertical-align: top;\n",
       "    }\n",
       "\n",
       "    .dataframe thead tr th {\n",
       "        text-align: left;\n",
       "    }\n",
       "\n",
       "    .dataframe thead tr:last-of-type th {\n",
       "        text-align: right;\n",
       "    }\n",
       "</style>\n",
       "<table border=\"1\" class=\"dataframe\">\n",
       "  <thead>\n",
       "    <tr>\n",
       "      <th></th>\n",
       "      <th colspan=\"12\" halign=\"left\">profit</th>\n",
       "    </tr>\n",
       "    <tr>\n",
       "      <th>Months</th>\n",
       "      <th>1</th>\n",
       "      <th>2</th>\n",
       "      <th>3</th>\n",
       "      <th>4</th>\n",
       "      <th>5</th>\n",
       "      <th>6</th>\n",
       "      <th>7</th>\n",
       "      <th>8</th>\n",
       "      <th>9</th>\n",
       "      <th>10</th>\n",
       "      <th>11</th>\n",
       "      <th>12</th>\n",
       "    </tr>\n",
       "    <tr>\n",
       "      <th>Years</th>\n",
       "      <th></th>\n",
       "      <th></th>\n",
       "      <th></th>\n",
       "      <th></th>\n",
       "      <th></th>\n",
       "      <th></th>\n",
       "      <th></th>\n",
       "      <th></th>\n",
       "      <th></th>\n",
       "      <th></th>\n",
       "      <th></th>\n",
       "      <th></th>\n",
       "    </tr>\n",
       "  </thead>\n",
       "  <tbody>\n",
       "    <tr>\n",
       "      <th>2004</th>\n",
       "      <td>0.00</td>\n",
       "      <td>17,526.22</td>\n",
       "      <td>45,139.49</td>\n",
       "      <td>11,412.48</td>\n",
       "      <td>43,249.25</td>\n",
       "      <td>0.00</td>\n",
       "      <td>0.00</td>\n",
       "      <td>0.00</td>\n",
       "      <td>4,097.34</td>\n",
       "      <td>0.00</td>\n",
       "      <td>8,956.59</td>\n",
       "      <td>0.00</td>\n",
       "    </tr>\n",
       "    <tr>\n",
       "      <th>2005</th>\n",
       "      <td>19,148.62</td>\n",
       "      <td>0.00</td>\n",
       "      <td>0.00</td>\n",
       "      <td>0.00</td>\n",
       "      <td>243,668.54</td>\n",
       "      <td>0.00</td>\n",
       "      <td>0.00</td>\n",
       "      <td>40,776.64</td>\n",
       "      <td>0.00</td>\n",
       "      <td>12,251.30</td>\n",
       "      <td>33,840.68</td>\n",
       "      <td>19,538.18</td>\n",
       "    </tr>\n",
       "    <tr>\n",
       "      <th>2006</th>\n",
       "      <td>4,019.01</td>\n",
       "      <td>49,009.42</td>\n",
       "      <td>80,701.72</td>\n",
       "      <td>17,581.19</td>\n",
       "      <td>211,395.57</td>\n",
       "      <td>20,534.60</td>\n",
       "      <td>23,612.63</td>\n",
       "      <td>0.00</td>\n",
       "      <td>0.00</td>\n",
       "      <td>18,413.92</td>\n",
       "      <td>4,489.59</td>\n",
       "      <td>0.00</td>\n",
       "    </tr>\n",
       "  </tbody>\n",
       "</table>\n",
       "</div>"
      ],
      "text/plain": [
       "          profit                                                               \\\n",
       "Months        1         2         3         4          5         6         7    \n",
       "Years                                                                           \n",
       "2004        0.00 17,526.22 45,139.49 11,412.48  43,249.25      0.00      0.00   \n",
       "2005   19,148.62      0.00      0.00      0.00 243,668.54      0.00      0.00   \n",
       "2006    4,019.01 49,009.42 80,701.72 17,581.19 211,395.57 20,534.60 23,612.63   \n",
       "\n",
       "                                                         \n",
       "Months        8        9         10        11        12  \n",
       "Years                                                    \n",
       "2004        0.00 4,097.34      0.00  8,956.59      0.00  \n",
       "2005   40,776.64     0.00 12,251.30 33,840.68 19,538.18  \n",
       "2006        0.00     0.00 18,413.92  4,489.59      0.00  "
      ]
     },
     "execution_count": 34,
     "metadata": {},
     "output_type": "execute_result"
    }
   ],
   "source": [
    "# Creating an empty dataframe for Profit :\n",
    "df_p = pd.DataFrame()\n",
    "\n",
    "# Calculating Monthly Profit as `Monthly Profit = Monthly repayment – Monthly spend` :\n",
    "df_p['monthly_profit'] = (df_r.groupby([pd.Grouper(key='r_date', freq='M')]).r_amount.sum() - \n",
    "                          df_s.groupby([pd.Grouper(key='s_date', freq='M')]).s_amount.sum())\n",
    "\n",
    "# Calculating Profits for all Positive `Monthly Profits` with 2.9% Interest :\n",
    "df_p['profit'] = df_p['monthly_profit'].apply(lambda x: x*0.029 if x > 0 else 0)\n",
    "\n",
    "# Fixing Index :\n",
    "df_p.index.name = 'Months'\n",
    "a2e = df_p.loc[:,'profit'].reset_index()\n",
    "a2e['Years'], a2e['Months'] = a2e.Months.dt.year, a2e.Months.dt.month\n",
    "a2e.set_index(['Years', 'Months'], inplace=True, verify_integrity=True)\n",
    "\n",
    "# Unstacking the dataframe for better view :\n",
    "a2e.unstack()"
   ]
  },
  {
   "cell_type": "markdown",
   "id": "43ce6c13",
   "metadata": {},
   "source": [
    "#### Profits [Trend]"
   ]
  },
  {
   "cell_type": "code",
   "execution_count": 35,
   "id": "392484f5",
   "metadata": {
    "ExecuteTime": {
     "end_time": "2022-09-21T20:41:34.032111Z",
     "start_time": "2022-09-21T20:41:33.894515Z"
    },
    "scrolled": false
   },
   "outputs": [
    {
     "data": {
      "image/png": "[encoded data removed]",
      "text/plain": [
       "<Figure size 1080x360 with 1 Axes>"
      ]
     },
     "metadata": {},
     "output_type": "display_data"
    }
   ],
   "source": [
    "# Setting rcParams :\n",
    "plt.rcParams['figure.figsize'] = (15, 5)\n",
    "\n",
    "# Plotting data :\n",
    "g = df_p.profit.plot(kind='line', marker='o', linewidth=2, color='#005a37')\n",
    "plt.grid(True, axis='y', linewidth=0.75, linestyle='-')\n",
    "\n",
    "# Plotting average line :\n",
    "plt.hlines(y=df_p.profit.mean(), xmin='2004-1', xmax='2006-12', colors='#00c880')\n",
    "\n",
    "# Setting y-axis and Title:\n",
    "plt.ylabel('Profit')\n",
    "g.set_title('\\nProfit Trends', pad=20, fontdict={'fontsize': 18, 'fontweight': 'bold'})\n",
    "\n",
    "plt.show()"
   ]
  },
  {
   "cell_type": "markdown",
   "id": "d2b9565e",
   "metadata": {},
   "source": [
    "### f. What are the top 5 product types?"
   ]
  },
  {
   "cell_type": "code",
   "execution_count": 36,
   "id": "223b8245",
   "metadata": {
    "ExecuteTime": {
     "end_time": "2022-09-21T20:41:34.048185Z",
     "start_time": "2022-09-21T20:41:34.033106Z"
    }
   },
   "outputs": [
    {
     "data": {
      "text/html": [
       "<div>\n",
       "<style scoped>\n",
       "    .dataframe tbody tr th:only-of-type {\n",
       "        vertical-align: middle;\n",
       "    }\n",
       "\n",
       "    .dataframe tbody tr th {\n",
       "        vertical-align: top;\n",
       "    }\n",
       "\n",
       "    .dataframe thead th {\n",
       "        text-align: right;\n",
       "    }\n",
       "</style>\n",
       "<table border=\"1\" class=\"dataframe\">\n",
       "  <thead>\n",
       "    <tr style=\"text-align: right;\">\n",
       "      <th></th>\n",
       "      <th>Total_Spends</th>\n",
       "      <th>Freq</th>\n",
       "    </tr>\n",
       "    <tr>\n",
       "      <th>type</th>\n",
       "      <th></th>\n",
       "      <th></th>\n",
       "    </tr>\n",
       "  </thead>\n",
       "  <tbody>\n",
       "    <tr>\n",
       "      <th>PETRO</th>\n",
       "      <td>31,067,654.25</td>\n",
       "      <td>200</td>\n",
       "    </tr>\n",
       "    <tr>\n",
       "      <th>CAMERA</th>\n",
       "      <td>28,648,003.90</td>\n",
       "      <td>160</td>\n",
       "    </tr>\n",
       "    <tr>\n",
       "      <th>FOOD</th>\n",
       "      <td>24,404,427.66</td>\n",
       "      <td>160</td>\n",
       "    </tr>\n",
       "    <tr>\n",
       "      <th>AIR TICKET</th>\n",
       "      <td>23,780,680.62</td>\n",
       "      <td>147</td>\n",
       "    </tr>\n",
       "    <tr>\n",
       "      <th>TRAIN TICKET</th>\n",
       "      <td>19,610,407.82</td>\n",
       "      <td>132</td>\n",
       "    </tr>\n",
       "  </tbody>\n",
       "</table>\n",
       "</div>"
      ],
      "text/plain": [
       "              Total_Spends  Freq\n",
       "type                            \n",
       "PETRO        31,067,654.25   200\n",
       "CAMERA       28,648,003.90   160\n",
       "FOOD         24,404,427.66   160\n",
       "AIR TICKET   23,780,680.62   147\n",
       "TRAIN TICKET 19,610,407.82   132"
      ]
     },
     "execution_count": 36,
     "metadata": {},
     "output_type": "execute_result"
    }
   ],
   "source": [
    "a2f = (df_s.groupby('type')\n",
    "           .agg(Total_Spends=pd.NamedAgg('s_amount', 'sum'), Freq=pd.NamedAgg('s_amount', 'count'))\n",
    "           .sort_values(by='Total_Spends', ascending=False))\n",
    "a2f.iloc[0:5]"
   ]
  },
  {
   "cell_type": "markdown",
   "id": "acba183d",
   "metadata": {},
   "source": [
    "### g. Which city is having maximum spend?"
   ]
  },
  {
   "cell_type": "code",
   "execution_count": 37,
   "id": "2a888995",
   "metadata": {
    "ExecuteTime": {
     "end_time": "2022-09-21T20:41:34.063648Z",
     "start_time": "2022-09-21T20:41:34.049209Z"
    }
   },
   "outputs": [
    {
     "data": {
      "text/html": [
       "<div>\n",
       "<style scoped>\n",
       "    .dataframe tbody tr th:only-of-type {\n",
       "        vertical-align: middle;\n",
       "    }\n",
       "\n",
       "    .dataframe tbody tr th {\n",
       "        vertical-align: top;\n",
       "    }\n",
       "\n",
       "    .dataframe thead th {\n",
       "        text-align: right;\n",
       "    }\n",
       "</style>\n",
       "<table border=\"1\" class=\"dataframe\">\n",
       "  <thead>\n",
       "    <tr style=\"text-align: right;\">\n",
       "      <th></th>\n",
       "      <th>Total_Spends</th>\n",
       "    </tr>\n",
       "    <tr>\n",
       "      <th>city</th>\n",
       "      <th></th>\n",
       "    </tr>\n",
       "  </thead>\n",
       "  <tbody>\n",
       "    <tr>\n",
       "      <th>COCHIN</th>\n",
       "      <td>48,574,542.86</td>\n",
       "    </tr>\n",
       "  </tbody>\n",
       "</table>\n",
       "</div>"
      ],
      "text/plain": [
       "        Total_Spends\n",
       "city                \n",
       "COCHIN 48,574,542.86"
      ]
     },
     "execution_count": 37,
     "metadata": {},
     "output_type": "execute_result"
    }
   ],
   "source": [
    "a2g = (df_s.groupby('city')\n",
    "           .agg(Total_Spends=pd.NamedAgg('s_amount', 'sum'))\n",
    "           .sort_values(by='Total_Spends', ascending=False))\n",
    "a2g.iloc[0:1]"
   ]
  },
  {
   "cell_type": "markdown",
   "id": "3ca6ada0",
   "metadata": {},
   "source": [
    "### h. Which age group is spending more money?"
   ]
  },
  {
   "cell_type": "code",
   "execution_count": 38,
   "id": "235035e6",
   "metadata": {
    "ExecuteTime": {
     "end_time": "2022-09-21T20:41:34.094374Z",
     "start_time": "2022-09-21T20:41:34.065673Z"
    }
   },
   "outputs": [
    {
     "data": {
      "text/html": [
       "<div>\n",
       "<style scoped>\n",
       "    .dataframe tbody tr th:only-of-type {\n",
       "        vertical-align: middle;\n",
       "    }\n",
       "\n",
       "    .dataframe tbody tr th {\n",
       "        vertical-align: top;\n",
       "    }\n",
       "\n",
       "    .dataframe thead th {\n",
       "        text-align: right;\n",
       "    }\n",
       "</style>\n",
       "<table border=\"1\" class=\"dataframe\">\n",
       "  <thead>\n",
       "    <tr style=\"text-align: right;\">\n",
       "      <th></th>\n",
       "      <th>Total_Spends</th>\n",
       "    </tr>\n",
       "    <tr>\n",
       "      <th>Age_Group</th>\n",
       "      <th></th>\n",
       "    </tr>\n",
       "  </thead>\n",
       "  <tbody>\n",
       "    <tr>\n",
       "      <th>(43.0, 55.0]</th>\n",
       "      <td>67,694,415.81</td>\n",
       "    </tr>\n",
       "    <tr>\n",
       "      <th>(19.0, 31.0]</th>\n",
       "      <td>58,978,083.02</td>\n",
       "    </tr>\n",
       "    <tr>\n",
       "      <th>(31.0, 43.0]</th>\n",
       "      <td>46,961,731.02</td>\n",
       "    </tr>\n",
       "    <tr>\n",
       "      <th>(67.0, 79.0]</th>\n",
       "      <td>31,107,991.60</td>\n",
       "    </tr>\n",
       "    <tr>\n",
       "      <th>(55.0, 67.0]</th>\n",
       "      <td>23,986,376.53</td>\n",
       "    </tr>\n",
       "  </tbody>\n",
       "</table>\n",
       "</div>"
      ],
      "text/plain": [
       "              Total_Spends\n",
       "Age_Group                 \n",
       "(43.0, 55.0] 67,694,415.81\n",
       "(19.0, 31.0] 58,978,083.02\n",
       "(31.0, 43.0] 46,961,731.02\n",
       "(67.0, 79.0] 31,107,991.60\n",
       "(55.0, 67.0] 23,986,376.53"
      ]
     },
     "execution_count": 38,
     "metadata": {},
     "output_type": "execute_result"
    }
   ],
   "source": [
    "# Creating bins as different Age Groups \n",
    "a2h = (df_s.groupby(pd.cut(df_s['age'], bins=5, precision=0))\n",
    "           .agg(Total_Spends=pd.NamedAgg('s_amount', 'sum'))\n",
    "           .sort_values(by='Total_Spends', ascending=False))\n",
    "a2h.index.name = 'Age_Group'\n",
    "a2h"
   ]
  },
  {
   "cell_type": "markdown",
   "id": "9803c8c8",
   "metadata": {},
   "source": [
    "Clearly, the customers belonging to the age group of **(43 - 55]** are spending maximum. "
   ]
  },
  {
   "cell_type": "markdown",
   "id": "3dc07350",
   "metadata": {},
   "source": [
    "### i. Who are the top 10 customers in terms of repayment?"
   ]
  },
  {
   "cell_type": "code",
   "execution_count": 39,
   "id": "a746e2f0",
   "metadata": {
    "ExecuteTime": {
     "end_time": "2022-09-21T20:41:34.109825Z",
     "start_time": "2022-09-21T20:41:34.095412Z"
    }
   },
   "outputs": [
    {
     "data": {
      "text/html": [
       "<div>\n",
       "<style scoped>\n",
       "    .dataframe tbody tr th:only-of-type {\n",
       "        vertical-align: middle;\n",
       "    }\n",
       "\n",
       "    .dataframe tbody tr th {\n",
       "        vertical-align: top;\n",
       "    }\n",
       "\n",
       "    .dataframe thead th {\n",
       "        text-align: right;\n",
       "    }\n",
       "</style>\n",
       "<table border=\"1\" class=\"dataframe\">\n",
       "  <thead>\n",
       "    <tr style=\"text-align: right;\">\n",
       "      <th></th>\n",
       "      <th>Total_Repayments</th>\n",
       "    </tr>\n",
       "    <tr>\n",
       "      <th>customer</th>\n",
       "      <th></th>\n",
       "    </tr>\n",
       "  </thead>\n",
       "  <tbody>\n",
       "    <tr>\n",
       "      <th>A61</th>\n",
       "      <td>9,672,793.52</td>\n",
       "    </tr>\n",
       "    <tr>\n",
       "      <th>A60</th>\n",
       "      <td>9,168,149.95</td>\n",
       "    </tr>\n",
       "    <tr>\n",
       "      <th>A42</th>\n",
       "      <td>8,928,473.48</td>\n",
       "    </tr>\n",
       "    <tr>\n",
       "      <th>A13</th>\n",
       "      <td>8,496,395.78</td>\n",
       "    </tr>\n",
       "    <tr>\n",
       "      <th>A38</th>\n",
       "      <td>8,205,336.50</td>\n",
       "    </tr>\n",
       "    <tr>\n",
       "      <th>A43</th>\n",
       "      <td>7,976,031.15</td>\n",
       "    </tr>\n",
       "    <tr>\n",
       "      <th>A40</th>\n",
       "      <td>7,671,795.78</td>\n",
       "    </tr>\n",
       "    <tr>\n",
       "      <th>A14</th>\n",
       "      <td>7,655,254.89</td>\n",
       "    </tr>\n",
       "    <tr>\n",
       "      <th>A44</th>\n",
       "      <td>7,637,481.58</td>\n",
       "    </tr>\n",
       "    <tr>\n",
       "      <th>A26</th>\n",
       "      <td>7,472,188.59</td>\n",
       "    </tr>\n",
       "  </tbody>\n",
       "</table>\n",
       "</div>"
      ],
      "text/plain": [
       "          Total_Repayments\n",
       "customer                  \n",
       "A61           9,672,793.52\n",
       "A60           9,168,149.95\n",
       "A42           8,928,473.48\n",
       "A13           8,496,395.78\n",
       "A38           8,205,336.50\n",
       "A43           7,976,031.15\n",
       "A40           7,671,795.78\n",
       "A14           7,655,254.89\n",
       "A44           7,637,481.58\n",
       "A26           7,472,188.59"
      ]
     },
     "execution_count": 39,
     "metadata": {},
     "output_type": "execute_result"
    }
   ],
   "source": [
    "a2i = (df_r.groupby('customer')\n",
    "           .agg(Total_Repayments=pd.NamedAgg('r_amount', 'sum'))\n",
    "           .sort_values(by='Total_Repayments', ascending=False))\n",
    "a2i.iloc[0:10]"
   ]
  },
  {
   "cell_type": "markdown",
   "id": "f71ae173",
   "metadata": {},
   "source": [
    "## Q3"
   ]
  },
  {
   "cell_type": "markdown",
   "id": "99b4f1c9",
   "metadata": {},
   "source": [
    "> 3. Calculate the city wise spend on each product on yearly basis. Also include a graphical\n",
    "representation for the same."
   ]
  },
  {
   "cell_type": "markdown",
   "id": "96173811",
   "metadata": {},
   "source": [
    "### Preparing the dataframe"
   ]
  },
  {
   "cell_type": "code",
   "execution_count": 40,
   "id": "a7f5fc1e",
   "metadata": {
    "ExecuteTime": {
     "end_time": "2022-09-21T20:41:34.140441Z",
     "start_time": "2022-09-21T20:41:34.110858Z"
    }
   },
   "outputs": [
    {
     "data": {
      "text/html": [
       "<div>\n",
       "<style scoped>\n",
       "    .dataframe tbody tr th:only-of-type {\n",
       "        vertical-align: middle;\n",
       "    }\n",
       "\n",
       "    .dataframe tbody tr th {\n",
       "        vertical-align: top;\n",
       "    }\n",
       "\n",
       "    .dataframe thead tr th {\n",
       "        text-align: left;\n",
       "    }\n",
       "\n",
       "    .dataframe thead tr:last-of-type th {\n",
       "        text-align: right;\n",
       "    }\n",
       "</style>\n",
       "<table border=\"1\" class=\"dataframe\">\n",
       "  <thead>\n",
       "    <tr>\n",
       "      <th></th>\n",
       "      <th></th>\n",
       "      <th colspan=\"8\" halign=\"left\">Total_Spends</th>\n",
       "    </tr>\n",
       "    <tr>\n",
       "      <th></th>\n",
       "      <th>City</th>\n",
       "      <th>BANGALORE</th>\n",
       "      <th>BOMBAY</th>\n",
       "      <th>CALCUTTA</th>\n",
       "      <th>CHENNAI</th>\n",
       "      <th>COCHIN</th>\n",
       "      <th>DELHI</th>\n",
       "      <th>PATNA</th>\n",
       "      <th>TRIVANDRUM</th>\n",
       "    </tr>\n",
       "    <tr>\n",
       "      <th>Year</th>\n",
       "      <th>Product</th>\n",
       "      <th></th>\n",
       "      <th></th>\n",
       "      <th></th>\n",
       "      <th></th>\n",
       "      <th></th>\n",
       "      <th></th>\n",
       "      <th></th>\n",
       "      <th></th>\n",
       "    </tr>\n",
       "  </thead>\n",
       "  <tbody>\n",
       "    <tr>\n",
       "      <th rowspan=\"3\" valign=\"top\">2004</th>\n",
       "      <th>Gold</th>\n",
       "      <td>9,870,697.48</td>\n",
       "      <td>6,221,750.00</td>\n",
       "      <td>8,643,979.18</td>\n",
       "      <td>1,415,072.88</td>\n",
       "      <td>9,730,434.55</td>\n",
       "      <td>3,467,979.09</td>\n",
       "      <td>1,915,473.34</td>\n",
       "      <td>2,272,699.66</td>\n",
       "    </tr>\n",
       "    <tr>\n",
       "      <th>Platinum</th>\n",
       "      <td>1,045,045.91</td>\n",
       "      <td>946,976.34</td>\n",
       "      <td>2,178,863.27</td>\n",
       "      <td>2,944,114.92</td>\n",
       "      <td>2,974,235.36</td>\n",
       "      <td>338,842.13</td>\n",
       "      <td>816,637.27</td>\n",
       "      <td>1,770,528.16</td>\n",
       "    </tr>\n",
       "    <tr>\n",
       "      <th>Silver</th>\n",
       "      <td>1,215,574.95</td>\n",
       "      <td>518,676.34</td>\n",
       "      <td>597,488.36</td>\n",
       "      <td>308,774.69</td>\n",
       "      <td>789,194.95</td>\n",
       "      <td>804,097.08</td>\n",
       "      <td>844,829.53</td>\n",
       "      <td>272,908.78</td>\n",
       "    </tr>\n",
       "    <tr>\n",
       "      <th rowspan=\"3\" valign=\"top\">2005</th>\n",
       "      <th>Gold</th>\n",
       "      <td>14,914,471.02</td>\n",
       "      <td>9,533,804.39</td>\n",
       "      <td>11,691,980.02</td>\n",
       "      <td>3,013,080.93</td>\n",
       "      <td>11,025,312.81</td>\n",
       "      <td>2,508,487.43</td>\n",
       "      <td>2,187,692.09</td>\n",
       "      <td>1,984,570.77</td>\n",
       "    </tr>\n",
       "    <tr>\n",
       "      <th>Platinum</th>\n",
       "      <td>885,722.61</td>\n",
       "      <td>836,008.47</td>\n",
       "      <td>4,822,990.05</td>\n",
       "      <td>5,243,051.17</td>\n",
       "      <td>4,151,462.73</td>\n",
       "      <td>443,619.82</td>\n",
       "      <td>2,534,969.17</td>\n",
       "      <td>3,401,178.64</td>\n",
       "    </tr>\n",
       "    <tr>\n",
       "      <th>Silver</th>\n",
       "      <td>909,077.89</td>\n",
       "      <td>572,757.22</td>\n",
       "      <td>343,259.51</td>\n",
       "      <td>428,758.51</td>\n",
       "      <td>643,789.22</td>\n",
       "      <td>493,446.15</td>\n",
       "      <td>949,455.26</td>\n",
       "      <td>372,614.29</td>\n",
       "    </tr>\n",
       "    <tr>\n",
       "      <th rowspan=\"3\" valign=\"top\">2006</th>\n",
       "      <th>Gold</th>\n",
       "      <td>13,121,349.45</td>\n",
       "      <td>10,196,028.75</td>\n",
       "      <td>9,571,088.34</td>\n",
       "      <td>3,057,965.84</td>\n",
       "      <td>12,628,278.51</td>\n",
       "      <td>3,535,699.84</td>\n",
       "      <td>2,424,509.41</td>\n",
       "      <td>2,827,396.99</td>\n",
       "    </tr>\n",
       "    <tr>\n",
       "      <th>Platinum</th>\n",
       "      <td>709,694.49</td>\n",
       "      <td>1,022,213.94</td>\n",
       "      <td>2,456,411.61</td>\n",
       "      <td>6,066,895.56</td>\n",
       "      <td>5,530,968.85</td>\n",
       "      <td>133,365.05</td>\n",
       "      <td>745,381.45</td>\n",
       "      <td>2,122,721.65</td>\n",
       "    </tr>\n",
       "    <tr>\n",
       "      <th>Silver</th>\n",
       "      <td>1,650,718.66</td>\n",
       "      <td>849,474.78</td>\n",
       "      <td>876,154.14</td>\n",
       "      <td>313,388.10</td>\n",
       "      <td>1,100,865.89</td>\n",
       "      <td>760,770.64</td>\n",
       "      <td>697,258.92</td>\n",
       "      <td>533,562.71</td>\n",
       "    </tr>\n",
       "  </tbody>\n",
       "</table>\n",
       "</div>"
      ],
      "text/plain": [
       "               Total_Spends                                           \\\n",
       "City              BANGALORE        BOMBAY      CALCUTTA      CHENNAI   \n",
       "Year Product                                                           \n",
       "2004 Gold      9,870,697.48  6,221,750.00  8,643,979.18 1,415,072.88   \n",
       "     Platinum  1,045,045.91    946,976.34  2,178,863.27 2,944,114.92   \n",
       "     Silver    1,215,574.95    518,676.34    597,488.36   308,774.69   \n",
       "2005 Gold     14,914,471.02  9,533,804.39 11,691,980.02 3,013,080.93   \n",
       "     Platinum    885,722.61    836,008.47  4,822,990.05 5,243,051.17   \n",
       "     Silver      909,077.89    572,757.22    343,259.51   428,758.51   \n",
       "2006 Gold     13,121,349.45 10,196,028.75  9,571,088.34 3,057,965.84   \n",
       "     Platinum    709,694.49  1,022,213.94  2,456,411.61 6,066,895.56   \n",
       "     Silver    1,650,718.66    849,474.78    876,154.14   313,388.10   \n",
       "\n",
       "                                                                    \n",
       "City                 COCHIN        DELHI        PATNA   TRIVANDRUM  \n",
       "Year Product                                                        \n",
       "2004 Gold      9,730,434.55 3,467,979.09 1,915,473.34 2,272,699.66  \n",
       "     Platinum  2,974,235.36   338,842.13   816,637.27 1,770,528.16  \n",
       "     Silver      789,194.95   804,097.08   844,829.53   272,908.78  \n",
       "2005 Gold     11,025,312.81 2,508,487.43 2,187,692.09 1,984,570.77  \n",
       "     Platinum  4,151,462.73   443,619.82 2,534,969.17 3,401,178.64  \n",
       "     Silver      643,789.22   493,446.15   949,455.26   372,614.29  \n",
       "2006 Gold     12,628,278.51 3,535,699.84 2,424,509.41 2,827,396.99  \n",
       "     Platinum  5,530,968.85   133,365.05   745,381.45 2,122,721.65  \n",
       "     Silver    1,100,865.89   760,770.64   697,258.92   533,562.71  "
      ]
     },
     "execution_count": 40,
     "metadata": {},
     "output_type": "execute_result"
    }
   ],
   "source": [
    "# Grouping data to get desired dataframe :\n",
    "df_sy0 = (df_s.groupby([pd.Grouper(key='s_date', freq='Y'), 'product', 'city'])\n",
    "         .agg(Total_Spends=pd.NamedAgg('s_amount', 'sum')))\n",
    "\n",
    "# Preparing the data for plotting :\n",
    "df_sy = df_sy0.reset_index()\n",
    "df_sy['year'] = df_sy.s_date.dt.year\n",
    "df_sy.drop(columns='s_date', inplace=True)\n",
    "\n",
    "# Fixing Indices\n",
    "df_sy0.index.set_levels([df_sy0.index.levels[0].strftime('%Y'),\n",
    "                         df_sy0.index.levels[1],\n",
    "                         df_sy0.index.levels[2]], inplace=True)\n",
    "df_sy0.index.set_names(['Year', 'Product', 'City'], inplace=True)\n",
    "\n",
    "# Unstacking the dataframe for better view :\n",
    "df_sy0.unstack()"
   ]
  },
  {
   "cell_type": "markdown",
   "id": "54a39034",
   "metadata": {},
   "source": [
    "### Plotting the data"
   ]
  },
  {
   "cell_type": "code",
   "execution_count": 41,
   "id": "334febdc",
   "metadata": {
    "ExecuteTime": {
     "end_time": "2022-09-21T20:41:35.229821Z",
     "start_time": "2022-09-21T20:41:34.141513Z"
    },
    "scrolled": false
   },
   "outputs": [
    {
     "data": {
      "image/png": "[encoded data removed]",
      "text/plain": [
       "<Figure size 994.25x594 with 9 Axes>"
      ]
     },
     "metadata": {},
     "output_type": "display_data"
    }
   ],
   "source": [
    "# Plotting\n",
    "sns.set(style='ticks', font_scale=1.25)\n",
    "g = sns.FacetGrid(data=df_sy, col='year', row='product', hue='product', size=2.75, margin_titles=True, \n",
    "                  palette=['#c29b0c', '#cbcac8', '#5e7e95'], aspect=1.5)\n",
    "g.map(sns.barplot, 'Total_Spends', 'city').add_legend()\n",
    "\n",
    "# Setting x-ticks :\n",
    "g.set(xticks=np.arange(0, 20000000, 5000000))\n",
    "g.set_xticklabels(np.arange(0, 20, 5))\n",
    "\n",
    "# Setting Titles & x, y labels :\n",
    "g.set_titles(col_template=\"{col_name}\", row_template=\"\")\n",
    "g.set_xlabels('')\n",
    "g.set_ylabels('')\n",
    "g.fig.text(x=0.35, y=-0.005, s='Total Spends / Year (in Millions)', fontdict={'fontsize': 20})\n",
    "g.fig.text(x=0.025, y=0.5, s='Cities', fontdict={'fontsize': 20}, rotation='vertical')\n",
    "g.fig.text(x=0.275, y=1.05, s='\\nCity-wise spend on each Product on Yearly basis', \n",
    "           fontdict={'fontsize': 20, 'fontweight':'bold'})\n",
    "\n",
    "# Annotation\n",
    "plt.xlim(0, 20000000)\n",
    "for ax in g.axes.ravel():\n",
    "    for container in ax.containers:\n",
    "        ax.bar_label(container, labels=[f'{x.get_width()/10**6:.2f}' for x in container], padding=5, fontsize=12)\n",
    "\n",
    "plt.show()"
   ]
  },
  {
   "cell_type": "markdown",
   "id": "ea6f8958",
   "metadata": {},
   "source": [
    "## Q4"
   ]
  },
  {
   "cell_type": "markdown",
   "id": "114c7e7c",
   "metadata": {},
   "source": [
    "> 4. Create graphs for\n",
    "    - a. Monthly comparison of total spends, city wise\n",
    "    - b. Comparison of yearly spend on air tickets\n",
    "    - c. Comparison of monthly spend for each product (look for any seasonality that exists in terms of spend)"
   ]
  },
  {
   "cell_type": "markdown",
   "id": "0801abf4",
   "metadata": {},
   "source": [
    "###  a. Monthly comparison of total spends, city wise"
   ]
  },
  {
   "cell_type": "markdown",
   "id": "e1b3e05e",
   "metadata": {},
   "source": [
    "#### Preparing the dataframe"
   ]
  },
  {
   "cell_type": "code",
   "execution_count": 42,
   "id": "a72d04ec",
   "metadata": {
    "ExecuteTime": {
     "end_time": "2022-09-21T20:41:35.275346Z",
     "start_time": "2022-09-21T20:41:35.230852Z"
    }
   },
   "outputs": [
    {
     "data": {
      "text/html": [
       "<div>\n",
       "<style scoped>\n",
       "    .dataframe tbody tr th:only-of-type {\n",
       "        vertical-align: middle;\n",
       "    }\n",
       "\n",
       "    .dataframe tbody tr th {\n",
       "        vertical-align: top;\n",
       "    }\n",
       "\n",
       "    .dataframe thead tr th {\n",
       "        text-align: left;\n",
       "    }\n",
       "\n",
       "    .dataframe thead tr:last-of-type th {\n",
       "        text-align: right;\n",
       "    }\n",
       "</style>\n",
       "<table border=\"1\" class=\"dataframe\">\n",
       "  <thead>\n",
       "    <tr>\n",
       "      <th></th>\n",
       "      <th></th>\n",
       "      <th colspan=\"8\" halign=\"left\">Total_Spend_per_Month</th>\n",
       "    </tr>\n",
       "    <tr>\n",
       "      <th></th>\n",
       "      <th>city</th>\n",
       "      <th>BANGALORE</th>\n",
       "      <th>BOMBAY</th>\n",
       "      <th>CALCUTTA</th>\n",
       "      <th>CHENNAI</th>\n",
       "      <th>COCHIN</th>\n",
       "      <th>DELHI</th>\n",
       "      <th>PATNA</th>\n",
       "      <th>TRIVANDRUM</th>\n",
       "    </tr>\n",
       "    <tr>\n",
       "      <th>Years</th>\n",
       "      <th>Months</th>\n",
       "      <th></th>\n",
       "      <th></th>\n",
       "      <th></th>\n",
       "      <th></th>\n",
       "      <th></th>\n",
       "      <th></th>\n",
       "      <th></th>\n",
       "      <th></th>\n",
       "    </tr>\n",
       "  </thead>\n",
       "  <tbody>\n",
       "    <tr>\n",
       "      <th rowspan=\"7\" valign=\"top\">2004</th>\n",
       "      <th>01</th>\n",
       "      <td>8,684,706.32</td>\n",
       "      <td>5,204,207.72</td>\n",
       "      <td>8,754,931.39</td>\n",
       "      <td>4,381,240.20</td>\n",
       "      <td>10,481,875.06</td>\n",
       "      <td>2,587,978.29</td>\n",
       "      <td>3,246,830.95</td>\n",
       "      <td>3,118,104.80</td>\n",
       "    </tr>\n",
       "    <tr>\n",
       "      <th>02</th>\n",
       "      <td>821,652.53</td>\n",
       "      <td>764,174.82</td>\n",
       "      <td>772,682.57</td>\n",
       "      <td>-</td>\n",
       "      <td>687,686.16</td>\n",
       "      <td>714,819.03</td>\n",
       "      <td>50,001.00</td>\n",
       "      <td>323,069.04</td>\n",
       "    </tr>\n",
       "    <tr>\n",
       "      <th>03</th>\n",
       "      <td>55,001.50</td>\n",
       "      <td>57,711.02</td>\n",
       "      <td>467,770.42</td>\n",
       "      <td>17,314.95</td>\n",
       "      <td>258,997.27</td>\n",
       "      <td>348,166.44</td>\n",
       "      <td>50,000.00</td>\n",
       "      <td>-</td>\n",
       "    </tr>\n",
       "    <tr>\n",
       "      <th>04</th>\n",
       "      <td>961,224.48</td>\n",
       "      <td>1,037,605.41</td>\n",
       "      <td>85,126.40</td>\n",
       "      <td>-</td>\n",
       "      <td>574,528.08</td>\n",
       "      <td>461,603.94</td>\n",
       "      <td>177,914.16</td>\n",
       "      <td>535,057.52</td>\n",
       "    </tr>\n",
       "    <tr>\n",
       "      <th>05</th>\n",
       "      <td>1,020,763.81</td>\n",
       "      <td>5,000.50</td>\n",
       "      <td>340,193.07</td>\n",
       "      <td>28,689.24</td>\n",
       "      <td>668,621.90</td>\n",
       "      <td>50,001.50</td>\n",
       "      <td>52,194.04</td>\n",
       "      <td>207,409.60</td>\n",
       "    </tr>\n",
       "    <tr>\n",
       "      <th>09</th>\n",
       "      <td>50,000.00</td>\n",
       "      <td>41,478.15</td>\n",
       "      <td>850,865.44</td>\n",
       "      <td>240,718.11</td>\n",
       "      <td>683,224.42</td>\n",
       "      <td>16,517.86</td>\n",
       "      <td>-</td>\n",
       "      <td>-</td>\n",
       "    </tr>\n",
       "    <tr>\n",
       "      <th>11</th>\n",
       "      <td>537,969.71</td>\n",
       "      <td>577,225.06</td>\n",
       "      <td>148,761.51</td>\n",
       "      <td>-</td>\n",
       "      <td>138,931.97</td>\n",
       "      <td>431,831.25</td>\n",
       "      <td>-</td>\n",
       "      <td>132,495.64</td>\n",
       "    </tr>\n",
       "    <tr>\n",
       "      <th rowspan=\"11\" valign=\"top\">2005</th>\n",
       "      <th>01</th>\n",
       "      <td>8,406.64</td>\n",
       "      <td>456,865.14</td>\n",
       "      <td>91,229.29</td>\n",
       "      <td>383,885.91</td>\n",
       "      <td>1,925,958.38</td>\n",
       "      <td>-</td>\n",
       "      <td>1,225,866.46</td>\n",
       "      <td>471,587.96</td>\n",
       "    </tr>\n",
       "    <tr>\n",
       "      <th>02</th>\n",
       "      <td>8,248,027.97</td>\n",
       "      <td>2,991,217.11</td>\n",
       "      <td>5,612,246.56</td>\n",
       "      <td>2,831,315.98</td>\n",
       "      <td>3,694,263.42</td>\n",
       "      <td>869,687.29</td>\n",
       "      <td>1,491,756.35</td>\n",
       "      <td>2,501,281.82</td>\n",
       "    </tr>\n",
       "    <tr>\n",
       "      <th>04</th>\n",
       "      <td>62,532.58</td>\n",
       "      <td>460,015.15</td>\n",
       "      <td>1,339,622.85</td>\n",
       "      <td>369,913.03</td>\n",
       "      <td>74,315.76</td>\n",
       "      <td>539,505.25</td>\n",
       "      <td>987,659.05</td>\n",
       "      <td>199,749.20</td>\n",
       "    </tr>\n",
       "    <tr>\n",
       "      <th>05</th>\n",
       "      <td>3,370,262.33</td>\n",
       "      <td>2,440,777.40</td>\n",
       "      <td>5,335,460.78</td>\n",
       "      <td>2,840,354.51</td>\n",
       "      <td>4,184,126.26</td>\n",
       "      <td>853,103.51</td>\n",
       "      <td>719,503.67</td>\n",
       "      <td>1,168,309.76</td>\n",
       "    </tr>\n",
       "    <tr>\n",
       "      <th>06</th>\n",
       "      <td>1,460,139.94</td>\n",
       "      <td>1,337,225.51</td>\n",
       "      <td>893,165.28</td>\n",
       "      <td>578,874.16</td>\n",
       "      <td>1,546,863.44</td>\n",
       "      <td>221,370.24</td>\n",
       "      <td>672,911.37</td>\n",
       "      <td>501,131.62</td>\n",
       "    </tr>\n",
       "    <tr>\n",
       "      <th>07</th>\n",
       "      <td>678,898.13</td>\n",
       "      <td>-</td>\n",
       "      <td>919,113.66</td>\n",
       "      <td>482,755.91</td>\n",
       "      <td>700,869.67</td>\n",
       "      <td>-</td>\n",
       "      <td>-</td>\n",
       "      <td>10,001.00</td>\n",
       "    </tr>\n",
       "    <tr>\n",
       "      <th>08</th>\n",
       "      <td>803,306.15</td>\n",
       "      <td>1,223,119.35</td>\n",
       "      <td>713,760.20</td>\n",
       "      <td>-</td>\n",
       "      <td>1,584,725.01</td>\n",
       "      <td>130,463.59</td>\n",
       "      <td>132,330.23</td>\n",
       "      <td>318,463.78</td>\n",
       "    </tr>\n",
       "    <tr>\n",
       "      <th>09</th>\n",
       "      <td>443,583.02</td>\n",
       "      <td>855,962.26</td>\n",
       "      <td>600,444.26</td>\n",
       "      <td>391,069.63</td>\n",
       "      <td>150,001.50</td>\n",
       "      <td>-</td>\n",
       "      <td>-</td>\n",
       "      <td>-</td>\n",
       "    </tr>\n",
       "    <tr>\n",
       "      <th>10</th>\n",
       "      <td>236,257.03</td>\n",
       "      <td>113,724.09</td>\n",
       "      <td>-</td>\n",
       "      <td>-</td>\n",
       "      <td>82,773.17</td>\n",
       "      <td>489,289.06</td>\n",
       "      <td>17,142.74</td>\n",
       "      <td>27,701.95</td>\n",
       "    </tr>\n",
       "    <tr>\n",
       "      <th>11</th>\n",
       "      <td>1,008,584.22</td>\n",
       "      <td>1,063,664.09</td>\n",
       "      <td>1,348,186.19</td>\n",
       "      <td>806,721.49</td>\n",
       "      <td>1,373,278.68</td>\n",
       "      <td>242,131.46</td>\n",
       "      <td>374,946.64</td>\n",
       "      <td>242,485.85</td>\n",
       "    </tr>\n",
       "    <tr>\n",
       "      <th>12</th>\n",
       "      <td>389,273.51</td>\n",
       "      <td>-</td>\n",
       "      <td>5,000.50</td>\n",
       "      <td>-</td>\n",
       "      <td>503,389.47</td>\n",
       "      <td>100,003.00</td>\n",
       "      <td>50,000.00</td>\n",
       "      <td>317,650.75</td>\n",
       "    </tr>\n",
       "    <tr>\n",
       "      <th rowspan=\"12\" valign=\"top\">2006</th>\n",
       "      <th>01</th>\n",
       "      <td>5,000.00</td>\n",
       "      <td>-</td>\n",
       "      <td>1,192,155.11</td>\n",
       "      <td>5,000.00</td>\n",
       "      <td>818,130.94</td>\n",
       "      <td>115,669.68</td>\n",
       "      <td>263,211.62</td>\n",
       "      <td>-</td>\n",
       "    </tr>\n",
       "    <tr>\n",
       "      <th>02</th>\n",
       "      <td>595,942.33</td>\n",
       "      <td>1,009,961.20</td>\n",
       "      <td>1,081,390.89</td>\n",
       "      <td>867,686.71</td>\n",
       "      <td>2,010,165.59</td>\n",
       "      <td>35,324.17</td>\n",
       "      <td>423,822.80</td>\n",
       "      <td>60,001.50</td>\n",
       "    </tr>\n",
       "    <tr>\n",
       "      <th>03</th>\n",
       "      <td>6,214,725.29</td>\n",
       "      <td>5,895,199.65</td>\n",
       "      <td>4,160,350.54</td>\n",
       "      <td>3,182,478.11</td>\n",
       "      <td>6,315,385.83</td>\n",
       "      <td>2,592,241.41</td>\n",
       "      <td>1,644,337.76</td>\n",
       "      <td>2,078,068.35</td>\n",
       "    </tr>\n",
       "    <tr>\n",
       "      <th>04</th>\n",
       "      <td>3,444,921.28</td>\n",
       "      <td>1,679,838.14</td>\n",
       "      <td>1,510,408.62</td>\n",
       "      <td>2,686,608.71</td>\n",
       "      <td>3,322,212.63</td>\n",
       "      <td>242,150.01</td>\n",
       "      <td>292,503.70</td>\n",
       "      <td>747,688.70</td>\n",
       "    </tr>\n",
       "    <tr>\n",
       "      <th>05</th>\n",
       "      <td>2,196,170.02</td>\n",
       "      <td>659,144.61</td>\n",
       "      <td>1,242,385.32</td>\n",
       "      <td>52,054.15</td>\n",
       "      <td>1,068,581.28</td>\n",
       "      <td>576,588.39</td>\n",
       "      <td>589,036.20</td>\n",
       "      <td>1,719,130.70</td>\n",
       "    </tr>\n",
       "    <tr>\n",
       "      <th>06</th>\n",
       "      <td>178,215.55</td>\n",
       "      <td>103,597.48</td>\n",
       "      <td>775,158.60</td>\n",
       "      <td>232,362.55</td>\n",
       "      <td>711,642.26</td>\n",
       "      <td>50,001.00</td>\n",
       "      <td>50,001.00</td>\n",
       "      <td>-</td>\n",
       "    </tr>\n",
       "    <tr>\n",
       "      <th>07</th>\n",
       "      <td>668,018.13</td>\n",
       "      <td>349,778.73</td>\n",
       "      <td>1,240,012.66</td>\n",
       "      <td>440,909.43</td>\n",
       "      <td>1,485,538.31</td>\n",
       "      <td>50,001.50</td>\n",
       "      <td>50,000.00</td>\n",
       "      <td>447,576.92</td>\n",
       "    </tr>\n",
       "    <tr>\n",
       "      <th>08</th>\n",
       "      <td>131,739.79</td>\n",
       "      <td>313,513.92</td>\n",
       "      <td>807,709.59</td>\n",
       "      <td>398,689.36</td>\n",
       "      <td>799,730.81</td>\n",
       "      <td>50,001.00</td>\n",
       "      <td>165,477.27</td>\n",
       "      <td>-</td>\n",
       "    </tr>\n",
       "    <tr>\n",
       "      <th>09</th>\n",
       "      <td>300,000.11</td>\n",
       "      <td>-</td>\n",
       "      <td>162,157.16</td>\n",
       "      <td>267,687.16</td>\n",
       "      <td>936,027.59</td>\n",
       "      <td>-</td>\n",
       "      <td>86,668.77</td>\n",
       "      <td>249,504.88</td>\n",
       "    </tr>\n",
       "    <tr>\n",
       "      <th>10</th>\n",
       "      <td>532,648.25</td>\n",
       "      <td>669,391.62</td>\n",
       "      <td>71,818.70</td>\n",
       "      <td>250,210.92</td>\n",
       "      <td>452,976.31</td>\n",
       "      <td>-</td>\n",
       "      <td>96,783.84</td>\n",
       "      <td>62,876.45</td>\n",
       "    </tr>\n",
       "    <tr>\n",
       "      <th>11</th>\n",
       "      <td>1,083,599.95</td>\n",
       "      <td>1,266,242.70</td>\n",
       "      <td>610,105.91</td>\n",
       "      <td>575,446.62</td>\n",
       "      <td>1,244,742.09</td>\n",
       "      <td>-</td>\n",
       "      <td>205,306.82</td>\n",
       "      <td>50,000.50</td>\n",
       "    </tr>\n",
       "    <tr>\n",
       "      <th>12</th>\n",
       "      <td>130,781.91</td>\n",
       "      <td>121,049.44</td>\n",
       "      <td>50,001.00</td>\n",
       "      <td>479,115.79</td>\n",
       "      <td>94,979.61</td>\n",
       "      <td>717,858.37</td>\n",
       "      <td>-</td>\n",
       "      <td>68,833.35</td>\n",
       "    </tr>\n",
       "  </tbody>\n",
       "</table>\n",
       "</div>"
      ],
      "text/plain": [
       "             Total_Spend_per_Month                                         \\\n",
       "city                     BANGALORE       BOMBAY     CALCUTTA      CHENNAI   \n",
       "Years Months                                                                \n",
       "2004  01              8,684,706.32 5,204,207.72 8,754,931.39 4,381,240.20   \n",
       "      02                821,652.53   764,174.82   772,682.57            -   \n",
       "      03                 55,001.50    57,711.02   467,770.42    17,314.95   \n",
       "      04                961,224.48 1,037,605.41    85,126.40            -   \n",
       "      05              1,020,763.81     5,000.50   340,193.07    28,689.24   \n",
       "      09                 50,000.00    41,478.15   850,865.44   240,718.11   \n",
       "      11                537,969.71   577,225.06   148,761.51            -   \n",
       "2005  01                  8,406.64   456,865.14    91,229.29   383,885.91   \n",
       "      02              8,248,027.97 2,991,217.11 5,612,246.56 2,831,315.98   \n",
       "      04                 62,532.58   460,015.15 1,339,622.85   369,913.03   \n",
       "      05              3,370,262.33 2,440,777.40 5,335,460.78 2,840,354.51   \n",
       "      06              1,460,139.94 1,337,225.51   893,165.28   578,874.16   \n",
       "      07                678,898.13            -   919,113.66   482,755.91   \n",
       "      08                803,306.15 1,223,119.35   713,760.20            -   \n",
       "      09                443,583.02   855,962.26   600,444.26   391,069.63   \n",
       "      10                236,257.03   113,724.09            -            -   \n",
       "      11              1,008,584.22 1,063,664.09 1,348,186.19   806,721.49   \n",
       "      12                389,273.51            -     5,000.50            -   \n",
       "2006  01                  5,000.00            - 1,192,155.11     5,000.00   \n",
       "      02                595,942.33 1,009,961.20 1,081,390.89   867,686.71   \n",
       "      03              6,214,725.29 5,895,199.65 4,160,350.54 3,182,478.11   \n",
       "      04              3,444,921.28 1,679,838.14 1,510,408.62 2,686,608.71   \n",
       "      05              2,196,170.02   659,144.61 1,242,385.32    52,054.15   \n",
       "      06                178,215.55   103,597.48   775,158.60   232,362.55   \n",
       "      07                668,018.13   349,778.73 1,240,012.66   440,909.43   \n",
       "      08                131,739.79   313,513.92   807,709.59   398,689.36   \n",
       "      09                300,000.11            -   162,157.16   267,687.16   \n",
       "      10                532,648.25   669,391.62    71,818.70   250,210.92   \n",
       "      11              1,083,599.95 1,266,242.70   610,105.91   575,446.62   \n",
       "      12                130,781.91   121,049.44    50,001.00   479,115.79   \n",
       "\n",
       "                                                                   \n",
       "city                COCHIN        DELHI        PATNA   TRIVANDRUM  \n",
       "Years Months                                                       \n",
       "2004  01     10,481,875.06 2,587,978.29 3,246,830.95 3,118,104.80  \n",
       "      02        687,686.16   714,819.03    50,001.00   323,069.04  \n",
       "      03        258,997.27   348,166.44    50,000.00            -  \n",
       "      04        574,528.08   461,603.94   177,914.16   535,057.52  \n",
       "      05        668,621.90    50,001.50    52,194.04   207,409.60  \n",
       "      09        683,224.42    16,517.86            -            -  \n",
       "      11        138,931.97   431,831.25            -   132,495.64  \n",
       "2005  01      1,925,958.38            - 1,225,866.46   471,587.96  \n",
       "      02      3,694,263.42   869,687.29 1,491,756.35 2,501,281.82  \n",
       "      04         74,315.76   539,505.25   987,659.05   199,749.20  \n",
       "      05      4,184,126.26   853,103.51   719,503.67 1,168,309.76  \n",
       "      06      1,546,863.44   221,370.24   672,911.37   501,131.62  \n",
       "      07        700,869.67            -            -    10,001.00  \n",
       "      08      1,584,725.01   130,463.59   132,330.23   318,463.78  \n",
       "      09        150,001.50            -            -            -  \n",
       "      10         82,773.17   489,289.06    17,142.74    27,701.95  \n",
       "      11      1,373,278.68   242,131.46   374,946.64   242,485.85  \n",
       "      12        503,389.47   100,003.00    50,000.00   317,650.75  \n",
       "2006  01        818,130.94   115,669.68   263,211.62            -  \n",
       "      02      2,010,165.59    35,324.17   423,822.80    60,001.50  \n",
       "      03      6,315,385.83 2,592,241.41 1,644,337.76 2,078,068.35  \n",
       "      04      3,322,212.63   242,150.01   292,503.70   747,688.70  \n",
       "      05      1,068,581.28   576,588.39   589,036.20 1,719,130.70  \n",
       "      06        711,642.26    50,001.00    50,001.00            -  \n",
       "      07      1,485,538.31    50,001.50    50,000.00   447,576.92  \n",
       "      08        799,730.81    50,001.00   165,477.27            -  \n",
       "      09        936,027.59            -    86,668.77   249,504.88  \n",
       "      10        452,976.31            -    96,783.84    62,876.45  \n",
       "      11      1,244,742.09            -   205,306.82    50,000.50  \n",
       "      12         94,979.61   717,858.37            -    68,833.35  "
      ]
     },
     "execution_count": 42,
     "metadata": {},
     "output_type": "execute_result"
    }
   ],
   "source": [
    "# Grouping data as per each month (years not combined):\n",
    "df_sm0 = (df_s.groupby([pd.Grouper(key='s_date', freq='M'), 'city'])\n",
    "         .agg(Total_Spend_per_Month=pd.NamedAgg('s_amount', 'sum'))\n",
    "         .reset_index())\n",
    "\n",
    "# Preparing data for plotting :\n",
    "df_sm = df_sm0.loc[0:,]\n",
    "df_sm['Months'] = df_sm.s_date.dt.strftime('%Y-%m')\n",
    "df_sm.drop(columns='s_date', inplace=True)\n",
    "\n",
    "\n",
    "# Organising data for better reprentation :\n",
    "df_sm0['Months'], df_sm0['Years'] = df_sm0.s_date.dt.strftime('%m'), df_sm0.s_date.dt.strftime('%Y')\n",
    "df_sm0.drop(columns='s_date', inplace=True)\n",
    "df_sm0.set_index(['Years', 'Months','city'], inplace=True)\n",
    "df_sm0 = df_sm0.unstack()\n",
    "df_sm0.fillna('-', inplace=True)\n",
    "df_sm0"
   ]
  },
  {
   "cell_type": "markdown",
   "id": "6c5729fd",
   "metadata": {},
   "source": [
    "#### Plotting the data [Trend]"
   ]
  },
  {
   "cell_type": "code",
   "execution_count": 43,
   "id": "283792a1",
   "metadata": {
    "ExecuteTime": {
     "end_time": "2022-09-21T20:41:35.571016Z",
     "start_time": "2022-09-21T20:41:35.276577Z"
    },
    "scrolled": false
   },
   "outputs": [
    {
     "data": {
      "image/png": "[encoded data removed]",
      "text/plain": [
       "<Figure size 1152x576 with 1 Axes>"
      ]
     },
     "metadata": {},
     "output_type": "display_data"
    }
   ],
   "source": [
    "# Setting rcParams :\n",
    "plt.rcParams['figure.figsize'] = (16, 8)\n",
    "\n",
    "# Plotting data :\n",
    "sns.set(style='ticks', font_scale=1.25)\n",
    "g = sns.lineplot(x='Months', y='Total_Spend_per_Month', hue='city', palette='Set1', \n",
    "                 marker='o',linewidth=1, data=df_sm)\n",
    "plt.grid(True, linewidth=0.5, linestyle='-')\n",
    "\n",
    "# Setting x, y ticks :\n",
    "plt.xticks(rotation=45)\n",
    "g.set(yticks=np.arange(0, 14000000, 2000000))\n",
    "g.set_yticklabels(np.arange(0, 14, 2))\n",
    "\n",
    "# Setting x, y labels, title :\n",
    "plt.xlabel('Months')\n",
    "plt.ylabel('Total Spends / Month (in Millions)')\n",
    "g.set_title('\\nMonthly comparison of total spends, city-wise (Years not combined)', \n",
    "            pad=30, fontdict={'fontsize': 20, 'fontweight': 'bold'})\n",
    "\n",
    "plt.show()"
   ]
  },
  {
   "cell_type": "markdown",
   "id": "1f7c2093",
   "metadata": {},
   "source": [
    "#### Plotting the data [Aggregated to months]"
   ]
  },
  {
   "cell_type": "code",
   "execution_count": 44,
   "id": "e3415a3a",
   "metadata": {
    "ExecuteTime": {
     "end_time": "2022-09-21T20:41:35.910974Z",
     "start_time": "2022-09-21T20:41:35.572055Z"
    },
    "scrolled": false
   },
   "outputs": [
    {
     "data": {
      "image/png": "[encoded data removed]",
      "text/plain": [
       "<Figure size 1152x576 with 1 Axes>"
      ]
     },
     "metadata": {},
     "output_type": "display_data"
    }
   ],
   "source": [
    "# Grouping data with each month (years combined) and each city :\n",
    "df_sma = (df_s.groupby([df_s.s_date.dt.month, 'city'])\n",
    "          .agg(Total_Spend_per_Month=pd.NamedAgg('s_amount', 'sum')).reset_index()\n",
    "          .rename(columns={'s_date': 'Months'}))\n",
    "\n",
    "# Setting rcParams :\n",
    "plt.rcParams['figure.figsize'] = (16, 8)\n",
    "\n",
    "# Plotting the data :\n",
    "sns.set(style='ticks', font_scale=1.25)\n",
    "g = sns.barplot(x='Months', y='Total_Spend_per_Month', hue='city', saturation=1, data=df_sma,\n",
    "                palette=['#7f00ff', '#171717', '#0101f9', '#01cc01', '#ffe22e', '#ff8041', '#fe0002', '#e27be2'])\n",
    "plt.grid(True, linewidth=0.5, linestyle='-')\n",
    "\n",
    "# Setting x, y ticks :\n",
    "g.set(xticks=np.arange(0, 12, 1))\n",
    "g.set_xticklabels(['Jan', 'Feb', 'Mar', 'Apr', 'May', 'Jun', 'Jul', 'Aug', 'Sep', 'Oct', 'Nov', 'Dec'])\n",
    "g.set(yticks=np.arange(0, 16000000, 2000000))\n",
    "g.set_yticklabels(np.arange(0, 16, 2))\n",
    "\n",
    "# Setting x, y labels, title :\n",
    "plt.xlabel('Months')\n",
    "plt.ylabel('Total Spends / Month (in Millions)')\n",
    "g.set_title('\\nMonthly comparison of total spends, city-wise (Years combined)', \n",
    "            pad=30, fontdict={'fontsize': 20, 'fontweight': 'bold'})\n",
    "\n",
    "\n",
    "plt.show()"
   ]
  },
  {
   "cell_type": "markdown",
   "id": "c02245ce",
   "metadata": {},
   "source": [
    "### b. Comparison of yearly spend on air tickets"
   ]
  },
  {
   "cell_type": "code",
   "execution_count": 45,
   "id": "e77241b7",
   "metadata": {
    "ExecuteTime": {
     "end_time": "2022-09-21T20:41:36.003793Z",
     "start_time": "2022-09-21T20:41:35.913394Z"
    }
   },
   "outputs": [
    {
     "data": {
      "image/png": "[encoded data removed]",
      "text/plain": [
       "<Figure size 432x360 with 1 Axes>"
      ]
     },
     "metadata": {},
     "output_type": "display_data"
    }
   ],
   "source": [
    "# Grouping the data yearwise after filtering for type = `AIR TICKET` :\n",
    "df_sy_at = (df_s.loc[df_s.type == 'AIR TICKET', :].groupby([df_s.s_date.dt.year])\n",
    "            .agg(Total_Spend_per_Year=pd.NamedAgg('s_amount', 'sum')).reset_index()\n",
    "            .rename(columns={'s_date': 'Years'}))\n",
    "\n",
    "# Plotting the data\n",
    "plt.rcParams['figure.figsize'] = (6, 5)\n",
    "sns.set(style='ticks', font_scale=1.5)\n",
    "g = sns.barplot(x='Years', y='Total_Spend_per_Year', saturation=1, data=df_sy_at)\n",
    "\n",
    "# Setting y-ticks :\n",
    "g.set(yticks=np.arange(0, 12000000, 2000000))\n",
    "g.set_yticklabels(np.arange(0, 12, 2))\n",
    "\n",
    "# Setting x, y labels, title :\n",
    "g.set_ylabel('Total Spends / Year\\n(in Millions)', labelpad=20)\n",
    "g.set_xlabel('Years', labelpad=20)\n",
    "g.set_title('\\nSpending on Air Tickets', pad=40, fontdict={'fontsize': 20, 'fontweight': 'bold'})\n",
    "\n",
    "# Annotation\n",
    "for container in g.containers:\n",
    "    g.bar_label(container, labels=[f'{x.get_height()/10**6:.2f}' for x in container], padding=5, fontsize=14)\n",
    "\n",
    "# Keeping only the axes :\n",
    "sns.despine()\n",
    "\n",
    "plt.show()"
   ]
  },
  {
   "cell_type": "markdown",
   "id": "d38afe32",
   "metadata": {},
   "source": [
    "### c. Comparison of monthly spend for each product (look for any seasonality that exists in terms of spend)"
   ]
  },
  {
   "cell_type": "code",
   "execution_count": 46,
   "id": "eb1e37e9",
   "metadata": {
    "ExecuteTime": {
     "end_time": "2022-09-21T20:41:36.221290Z",
     "start_time": "2022-09-21T20:41:36.004969Z"
    },
    "scrolled": false
   },
   "outputs": [
    {
     "data": {
      "image/png": "[encoded data removed]",
      "text/plain": [
       "<Figure size 1080x576 with 1 Axes>"
      ]
     },
     "metadata": {},
     "output_type": "display_data"
    }
   ],
   "source": [
    "# Grouping data for each product and months (years combined)\n",
    "df_s4c = (df_s.groupby([df_s.s_date.dt.month_name(locale='English'), 'product'])\n",
    "          .agg(Total_Spend_per_Month=pd.NamedAgg('s_amount', 'sum'))\n",
    "          .reset_index().rename(columns={'s_date': 'Months'}))\n",
    "\n",
    "# Setting rcParams :\n",
    "plt.rcParams['figure.figsize'] = (15, 8)\n",
    "sns.set(style='ticks', font_scale=1.35)\n",
    "\n",
    "# Creating hue_order as per months :\n",
    "hue_order = [\n",
    "    'January', 'February', 'March', 'April', 'May', 'June', 'July', 'August',\n",
    "    'September', 'October', 'November', 'December'\n",
    "]\n",
    "# Plotting data :\n",
    "g = sns.barplot(x='product', y='Total_Spend_per_Month', hue='Months',\n",
    "                saturation=1, hue_order=hue_order, data=df_s4c)\n",
    "plt.grid(True, linewidth=0.5, linestyle='-')\n",
    "\n",
    "# Setting x, y ticks, labels, title :\n",
    "g.set_xlabel('Products', fontdict={'fontsize': 18, 'fontweight': 'bold'}, labelpad=20)\n",
    "g.set(yticks=np.arange(0, 40000000, 5000000))\n",
    "g.set_yticklabels(np.arange(0, 40, 5))\n",
    "g.set_ylabel('Total Spends / Month\\n(in Millions)', fontdict={'fontsize': 18, 'fontweight': 'bold'}, labelpad=20)\n",
    "g.set_title('\\nComparison of monthly spend for each product (Years combined)', pad=30, \n",
    "            fontdict={'fontsize': 20, 'fontweight': 'bold'})\n",
    "\n",
    "plt.show()"
   ]
  },
  {
   "cell_type": "markdown",
   "id": "454dba34",
   "metadata": {
    "ExecuteTime": {
     "end_time": "2022-09-18T10:53:12.541065Z",
     "start_time": "2022-09-18T10:53:12.533290Z"
    }
   },
   "source": [
    "Yes, there exists seasonality in data. We can see from the above graph that the spends are high for all the\n",
    "Products at the beginning of the year i.e. January being the highest and then gradually decreases. Moreover,\n",
    "there is a local maxima in May as well as in the month of November and these seasonal trends (Jan-May :\n",
    "Higher Spends) are visible for all the products at different scales **(Gold > Platinum > Silver)**."
   ]
  },
  {
   "cell_type": "markdown",
   "id": "0b414d90",
   "metadata": {},
   "source": [
    "## Q5"
   ]
  },
  {
   "cell_type": "markdown",
   "id": "6f28d005",
   "metadata": {},
   "source": [
    "> 5. Write user defined PYTHON function to perform the following analysis:\n",
    "You need to find top 10 customers for each city in terms of their repayment amount by\n",
    "different products and by different time periods i.e. year or month. The user should be able\n",
    "to specify the product (Gold/Silver/Platinum) and time period (yearly or monthly) and the\n",
    "function should automatically take these inputs while identifying the top 10 customers."
   ]
  },
  {
   "cell_type": "markdown",
   "id": "bdf388bd",
   "metadata": {},
   "source": [
    "### Building the function"
   ]
  },
  {
   "cell_type": "code",
   "execution_count": 47,
   "id": "fe3637d6",
   "metadata": {
    "ExecuteTime": {
     "end_time": "2022-09-21T20:41:36.237316Z",
     "start_time": "2022-09-21T20:41:36.222304Z"
    },
    "scrolled": false
   },
   "outputs": [],
   "source": [
    "def top_customers(N):\n",
    "    '''\n",
    "    This fuction is built to find Top `N` customers for each city in terms of \n",
    "    their repayment amounts as per chosen Product Category and Time Period.\n",
    "    '''\n",
    "    # Taking the User Inputs :\n",
    "    pc = input('Enter Product Category [ Gold / Platinum / Silver ] : ').strip().capitalize()\n",
    "    tp = input('Enter Time Period [ Monthly / Yearly ] : ').strip().lower()\n",
    "\n",
    "    # Pre-calculation :\n",
    "    a5 = df_r.iloc[0:, ]\n",
    "    a5['monthly'] = a5.r_date.dt.month\n",
    "    a5['yearly'] = a5.r_date.dt.year    \n",
    "    \n",
    "    # Filtering the data :\n",
    "    a5_result = (a5[a5['product'] == pc]\n",
    "                 .groupby(['product', 'city', tp, 'customer'])\n",
    "                 .agg(Total_Repayment=pd.NamedAgg('r_amount', 'sum')))\n",
    "    \n",
    "    # Organising Data in proper order : \n",
    "    a5_result = a5_result.reset_index().sort_values(['product', 'city', tp, 'Total_Repayment'], \n",
    "                                                    ascending=[True, True, True, False])\n",
    "    \n",
    "    # Calculating Rank :\n",
    "    a5_result['Rank'] = (a5_result\n",
    "                         .groupby(['product', 'city', tp])['Total_Repayment']\n",
    "                         .rank(ascending=False, method='first').astype(int))\n",
    "    \n",
    "    # Reformating `Total_Repayment` column and Merging with `Customer` column :\n",
    "    a5_result['Customer : Repayment (Millions)'] = (\n",
    "        a5_result.customer + ' : '+ (a5_result.Total_Repayment / 10**6).round(2).astype(str))\n",
    "    \n",
    "    # Dropping the unnecessary columns :\n",
    "    a5_result.drop(columns=['customer','Total_Repayment'], inplace=True)\n",
    "    \n",
    "    # Getting only top N customers, Setting the Multi-Indices and Unstacking the dataframe for better view :\n",
    "    a5f = a5_result.loc[a5_result.Rank <= N, :].set_index(['product', 'city', tp, 'Rank']).unstack()\n",
    "    \n",
    "    # Formating Index Names :\n",
    "    a5f.index.names = map(lambda x:x.capitalize(), a5f.index.names)\n",
    "    \n",
    "    # Filling NaNs:\n",
    "    a5f.fillna(value='-', inplace=True)\n",
    "    \n",
    "    return a5f\n"
   ]
  },
  {
   "cell_type": "markdown",
   "id": "08321ee7",
   "metadata": {},
   "source": [
    "### Getting Top 10 Customers"
   ]
  },
  {
   "cell_type": "code",
   "execution_count": 48,
   "id": "78a9e451",
   "metadata": {
    "ExecuteTime": {
     "end_time": "2022-09-21T20:41:51.527144Z",
     "start_time": "2022-09-21T20:41:36.237747Z"
    },
    "scrolled": false
   },
   "outputs": [
    {
     "name": "stdout",
     "output_type": "stream",
     "text": [
      "Enter Product Category [ Gold / Platinum / Silver ] : gold\n",
      "Enter Time Period [ Monthly / Yearly ] : yearly\n"
     ]
    },
    {
     "data": {
      "text/html": [
       "<div>\n",
       "<style scoped>\n",
       "    .dataframe tbody tr th:only-of-type {\n",
       "        vertical-align: middle;\n",
       "    }\n",
       "\n",
       "    .dataframe tbody tr th {\n",
       "        vertical-align: top;\n",
       "    }\n",
       "\n",
       "    .dataframe thead tr th {\n",
       "        text-align: left;\n",
       "    }\n",
       "\n",
       "    .dataframe thead tr:last-of-type th {\n",
       "        text-align: right;\n",
       "    }\n",
       "</style>\n",
       "<table border=\"1\" class=\"dataframe\">\n",
       "  <thead>\n",
       "    <tr>\n",
       "      <th></th>\n",
       "      <th></th>\n",
       "      <th></th>\n",
       "      <th colspan=\"9\" halign=\"left\">Customer : Repayment (Millions)</th>\n",
       "    </tr>\n",
       "    <tr>\n",
       "      <th></th>\n",
       "      <th></th>\n",
       "      <th>Rank</th>\n",
       "      <th>1</th>\n",
       "      <th>2</th>\n",
       "      <th>3</th>\n",
       "      <th>4</th>\n",
       "      <th>5</th>\n",
       "      <th>6</th>\n",
       "      <th>7</th>\n",
       "      <th>8</th>\n",
       "      <th>9</th>\n",
       "    </tr>\n",
       "    <tr>\n",
       "      <th>Product</th>\n",
       "      <th>City</th>\n",
       "      <th>Yearly</th>\n",
       "      <th></th>\n",
       "      <th></th>\n",
       "      <th></th>\n",
       "      <th></th>\n",
       "      <th></th>\n",
       "      <th></th>\n",
       "      <th></th>\n",
       "      <th></th>\n",
       "      <th></th>\n",
       "    </tr>\n",
       "  </thead>\n",
       "  <tbody>\n",
       "    <tr>\n",
       "      <th rowspan=\"24\" valign=\"top\">Gold</th>\n",
       "      <th rowspan=\"3\" valign=\"top\">BANGALORE</th>\n",
       "      <th>2004</th>\n",
       "      <td>A14 : 2.47</td>\n",
       "      <td>A13 : 2.2</td>\n",
       "      <td>A43 : 2.08</td>\n",
       "      <td>A1 : 2.07</td>\n",
       "      <td>A30 : 1.49</td>\n",
       "      <td>A63 : 0.57</td>\n",
       "      <td>-</td>\n",
       "      <td>-</td>\n",
       "      <td>-</td>\n",
       "    </tr>\n",
       "    <tr>\n",
       "      <th>2005</th>\n",
       "      <td>A13 : 4.09</td>\n",
       "      <td>A43 : 2.85</td>\n",
       "      <td>A14 : 1.97</td>\n",
       "      <td>A30 : 1.74</td>\n",
       "      <td>A1 : 1.34</td>\n",
       "      <td>-</td>\n",
       "      <td>-</td>\n",
       "      <td>-</td>\n",
       "      <td>-</td>\n",
       "    </tr>\n",
       "    <tr>\n",
       "      <th>2006</th>\n",
       "      <td>A30 : 4.15</td>\n",
       "      <td>A14 : 3.21</td>\n",
       "      <td>A43 : 3.04</td>\n",
       "      <td>A13 : 2.21</td>\n",
       "      <td>A1 : 1.46</td>\n",
       "      <td>A88 : 0.42</td>\n",
       "      <td>A92 : 0.39</td>\n",
       "      <td>A81 : 0.25</td>\n",
       "      <td>A63 : 0.18</td>\n",
       "    </tr>\n",
       "    <tr>\n",
       "      <th rowspan=\"3\" valign=\"top\">BOMBAY</th>\n",
       "      <th>2004</th>\n",
       "      <td>A42 : 3.91</td>\n",
       "      <td>A12 : 2.11</td>\n",
       "      <td>A17 : 1.72</td>\n",
       "      <td>A62 : 1.2</td>\n",
       "      <td>-</td>\n",
       "      <td>-</td>\n",
       "      <td>-</td>\n",
       "      <td>-</td>\n",
       "      <td>-</td>\n",
       "    </tr>\n",
       "    <tr>\n",
       "      <th>2005</th>\n",
       "      <td>A42 : 3.2</td>\n",
       "      <td>A12 : 2.32</td>\n",
       "      <td>A62 : 1.67</td>\n",
       "      <td>A17 : 1.59</td>\n",
       "      <td>-</td>\n",
       "      <td>-</td>\n",
       "      <td>-</td>\n",
       "      <td>-</td>\n",
       "      <td>-</td>\n",
       "    </tr>\n",
       "    <tr>\n",
       "      <th>2006</th>\n",
       "      <td>A12 : 2.94</td>\n",
       "      <td>A17 : 2.43</td>\n",
       "      <td>A62 : 2.04</td>\n",
       "      <td>A42 : 1.82</td>\n",
       "      <td>A91 : 0.47</td>\n",
       "      <td>-</td>\n",
       "      <td>-</td>\n",
       "      <td>-</td>\n",
       "      <td>-</td>\n",
       "    </tr>\n",
       "    <tr>\n",
       "      <th rowspan=\"3\" valign=\"top\">CALCUTTA</th>\n",
       "      <th>2004</th>\n",
       "      <td>A60 : 2.54</td>\n",
       "      <td>A10 : 1.23</td>\n",
       "      <td>A15 : 0.85</td>\n",
       "      <td>A29 : 0.61</td>\n",
       "      <td>A31 : 0.28</td>\n",
       "      <td>-</td>\n",
       "      <td>-</td>\n",
       "      <td>-</td>\n",
       "      <td>-</td>\n",
       "    </tr>\n",
       "    <tr>\n",
       "      <th>2005</th>\n",
       "      <td>A60 : 3.71</td>\n",
       "      <td>A29 : 2.91</td>\n",
       "      <td>A10 : 2.26</td>\n",
       "      <td>A15 : 2.09</td>\n",
       "      <td>A31 : 0.91</td>\n",
       "      <td>-</td>\n",
       "      <td>-</td>\n",
       "      <td>-</td>\n",
       "      <td>-</td>\n",
       "    </tr>\n",
       "    <tr>\n",
       "      <th>2006</th>\n",
       "      <td>A29 : 2.97</td>\n",
       "      <td>A60 : 2.92</td>\n",
       "      <td>A15 : 2.88</td>\n",
       "      <td>A10 : 1.95</td>\n",
       "      <td>A31 : 1.41</td>\n",
       "      <td>A89 : 0.33</td>\n",
       "      <td>-</td>\n",
       "      <td>-</td>\n",
       "      <td>-</td>\n",
       "    </tr>\n",
       "    <tr>\n",
       "      <th rowspan=\"3\" valign=\"top\">CHENNAI</th>\n",
       "      <th>2004</th>\n",
       "      <td>A27 : 2.06</td>\n",
       "      <td>A67 : 0.05</td>\n",
       "      <td>-</td>\n",
       "      <td>-</td>\n",
       "      <td>-</td>\n",
       "      <td>-</td>\n",
       "      <td>-</td>\n",
       "      <td>-</td>\n",
       "      <td>-</td>\n",
       "    </tr>\n",
       "    <tr>\n",
       "      <th>2005</th>\n",
       "      <td>A27 : 2.4</td>\n",
       "      <td>A67 : 0.46</td>\n",
       "      <td>-</td>\n",
       "      <td>-</td>\n",
       "      <td>-</td>\n",
       "      <td>-</td>\n",
       "      <td>-</td>\n",
       "      <td>-</td>\n",
       "      <td>-</td>\n",
       "    </tr>\n",
       "    <tr>\n",
       "      <th>2006</th>\n",
       "      <td>A27 : 2.9</td>\n",
       "      <td>-</td>\n",
       "      <td>-</td>\n",
       "      <td>-</td>\n",
       "      <td>-</td>\n",
       "      <td>-</td>\n",
       "      <td>-</td>\n",
       "      <td>-</td>\n",
       "      <td>-</td>\n",
       "    </tr>\n",
       "    <tr>\n",
       "      <th rowspan=\"3\" valign=\"top\">COCHIN</th>\n",
       "      <th>2004</th>\n",
       "      <td>A61 : 2.54</td>\n",
       "      <td>A45 : 2.37</td>\n",
       "      <td>A16 : 0.82</td>\n",
       "      <td>A11 : 0.59</td>\n",
       "      <td>A32 : 0.41</td>\n",
       "      <td>A94 : 0.39</td>\n",
       "      <td>A65 : 0.06</td>\n",
       "      <td>-</td>\n",
       "      <td>-</td>\n",
       "    </tr>\n",
       "    <tr>\n",
       "      <th>2005</th>\n",
       "      <td>A61 : 3.82</td>\n",
       "      <td>A45 : 2.32</td>\n",
       "      <td>A16 : 1.8</td>\n",
       "      <td>A11 : 1.68</td>\n",
       "      <td>A32 : 0.77</td>\n",
       "      <td>A65 : 0.46</td>\n",
       "      <td>-</td>\n",
       "      <td>-</td>\n",
       "      <td>-</td>\n",
       "    </tr>\n",
       "    <tr>\n",
       "      <th>2006</th>\n",
       "      <td>A61 : 3.31</td>\n",
       "      <td>A32 : 2.53</td>\n",
       "      <td>A45 : 2.03</td>\n",
       "      <td>A11 : 1.99</td>\n",
       "      <td>A16 : 1.92</td>\n",
       "      <td>A90 : 0.17</td>\n",
       "      <td>-</td>\n",
       "      <td>-</td>\n",
       "      <td>-</td>\n",
       "    </tr>\n",
       "    <tr>\n",
       "      <th rowspan=\"3\" valign=\"top\">DELHI</th>\n",
       "      <th>2004</th>\n",
       "      <td>A44 : 2.04</td>\n",
       "      <td>A93 : 0.49</td>\n",
       "      <td>-</td>\n",
       "      <td>-</td>\n",
       "      <td>-</td>\n",
       "      <td>-</td>\n",
       "      <td>-</td>\n",
       "      <td>-</td>\n",
       "      <td>-</td>\n",
       "    </tr>\n",
       "    <tr>\n",
       "      <th>2005</th>\n",
       "      <td>A44 : 3.06</td>\n",
       "      <td>-</td>\n",
       "      <td>-</td>\n",
       "      <td>-</td>\n",
       "      <td>-</td>\n",
       "      <td>-</td>\n",
       "      <td>-</td>\n",
       "      <td>-</td>\n",
       "      <td>-</td>\n",
       "    </tr>\n",
       "    <tr>\n",
       "      <th>2006</th>\n",
       "      <td>A44 : 2.53</td>\n",
       "      <td>A64 : 0.56</td>\n",
       "      <td>A82 : 0.15</td>\n",
       "      <td>-</td>\n",
       "      <td>-</td>\n",
       "      <td>-</td>\n",
       "      <td>-</td>\n",
       "      <td>-</td>\n",
       "      <td>-</td>\n",
       "    </tr>\n",
       "    <tr>\n",
       "      <th rowspan=\"3\" valign=\"top\">PATNA</th>\n",
       "      <th>2004</th>\n",
       "      <td>A26 : 2.15</td>\n",
       "      <td>A95 : 0.38</td>\n",
       "      <td>A66 : 0.36</td>\n",
       "      <td>-</td>\n",
       "      <td>-</td>\n",
       "      <td>-</td>\n",
       "      <td>-</td>\n",
       "      <td>-</td>\n",
       "      <td>-</td>\n",
       "    </tr>\n",
       "    <tr>\n",
       "      <th>2005</th>\n",
       "      <td>A26 : 2.56</td>\n",
       "      <td>-</td>\n",
       "      <td>-</td>\n",
       "      <td>-</td>\n",
       "      <td>-</td>\n",
       "      <td>-</td>\n",
       "      <td>-</td>\n",
       "      <td>-</td>\n",
       "      <td>-</td>\n",
       "    </tr>\n",
       "    <tr>\n",
       "      <th>2006</th>\n",
       "      <td>A26 : 2.76</td>\n",
       "      <td>A66 : 0.27</td>\n",
       "      <td>-</td>\n",
       "      <td>-</td>\n",
       "      <td>-</td>\n",
       "      <td>-</td>\n",
       "      <td>-</td>\n",
       "      <td>-</td>\n",
       "      <td>-</td>\n",
       "    </tr>\n",
       "    <tr>\n",
       "      <th rowspan=\"3\" valign=\"top\">TRIVANDRUM</th>\n",
       "      <th>2004</th>\n",
       "      <td>A28 : 1.71</td>\n",
       "      <td>-</td>\n",
       "      <td>-</td>\n",
       "      <td>-</td>\n",
       "      <td>-</td>\n",
       "      <td>-</td>\n",
       "      <td>-</td>\n",
       "      <td>-</td>\n",
       "      <td>-</td>\n",
       "    </tr>\n",
       "    <tr>\n",
       "      <th>2005</th>\n",
       "      <td>A28 : 2.27</td>\n",
       "      <td>-</td>\n",
       "      <td>-</td>\n",
       "      <td>-</td>\n",
       "      <td>-</td>\n",
       "      <td>-</td>\n",
       "      <td>-</td>\n",
       "      <td>-</td>\n",
       "      <td>-</td>\n",
       "    </tr>\n",
       "    <tr>\n",
       "      <th>2006</th>\n",
       "      <td>A28 : 3.23</td>\n",
       "      <td>-</td>\n",
       "      <td>-</td>\n",
       "      <td>-</td>\n",
       "      <td>-</td>\n",
       "      <td>-</td>\n",
       "      <td>-</td>\n",
       "      <td>-</td>\n",
       "      <td>-</td>\n",
       "    </tr>\n",
       "  </tbody>\n",
       "</table>\n",
       "</div>"
      ],
      "text/plain": [
       "                          Customer : Repayment (Millions)              \\\n",
       "Rank                                                    1           2   \n",
       "Product City       Yearly                                               \n",
       "Gold    BANGALORE  2004                        A14 : 2.47   A13 : 2.2   \n",
       "                   2005                        A13 : 4.09  A43 : 2.85   \n",
       "                   2006                        A30 : 4.15  A14 : 3.21   \n",
       "        BOMBAY     2004                        A42 : 3.91  A12 : 2.11   \n",
       "                   2005                         A42 : 3.2  A12 : 2.32   \n",
       "                   2006                        A12 : 2.94  A17 : 2.43   \n",
       "        CALCUTTA   2004                        A60 : 2.54  A10 : 1.23   \n",
       "                   2005                        A60 : 3.71  A29 : 2.91   \n",
       "                   2006                        A29 : 2.97  A60 : 2.92   \n",
       "        CHENNAI    2004                        A27 : 2.06  A67 : 0.05   \n",
       "                   2005                         A27 : 2.4  A67 : 0.46   \n",
       "                   2006                         A27 : 2.9           -   \n",
       "        COCHIN     2004                        A61 : 2.54  A45 : 2.37   \n",
       "                   2005                        A61 : 3.82  A45 : 2.32   \n",
       "                   2006                        A61 : 3.31  A32 : 2.53   \n",
       "        DELHI      2004                        A44 : 2.04  A93 : 0.49   \n",
       "                   2005                        A44 : 3.06           -   \n",
       "                   2006                        A44 : 2.53  A64 : 0.56   \n",
       "        PATNA      2004                        A26 : 2.15  A95 : 0.38   \n",
       "                   2005                        A26 : 2.56           -   \n",
       "                   2006                        A26 : 2.76  A66 : 0.27   \n",
       "        TRIVANDRUM 2004                        A28 : 1.71           -   \n",
       "                   2005                        A28 : 2.27           -   \n",
       "                   2006                        A28 : 3.23           -   \n",
       "\n",
       "                                                                           \\\n",
       "Rank                                3           4           5           6   \n",
       "Product City       Yearly                                                   \n",
       "Gold    BANGALORE  2004    A43 : 2.08   A1 : 2.07  A30 : 1.49  A63 : 0.57   \n",
       "                   2005    A14 : 1.97  A30 : 1.74   A1 : 1.34           -   \n",
       "                   2006    A43 : 3.04  A13 : 2.21   A1 : 1.46  A88 : 0.42   \n",
       "        BOMBAY     2004    A17 : 1.72   A62 : 1.2           -           -   \n",
       "                   2005    A62 : 1.67  A17 : 1.59           -           -   \n",
       "                   2006    A62 : 2.04  A42 : 1.82  A91 : 0.47           -   \n",
       "        CALCUTTA   2004    A15 : 0.85  A29 : 0.61  A31 : 0.28           -   \n",
       "                   2005    A10 : 2.26  A15 : 2.09  A31 : 0.91           -   \n",
       "                   2006    A15 : 2.88  A10 : 1.95  A31 : 1.41  A89 : 0.33   \n",
       "        CHENNAI    2004             -           -           -           -   \n",
       "                   2005             -           -           -           -   \n",
       "                   2006             -           -           -           -   \n",
       "        COCHIN     2004    A16 : 0.82  A11 : 0.59  A32 : 0.41  A94 : 0.39   \n",
       "                   2005     A16 : 1.8  A11 : 1.68  A32 : 0.77  A65 : 0.46   \n",
       "                   2006    A45 : 2.03  A11 : 1.99  A16 : 1.92  A90 : 0.17   \n",
       "        DELHI      2004             -           -           -           -   \n",
       "                   2005             -           -           -           -   \n",
       "                   2006    A82 : 0.15           -           -           -   \n",
       "        PATNA      2004    A66 : 0.36           -           -           -   \n",
       "                   2005             -           -           -           -   \n",
       "                   2006             -           -           -           -   \n",
       "        TRIVANDRUM 2004             -           -           -           -   \n",
       "                   2005             -           -           -           -   \n",
       "                   2006             -           -           -           -   \n",
       "\n",
       "                                                               \n",
       "Rank                                7           8           9  \n",
       "Product City       Yearly                                      \n",
       "Gold    BANGALORE  2004             -           -           -  \n",
       "                   2005             -           -           -  \n",
       "                   2006    A92 : 0.39  A81 : 0.25  A63 : 0.18  \n",
       "        BOMBAY     2004             -           -           -  \n",
       "                   2005             -           -           -  \n",
       "                   2006             -           -           -  \n",
       "        CALCUTTA   2004             -           -           -  \n",
       "                   2005             -           -           -  \n",
       "                   2006             -           -           -  \n",
       "        CHENNAI    2004             -           -           -  \n",
       "                   2005             -           -           -  \n",
       "                   2006             -           -           -  \n",
       "        COCHIN     2004    A65 : 0.06           -           -  \n",
       "                   2005             -           -           -  \n",
       "                   2006             -           -           -  \n",
       "        DELHI      2004             -           -           -  \n",
       "                   2005             -           -           -  \n",
       "                   2006             -           -           -  \n",
       "        PATNA      2004             -           -           -  \n",
       "                   2005             -           -           -  \n",
       "                   2006             -           -           -  \n",
       "        TRIVANDRUM 2004             -           -           -  \n",
       "                   2005             -           -           -  \n",
       "                   2006             -           -           -  "
      ]
     },
     "execution_count": 48,
     "metadata": {},
     "output_type": "execute_result"
    }
   ],
   "source": [
    "# Calling the function\n",
    "ans = top_customers(10)\n",
    "\n",
    "# Setting `display.max_rows` = 100 as default view option as maximum no. of output records might be 96 : \n",
    "pd.set_option('display.max_rows', 100)\n",
    "\n",
    "# Answer - Top 10 Customers\n",
    "ans"
   ]
  },
  {
   "cell_type": "code",
   "execution_count": null,
   "id": "d5934dc3",
   "metadata": {},
   "outputs": [],
   "source": []
  }
 ],
 "metadata": {
  "kernelspec": {
   "display_name": "Python 3 (ipykernel)",
   "language": "python",
   "name": "python3"
  },
  "language_info": {
   "codemirror_mode": {
    "name": "ipython",
    "version": 3
   },
   "file_extension": ".py",
   "mimetype": "text/x-python",
   "name": "python",
   "nbconvert_exporter": "python",
   "pygments_lexer": "ipython3",
   "version": "3.9.12"
  },
  "latex_envs": {
   "LaTeX_envs_menu_present": true,
   "autoclose": false,
   "autocomplete": true,
   "bibliofile": "biblio.bib",
   "cite_by": "apalike",
   "current_citInitial": 1,
   "eqLabelWithNumbers": true,
   "eqNumInitial": 1,
   "hotkeys": {
    "equation": "Ctrl-E",
    "itemize": "Ctrl-I"
   },
   "labels_anchors": false,
   "latex_user_defs": false,
   "report_style_numbering": false,
   "user_envs_cfg": false
  },
  "toc": {
   "base_numbering": 1,
   "nav_menu": {},
   "number_sections": true,
   "sideBar": true,
   "skip_h1_title": false,
   "title_cell": "Table of Contents",
   "title_sidebar": "Contents",
   "toc_cell": false,
   "toc_position": {
    "height": "calc(100% - 180px)",
    "left": "10px",
    "top": "150px",
    "width": "384px"
   },
   "toc_section_display": true,
   "toc_window_display": true
  },
  "varInspector": {
   "cols": {
    "lenName": 16,
    "lenType": 16,
    "lenVar": 40
   },
   "kernels_config": {
    "python": {
     "delete_cmd_postfix": "",
     "delete_cmd_prefix": "del ",
     "library": "var_list.py",
     "varRefreshCmd": "print(var_dic_list())"
    },
    "r": {
     "delete_cmd_postfix": ") ",
     "delete_cmd_prefix": "rm(",
     "library": "var_list.r",
     "varRefreshCmd": "cat(var_dic_list()) "
    }
   },
   "types_to_exclude": [
    "module",
    "function",
    "builtin_function_or_method",
    "instance",
    "_Feature"
   ],
   "window_display": false
  }
 },
 "nbformat": 4,
 "nbformat_minor": 5
}
